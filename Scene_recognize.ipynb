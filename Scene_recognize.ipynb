{
  "nbformat": 4,
  "nbformat_minor": 0,
  "metadata": {
    "colab": {
      "provenance": [],
      "gpuType": "T4"
    },
    "kernelspec": {
      "name": "python3",
      "display_name": "Python 3"
    },
    "language_info": {
      "name": "python"
    },
    "accelerator": "GPU",
    "widgets": {
      "application/vnd.jupyter.widget-state+json": {
        "8b904ee3ad65444ea21d8adc8cbff308": {
          "model_module": "@jupyter-widgets/controls",
          "model_name": "HBoxModel",
          "model_module_version": "1.5.0",
          "state": {
            "_dom_classes": [],
            "_model_module": "@jupyter-widgets/controls",
            "_model_module_version": "1.5.0",
            "_model_name": "HBoxModel",
            "_view_count": null,
            "_view_module": "@jupyter-widgets/controls",
            "_view_module_version": "1.5.0",
            "_view_name": "HBoxView",
            "box_style": "",
            "children": [
              "IPY_MODEL_58ee66619ea3430cbce39eabb9daf214",
              "IPY_MODEL_e8aced7e8ec540a890aacd927325e57d",
              "IPY_MODEL_491f8894b7df4c0a9282a415c011332a"
            ],
            "layout": "IPY_MODEL_8bbad2e8e23f4f6b9d2d423620361e8f"
          }
        },
        "58ee66619ea3430cbce39eabb9daf214": {
          "model_module": "@jupyter-widgets/controls",
          "model_name": "HTMLModel",
          "model_module_version": "1.5.0",
          "state": {
            "_dom_classes": [],
            "_model_module": "@jupyter-widgets/controls",
            "_model_module_version": "1.5.0",
            "_model_name": "HTMLModel",
            "_view_count": null,
            "_view_module": "@jupyter-widgets/controls",
            "_view_module_version": "1.5.0",
            "_view_name": "HTMLView",
            "description": "",
            "description_tooltip": null,
            "layout": "IPY_MODEL_439b0c310c7f4f29869befc5f6a6d8d2",
            "placeholder": "​",
            "style": "IPY_MODEL_dc002f72736245a4b3b915ae2bc088d4",
            "value": "model.safetensors: 100%"
          }
        },
        "e8aced7e8ec540a890aacd927325e57d": {
          "model_module": "@jupyter-widgets/controls",
          "model_name": "FloatProgressModel",
          "model_module_version": "1.5.0",
          "state": {
            "_dom_classes": [],
            "_model_module": "@jupyter-widgets/controls",
            "_model_module_version": "1.5.0",
            "_model_name": "FloatProgressModel",
            "_view_count": null,
            "_view_module": "@jupyter-widgets/controls",
            "_view_module_version": "1.5.0",
            "_view_name": "ProgressView",
            "bar_style": "success",
            "description": "",
            "description_tooltip": null,
            "layout": "IPY_MODEL_c93c477e70f54201a459845c718ec345",
            "max": 178675806,
            "min": 0,
            "orientation": "horizontal",
            "style": "IPY_MODEL_1864cfd8da35413786ddc98afa9fcc9f",
            "value": 178675806
          }
        },
        "491f8894b7df4c0a9282a415c011332a": {
          "model_module": "@jupyter-widgets/controls",
          "model_name": "HTMLModel",
          "model_module_version": "1.5.0",
          "state": {
            "_dom_classes": [],
            "_model_module": "@jupyter-widgets/controls",
            "_model_module_version": "1.5.0",
            "_model_name": "HTMLModel",
            "_view_count": null,
            "_view_module": "@jupyter-widgets/controls",
            "_view_module_version": "1.5.0",
            "_view_name": "HTMLView",
            "description": "",
            "description_tooltip": null,
            "layout": "IPY_MODEL_6b64ec9884fe4bd5a4aa5b4732e0f532",
            "placeholder": "​",
            "style": "IPY_MODEL_32664e9d57bf425f95633bb4acd5854f",
            "value": " 179M/179M [00:00&lt;00:00, 184MB/s]"
          }
        },
        "8bbad2e8e23f4f6b9d2d423620361e8f": {
          "model_module": "@jupyter-widgets/base",
          "model_name": "LayoutModel",
          "model_module_version": "1.2.0",
          "state": {
            "_model_module": "@jupyter-widgets/base",
            "_model_module_version": "1.2.0",
            "_model_name": "LayoutModel",
            "_view_count": null,
            "_view_module": "@jupyter-widgets/base",
            "_view_module_version": "1.2.0",
            "_view_name": "LayoutView",
            "align_content": null,
            "align_items": null,
            "align_self": null,
            "border": null,
            "bottom": null,
            "display": null,
            "flex": null,
            "flex_flow": null,
            "grid_area": null,
            "grid_auto_columns": null,
            "grid_auto_flow": null,
            "grid_auto_rows": null,
            "grid_column": null,
            "grid_gap": null,
            "grid_row": null,
            "grid_template_areas": null,
            "grid_template_columns": null,
            "grid_template_rows": null,
            "height": null,
            "justify_content": null,
            "justify_items": null,
            "left": null,
            "margin": null,
            "max_height": null,
            "max_width": null,
            "min_height": null,
            "min_width": null,
            "object_fit": null,
            "object_position": null,
            "order": null,
            "overflow": null,
            "overflow_x": null,
            "overflow_y": null,
            "padding": null,
            "right": null,
            "top": null,
            "visibility": null,
            "width": null
          }
        },
        "439b0c310c7f4f29869befc5f6a6d8d2": {
          "model_module": "@jupyter-widgets/base",
          "model_name": "LayoutModel",
          "model_module_version": "1.2.0",
          "state": {
            "_model_module": "@jupyter-widgets/base",
            "_model_module_version": "1.2.0",
            "_model_name": "LayoutModel",
            "_view_count": null,
            "_view_module": "@jupyter-widgets/base",
            "_view_module_version": "1.2.0",
            "_view_name": "LayoutView",
            "align_content": null,
            "align_items": null,
            "align_self": null,
            "border": null,
            "bottom": null,
            "display": null,
            "flex": null,
            "flex_flow": null,
            "grid_area": null,
            "grid_auto_columns": null,
            "grid_auto_flow": null,
            "grid_auto_rows": null,
            "grid_column": null,
            "grid_gap": null,
            "grid_row": null,
            "grid_template_areas": null,
            "grid_template_columns": null,
            "grid_template_rows": null,
            "height": null,
            "justify_content": null,
            "justify_items": null,
            "left": null,
            "margin": null,
            "max_height": null,
            "max_width": null,
            "min_height": null,
            "min_width": null,
            "object_fit": null,
            "object_position": null,
            "order": null,
            "overflow": null,
            "overflow_x": null,
            "overflow_y": null,
            "padding": null,
            "right": null,
            "top": null,
            "visibility": null,
            "width": null
          }
        },
        "dc002f72736245a4b3b915ae2bc088d4": {
          "model_module": "@jupyter-widgets/controls",
          "model_name": "DescriptionStyleModel",
          "model_module_version": "1.5.0",
          "state": {
            "_model_module": "@jupyter-widgets/controls",
            "_model_module_version": "1.5.0",
            "_model_name": "DescriptionStyleModel",
            "_view_count": null,
            "_view_module": "@jupyter-widgets/base",
            "_view_module_version": "1.2.0",
            "_view_name": "StyleView",
            "description_width": ""
          }
        },
        "c93c477e70f54201a459845c718ec345": {
          "model_module": "@jupyter-widgets/base",
          "model_name": "LayoutModel",
          "model_module_version": "1.2.0",
          "state": {
            "_model_module": "@jupyter-widgets/base",
            "_model_module_version": "1.2.0",
            "_model_name": "LayoutModel",
            "_view_count": null,
            "_view_module": "@jupyter-widgets/base",
            "_view_module_version": "1.2.0",
            "_view_name": "LayoutView",
            "align_content": null,
            "align_items": null,
            "align_self": null,
            "border": null,
            "bottom": null,
            "display": null,
            "flex": null,
            "flex_flow": null,
            "grid_area": null,
            "grid_auto_columns": null,
            "grid_auto_flow": null,
            "grid_auto_rows": null,
            "grid_column": null,
            "grid_gap": null,
            "grid_row": null,
            "grid_template_areas": null,
            "grid_template_columns": null,
            "grid_template_rows": null,
            "height": null,
            "justify_content": null,
            "justify_items": null,
            "left": null,
            "margin": null,
            "max_height": null,
            "max_width": null,
            "min_height": null,
            "min_width": null,
            "object_fit": null,
            "object_position": null,
            "order": null,
            "overflow": null,
            "overflow_x": null,
            "overflow_y": null,
            "padding": null,
            "right": null,
            "top": null,
            "visibility": null,
            "width": null
          }
        },
        "1864cfd8da35413786ddc98afa9fcc9f": {
          "model_module": "@jupyter-widgets/controls",
          "model_name": "ProgressStyleModel",
          "model_module_version": "1.5.0",
          "state": {
            "_model_module": "@jupyter-widgets/controls",
            "_model_module_version": "1.5.0",
            "_model_name": "ProgressStyleModel",
            "_view_count": null,
            "_view_module": "@jupyter-widgets/base",
            "_view_module_version": "1.2.0",
            "_view_name": "StyleView",
            "bar_color": null,
            "description_width": ""
          }
        },
        "6b64ec9884fe4bd5a4aa5b4732e0f532": {
          "model_module": "@jupyter-widgets/base",
          "model_name": "LayoutModel",
          "model_module_version": "1.2.0",
          "state": {
            "_model_module": "@jupyter-widgets/base",
            "_model_module_version": "1.2.0",
            "_model_name": "LayoutModel",
            "_view_count": null,
            "_view_module": "@jupyter-widgets/base",
            "_view_module_version": "1.2.0",
            "_view_name": "LayoutView",
            "align_content": null,
            "align_items": null,
            "align_self": null,
            "border": null,
            "bottom": null,
            "display": null,
            "flex": null,
            "flex_flow": null,
            "grid_area": null,
            "grid_auto_columns": null,
            "grid_auto_flow": null,
            "grid_auto_rows": null,
            "grid_column": null,
            "grid_gap": null,
            "grid_row": null,
            "grid_template_areas": null,
            "grid_template_columns": null,
            "grid_template_rows": null,
            "height": null,
            "justify_content": null,
            "justify_items": null,
            "left": null,
            "margin": null,
            "max_height": null,
            "max_width": null,
            "min_height": null,
            "min_width": null,
            "object_fit": null,
            "object_position": null,
            "order": null,
            "overflow": null,
            "overflow_x": null,
            "overflow_y": null,
            "padding": null,
            "right": null,
            "top": null,
            "visibility": null,
            "width": null
          }
        },
        "32664e9d57bf425f95633bb4acd5854f": {
          "model_module": "@jupyter-widgets/controls",
          "model_name": "DescriptionStyleModel",
          "model_module_version": "1.5.0",
          "state": {
            "_model_module": "@jupyter-widgets/controls",
            "_model_module_version": "1.5.0",
            "_model_name": "DescriptionStyleModel",
            "_view_count": null,
            "_view_module": "@jupyter-widgets/base",
            "_view_module_version": "1.2.0",
            "_view_name": "StyleView",
            "description_width": ""
          }
        }
      }
    }
  },
  "cells": [
    {
      "cell_type": "code",
      "execution_count": null,
      "metadata": {
        "colab": {
          "base_uri": "https://localhost:8080/"
        },
        "id": "uARPGZgxylwG",
        "outputId": "538e399d-bfdb-4803-f734-03876a95c6e1"
      },
      "outputs": [
        {
          "output_type": "stream",
          "name": "stdout",
          "text": [
            "Collecting ultralytics\n",
            "  Downloading ultralytics-8.0.227-py3-none-any.whl (660 kB)\n",
            "\u001b[2K     \u001b[90m━━━━━━━━━━━━━━━━━━━━━━━━━━━━━━━━━━━━━━━━\u001b[0m \u001b[32m660.5/660.5 kB\u001b[0m \u001b[31m5.0 MB/s\u001b[0m eta \u001b[36m0:00:00\u001b[0m\n",
            "\u001b[?25hRequirement already satisfied: matplotlib>=3.3.0 in /usr/local/lib/python3.10/dist-packages (from ultralytics) (3.7.1)\n",
            "Requirement already satisfied: numpy>=1.22.2 in /usr/local/lib/python3.10/dist-packages (from ultralytics) (1.23.5)\n",
            "Requirement already satisfied: opencv-python>=4.6.0 in /usr/local/lib/python3.10/dist-packages (from ultralytics) (4.8.0.76)\n",
            "Requirement already satisfied: pillow>=7.1.2 in /usr/local/lib/python3.10/dist-packages (from ultralytics) (9.4.0)\n",
            "Requirement already satisfied: pyyaml>=5.3.1 in /usr/local/lib/python3.10/dist-packages (from ultralytics) (6.0.1)\n",
            "Requirement already satisfied: requests>=2.23.0 in /usr/local/lib/python3.10/dist-packages (from ultralytics) (2.31.0)\n",
            "Requirement already satisfied: scipy>=1.4.1 in /usr/local/lib/python3.10/dist-packages (from ultralytics) (1.11.4)\n",
            "Requirement already satisfied: torch>=1.8.0 in /usr/local/lib/python3.10/dist-packages (from ultralytics) (2.1.0+cu121)\n",
            "Requirement already satisfied: torchvision>=0.9.0 in /usr/local/lib/python3.10/dist-packages (from ultralytics) (0.16.0+cu121)\n",
            "Requirement already satisfied: tqdm>=4.64.0 in /usr/local/lib/python3.10/dist-packages (from ultralytics) (4.66.1)\n",
            "Requirement already satisfied: pandas>=1.1.4 in /usr/local/lib/python3.10/dist-packages (from ultralytics) (1.5.3)\n",
            "Requirement already satisfied: seaborn>=0.11.0 in /usr/local/lib/python3.10/dist-packages (from ultralytics) (0.12.2)\n",
            "Requirement already satisfied: psutil in /usr/local/lib/python3.10/dist-packages (from ultralytics) (5.9.5)\n",
            "Requirement already satisfied: py-cpuinfo in /usr/local/lib/python3.10/dist-packages (from ultralytics) (9.0.0)\n",
            "Collecting thop>=0.1.1 (from ultralytics)\n",
            "  Downloading thop-0.1.1.post2209072238-py3-none-any.whl (15 kB)\n",
            "Requirement already satisfied: contourpy>=1.0.1 in /usr/local/lib/python3.10/dist-packages (from matplotlib>=3.3.0->ultralytics) (1.2.0)\n",
            "Requirement already satisfied: cycler>=0.10 in /usr/local/lib/python3.10/dist-packages (from matplotlib>=3.3.0->ultralytics) (0.12.1)\n",
            "Requirement already satisfied: fonttools>=4.22.0 in /usr/local/lib/python3.10/dist-packages (from matplotlib>=3.3.0->ultralytics) (4.46.0)\n",
            "Requirement already satisfied: kiwisolver>=1.0.1 in /usr/local/lib/python3.10/dist-packages (from matplotlib>=3.3.0->ultralytics) (1.4.5)\n",
            "Requirement already satisfied: packaging>=20.0 in /usr/local/lib/python3.10/dist-packages (from matplotlib>=3.3.0->ultralytics) (23.2)\n",
            "Requirement already satisfied: pyparsing>=2.3.1 in /usr/local/lib/python3.10/dist-packages (from matplotlib>=3.3.0->ultralytics) (3.1.1)\n",
            "Requirement already satisfied: python-dateutil>=2.7 in /usr/local/lib/python3.10/dist-packages (from matplotlib>=3.3.0->ultralytics) (2.8.2)\n",
            "Requirement already satisfied: pytz>=2020.1 in /usr/local/lib/python3.10/dist-packages (from pandas>=1.1.4->ultralytics) (2023.3.post1)\n",
            "Requirement already satisfied: charset-normalizer<4,>=2 in /usr/local/lib/python3.10/dist-packages (from requests>=2.23.0->ultralytics) (3.3.2)\n",
            "Requirement already satisfied: idna<4,>=2.5 in /usr/local/lib/python3.10/dist-packages (from requests>=2.23.0->ultralytics) (3.6)\n",
            "Requirement already satisfied: urllib3<3,>=1.21.1 in /usr/local/lib/python3.10/dist-packages (from requests>=2.23.0->ultralytics) (2.0.7)\n",
            "Requirement already satisfied: certifi>=2017.4.17 in /usr/local/lib/python3.10/dist-packages (from requests>=2.23.0->ultralytics) (2023.11.17)\n",
            "Requirement already satisfied: filelock in /usr/local/lib/python3.10/dist-packages (from torch>=1.8.0->ultralytics) (3.13.1)\n",
            "Requirement already satisfied: typing-extensions in /usr/local/lib/python3.10/dist-packages (from torch>=1.8.0->ultralytics) (4.5.0)\n",
            "Requirement already satisfied: sympy in /usr/local/lib/python3.10/dist-packages (from torch>=1.8.0->ultralytics) (1.12)\n",
            "Requirement already satisfied: networkx in /usr/local/lib/python3.10/dist-packages (from torch>=1.8.0->ultralytics) (3.2.1)\n",
            "Requirement already satisfied: jinja2 in /usr/local/lib/python3.10/dist-packages (from torch>=1.8.0->ultralytics) (3.1.2)\n",
            "Requirement already satisfied: fsspec in /usr/local/lib/python3.10/dist-packages (from torch>=1.8.0->ultralytics) (2023.6.0)\n",
            "Requirement already satisfied: triton==2.1.0 in /usr/local/lib/python3.10/dist-packages (from torch>=1.8.0->ultralytics) (2.1.0)\n",
            "Requirement already satisfied: six>=1.5 in /usr/local/lib/python3.10/dist-packages (from python-dateutil>=2.7->matplotlib>=3.3.0->ultralytics) (1.16.0)\n",
            "Requirement already satisfied: MarkupSafe>=2.0 in /usr/local/lib/python3.10/dist-packages (from jinja2->torch>=1.8.0->ultralytics) (2.1.3)\n",
            "Requirement already satisfied: mpmath>=0.19 in /usr/local/lib/python3.10/dist-packages (from sympy->torch>=1.8.0->ultralytics) (1.3.0)\n",
            "Installing collected packages: thop, ultralytics\n",
            "Successfully installed thop-0.1.1.post2209072238 ultralytics-8.0.227\n"
          ]
        }
      ],
      "source": [
        "!pip install ultralytics"
      ]
    },
    {
      "cell_type": "code",
      "source": [
        "import os\n",
        "import xml.etree.ElementTree as ET\n"
      ],
      "metadata": {
        "id": "fak1Xcii0W-h"
      },
      "execution_count": null,
      "outputs": []
    },
    {
      "cell_type": "code",
      "source": [
        "#extract data from words.xml\n",
        "def extract_data_from_xml(file_path):\n",
        "  xml_path = os.path.join(file_path,'words.xml')\n",
        "  tree = ET.parse(xml_path)\n",
        "  root = tree.getroot()\n",
        "\n",
        "  img_paths = []\n",
        "  img_labels = []\n",
        "  img_sizes = []\n",
        "  bboxes = []\n",
        "\n",
        "  for image in root:\n",
        "    bbs_of_img = []\n",
        "    labels_of_img = []\n",
        "\n",
        "    for bbs in image.findall('taggedRectangles'):\n",
        "      for bb in bbs:\n",
        "        # check non-alphabet and non-number\n",
        "        if not bb[0].text.isalnum():\n",
        "          continue\n",
        "\n",
        "        if ' ' in bb[0].text.lower() or ' ' in bb[0].text.lower():\n",
        "          continue\n",
        "\n",
        "        bbs_of_img.append([\n",
        "            float(bb.attrib['x']),\n",
        "            float(bb.attrib['y']),\n",
        "            float(bb.attrib['width']),\n",
        "            float(bb.attrib['height'])\n",
        "        ])\n",
        "        labels_of_img.append(bb[0].text.lower())\n",
        "\n",
        "\n",
        "        img_path = os.path.join(file_path,image[0].text)\n",
        "        img_paths.append(img_path)\n",
        "        img_sizes.append((int(image[1].attrib['x']), int(image[1].attrib['y'])))\n",
        "        bboxes.append(bbs_of_img)\n",
        "        img_labels.append(labels_of_img)\n",
        "\n",
        "  return img_paths, img_sizes, img_labels, bboxes"
      ],
      "metadata": {
        "id": "Px4FQrZN0cKY"
      },
      "execution_count": null,
      "outputs": []
    },
    {
      "cell_type": "code",
      "source": [
        "dataset_dir = '/content/drive/MyDrive/SceneTrialTrain'\n",
        "img_paths,img_sizes,img_labels,bboxes = extract_data_from_xml(dataset_dir)"
      ],
      "metadata": {
        "id": "lZ-XR7Kd5zhI"
      },
      "execution_count": null,
      "outputs": []
    },
    {
      "cell_type": "code",
      "source": [
        "img_paths"
      ],
      "metadata": {
        "colab": {
          "base_uri": "https://localhost:8080/"
        },
        "id": "gNmLigY151xC",
        "outputId": "712948da-87bc-4bee-916d-6dce1fce2d54"
      },
      "execution_count": null,
      "outputs": [
        {
          "output_type": "execute_result",
          "data": {
            "text/plain": [
              "['/content/drive/MyDrive/SceneTrialTrain/apanar_06.08.2002/IMG_1261.JPG',\n",
              " '/content/drive/MyDrive/SceneTrialTrain/apanar_06.08.2002/IMG_1261.JPG',\n",
              " '/content/drive/MyDrive/SceneTrialTrain/apanar_06.08.2002/IMG_1261.JPG',\n",
              " '/content/drive/MyDrive/SceneTrialTrain/apanar_06.08.2002/IMG_1261.JPG',\n",
              " '/content/drive/MyDrive/SceneTrialTrain/apanar_06.08.2002/IMG_1261.JPG',\n",
              " '/content/drive/MyDrive/SceneTrialTrain/apanar_06.08.2002/IMG_1261.JPG',\n",
              " '/content/drive/MyDrive/SceneTrialTrain/apanar_06.08.2002/IMG_1261.JPG',\n",
              " '/content/drive/MyDrive/SceneTrialTrain/apanar_06.08.2002/IMG_1261.JPG',\n",
              " '/content/drive/MyDrive/SceneTrialTrain/apanar_06.08.2002/IMG_1261.JPG',\n",
              " '/content/drive/MyDrive/SceneTrialTrain/apanar_06.08.2002/IMG_1261.JPG',\n",
              " '/content/drive/MyDrive/SceneTrialTrain/apanar_06.08.2002/IMG_1261.JPG',\n",
              " '/content/drive/MyDrive/SceneTrialTrain/apanar_06.08.2002/IMG_1263.JPG',\n",
              " '/content/drive/MyDrive/SceneTrialTrain/apanar_06.08.2002/IMG_1265.JPG',\n",
              " '/content/drive/MyDrive/SceneTrialTrain/apanar_06.08.2002/IMG_1265.JPG',\n",
              " '/content/drive/MyDrive/SceneTrialTrain/apanar_06.08.2002/IMG_1265.JPG',\n",
              " '/content/drive/MyDrive/SceneTrialTrain/apanar_06.08.2002/IMG_1265.JPG',\n",
              " '/content/drive/MyDrive/SceneTrialTrain/apanar_06.08.2002/IMG_1265.JPG',\n",
              " '/content/drive/MyDrive/SceneTrialTrain/apanar_06.08.2002/IMG_1265.JPG',\n",
              " '/content/drive/MyDrive/SceneTrialTrain/apanar_06.08.2002/IMG_1265.JPG',\n",
              " '/content/drive/MyDrive/SceneTrialTrain/apanar_06.08.2002/IMG_1265.JPG',\n",
              " '/content/drive/MyDrive/SceneTrialTrain/apanar_06.08.2002/IMG_1265.JPG',\n",
              " '/content/drive/MyDrive/SceneTrialTrain/apanar_06.08.2002/IMG_1265.JPG',\n",
              " '/content/drive/MyDrive/SceneTrialTrain/apanar_06.08.2002/IMG_1269.JPG',\n",
              " '/content/drive/MyDrive/SceneTrialTrain/apanar_06.08.2002/IMG_1269.JPG',\n",
              " '/content/drive/MyDrive/SceneTrialTrain/apanar_06.08.2002/IMG_1269.JPG',\n",
              " '/content/drive/MyDrive/SceneTrialTrain/apanar_06.08.2002/IMG_1269.JPG',\n",
              " '/content/drive/MyDrive/SceneTrialTrain/apanar_06.08.2002/IMG_1269.JPG',\n",
              " '/content/drive/MyDrive/SceneTrialTrain/apanar_06.08.2002/IMG_1269.JPG',\n",
              " '/content/drive/MyDrive/SceneTrialTrain/apanar_06.08.2002/IMG_1269.JPG',\n",
              " '/content/drive/MyDrive/SceneTrialTrain/apanar_06.08.2002/IMG_1269.JPG',\n",
              " '/content/drive/MyDrive/SceneTrialTrain/apanar_06.08.2002/IMG_1269.JPG',\n",
              " '/content/drive/MyDrive/SceneTrialTrain/apanar_06.08.2002/IMG_1269.JPG',\n",
              " '/content/drive/MyDrive/SceneTrialTrain/apanar_06.08.2002/IMG_1269.JPG',\n",
              " '/content/drive/MyDrive/SceneTrialTrain/apanar_06.08.2002/IMG_1269.JPG',\n",
              " '/content/drive/MyDrive/SceneTrialTrain/apanar_06.08.2002/IMG_1269.JPG',\n",
              " '/content/drive/MyDrive/SceneTrialTrain/apanar_06.08.2002/IMG_1269.JPG',\n",
              " '/content/drive/MyDrive/SceneTrialTrain/apanar_06.08.2002/IMG_1269.JPG',\n",
              " '/content/drive/MyDrive/SceneTrialTrain/apanar_06.08.2002/IMG_1269.JPG',\n",
              " '/content/drive/MyDrive/SceneTrialTrain/apanar_06.08.2002/IMG_1269.JPG',\n",
              " '/content/drive/MyDrive/SceneTrialTrain/apanar_06.08.2002/IMG_1269.JPG',\n",
              " '/content/drive/MyDrive/SceneTrialTrain/apanar_06.08.2002/IMG_1281.JPG',\n",
              " '/content/drive/MyDrive/SceneTrialTrain/apanar_06.08.2002/IMG_1281.JPG',\n",
              " '/content/drive/MyDrive/SceneTrialTrain/apanar_06.08.2002/IMG_1281.JPG',\n",
              " '/content/drive/MyDrive/SceneTrialTrain/apanar_06.08.2002/IMG_1281.JPG',\n",
              " '/content/drive/MyDrive/SceneTrialTrain/apanar_06.08.2002/IMG_1281.JPG',\n",
              " '/content/drive/MyDrive/SceneTrialTrain/apanar_06.08.2002/IMG_1281.JPG',\n",
              " '/content/drive/MyDrive/SceneTrialTrain/apanar_06.08.2002/IMG_1281.JPG',\n",
              " '/content/drive/MyDrive/SceneTrialTrain/apanar_06.08.2002/IMG_1281.JPG',\n",
              " '/content/drive/MyDrive/SceneTrialTrain/apanar_06.08.2002/IMG_1282.JPG',\n",
              " '/content/drive/MyDrive/SceneTrialTrain/apanar_06.08.2002/IMG_1282.JPG',\n",
              " '/content/drive/MyDrive/SceneTrialTrain/apanar_06.08.2002/IMG_1282.JPG',\n",
              " '/content/drive/MyDrive/SceneTrialTrain/apanar_06.08.2002/IMG_1282.JPG',\n",
              " '/content/drive/MyDrive/SceneTrialTrain/apanar_06.08.2002/IMG_1282.JPG',\n",
              " '/content/drive/MyDrive/SceneTrialTrain/apanar_06.08.2002/IMG_1282.JPG',\n",
              " '/content/drive/MyDrive/SceneTrialTrain/apanar_06.08.2002/IMG_1282.JPG',\n",
              " '/content/drive/MyDrive/SceneTrialTrain/apanar_06.08.2002/IMG_1283.JPG',\n",
              " '/content/drive/MyDrive/SceneTrialTrain/apanar_06.08.2002/IMG_1283.JPG',\n",
              " '/content/drive/MyDrive/SceneTrialTrain/apanar_06.08.2002/IMG_1283.JPG',\n",
              " '/content/drive/MyDrive/SceneTrialTrain/apanar_06.08.2002/IMG_1283.JPG',\n",
              " '/content/drive/MyDrive/SceneTrialTrain/apanar_06.08.2002/IMG_1283.JPG',\n",
              " '/content/drive/MyDrive/SceneTrialTrain/apanar_06.08.2002/IMG_1283.JPG',\n",
              " '/content/drive/MyDrive/SceneTrialTrain/apanar_06.08.2002/IMG_1283.JPG',\n",
              " '/content/drive/MyDrive/SceneTrialTrain/apanar_06.08.2002/IMG_1283.JPG',\n",
              " '/content/drive/MyDrive/SceneTrialTrain/apanar_06.08.2002/IMG_1283.JPG',\n",
              " '/content/drive/MyDrive/SceneTrialTrain/apanar_06.08.2002/IMG_1283.JPG',\n",
              " '/content/drive/MyDrive/SceneTrialTrain/apanar_06.08.2002/IMG_1283.JPG',\n",
              " '/content/drive/MyDrive/SceneTrialTrain/apanar_06.08.2002/IMG_1283.JPG',\n",
              " '/content/drive/MyDrive/SceneTrialTrain/apanar_06.08.2002/IMG_1284.JPG',\n",
              " '/content/drive/MyDrive/SceneTrialTrain/apanar_06.08.2002/IMG_1284.JPG',\n",
              " '/content/drive/MyDrive/SceneTrialTrain/apanar_06.08.2002/IMG_1284.JPG',\n",
              " '/content/drive/MyDrive/SceneTrialTrain/apanar_06.08.2002/IMG_1284.JPG',\n",
              " '/content/drive/MyDrive/SceneTrialTrain/apanar_06.08.2002/IMG_1284.JPG',\n",
              " '/content/drive/MyDrive/SceneTrialTrain/apanar_06.08.2002/IMG_1284.JPG',\n",
              " '/content/drive/MyDrive/SceneTrialTrain/apanar_06.08.2002/IMG_1284.JPG',\n",
              " '/content/drive/MyDrive/SceneTrialTrain/apanar_06.08.2002/IMG_1284.JPG',\n",
              " '/content/drive/MyDrive/SceneTrialTrain/apanar_06.08.2002/IMG_1284.JPG',\n",
              " '/content/drive/MyDrive/SceneTrialTrain/apanar_06.08.2002/IMG_1284.JPG',\n",
              " '/content/drive/MyDrive/SceneTrialTrain/apanar_06.08.2002/IMG_1284.JPG',\n",
              " '/content/drive/MyDrive/SceneTrialTrain/apanar_06.08.2002/IMG_1284.JPG',\n",
              " '/content/drive/MyDrive/SceneTrialTrain/apanar_06.08.2002/IMG_1284.JPG',\n",
              " '/content/drive/MyDrive/SceneTrialTrain/apanar_06.08.2002/IMG_1284.JPG',\n",
              " '/content/drive/MyDrive/SceneTrialTrain/apanar_06.08.2002/IMG_1284.JPG',\n",
              " '/content/drive/MyDrive/SceneTrialTrain/apanar_06.08.2002/IMG_1285.JPG',\n",
              " '/content/drive/MyDrive/SceneTrialTrain/apanar_06.08.2002/IMG_1285.JPG',\n",
              " '/content/drive/MyDrive/SceneTrialTrain/apanar_06.08.2002/IMG_1285.JPG',\n",
              " '/content/drive/MyDrive/SceneTrialTrain/apanar_06.08.2002/IMG_1285.JPG',\n",
              " '/content/drive/MyDrive/SceneTrialTrain/apanar_06.08.2002/IMG_1285.JPG',\n",
              " '/content/drive/MyDrive/SceneTrialTrain/apanar_06.08.2002/IMG_1285.JPG',\n",
              " '/content/drive/MyDrive/SceneTrialTrain/apanar_06.08.2002/IMG_1285.JPG',\n",
              " '/content/drive/MyDrive/SceneTrialTrain/apanar_06.08.2002/IMG_1286.JPG',\n",
              " '/content/drive/MyDrive/SceneTrialTrain/apanar_06.08.2002/IMG_1286.JPG',\n",
              " '/content/drive/MyDrive/SceneTrialTrain/apanar_06.08.2002/IMG_1286.JPG',\n",
              " '/content/drive/MyDrive/SceneTrialTrain/apanar_06.08.2002/IMG_1286.JPG',\n",
              " '/content/drive/MyDrive/SceneTrialTrain/apanar_06.08.2002/IMG_1286.JPG',\n",
              " '/content/drive/MyDrive/SceneTrialTrain/apanar_06.08.2002/IMG_1286.JPG',\n",
              " '/content/drive/MyDrive/SceneTrialTrain/apanar_06.08.2002/IMG_1286.JPG',\n",
              " '/content/drive/MyDrive/SceneTrialTrain/apanar_06.08.2002/IMG_1286.JPG',\n",
              " '/content/drive/MyDrive/SceneTrialTrain/apanar_06.08.2002/IMG_1286.JPG',\n",
              " '/content/drive/MyDrive/SceneTrialTrain/apanar_06.08.2002/IMG_1286.JPG',\n",
              " '/content/drive/MyDrive/SceneTrialTrain/apanar_06.08.2002/IMG_1286.JPG',\n",
              " '/content/drive/MyDrive/SceneTrialTrain/apanar_06.08.2002/IMG_1286.JPG',\n",
              " '/content/drive/MyDrive/SceneTrialTrain/apanar_06.08.2002/IMG_1286.JPG',\n",
              " '/content/drive/MyDrive/SceneTrialTrain/apanar_06.08.2002/IMG_1286.JPG',\n",
              " '/content/drive/MyDrive/SceneTrialTrain/apanar_06.08.2002/IMG_1286.JPG',\n",
              " '/content/drive/MyDrive/SceneTrialTrain/apanar_06.08.2002/IMG_1288.JPG',\n",
              " '/content/drive/MyDrive/SceneTrialTrain/apanar_06.08.2002/IMG_1288.JPG',\n",
              " '/content/drive/MyDrive/SceneTrialTrain/apanar_06.08.2002/IMG_1288.JPG',\n",
              " '/content/drive/MyDrive/SceneTrialTrain/apanar_06.08.2002/IMG_1289.JPG',\n",
              " '/content/drive/MyDrive/SceneTrialTrain/apanar_06.08.2002/IMG_1289.JPG',\n",
              " '/content/drive/MyDrive/SceneTrialTrain/apanar_06.08.2002/IMG_1289.JPG',\n",
              " '/content/drive/MyDrive/SceneTrialTrain/apanar_06.08.2002/IMG_1289.JPG',\n",
              " '/content/drive/MyDrive/SceneTrialTrain/apanar_06.08.2002/IMG_1289.JPG',\n",
              " '/content/drive/MyDrive/SceneTrialTrain/apanar_06.08.2002/IMG_1289.JPG',\n",
              " '/content/drive/MyDrive/SceneTrialTrain/apanar_06.08.2002/IMG_1289.JPG',\n",
              " '/content/drive/MyDrive/SceneTrialTrain/apanar_06.08.2002/IMG_1289.JPG',\n",
              " '/content/drive/MyDrive/SceneTrialTrain/apanar_06.08.2002/IMG_1289.JPG',\n",
              " '/content/drive/MyDrive/SceneTrialTrain/apanar_06.08.2002/IMG_1290.JPG',\n",
              " '/content/drive/MyDrive/SceneTrialTrain/apanar_06.08.2002/IMG_1290.JPG',\n",
              " '/content/drive/MyDrive/SceneTrialTrain/apanar_06.08.2002/IMG_1290.JPG',\n",
              " '/content/drive/MyDrive/SceneTrialTrain/apanar_06.08.2002/IMG_1290.JPG',\n",
              " '/content/drive/MyDrive/SceneTrialTrain/apanar_06.08.2002/IMG_1291.JPG',\n",
              " '/content/drive/MyDrive/SceneTrialTrain/apanar_06.08.2002/IMG_1291.JPG',\n",
              " '/content/drive/MyDrive/SceneTrialTrain/apanar_06.08.2002/IMG_1291.JPG',\n",
              " '/content/drive/MyDrive/SceneTrialTrain/apanar_06.08.2002/IMG_1291.JPG',\n",
              " '/content/drive/MyDrive/SceneTrialTrain/apanar_06.08.2002/IMG_1292.JPG',\n",
              " '/content/drive/MyDrive/SceneTrialTrain/apanar_06.08.2002/IMG_1293.JPG',\n",
              " '/content/drive/MyDrive/SceneTrialTrain/apanar_06.08.2002/IMG_1293.JPG',\n",
              " '/content/drive/MyDrive/SceneTrialTrain/apanar_06.08.2002/IMG_1293.JPG',\n",
              " '/content/drive/MyDrive/SceneTrialTrain/apanar_06.08.2002/IMG_1293.JPG',\n",
              " '/content/drive/MyDrive/SceneTrialTrain/apanar_06.08.2002/IMG_1293.JPG',\n",
              " '/content/drive/MyDrive/SceneTrialTrain/apanar_06.08.2002/IMG_1293.JPG',\n",
              " '/content/drive/MyDrive/SceneTrialTrain/apanar_06.08.2002/IMG_1293.JPG',\n",
              " '/content/drive/MyDrive/SceneTrialTrain/apanar_06.08.2002/IMG_1293.JPG',\n",
              " '/content/drive/MyDrive/SceneTrialTrain/apanar_06.08.2002/IMG_1293.JPG',\n",
              " '/content/drive/MyDrive/SceneTrialTrain/apanar_06.08.2002/IMG_1293.JPG',\n",
              " '/content/drive/MyDrive/SceneTrialTrain/apanar_06.08.2002/IMG_1293.JPG',\n",
              " '/content/drive/MyDrive/SceneTrialTrain/apanar_06.08.2002/IMG_1293.JPG',\n",
              " '/content/drive/MyDrive/SceneTrialTrain/apanar_06.08.2002/IMG_1293.JPG',\n",
              " '/content/drive/MyDrive/SceneTrialTrain/apanar_06.08.2002/IMG_1293.JPG',\n",
              " '/content/drive/MyDrive/SceneTrialTrain/apanar_06.08.2002/IMG_1294.JPG',\n",
              " '/content/drive/MyDrive/SceneTrialTrain/apanar_06.08.2002/IMG_1298.JPG',\n",
              " '/content/drive/MyDrive/SceneTrialTrain/apanar_06.08.2002/IMG_1298.JPG',\n",
              " '/content/drive/MyDrive/SceneTrialTrain/apanar_06.08.2002/IMG_1298.JPG',\n",
              " '/content/drive/MyDrive/SceneTrialTrain/apanar_06.08.2002/IMG_1298.JPG',\n",
              " '/content/drive/MyDrive/SceneTrialTrain/apanar_06.08.2002/IMG_1298.JPG',\n",
              " '/content/drive/MyDrive/SceneTrialTrain/apanar_06.08.2002/IMG_1298.JPG',\n",
              " '/content/drive/MyDrive/SceneTrialTrain/apanar_06.08.2002/IMG_1298.JPG',\n",
              " '/content/drive/MyDrive/SceneTrialTrain/apanar_06.08.2002/IMG_1298.JPG',\n",
              " '/content/drive/MyDrive/SceneTrialTrain/apanar_06.08.2002/IMG_1299.JPG',\n",
              " '/content/drive/MyDrive/SceneTrialTrain/apanar_06.08.2002/IMG_1299.JPG',\n",
              " '/content/drive/MyDrive/SceneTrialTrain/apanar_06.08.2002/IMG_1299.JPG',\n",
              " '/content/drive/MyDrive/SceneTrialTrain/apanar_06.08.2002/IMG_1299.JPG',\n",
              " '/content/drive/MyDrive/SceneTrialTrain/apanar_06.08.2002/IMG_1299.JPG',\n",
              " '/content/drive/MyDrive/SceneTrialTrain/apanar_06.08.2002/IMG_1299.JPG',\n",
              " '/content/drive/MyDrive/SceneTrialTrain/apanar_06.08.2002/IMG_1299.JPG',\n",
              " '/content/drive/MyDrive/SceneTrialTrain/apanar_06.08.2002/IMG_1299.JPG',\n",
              " '/content/drive/MyDrive/SceneTrialTrain/apanar_06.08.2002/IMG_1299.JPG',\n",
              " '/content/drive/MyDrive/SceneTrialTrain/apanar_06.08.2002/IMG_1300.JPG',\n",
              " '/content/drive/MyDrive/SceneTrialTrain/apanar_06.08.2002/IMG_1300.JPG',\n",
              " '/content/drive/MyDrive/SceneTrialTrain/apanar_06.08.2002/IMG_1300.JPG',\n",
              " '/content/drive/MyDrive/SceneTrialTrain/apanar_06.08.2002/IMG_1300.JPG',\n",
              " '/content/drive/MyDrive/SceneTrialTrain/apanar_06.08.2002/IMG_1300.JPG',\n",
              " '/content/drive/MyDrive/SceneTrialTrain/apanar_06.08.2002/IMG_1300.JPG',\n",
              " '/content/drive/MyDrive/SceneTrialTrain/apanar_06.08.2002/IMG_1300.JPG',\n",
              " '/content/drive/MyDrive/SceneTrialTrain/apanar_06.08.2002/IMG_1300.JPG',\n",
              " '/content/drive/MyDrive/SceneTrialTrain/apanar_06.08.2002/IMG_1301.JPG',\n",
              " '/content/drive/MyDrive/SceneTrialTrain/apanar_06.08.2002/IMG_1301.JPG',\n",
              " '/content/drive/MyDrive/SceneTrialTrain/apanar_06.08.2002/IMG_1301.JPG',\n",
              " '/content/drive/MyDrive/SceneTrialTrain/apanar_06.08.2002/IMG_1301.JPG',\n",
              " '/content/drive/MyDrive/SceneTrialTrain/apanar_06.08.2002/IMG_1302.JPG',\n",
              " '/content/drive/MyDrive/SceneTrialTrain/apanar_06.08.2002/IMG_1302.JPG',\n",
              " '/content/drive/MyDrive/SceneTrialTrain/apanar_06.08.2002/IMG_1302.JPG',\n",
              " '/content/drive/MyDrive/SceneTrialTrain/apanar_06.08.2002/IMG_1302.JPG',\n",
              " '/content/drive/MyDrive/SceneTrialTrain/apanar_06.08.2002/IMG_1302.JPG',\n",
              " '/content/drive/MyDrive/SceneTrialTrain/apanar_06.08.2002/IMG_1302.JPG',\n",
              " '/content/drive/MyDrive/SceneTrialTrain/apanar_06.08.2002/IMG_1302.JPG',\n",
              " '/content/drive/MyDrive/SceneTrialTrain/apanar_06.08.2002/IMG_1302.JPG',\n",
              " '/content/drive/MyDrive/SceneTrialTrain/apanar_06.08.2002/IMG_1302.JPG',\n",
              " '/content/drive/MyDrive/SceneTrialTrain/apanar_06.08.2002/IMG_1302.JPG',\n",
              " '/content/drive/MyDrive/SceneTrialTrain/apanar_06.08.2002/IMG_1302.JPG',\n",
              " '/content/drive/MyDrive/SceneTrialTrain/apanar_06.08.2002/IMG_1302.JPG',\n",
              " '/content/drive/MyDrive/SceneTrialTrain/apanar_06.08.2002/IMG_1303.JPG',\n",
              " '/content/drive/MyDrive/SceneTrialTrain/apanar_06.08.2002/IMG_1303.JPG',\n",
              " '/content/drive/MyDrive/SceneTrialTrain/apanar_06.08.2002/IMG_1303.JPG',\n",
              " '/content/drive/MyDrive/SceneTrialTrain/apanar_06.08.2002/IMG_1303.JPG',\n",
              " '/content/drive/MyDrive/SceneTrialTrain/apanar_06.08.2002/IMG_1303.JPG',\n",
              " '/content/drive/MyDrive/SceneTrialTrain/apanar_06.08.2002/IMG_1303.JPG',\n",
              " '/content/drive/MyDrive/SceneTrialTrain/apanar_06.08.2002/IMG_1303.JPG',\n",
              " '/content/drive/MyDrive/SceneTrialTrain/apanar_06.08.2002/IMG_1303.JPG',\n",
              " '/content/drive/MyDrive/SceneTrialTrain/apanar_06.08.2002/IMG_1303.JPG',\n",
              " '/content/drive/MyDrive/SceneTrialTrain/apanar_06.08.2002/IMG_1303.JPG',\n",
              " '/content/drive/MyDrive/SceneTrialTrain/apanar_06.08.2002/IMG_1303.JPG',\n",
              " '/content/drive/MyDrive/SceneTrialTrain/apanar_06.08.2002/IMG_1303.JPG',\n",
              " '/content/drive/MyDrive/SceneTrialTrain/apanar_06.08.2002/IMG_1303.JPG',\n",
              " '/content/drive/MyDrive/SceneTrialTrain/apanar_06.08.2002/IMG_1303.JPG',\n",
              " '/content/drive/MyDrive/SceneTrialTrain/apanar_06.08.2002/IMG_1303.JPG',\n",
              " '/content/drive/MyDrive/SceneTrialTrain/apanar_06.08.2002/IMG_1303.JPG',\n",
              " '/content/drive/MyDrive/SceneTrialTrain/apanar_06.08.2002/IMG_1303.JPG',\n",
              " '/content/drive/MyDrive/SceneTrialTrain/apanar_06.08.2002/IMG_1303.JPG',\n",
              " '/content/drive/MyDrive/SceneTrialTrain/apanar_06.08.2002/IMG_1303.JPG',\n",
              " '/content/drive/MyDrive/SceneTrialTrain/apanar_06.08.2002/IMG_1303.JPG',\n",
              " '/content/drive/MyDrive/SceneTrialTrain/apanar_06.08.2002/IMG_1303.JPG',\n",
              " '/content/drive/MyDrive/SceneTrialTrain/apanar_06.08.2002/IMG_1303.JPG',\n",
              " '/content/drive/MyDrive/SceneTrialTrain/apanar_06.08.2002/IMG_1303.JPG',\n",
              " '/content/drive/MyDrive/SceneTrialTrain/apanar_06.08.2002/IMG_1303.JPG',\n",
              " '/content/drive/MyDrive/SceneTrialTrain/apanar_06.08.2002/IMG_1303.JPG',\n",
              " '/content/drive/MyDrive/SceneTrialTrain/apanar_06.08.2002/IMG_1303.JPG',\n",
              " '/content/drive/MyDrive/SceneTrialTrain/apanar_06.08.2002/IMG_1303.JPG',\n",
              " '/content/drive/MyDrive/SceneTrialTrain/apanar_06.08.2002/IMG_1303.JPG',\n",
              " '/content/drive/MyDrive/SceneTrialTrain/apanar_06.08.2002/IMG_1303.JPG',\n",
              " '/content/drive/MyDrive/SceneTrialTrain/apanar_06.08.2002/IMG_1303.JPG',\n",
              " '/content/drive/MyDrive/SceneTrialTrain/apanar_06.08.2002/IMG_1303.JPG',\n",
              " '/content/drive/MyDrive/SceneTrialTrain/apanar_06.08.2002/IMG_1303.JPG',\n",
              " '/content/drive/MyDrive/SceneTrialTrain/apanar_06.08.2002/IMG_1303.JPG',\n",
              " '/content/drive/MyDrive/SceneTrialTrain/apanar_06.08.2002/IMG_1303.JPG',\n",
              " '/content/drive/MyDrive/SceneTrialTrain/apanar_06.08.2002/IMG_1303.JPG',\n",
              " '/content/drive/MyDrive/SceneTrialTrain/apanar_06.08.2002/IMG_1303.JPG',\n",
              " '/content/drive/MyDrive/SceneTrialTrain/apanar_06.08.2002/IMG_1303.JPG',\n",
              " '/content/drive/MyDrive/SceneTrialTrain/apanar_06.08.2002/IMG_1303.JPG',\n",
              " '/content/drive/MyDrive/SceneTrialTrain/apanar_06.08.2002/IMG_1303.JPG',\n",
              " '/content/drive/MyDrive/SceneTrialTrain/apanar_06.08.2002/IMG_1303.JPG',\n",
              " '/content/drive/MyDrive/SceneTrialTrain/apanar_06.08.2002/IMG_1303.JPG',\n",
              " '/content/drive/MyDrive/SceneTrialTrain/apanar_06.08.2002/IMG_1303.JPG',\n",
              " '/content/drive/MyDrive/SceneTrialTrain/apanar_06.08.2002/IMG_1304.JPG',\n",
              " '/content/drive/MyDrive/SceneTrialTrain/apanar_06.08.2002/IMG_1304.JPG',\n",
              " '/content/drive/MyDrive/SceneTrialTrain/apanar_06.08.2002/IMG_1304.JPG',\n",
              " '/content/drive/MyDrive/SceneTrialTrain/apanar_06.08.2002/IMG_1304.JPG',\n",
              " '/content/drive/MyDrive/SceneTrialTrain/apanar_06.08.2002/IMG_1304.JPG',\n",
              " '/content/drive/MyDrive/SceneTrialTrain/apanar_06.08.2002/IMG_1304.JPG',\n",
              " '/content/drive/MyDrive/SceneTrialTrain/apanar_06.08.2002/Img_1305.jpg',\n",
              " '/content/drive/MyDrive/SceneTrialTrain/apanar_06.08.2002/Img_1305.jpg',\n",
              " '/content/drive/MyDrive/SceneTrialTrain/apanar_06.08.2002/IMG_1306.JPG',\n",
              " '/content/drive/MyDrive/SceneTrialTrain/apanar_06.08.2002/IMG_1306.JPG',\n",
              " '/content/drive/MyDrive/SceneTrialTrain/apanar_06.08.2002/IMG_1306.JPG',\n",
              " '/content/drive/MyDrive/SceneTrialTrain/apanar_06.08.2002/IMG_1307.JPG',\n",
              " '/content/drive/MyDrive/SceneTrialTrain/apanar_06.08.2002/IMG_1308.JPG',\n",
              " '/content/drive/MyDrive/SceneTrialTrain/apanar_06.08.2002/IMG_1308.JPG',\n",
              " '/content/drive/MyDrive/SceneTrialTrain/apanar_06.08.2002/IMG_1308.JPG',\n",
              " '/content/drive/MyDrive/SceneTrialTrain/apanar_06.08.2002/IMG_1311.JPG',\n",
              " '/content/drive/MyDrive/SceneTrialTrain/apanar_06.08.2002/IMG_1311.JPG',\n",
              " '/content/drive/MyDrive/SceneTrialTrain/apanar_06.08.2002/IMG_1311.JPG',\n",
              " '/content/drive/MyDrive/SceneTrialTrain/apanar_06.08.2002/IMG_1311.JPG',\n",
              " '/content/drive/MyDrive/SceneTrialTrain/apanar_06.08.2002/IMG_1311.JPG',\n",
              " '/content/drive/MyDrive/SceneTrialTrain/apanar_06.08.2002/IMG_1311.JPG',\n",
              " '/content/drive/MyDrive/SceneTrialTrain/apanar_06.08.2002/IMG_1312.JPG',\n",
              " '/content/drive/MyDrive/SceneTrialTrain/apanar_06.08.2002/IMG_1312.JPG',\n",
              " '/content/drive/MyDrive/SceneTrialTrain/apanar_06.08.2002/IMG_1312.JPG',\n",
              " '/content/drive/MyDrive/SceneTrialTrain/apanar_06.08.2002/IMG_1312.JPG',\n",
              " '/content/drive/MyDrive/SceneTrialTrain/apanar_06.08.2002/IMG_1312.JPG',\n",
              " '/content/drive/MyDrive/SceneTrialTrain/apanar_06.08.2002/IMG_1312.JPG',\n",
              " '/content/drive/MyDrive/SceneTrialTrain/apanar_06.08.2002/IMG_1312.JPG',\n",
              " '/content/drive/MyDrive/SceneTrialTrain/apanar_06.08.2002/IMG_1312.JPG',\n",
              " '/content/drive/MyDrive/SceneTrialTrain/apanar_06.08.2002/IMG_1312.JPG',\n",
              " '/content/drive/MyDrive/SceneTrialTrain/apanar_06.08.2002/IMG_1312.JPG',\n",
              " '/content/drive/MyDrive/SceneTrialTrain/apanar_06.08.2002/IMG_1312.JPG',\n",
              " '/content/drive/MyDrive/SceneTrialTrain/apanar_06.08.2002/IMG_1312.JPG',\n",
              " '/content/drive/MyDrive/SceneTrialTrain/apanar_06.08.2002/IMG_1312.JPG',\n",
              " '/content/drive/MyDrive/SceneTrialTrain/apanar_06.08.2002/IMG_1312.JPG',\n",
              " '/content/drive/MyDrive/SceneTrialTrain/apanar_06.08.2002/IMG_1312.JPG',\n",
              " '/content/drive/MyDrive/SceneTrialTrain/apanar_06.08.2002/IMG_1312.JPG',\n",
              " '/content/drive/MyDrive/SceneTrialTrain/apanar_06.08.2002/IMG_1312.JPG',\n",
              " '/content/drive/MyDrive/SceneTrialTrain/apanar_06.08.2002/IMG_1312.JPG',\n",
              " '/content/drive/MyDrive/SceneTrialTrain/apanar_06.08.2002/IMG_1315.JPG',\n",
              " '/content/drive/MyDrive/SceneTrialTrain/apanar_06.08.2002/IMG_1315.JPG',\n",
              " '/content/drive/MyDrive/SceneTrialTrain/apanar_06.08.2002/IMG_1316.JPG',\n",
              " '/content/drive/MyDrive/SceneTrialTrain/apanar_06.08.2002/IMG_1316.JPG',\n",
              " '/content/drive/MyDrive/SceneTrialTrain/apanar_06.08.2002/IMG_1316.JPG',\n",
              " '/content/drive/MyDrive/SceneTrialTrain/apanar_06.08.2002/IMG_1316.JPG',\n",
              " '/content/drive/MyDrive/SceneTrialTrain/apanar_06.08.2002/IMG_1316.JPG',\n",
              " '/content/drive/MyDrive/SceneTrialTrain/apanar_06.08.2002/IMG_1316.JPG',\n",
              " '/content/drive/MyDrive/SceneTrialTrain/apanar_06.08.2002/IMG_1316.JPG',\n",
              " '/content/drive/MyDrive/SceneTrialTrain/apanar_06.08.2002/IMG_1316.JPG',\n",
              " '/content/drive/MyDrive/SceneTrialTrain/apanar_06.08.2002/IMG_1316.JPG',\n",
              " '/content/drive/MyDrive/SceneTrialTrain/apanar_06.08.2002/IMG_1316.JPG',\n",
              " '/content/drive/MyDrive/SceneTrialTrain/apanar_06.08.2002/IMG_1317.JPG',\n",
              " '/content/drive/MyDrive/SceneTrialTrain/apanar_06.08.2002/IMG_1317.JPG',\n",
              " '/content/drive/MyDrive/SceneTrialTrain/apanar_06.08.2002/IMG_1317.JPG',\n",
              " '/content/drive/MyDrive/SceneTrialTrain/apanar_06.08.2002/IMG_1317.JPG',\n",
              " '/content/drive/MyDrive/SceneTrialTrain/apanar_06.08.2002/IMG_1317.JPG',\n",
              " '/content/drive/MyDrive/SceneTrialTrain/apanar_06.08.2002/IMG_1317.JPG',\n",
              " '/content/drive/MyDrive/SceneTrialTrain/apanar_06.08.2002/IMG_1317.JPG',\n",
              " '/content/drive/MyDrive/SceneTrialTrain/apanar_06.08.2002/IMG_1317.JPG',\n",
              " '/content/drive/MyDrive/SceneTrialTrain/apanar_06.08.2002/IMG_1317.JPG',\n",
              " '/content/drive/MyDrive/SceneTrialTrain/apanar_06.08.2002/IMG_1317.JPG',\n",
              " '/content/drive/MyDrive/SceneTrialTrain/apanar_06.08.2002/IMG_1317.JPG',\n",
              " '/content/drive/MyDrive/SceneTrialTrain/apanar_06.08.2002/IMG_1317.JPG',\n",
              " '/content/drive/MyDrive/SceneTrialTrain/apanar_06.08.2002/IMG_1317.JPG',\n",
              " '/content/drive/MyDrive/SceneTrialTrain/apanar_06.08.2002/IMG_1317.JPG',\n",
              " '/content/drive/MyDrive/SceneTrialTrain/lfsosa_12.08.2002/IMG_2013.jpg',\n",
              " '/content/drive/MyDrive/SceneTrialTrain/lfsosa_12.08.2002/IMG_2013.jpg',\n",
              " '/content/drive/MyDrive/SceneTrialTrain/lfsosa_12.08.2002/IMG_2013.jpg',\n",
              " '/content/drive/MyDrive/SceneTrialTrain/lfsosa_12.08.2002/IMG_2013.jpg',\n",
              " '/content/drive/MyDrive/SceneTrialTrain/lfsosa_12.08.2002/IMG_2013.jpg',\n",
              " '/content/drive/MyDrive/SceneTrialTrain/lfsosa_12.08.2002/IMG_2013.jpg',\n",
              " '/content/drive/MyDrive/SceneTrialTrain/lfsosa_12.08.2002/IMG_2013.jpg',\n",
              " '/content/drive/MyDrive/SceneTrialTrain/lfsosa_12.08.2002/IMG_2013.jpg',\n",
              " '/content/drive/MyDrive/SceneTrialTrain/lfsosa_12.08.2002/IMG_2013.jpg',\n",
              " '/content/drive/MyDrive/SceneTrialTrain/lfsosa_12.08.2002/IMG_2013.jpg',\n",
              " '/content/drive/MyDrive/SceneTrialTrain/lfsosa_12.08.2002/IMG_2460.JPG',\n",
              " '/content/drive/MyDrive/SceneTrialTrain/lfsosa_12.08.2002/IMG_2460.JPG',\n",
              " '/content/drive/MyDrive/SceneTrialTrain/lfsosa_12.08.2002/IMG_2460.JPG',\n",
              " '/content/drive/MyDrive/SceneTrialTrain/lfsosa_12.08.2002/IMG_2461.JPG',\n",
              " '/content/drive/MyDrive/SceneTrialTrain/lfsosa_12.08.2002/IMG_2461.JPG',\n",
              " '/content/drive/MyDrive/SceneTrialTrain/lfsosa_12.08.2002/IMG_2461.JPG',\n",
              " '/content/drive/MyDrive/SceneTrialTrain/lfsosa_12.08.2002/IMG_2461.JPG',\n",
              " '/content/drive/MyDrive/SceneTrialTrain/lfsosa_12.08.2002/IMG_2461.JPG',\n",
              " '/content/drive/MyDrive/SceneTrialTrain/lfsosa_12.08.2002/IMG_2461.JPG',\n",
              " '/content/drive/MyDrive/SceneTrialTrain/lfsosa_12.08.2002/IMG_2461.JPG',\n",
              " '/content/drive/MyDrive/SceneTrialTrain/lfsosa_12.08.2002/IMG_2462.JPG',\n",
              " '/content/drive/MyDrive/SceneTrialTrain/lfsosa_12.08.2002/IMG_2462.JPG',\n",
              " '/content/drive/MyDrive/SceneTrialTrain/lfsosa_12.08.2002/IMG_2462.JPG',\n",
              " '/content/drive/MyDrive/SceneTrialTrain/lfsosa_12.08.2002/IMG_2462.JPG',\n",
              " '/content/drive/MyDrive/SceneTrialTrain/lfsosa_12.08.2002/IMG_2462.JPG',\n",
              " '/content/drive/MyDrive/SceneTrialTrain/lfsosa_12.08.2002/IMG_2462.JPG',\n",
              " '/content/drive/MyDrive/SceneTrialTrain/lfsosa_12.08.2002/IMG_2464.JPG',\n",
              " '/content/drive/MyDrive/SceneTrialTrain/lfsosa_12.08.2002/IMG_2464.JPG',\n",
              " '/content/drive/MyDrive/SceneTrialTrain/lfsosa_12.08.2002/IMG_2466.JPG',\n",
              " '/content/drive/MyDrive/SceneTrialTrain/lfsosa_12.08.2002/IMG_2468.JPG',\n",
              " '/content/drive/MyDrive/SceneTrialTrain/lfsosa_12.08.2002/IMG_2468.JPG',\n",
              " '/content/drive/MyDrive/SceneTrialTrain/lfsosa_12.08.2002/IMG_2468.JPG',\n",
              " '/content/drive/MyDrive/SceneTrialTrain/lfsosa_12.08.2002/IMG_2469.JPG',\n",
              " '/content/drive/MyDrive/SceneTrialTrain/lfsosa_12.08.2002/IMG_2469.JPG',\n",
              " '/content/drive/MyDrive/SceneTrialTrain/lfsosa_12.08.2002/IMG_2469.JPG',\n",
              " '/content/drive/MyDrive/SceneTrialTrain/lfsosa_12.08.2002/IMG_2469.JPG',\n",
              " '/content/drive/MyDrive/SceneTrialTrain/lfsosa_12.08.2002/IMG_2471.JPG',\n",
              " '/content/drive/MyDrive/SceneTrialTrain/lfsosa_12.08.2002/IMG_2471.JPG',\n",
              " '/content/drive/MyDrive/SceneTrialTrain/lfsosa_12.08.2002/IMG_2471.JPG',\n",
              " '/content/drive/MyDrive/SceneTrialTrain/lfsosa_12.08.2002/IMG_2471.JPG',\n",
              " '/content/drive/MyDrive/SceneTrialTrain/lfsosa_12.08.2002/IMG_2471.JPG',\n",
              " '/content/drive/MyDrive/SceneTrialTrain/lfsosa_12.08.2002/IMG_2471.JPG',\n",
              " '/content/drive/MyDrive/SceneTrialTrain/lfsosa_12.08.2002/IMG_2471.JPG',\n",
              " '/content/drive/MyDrive/SceneTrialTrain/lfsosa_12.08.2002/IMG_2472.JPG',\n",
              " '/content/drive/MyDrive/SceneTrialTrain/lfsosa_12.08.2002/IMG_2472.JPG',\n",
              " '/content/drive/MyDrive/SceneTrialTrain/lfsosa_12.08.2002/IMG_2472.JPG',\n",
              " '/content/drive/MyDrive/SceneTrialTrain/lfsosa_12.08.2002/IMG_2472.JPG',\n",
              " '/content/drive/MyDrive/SceneTrialTrain/lfsosa_12.08.2002/IMG_2473.JPG',\n",
              " '/content/drive/MyDrive/SceneTrialTrain/lfsosa_12.08.2002/IMG_2473.JPG',\n",
              " '/content/drive/MyDrive/SceneTrialTrain/lfsosa_12.08.2002/IMG_2473.JPG',\n",
              " '/content/drive/MyDrive/SceneTrialTrain/lfsosa_12.08.2002/IMG_2473.JPG',\n",
              " '/content/drive/MyDrive/SceneTrialTrain/lfsosa_12.08.2002/IMG_2473.JPG',\n",
              " '/content/drive/MyDrive/SceneTrialTrain/lfsosa_12.08.2002/IMG_2473.JPG',\n",
              " '/content/drive/MyDrive/SceneTrialTrain/lfsosa_12.08.2002/IMG_2474.JPG',\n",
              " '/content/drive/MyDrive/SceneTrialTrain/lfsosa_12.08.2002/IMG_2474.JPG',\n",
              " '/content/drive/MyDrive/SceneTrialTrain/lfsosa_12.08.2002/IMG_2474.JPG',\n",
              " '/content/drive/MyDrive/SceneTrialTrain/lfsosa_12.08.2002/IMG_2474.JPG',\n",
              " '/content/drive/MyDrive/SceneTrialTrain/lfsosa_12.08.2002/IMG_2476.JPG',\n",
              " '/content/drive/MyDrive/SceneTrialTrain/lfsosa_12.08.2002/IMG_2476.JPG',\n",
              " '/content/drive/MyDrive/SceneTrialTrain/lfsosa_12.08.2002/IMG_2476.JPG',\n",
              " '/content/drive/MyDrive/SceneTrialTrain/lfsosa_12.08.2002/IMG_2477.JPG',\n",
              " '/content/drive/MyDrive/SceneTrialTrain/lfsosa_12.08.2002/IMG_2477.JPG',\n",
              " '/content/drive/MyDrive/SceneTrialTrain/lfsosa_12.08.2002/IMG_2477.JPG',\n",
              " '/content/drive/MyDrive/SceneTrialTrain/lfsosa_12.08.2002/IMG_2477.JPG',\n",
              " '/content/drive/MyDrive/SceneTrialTrain/lfsosa_12.08.2002/IMG_2477.JPG',\n",
              " '/content/drive/MyDrive/SceneTrialTrain/lfsosa_12.08.2002/IMG_2477.JPG',\n",
              " '/content/drive/MyDrive/SceneTrialTrain/lfsosa_12.08.2002/IMG_2477.JPG',\n",
              " '/content/drive/MyDrive/SceneTrialTrain/lfsosa_12.08.2002/IMG_2477.JPG',\n",
              " '/content/drive/MyDrive/SceneTrialTrain/lfsosa_12.08.2002/IMG_2477.JPG',\n",
              " '/content/drive/MyDrive/SceneTrialTrain/lfsosa_12.08.2002/IMG_2478.JPG',\n",
              " '/content/drive/MyDrive/SceneTrialTrain/lfsosa_12.08.2002/IMG_2478.JPG',\n",
              " '/content/drive/MyDrive/SceneTrialTrain/lfsosa_12.08.2002/IMG_2478.JPG',\n",
              " '/content/drive/MyDrive/SceneTrialTrain/lfsosa_12.08.2002/IMG_2478.JPG',\n",
              " '/content/drive/MyDrive/SceneTrialTrain/lfsosa_12.08.2002/IMG_2478.JPG',\n",
              " '/content/drive/MyDrive/SceneTrialTrain/lfsosa_12.08.2002/IMG_2478.JPG',\n",
              " '/content/drive/MyDrive/SceneTrialTrain/lfsosa_12.08.2002/IMG_2480.JPG',\n",
              " '/content/drive/MyDrive/SceneTrialTrain/lfsosa_12.08.2002/IMG_2480.JPG',\n",
              " '/content/drive/MyDrive/SceneTrialTrain/lfsosa_12.08.2002/IMG_2480.JPG',\n",
              " '/content/drive/MyDrive/SceneTrialTrain/lfsosa_12.08.2002/IMG_2481.JPG',\n",
              " '/content/drive/MyDrive/SceneTrialTrain/lfsosa_12.08.2002/IMG_2481.JPG',\n",
              " '/content/drive/MyDrive/SceneTrialTrain/lfsosa_12.08.2002/IMG_2481.JPG',\n",
              " '/content/drive/MyDrive/SceneTrialTrain/lfsosa_12.08.2002/IMG_2482.JPG',\n",
              " '/content/drive/MyDrive/SceneTrialTrain/lfsosa_12.08.2002/IMG_2482.JPG',\n",
              " '/content/drive/MyDrive/SceneTrialTrain/lfsosa_12.08.2002/IMG_2483.JPG',\n",
              " '/content/drive/MyDrive/SceneTrialTrain/lfsosa_12.08.2002/IMG_2483.JPG',\n",
              " '/content/drive/MyDrive/SceneTrialTrain/lfsosa_12.08.2002/IMG_2483.JPG',\n",
              " '/content/drive/MyDrive/SceneTrialTrain/lfsosa_12.08.2002/IMG_2483.JPG',\n",
              " '/content/drive/MyDrive/SceneTrialTrain/lfsosa_12.08.2002/IMG_2484.JPG',\n",
              " '/content/drive/MyDrive/SceneTrialTrain/lfsosa_12.08.2002/IMG_2485.JPG',\n",
              " '/content/drive/MyDrive/SceneTrialTrain/lfsosa_12.08.2002/IMG_2485.JPG',\n",
              " '/content/drive/MyDrive/SceneTrialTrain/lfsosa_12.08.2002/IMG_2486.JPG',\n",
              " '/content/drive/MyDrive/SceneTrialTrain/lfsosa_12.08.2002/IMG_2486.JPG',\n",
              " '/content/drive/MyDrive/SceneTrialTrain/lfsosa_12.08.2002/IMG_2486.JPG',\n",
              " '/content/drive/MyDrive/SceneTrialTrain/lfsosa_12.08.2002/IMG_2486.JPG',\n",
              " '/content/drive/MyDrive/SceneTrialTrain/lfsosa_12.08.2002/IMG_2487.JPG',\n",
              " '/content/drive/MyDrive/SceneTrialTrain/lfsosa_12.08.2002/IMG_2487.JPG',\n",
              " '/content/drive/MyDrive/SceneTrialTrain/lfsosa_12.08.2002/IMG_2487.JPG',\n",
              " '/content/drive/MyDrive/SceneTrialTrain/lfsosa_12.08.2002/IMG_2487.JPG',\n",
              " '/content/drive/MyDrive/SceneTrialTrain/lfsosa_12.08.2002/IMG_2488.JPG',\n",
              " '/content/drive/MyDrive/SceneTrialTrain/lfsosa_12.08.2002/IMG_2489.JPG',\n",
              " '/content/drive/MyDrive/SceneTrialTrain/lfsosa_12.08.2002/IMG_2489.JPG',\n",
              " '/content/drive/MyDrive/SceneTrialTrain/lfsosa_12.08.2002/IMG_2490.JPG',\n",
              " '/content/drive/MyDrive/SceneTrialTrain/lfsosa_12.08.2002/IMG_2491.JPG',\n",
              " '/content/drive/MyDrive/SceneTrialTrain/lfsosa_12.08.2002/IMG_2493.JPG',\n",
              " '/content/drive/MyDrive/SceneTrialTrain/lfsosa_12.08.2002/IMG_2493.JPG',\n",
              " '/content/drive/MyDrive/SceneTrialTrain/lfsosa_12.08.2002/IMG_2493.JPG',\n",
              " '/content/drive/MyDrive/SceneTrialTrain/lfsosa_12.08.2002/IMG_2493.JPG',\n",
              " '/content/drive/MyDrive/SceneTrialTrain/lfsosa_12.08.2002/IMG_2495.JPG',\n",
              " '/content/drive/MyDrive/SceneTrialTrain/lfsosa_12.08.2002/IMG_2495.JPG',\n",
              " '/content/drive/MyDrive/SceneTrialTrain/lfsosa_12.08.2002/IMG_2495.JPG',\n",
              " '/content/drive/MyDrive/SceneTrialTrain/lfsosa_12.08.2002/IMG_2495.JPG',\n",
              " '/content/drive/MyDrive/SceneTrialTrain/lfsosa_12.08.2002/IMG_2495.JPG',\n",
              " '/content/drive/MyDrive/SceneTrialTrain/lfsosa_12.08.2002/IMG_2495.JPG',\n",
              " '/content/drive/MyDrive/SceneTrialTrain/lfsosa_12.08.2002/IMG_2495.JPG',\n",
              " '/content/drive/MyDrive/SceneTrialTrain/lfsosa_12.08.2002/IMG_2498.JPG',\n",
              " '/content/drive/MyDrive/SceneTrialTrain/lfsosa_12.08.2002/IMG_2498.JPG',\n",
              " '/content/drive/MyDrive/SceneTrialTrain/lfsosa_12.08.2002/IMG_2498.JPG',\n",
              " '/content/drive/MyDrive/SceneTrialTrain/lfsosa_12.08.2002/IMG_2498.JPG',\n",
              " '/content/drive/MyDrive/SceneTrialTrain/lfsosa_12.08.2002/IMG_2498.JPG',\n",
              " '/content/drive/MyDrive/SceneTrialTrain/lfsosa_12.08.2002/IMG_2498.JPG',\n",
              " '/content/drive/MyDrive/SceneTrialTrain/lfsosa_12.08.2002/IMG_2498.JPG',\n",
              " '/content/drive/MyDrive/SceneTrialTrain/lfsosa_12.08.2002/IMG_2498.JPG',\n",
              " '/content/drive/MyDrive/SceneTrialTrain/lfsosa_12.08.2002/IMG_2498.JPG',\n",
              " '/content/drive/MyDrive/SceneTrialTrain/lfsosa_12.08.2002/IMG_2498.JPG',\n",
              " '/content/drive/MyDrive/SceneTrialTrain/lfsosa_12.08.2002/IMG_2498.JPG',\n",
              " '/content/drive/MyDrive/SceneTrialTrain/lfsosa_12.08.2002/IMG_2498.JPG',\n",
              " '/content/drive/MyDrive/SceneTrialTrain/lfsosa_12.08.2002/IMG_2498.JPG',\n",
              " '/content/drive/MyDrive/SceneTrialTrain/lfsosa_12.08.2002/IMG_2498.JPG',\n",
              " '/content/drive/MyDrive/SceneTrialTrain/lfsosa_12.08.2002/IMG_2498.JPG',\n",
              " '/content/drive/MyDrive/SceneTrialTrain/lfsosa_12.08.2002/IMG_2498.JPG',\n",
              " '/content/drive/MyDrive/SceneTrialTrain/lfsosa_12.08.2002/IMG_2498.JPG',\n",
              " '/content/drive/MyDrive/SceneTrialTrain/lfsosa_12.08.2002/IMG_2498.JPG',\n",
              " '/content/drive/MyDrive/SceneTrialTrain/lfsosa_12.08.2002/IMG_2498.JPG',\n",
              " '/content/drive/MyDrive/SceneTrialTrain/lfsosa_12.08.2002/IMG_2498.JPG',\n",
              " '/content/drive/MyDrive/SceneTrialTrain/lfsosa_12.08.2002/IMG_2498.JPG',\n",
              " '/content/drive/MyDrive/SceneTrialTrain/lfsosa_12.08.2002/IMG_2498.JPG',\n",
              " '/content/drive/MyDrive/SceneTrialTrain/lfsosa_12.08.2002/IMG_2498.JPG',\n",
              " '/content/drive/MyDrive/SceneTrialTrain/lfsosa_12.08.2002/IMG_2498.JPG',\n",
              " '/content/drive/MyDrive/SceneTrialTrain/lfsosa_12.08.2002/IMG_2498.JPG',\n",
              " '/content/drive/MyDrive/SceneTrialTrain/lfsosa_12.08.2002/IMG_2498.JPG',\n",
              " '/content/drive/MyDrive/SceneTrialTrain/lfsosa_12.08.2002/IMG_2498.JPG',\n",
              " '/content/drive/MyDrive/SceneTrialTrain/lfsosa_12.08.2002/IMG_2498.JPG',\n",
              " '/content/drive/MyDrive/SceneTrialTrain/lfsosa_12.08.2002/IMG_2499.JPG',\n",
              " '/content/drive/MyDrive/SceneTrialTrain/lfsosa_12.08.2002/IMG_2499.JPG',\n",
              " '/content/drive/MyDrive/SceneTrialTrain/lfsosa_12.08.2002/IMG_2499.JPG',\n",
              " '/content/drive/MyDrive/SceneTrialTrain/lfsosa_12.08.2002/IMG_2499.JPG',\n",
              " '/content/drive/MyDrive/SceneTrialTrain/lfsosa_12.08.2002/IMG_2499.JPG',\n",
              " '/content/drive/MyDrive/SceneTrialTrain/lfsosa_12.08.2002/IMG_2499.JPG',\n",
              " '/content/drive/MyDrive/SceneTrialTrain/lfsosa_12.08.2002/IMG_2500.JPG',\n",
              " '/content/drive/MyDrive/SceneTrialTrain/lfsosa_12.08.2002/IMG_2501.JPG',\n",
              " '/content/drive/MyDrive/SceneTrialTrain/lfsosa_12.08.2002/IMG_2501.JPG',\n",
              " '/content/drive/MyDrive/SceneTrialTrain/lfsosa_12.08.2002/IMG_2501.JPG',\n",
              " '/content/drive/MyDrive/SceneTrialTrain/lfsosa_12.08.2002/IMG_2501.JPG',\n",
              " '/content/drive/MyDrive/SceneTrialTrain/lfsosa_12.08.2002/IMG_2501.JPG',\n",
              " '/content/drive/MyDrive/SceneTrialTrain/lfsosa_12.08.2002/IMG_2502.JPG',\n",
              " '/content/drive/MyDrive/SceneTrialTrain/lfsosa_12.08.2002/IMG_2503.JPG',\n",
              " '/content/drive/MyDrive/SceneTrialTrain/lfsosa_12.08.2002/IMG_2503.JPG',\n",
              " '/content/drive/MyDrive/SceneTrialTrain/lfsosa_12.08.2002/IMG_2503.JPG',\n",
              " '/content/drive/MyDrive/SceneTrialTrain/lfsosa_12.08.2002/IMG_2503.JPG',\n",
              " '/content/drive/MyDrive/SceneTrialTrain/lfsosa_12.08.2002/IMG_2503.JPG',\n",
              " '/content/drive/MyDrive/SceneTrialTrain/lfsosa_12.08.2002/IMG_2503.JPG',\n",
              " '/content/drive/MyDrive/SceneTrialTrain/lfsosa_12.08.2002/IMG_2503.JPG',\n",
              " '/content/drive/MyDrive/SceneTrialTrain/lfsosa_12.08.2002/IMG_2503.JPG',\n",
              " '/content/drive/MyDrive/SceneTrialTrain/lfsosa_12.08.2002/IMG_2504.JPG',\n",
              " '/content/drive/MyDrive/SceneTrialTrain/lfsosa_12.08.2002/IMG_2504.JPG',\n",
              " '/content/drive/MyDrive/SceneTrialTrain/lfsosa_12.08.2002/IMG_2504.JPG',\n",
              " '/content/drive/MyDrive/SceneTrialTrain/lfsosa_12.08.2002/IMG_2504.JPG',\n",
              " '/content/drive/MyDrive/SceneTrialTrain/lfsosa_12.08.2002/IMG_2505.JPG',\n",
              " '/content/drive/MyDrive/SceneTrialTrain/lfsosa_12.08.2002/IMG_2505.JPG',\n",
              " '/content/drive/MyDrive/SceneTrialTrain/lfsosa_12.08.2002/IMG_2505.JPG',\n",
              " '/content/drive/MyDrive/SceneTrialTrain/lfsosa_12.08.2002/IMG_2506.JPG',\n",
              " '/content/drive/MyDrive/SceneTrialTrain/lfsosa_12.08.2002/IMG_2507.JPG',\n",
              " '/content/drive/MyDrive/SceneTrialTrain/lfsosa_12.08.2002/IMG_2508.JPG',\n",
              " '/content/drive/MyDrive/SceneTrialTrain/lfsosa_12.08.2002/IMG_2508.JPG',\n",
              " '/content/drive/MyDrive/SceneTrialTrain/lfsosa_12.08.2002/IMG_2508.JPG',\n",
              " '/content/drive/MyDrive/SceneTrialTrain/lfsosa_12.08.2002/IMG_2509.JPG',\n",
              " '/content/drive/MyDrive/SceneTrialTrain/lfsosa_12.08.2002/IMG_2509.JPG',\n",
              " '/content/drive/MyDrive/SceneTrialTrain/lfsosa_12.08.2002/IMG_2509.JPG',\n",
              " '/content/drive/MyDrive/SceneTrialTrain/lfsosa_12.08.2002/IMG_2509.JPG',\n",
              " '/content/drive/MyDrive/SceneTrialTrain/lfsosa_12.08.2002/IMG_2509.JPG',\n",
              " '/content/drive/MyDrive/SceneTrialTrain/lfsosa_12.08.2002/IMG_2510.JPG',\n",
              " '/content/drive/MyDrive/SceneTrialTrain/lfsosa_12.08.2002/IMG_2510.JPG',\n",
              " '/content/drive/MyDrive/SceneTrialTrain/lfsosa_12.08.2002/IMG_2510.JPG',\n",
              " '/content/drive/MyDrive/SceneTrialTrain/lfsosa_12.08.2002/IMG_2511.JPG',\n",
              " '/content/drive/MyDrive/SceneTrialTrain/lfsosa_12.08.2002/IMG_2511.JPG',\n",
              " '/content/drive/MyDrive/SceneTrialTrain/lfsosa_12.08.2002/IMG_2511.JPG',\n",
              " '/content/drive/MyDrive/SceneTrialTrain/lfsosa_12.08.2002/IMG_2512.JPG',\n",
              " '/content/drive/MyDrive/SceneTrialTrain/lfsosa_12.08.2002/IMG_2512.JPG',\n",
              " '/content/drive/MyDrive/SceneTrialTrain/lfsosa_12.08.2002/IMG_2512.JPG',\n",
              " '/content/drive/MyDrive/SceneTrialTrain/lfsosa_12.08.2002/IMG_2512.JPG',\n",
              " '/content/drive/MyDrive/SceneTrialTrain/lfsosa_12.08.2002/IMG_2513.JPG',\n",
              " '/content/drive/MyDrive/SceneTrialTrain/lfsosa_12.08.2002/IMG_2514.JPG',\n",
              " '/content/drive/MyDrive/SceneTrialTrain/lfsosa_12.08.2002/IMG_2514.JPG',\n",
              " '/content/drive/MyDrive/SceneTrialTrain/lfsosa_12.08.2002/IMG_2514.JPG',\n",
              " '/content/drive/MyDrive/SceneTrialTrain/lfsosa_12.08.2002/IMG_2516.JPG',\n",
              " '/content/drive/MyDrive/SceneTrialTrain/lfsosa_12.08.2002/IMG_2516.JPG',\n",
              " '/content/drive/MyDrive/SceneTrialTrain/lfsosa_12.08.2002/IMG_2516.JPG',\n",
              " '/content/drive/MyDrive/SceneTrialTrain/lfsosa_12.08.2002/IMG_2516.JPG',\n",
              " '/content/drive/MyDrive/SceneTrialTrain/lfsosa_12.08.2002/IMG_2516.JPG',\n",
              " '/content/drive/MyDrive/SceneTrialTrain/lfsosa_12.08.2002/IMG_2516.JPG',\n",
              " '/content/drive/MyDrive/SceneTrialTrain/lfsosa_12.08.2002/IMG_2516.JPG',\n",
              " '/content/drive/MyDrive/SceneTrialTrain/lfsosa_12.08.2002/IMG_2516.JPG',\n",
              " '/content/drive/MyDrive/SceneTrialTrain/lfsosa_12.08.2002/IMG_2516.JPG',\n",
              " '/content/drive/MyDrive/SceneTrialTrain/lfsosa_12.08.2002/IMG_2516.JPG',\n",
              " '/content/drive/MyDrive/SceneTrialTrain/lfsosa_12.08.2002/IMG_2516.JPG',\n",
              " '/content/drive/MyDrive/SceneTrialTrain/lfsosa_12.08.2002/IMG_2516.JPG',\n",
              " '/content/drive/MyDrive/SceneTrialTrain/lfsosa_12.08.2002/IMG_2516.JPG',\n",
              " '/content/drive/MyDrive/SceneTrialTrain/lfsosa_12.08.2002/IMG_2518.JPG',\n",
              " '/content/drive/MyDrive/SceneTrialTrain/lfsosa_12.08.2002/IMG_2519.JPG',\n",
              " '/content/drive/MyDrive/SceneTrialTrain/lfsosa_12.08.2002/IMG_2519.JPG',\n",
              " '/content/drive/MyDrive/SceneTrialTrain/lfsosa_12.08.2002/IMG_2519.JPG',\n",
              " '/content/drive/MyDrive/SceneTrialTrain/lfsosa_12.08.2002/IMG_2519.JPG',\n",
              " '/content/drive/MyDrive/SceneTrialTrain/lfsosa_12.08.2002/IMG_2519.JPG',\n",
              " '/content/drive/MyDrive/SceneTrialTrain/lfsosa_12.08.2002/IMG_2519.JPG',\n",
              " '/content/drive/MyDrive/SceneTrialTrain/lfsosa_12.08.2002/IMG_2519.JPG',\n",
              " '/content/drive/MyDrive/SceneTrialTrain/lfsosa_12.08.2002/IMG_2519.JPG',\n",
              " '/content/drive/MyDrive/SceneTrialTrain/lfsosa_12.08.2002/IMG_2520.JPG',\n",
              " '/content/drive/MyDrive/SceneTrialTrain/lfsosa_12.08.2002/IMG_2520.JPG',\n",
              " '/content/drive/MyDrive/SceneTrialTrain/lfsosa_12.08.2002/IMG_2520.JPG',\n",
              " '/content/drive/MyDrive/SceneTrialTrain/lfsosa_12.08.2002/IMG_2521.JPG',\n",
              " '/content/drive/MyDrive/SceneTrialTrain/lfsosa_12.08.2002/IMG_2522.JPG',\n",
              " '/content/drive/MyDrive/SceneTrialTrain/lfsosa_12.08.2002/IMG_2522.JPG',\n",
              " '/content/drive/MyDrive/SceneTrialTrain/lfsosa_12.08.2002/IMG_2522.JPG',\n",
              " '/content/drive/MyDrive/SceneTrialTrain/lfsosa_12.08.2002/IMG_2522.JPG',\n",
              " '/content/drive/MyDrive/SceneTrialTrain/lfsosa_12.08.2002/IMG_2522.JPG',\n",
              " '/content/drive/MyDrive/SceneTrialTrain/lfsosa_12.08.2002/IMG_2522.JPG',\n",
              " '/content/drive/MyDrive/SceneTrialTrain/lfsosa_12.08.2002/IMG_2522.JPG',\n",
              " '/content/drive/MyDrive/SceneTrialTrain/lfsosa_12.08.2002/IMG_2523.JPG',\n",
              " '/content/drive/MyDrive/SceneTrialTrain/lfsosa_12.08.2002/IMG_2523.JPG',\n",
              " '/content/drive/MyDrive/SceneTrialTrain/lfsosa_12.08.2002/IMG_2523.JPG',\n",
              " '/content/drive/MyDrive/SceneTrialTrain/lfsosa_12.08.2002/IMG_2524.JPG',\n",
              " '/content/drive/MyDrive/SceneTrialTrain/lfsosa_12.08.2002/IMG_2524.JPG',\n",
              " '/content/drive/MyDrive/SceneTrialTrain/lfsosa_12.08.2002/IMG_2524.JPG',\n",
              " '/content/drive/MyDrive/SceneTrialTrain/lfsosa_12.08.2002/IMG_2524.JPG',\n",
              " '/content/drive/MyDrive/SceneTrialTrain/lfsosa_12.08.2002/IMG_2524.JPG',\n",
              " '/content/drive/MyDrive/SceneTrialTrain/lfsosa_12.08.2002/IMG_2524.JPG',\n",
              " '/content/drive/MyDrive/SceneTrialTrain/lfsosa_12.08.2002/IMG_2525.JPG',\n",
              " '/content/drive/MyDrive/SceneTrialTrain/lfsosa_12.08.2002/IMG_2525.JPG',\n",
              " '/content/drive/MyDrive/SceneTrialTrain/lfsosa_12.08.2002/IMG_2525.JPG',\n",
              " '/content/drive/MyDrive/SceneTrialTrain/lfsosa_12.08.2002/IMG_2526.JPG',\n",
              " '/content/drive/MyDrive/SceneTrialTrain/lfsosa_12.08.2002/IMG_2526.JPG',\n",
              " '/content/drive/MyDrive/SceneTrialTrain/lfsosa_12.08.2002/IMG_2526.JPG',\n",
              " '/content/drive/MyDrive/SceneTrialTrain/lfsosa_12.08.2002/IMG_2526.JPG',\n",
              " '/content/drive/MyDrive/SceneTrialTrain/lfsosa_12.08.2002/IMG_2526.JPG',\n",
              " '/content/drive/MyDrive/SceneTrialTrain/lfsosa_12.08.2002/IMG_2528.JPG',\n",
              " '/content/drive/MyDrive/SceneTrialTrain/lfsosa_12.08.2002/IMG_2528.JPG',\n",
              " '/content/drive/MyDrive/SceneTrialTrain/lfsosa_12.08.2002/IMG_2528.JPG',\n",
              " '/content/drive/MyDrive/SceneTrialTrain/lfsosa_12.08.2002/IMG_2530.JPG',\n",
              " '/content/drive/MyDrive/SceneTrialTrain/lfsosa_12.08.2002/IMG_2530.JPG',\n",
              " '/content/drive/MyDrive/SceneTrialTrain/lfsosa_12.08.2002/IMG_2530.JPG',\n",
              " '/content/drive/MyDrive/SceneTrialTrain/lfsosa_12.08.2002/IMG_2530.JPG',\n",
              " '/content/drive/MyDrive/SceneTrialTrain/lfsosa_12.08.2002/IMG_2531.JPG',\n",
              " '/content/drive/MyDrive/SceneTrialTrain/lfsosa_12.08.2002/IMG_2531.JPG',\n",
              " '/content/drive/MyDrive/SceneTrialTrain/lfsosa_12.08.2002/IMG_2531.JPG',\n",
              " '/content/drive/MyDrive/SceneTrialTrain/lfsosa_12.08.2002/IMG_2531.JPG',\n",
              " '/content/drive/MyDrive/SceneTrialTrain/lfsosa_12.08.2002/IMG_2531.JPG',\n",
              " '/content/drive/MyDrive/SceneTrialTrain/lfsosa_12.08.2002/IMG_2532.JPG',\n",
              " '/content/drive/MyDrive/SceneTrialTrain/lfsosa_12.08.2002/IMG_2533.JPG',\n",
              " '/content/drive/MyDrive/SceneTrialTrain/lfsosa_12.08.2002/IMG_2533.JPG',\n",
              " '/content/drive/MyDrive/SceneTrialTrain/lfsosa_12.08.2002/IMG_2534.JPG',\n",
              " '/content/drive/MyDrive/SceneTrialTrain/lfsosa_12.08.2002/IMG_2534.JPG',\n",
              " '/content/drive/MyDrive/SceneTrialTrain/lfsosa_12.08.2002/IMG_2535.JPG',\n",
              " '/content/drive/MyDrive/SceneTrialTrain/lfsosa_12.08.2002/IMG_2535.JPG',\n",
              " '/content/drive/MyDrive/SceneTrialTrain/lfsosa_12.08.2002/IMG_2535.JPG',\n",
              " '/content/drive/MyDrive/SceneTrialTrain/lfsosa_12.08.2002/IMG_2535.JPG',\n",
              " '/content/drive/MyDrive/SceneTrialTrain/lfsosa_12.08.2002/IMG_2535.JPG',\n",
              " '/content/drive/MyDrive/SceneTrialTrain/lfsosa_12.08.2002/IMG_2535.JPG',\n",
              " '/content/drive/MyDrive/SceneTrialTrain/lfsosa_12.08.2002/IMG_2535.JPG',\n",
              " '/content/drive/MyDrive/SceneTrialTrain/lfsosa_12.08.2002/IMG_2535.JPG',\n",
              " '/content/drive/MyDrive/SceneTrialTrain/lfsosa_12.08.2002/IMG_2535.JPG',\n",
              " '/content/drive/MyDrive/SceneTrialTrain/lfsosa_12.08.2002/IMG_2535.JPG',\n",
              " '/content/drive/MyDrive/SceneTrialTrain/lfsosa_12.08.2002/IMG_2535.JPG',\n",
              " '/content/drive/MyDrive/SceneTrialTrain/lfsosa_12.08.2002/IMG_2535.JPG',\n",
              " '/content/drive/MyDrive/SceneTrialTrain/lfsosa_12.08.2002/IMG_2535.JPG',\n",
              " '/content/drive/MyDrive/SceneTrialTrain/lfsosa_12.08.2002/IMG_2535.JPG',\n",
              " '/content/drive/MyDrive/SceneTrialTrain/lfsosa_12.08.2002/IMG_2536.JPG',\n",
              " '/content/drive/MyDrive/SceneTrialTrain/lfsosa_12.08.2002/IMG_2536.JPG',\n",
              " '/content/drive/MyDrive/SceneTrialTrain/lfsosa_12.08.2002/IMG_2536.JPG',\n",
              " '/content/drive/MyDrive/SceneTrialTrain/lfsosa_12.08.2002/IMG_2536.JPG',\n",
              " '/content/drive/MyDrive/SceneTrialTrain/lfsosa_12.08.2002/IMG_2536.JPG',\n",
              " '/content/drive/MyDrive/SceneTrialTrain/lfsosa_12.08.2002/IMG_2537.JPG',\n",
              " '/content/drive/MyDrive/SceneTrialTrain/lfsosa_12.08.2002/IMG_2537.JPG',\n",
              " '/content/drive/MyDrive/SceneTrialTrain/lfsosa_12.08.2002/IMG_2537.JPG',\n",
              " '/content/drive/MyDrive/SceneTrialTrain/lfsosa_12.08.2002/IMG_2538.JPG',\n",
              " '/content/drive/MyDrive/SceneTrialTrain/lfsosa_12.08.2002/IMG_2538.JPG',\n",
              " '/content/drive/MyDrive/SceneTrialTrain/lfsosa_12.08.2002/IMG_2539.JPG',\n",
              " '/content/drive/MyDrive/SceneTrialTrain/lfsosa_12.08.2002/IMG_2539.JPG',\n",
              " '/content/drive/MyDrive/SceneTrialTrain/lfsosa_12.08.2002/IMG_2539.JPG',\n",
              " '/content/drive/MyDrive/SceneTrialTrain/lfsosa_12.08.2002/IMG_2540.JPG',\n",
              " '/content/drive/MyDrive/SceneTrialTrain/lfsosa_12.08.2002/IMG_2540.JPG',\n",
              " '/content/drive/MyDrive/SceneTrialTrain/lfsosa_12.08.2002/IMG_2540.JPG',\n",
              " '/content/drive/MyDrive/SceneTrialTrain/lfsosa_12.08.2002/IMG_2540.JPG',\n",
              " '/content/drive/MyDrive/SceneTrialTrain/lfsosa_12.08.2002/IMG_2540.JPG',\n",
              " '/content/drive/MyDrive/SceneTrialTrain/lfsosa_12.08.2002/IMG_2541.JPG',\n",
              " '/content/drive/MyDrive/SceneTrialTrain/lfsosa_12.08.2002/IMG_2542.JPG',\n",
              " '/content/drive/MyDrive/SceneTrialTrain/lfsosa_12.08.2002/IMG_2542.JPG',\n",
              " '/content/drive/MyDrive/SceneTrialTrain/lfsosa_12.08.2002/IMG_2543.JPG',\n",
              " '/content/drive/MyDrive/SceneTrialTrain/lfsosa_12.08.2002/IMG_2543.JPG',\n",
              " '/content/drive/MyDrive/SceneTrialTrain/lfsosa_12.08.2002/IMG_2543.JPG',\n",
              " '/content/drive/MyDrive/SceneTrialTrain/lfsosa_12.08.2002/IMG_2543.JPG',\n",
              " '/content/drive/MyDrive/SceneTrialTrain/lfsosa_12.08.2002/IMG_2543.JPG',\n",
              " '/content/drive/MyDrive/SceneTrialTrain/lfsosa_12.08.2002/IMG_2544.JPG',\n",
              " '/content/drive/MyDrive/SceneTrialTrain/lfsosa_12.08.2002/IMG_2545.JPG',\n",
              " '/content/drive/MyDrive/SceneTrialTrain/lfsosa_12.08.2002/IMG_2546.JPG',\n",
              " '/content/drive/MyDrive/SceneTrialTrain/lfsosa_12.08.2002/IMG_2547.JPG',\n",
              " '/content/drive/MyDrive/SceneTrialTrain/lfsosa_12.08.2002/IMG_2547.JPG',\n",
              " '/content/drive/MyDrive/SceneTrialTrain/lfsosa_12.08.2002/IMG_2548.JPG',\n",
              " '/content/drive/MyDrive/SceneTrialTrain/lfsosa_12.08.2002/IMG_2549.JPG',\n",
              " '/content/drive/MyDrive/SceneTrialTrain/lfsosa_12.08.2002/IMG_2550.JPG',\n",
              " '/content/drive/MyDrive/SceneTrialTrain/lfsosa_12.08.2002/IMG_2550.JPG',\n",
              " '/content/drive/MyDrive/SceneTrialTrain/lfsosa_12.08.2002/IMG_2552.JPG',\n",
              " '/content/drive/MyDrive/SceneTrialTrain/lfsosa_12.08.2002/IMG_2552.JPG',\n",
              " '/content/drive/MyDrive/SceneTrialTrain/lfsosa_12.08.2002/IMG_2552.JPG',\n",
              " '/content/drive/MyDrive/SceneTrialTrain/lfsosa_12.08.2002/IMG_2552.JPG',\n",
              " '/content/drive/MyDrive/SceneTrialTrain/lfsosa_12.08.2002/IMG_2553.JPG',\n",
              " '/content/drive/MyDrive/SceneTrialTrain/lfsosa_12.08.2002/IMG_2553.JPG',\n",
              " '/content/drive/MyDrive/SceneTrialTrain/lfsosa_12.08.2002/IMG_2554.JPG',\n",
              " '/content/drive/MyDrive/SceneTrialTrain/lfsosa_12.08.2002/IMG_2554.JPG',\n",
              " '/content/drive/MyDrive/SceneTrialTrain/lfsosa_12.08.2002/IMG_2555.JPG',\n",
              " '/content/drive/MyDrive/SceneTrialTrain/lfsosa_12.08.2002/IMG_2555.JPG',\n",
              " '/content/drive/MyDrive/SceneTrialTrain/lfsosa_12.08.2002/IMG_2555.JPG',\n",
              " '/content/drive/MyDrive/SceneTrialTrain/lfsosa_12.08.2002/IMG_2556.JPG',\n",
              " '/content/drive/MyDrive/SceneTrialTrain/lfsosa_12.08.2002/IMG_2556.JPG',\n",
              " '/content/drive/MyDrive/SceneTrialTrain/lfsosa_12.08.2002/IMG_2556.JPG',\n",
              " '/content/drive/MyDrive/SceneTrialTrain/lfsosa_12.08.2002/IMG_2556.JPG',\n",
              " '/content/drive/MyDrive/SceneTrialTrain/lfsosa_12.08.2002/IMG_2557.JPG',\n",
              " '/content/drive/MyDrive/SceneTrialTrain/lfsosa_12.08.2002/IMG_2557.JPG',\n",
              " '/content/drive/MyDrive/SceneTrialTrain/lfsosa_12.08.2002/IMG_2557.JPG',\n",
              " '/content/drive/MyDrive/SceneTrialTrain/lfsosa_12.08.2002/IMG_2557.JPG',\n",
              " '/content/drive/MyDrive/SceneTrialTrain/lfsosa_12.08.2002/IMG_2558.JPG',\n",
              " '/content/drive/MyDrive/SceneTrialTrain/lfsosa_12.08.2002/IMG_2558.JPG',\n",
              " '/content/drive/MyDrive/SceneTrialTrain/lfsosa_12.08.2002/IMG_2558.JPG',\n",
              " '/content/drive/MyDrive/SceneTrialTrain/lfsosa_12.08.2002/IMG_2558.JPG',\n",
              " '/content/drive/MyDrive/SceneTrialTrain/lfsosa_12.08.2002/IMG_2558.JPG',\n",
              " '/content/drive/MyDrive/SceneTrialTrain/lfsosa_12.08.2002/IMG_2558.JPG',\n",
              " '/content/drive/MyDrive/SceneTrialTrain/lfsosa_12.08.2002/IMG_2559.JPG',\n",
              " '/content/drive/MyDrive/SceneTrialTrain/lfsosa_12.08.2002/IMG_2560.JPG',\n",
              " '/content/drive/MyDrive/SceneTrialTrain/lfsosa_12.08.2002/IMG_2560.JPG',\n",
              " '/content/drive/MyDrive/SceneTrialTrain/lfsosa_12.08.2002/IMG_2561.JPG',\n",
              " '/content/drive/MyDrive/SceneTrialTrain/lfsosa_12.08.2002/IMG_2564.JPG',\n",
              " '/content/drive/MyDrive/SceneTrialTrain/lfsosa_12.08.2002/IMG_2564.JPG',\n",
              " '/content/drive/MyDrive/SceneTrialTrain/lfsosa_12.08.2002/IMG_2564.JPG',\n",
              " '/content/drive/MyDrive/SceneTrialTrain/lfsosa_12.08.2002/IMG_2566.JPG',\n",
              " '/content/drive/MyDrive/SceneTrialTrain/lfsosa_12.08.2002/IMG_2566.JPG',\n",
              " '/content/drive/MyDrive/SceneTrialTrain/lfsosa_12.08.2002/IMG_2566.JPG',\n",
              " '/content/drive/MyDrive/SceneTrialTrain/lfsosa_12.08.2002/IMG_2566.JPG',\n",
              " '/content/drive/MyDrive/SceneTrialTrain/lfsosa_12.08.2002/IMG_2566.JPG',\n",
              " '/content/drive/MyDrive/SceneTrialTrain/lfsosa_12.08.2002/IMG_2567.JPG',\n",
              " '/content/drive/MyDrive/SceneTrialTrain/lfsosa_12.08.2002/IMG_2567.JPG',\n",
              " '/content/drive/MyDrive/SceneTrialTrain/lfsosa_12.08.2002/IMG_2567.JPG',\n",
              " '/content/drive/MyDrive/SceneTrialTrain/lfsosa_12.08.2002/IMG_2567.JPG',\n",
              " '/content/drive/MyDrive/SceneTrialTrain/lfsosa_12.08.2002/IMG_2569.JPG',\n",
              " '/content/drive/MyDrive/SceneTrialTrain/lfsosa_12.08.2002/IMG_2569.JPG',\n",
              " '/content/drive/MyDrive/SceneTrialTrain/lfsosa_12.08.2002/IMG_2571.JPG',\n",
              " '/content/drive/MyDrive/SceneTrialTrain/lfsosa_12.08.2002/IMG_2571.JPG',\n",
              " '/content/drive/MyDrive/SceneTrialTrain/lfsosa_12.08.2002/IMG_2571.JPG',\n",
              " '/content/drive/MyDrive/SceneTrialTrain/lfsosa_12.08.2002/IMG_2571.JPG',\n",
              " '/content/drive/MyDrive/SceneTrialTrain/lfsosa_12.08.2002/IMG_2571.JPG',\n",
              " '/content/drive/MyDrive/SceneTrialTrain/lfsosa_12.08.2002/IMG_2571.JPG',\n",
              " '/content/drive/MyDrive/SceneTrialTrain/lfsosa_12.08.2002/IMG_2571.JPG',\n",
              " '/content/drive/MyDrive/SceneTrialTrain/lfsosa_12.08.2002/IMG_2571.JPG',\n",
              " '/content/drive/MyDrive/SceneTrialTrain/lfsosa_12.08.2002/IMG_2572.JPG',\n",
              " '/content/drive/MyDrive/SceneTrialTrain/lfsosa_12.08.2002/IMG_2572.JPG',\n",
              " '/content/drive/MyDrive/SceneTrialTrain/lfsosa_12.08.2002/IMG_2573.JPG',\n",
              " '/content/drive/MyDrive/SceneTrialTrain/lfsosa_12.08.2002/IMG_2573.JPG',\n",
              " '/content/drive/MyDrive/SceneTrialTrain/lfsosa_12.08.2002/IMG_2573.JPG',\n",
              " '/content/drive/MyDrive/SceneTrialTrain/lfsosa_12.08.2002/IMG_2573.JPG',\n",
              " '/content/drive/MyDrive/SceneTrialTrain/lfsosa_12.08.2002/IMG_2573.JPG',\n",
              " '/content/drive/MyDrive/SceneTrialTrain/lfsosa_12.08.2002/IMG_2573.JPG',\n",
              " '/content/drive/MyDrive/SceneTrialTrain/lfsosa_12.08.2002/IMG_2573.JPG',\n",
              " '/content/drive/MyDrive/SceneTrialTrain/lfsosa_12.08.2002/IMG_2573.JPG',\n",
              " '/content/drive/MyDrive/SceneTrialTrain/lfsosa_12.08.2002/IMG_2573.JPG',\n",
              " '/content/drive/MyDrive/SceneTrialTrain/lfsosa_12.08.2002/IMG_2573.JPG',\n",
              " '/content/drive/MyDrive/SceneTrialTrain/lfsosa_12.08.2002/IMG_2573.JPG',\n",
              " '/content/drive/MyDrive/SceneTrialTrain/lfsosa_12.08.2002/IMG_2573.JPG',\n",
              " '/content/drive/MyDrive/SceneTrialTrain/lfsosa_12.08.2002/IMG_2573.JPG',\n",
              " '/content/drive/MyDrive/SceneTrialTrain/lfsosa_12.08.2002/IMG_2573.JPG',\n",
              " '/content/drive/MyDrive/SceneTrialTrain/lfsosa_12.08.2002/IMG_2573.JPG',\n",
              " '/content/drive/MyDrive/SceneTrialTrain/lfsosa_12.08.2002/IMG_2573.JPG',\n",
              " '/content/drive/MyDrive/SceneTrialTrain/lfsosa_12.08.2002/IMG_2573.JPG',\n",
              " '/content/drive/MyDrive/SceneTrialTrain/lfsosa_12.08.2002/IMG_2575.JPG',\n",
              " '/content/drive/MyDrive/SceneTrialTrain/lfsosa_12.08.2002/IMG_2575.JPG',\n",
              " '/content/drive/MyDrive/SceneTrialTrain/lfsosa_12.08.2002/IMG_2575.JPG',\n",
              " '/content/drive/MyDrive/SceneTrialTrain/lfsosa_12.08.2002/IMG_2575.JPG',\n",
              " '/content/drive/MyDrive/SceneTrialTrain/lfsosa_12.08.2002/IMG_2575.JPG',\n",
              " '/content/drive/MyDrive/SceneTrialTrain/lfsosa_12.08.2002/IMG_2575.JPG',\n",
              " '/content/drive/MyDrive/SceneTrialTrain/lfsosa_12.08.2002/IMG_2575.JPG',\n",
              " '/content/drive/MyDrive/SceneTrialTrain/lfsosa_12.08.2002/IMG_2575.JPG',\n",
              " '/content/drive/MyDrive/SceneTrialTrain/lfsosa_12.08.2002/IMG_2575.JPG',\n",
              " '/content/drive/MyDrive/SceneTrialTrain/lfsosa_12.08.2002/IMG_2575.JPG',\n",
              " '/content/drive/MyDrive/SceneTrialTrain/lfsosa_12.08.2002/IMG_2575.JPG',\n",
              " '/content/drive/MyDrive/SceneTrialTrain/lfsosa_12.08.2002/IMG_2575.JPG',\n",
              " '/content/drive/MyDrive/SceneTrialTrain/lfsosa_12.08.2002/IMG_2575.JPG',\n",
              " '/content/drive/MyDrive/SceneTrialTrain/lfsosa_12.08.2002/IMG_2575.JPG',\n",
              " '/content/drive/MyDrive/SceneTrialTrain/lfsosa_12.08.2002/IMG_2575.JPG',\n",
              " '/content/drive/MyDrive/SceneTrialTrain/lfsosa_12.08.2002/IMG_2575.JPG',\n",
              " '/content/drive/MyDrive/SceneTrialTrain/lfsosa_12.08.2002/IMG_2575.JPG',\n",
              " '/content/drive/MyDrive/SceneTrialTrain/lfsosa_12.08.2002/IMG_2575.JPG',\n",
              " '/content/drive/MyDrive/SceneTrialTrain/lfsosa_12.08.2002/IMG_2575.JPG',\n",
              " '/content/drive/MyDrive/SceneTrialTrain/lfsosa_12.08.2002/IMG_2575.JPG',\n",
              " '/content/drive/MyDrive/SceneTrialTrain/lfsosa_12.08.2002/IMG_2575.JPG',\n",
              " '/content/drive/MyDrive/SceneTrialTrain/lfsosa_12.08.2002/IMG_2575.JPG',\n",
              " '/content/drive/MyDrive/SceneTrialTrain/lfsosa_12.08.2002/IMG_2583.JPG',\n",
              " '/content/drive/MyDrive/SceneTrialTrain/lfsosa_12.08.2002/IMG_2583.JPG',\n",
              " '/content/drive/MyDrive/SceneTrialTrain/lfsosa_12.08.2002/IMG_2583.JPG',\n",
              " '/content/drive/MyDrive/SceneTrialTrain/lfsosa_12.08.2002/IMG_2583.JPG',\n",
              " '/content/drive/MyDrive/SceneTrialTrain/lfsosa_12.08.2002/IMG_2583.JPG',\n",
              " '/content/drive/MyDrive/SceneTrialTrain/lfsosa_12.08.2002/IMG_2583.JPG',\n",
              " '/content/drive/MyDrive/SceneTrialTrain/lfsosa_12.08.2002/IMG_2583.JPG',\n",
              " '/content/drive/MyDrive/SceneTrialTrain/lfsosa_12.08.2002/IMG_2584.JPG',\n",
              " '/content/drive/MyDrive/SceneTrialTrain/lfsosa_12.08.2002/IMG_2585.JPG',\n",
              " '/content/drive/MyDrive/SceneTrialTrain/lfsosa_12.08.2002/IMG_2586.JPG',\n",
              " '/content/drive/MyDrive/SceneTrialTrain/lfsosa_12.08.2002/IMG_2586.JPG',\n",
              " '/content/drive/MyDrive/SceneTrialTrain/lfsosa_12.08.2002/IMG_2588.JPG',\n",
              " '/content/drive/MyDrive/SceneTrialTrain/lfsosa_12.08.2002/IMG_2588.JPG',\n",
              " '/content/drive/MyDrive/SceneTrialTrain/lfsosa_12.08.2002/IMG_2588.JPG',\n",
              " '/content/drive/MyDrive/SceneTrialTrain/lfsosa_12.08.2002/IMG_2588.JPG',\n",
              " '/content/drive/MyDrive/SceneTrialTrain/lfsosa_12.08.2002/IMG_2588.JPG',\n",
              " '/content/drive/MyDrive/SceneTrialTrain/lfsosa_12.08.2002/IMG_2588.JPG',\n",
              " '/content/drive/MyDrive/SceneTrialTrain/lfsosa_12.08.2002/IMG_2591.JPG',\n",
              " '/content/drive/MyDrive/SceneTrialTrain/lfsosa_12.08.2002/IMG_2591.JPG',\n",
              " '/content/drive/MyDrive/SceneTrialTrain/lfsosa_12.08.2002/IMG_2591.JPG',\n",
              " '/content/drive/MyDrive/SceneTrialTrain/lfsosa_12.08.2002/IMG_2591.JPG',\n",
              " '/content/drive/MyDrive/SceneTrialTrain/lfsosa_12.08.2002/IMG_2591.JPG',\n",
              " '/content/drive/MyDrive/SceneTrialTrain/lfsosa_12.08.2002/IMG_2591.JPG',\n",
              " '/content/drive/MyDrive/SceneTrialTrain/lfsosa_12.08.2002/IMG_2591.JPG',\n",
              " '/content/drive/MyDrive/SceneTrialTrain/lfsosa_12.08.2002/IMG_2591.JPG',\n",
              " '/content/drive/MyDrive/SceneTrialTrain/lfsosa_12.08.2002/IMG_2591.JPG',\n",
              " '/content/drive/MyDrive/SceneTrialTrain/lfsosa_12.08.2002/IMG_2591.JPG',\n",
              " '/content/drive/MyDrive/SceneTrialTrain/lfsosa_12.08.2002/IMG_2591.JPG',\n",
              " '/content/drive/MyDrive/SceneTrialTrain/lfsosa_12.08.2002/IMG_2593.JPG',\n",
              " '/content/drive/MyDrive/SceneTrialTrain/lfsosa_12.08.2002/IMG_2593.JPG',\n",
              " '/content/drive/MyDrive/SceneTrialTrain/lfsosa_12.08.2002/IMG_2593.JPG',\n",
              " '/content/drive/MyDrive/SceneTrialTrain/lfsosa_12.08.2002/IMG_2594.JPG',\n",
              " '/content/drive/MyDrive/SceneTrialTrain/lfsosa_12.08.2002/IMG_2594.JPG',\n",
              " '/content/drive/MyDrive/SceneTrialTrain/lfsosa_12.08.2002/IMG_2594.JPG',\n",
              " '/content/drive/MyDrive/SceneTrialTrain/lfsosa_12.08.2002/IMG_2595.JPG',\n",
              " '/content/drive/MyDrive/SceneTrialTrain/lfsosa_12.08.2002/IMG_2595.JPG',\n",
              " '/content/drive/MyDrive/SceneTrialTrain/lfsosa_12.08.2002/IMG_2595.JPG',\n",
              " '/content/drive/MyDrive/SceneTrialTrain/lfsosa_12.08.2002/IMG_2597.JPG',\n",
              " '/content/drive/MyDrive/SceneTrialTrain/lfsosa_12.08.2002/IMG_2598.JPG',\n",
              " '/content/drive/MyDrive/SceneTrialTrain/lfsosa_12.08.2002/IMG_2598.JPG',\n",
              " '/content/drive/MyDrive/SceneTrialTrain/lfsosa_12.08.2002/IMG_2598.JPG',\n",
              " '/content/drive/MyDrive/SceneTrialTrain/lfsosa_12.08.2002/IMG_2598.JPG',\n",
              " '/content/drive/MyDrive/SceneTrialTrain/lfsosa_12.08.2002/IMG_2598.JPG',\n",
              " '/content/drive/MyDrive/SceneTrialTrain/lfsosa_12.08.2002/IMG_2598.JPG',\n",
              " '/content/drive/MyDrive/SceneTrialTrain/lfsosa_12.08.2002/IMG_2600.JPG',\n",
              " '/content/drive/MyDrive/SceneTrialTrain/lfsosa_12.08.2002/IMG_2600.JPG',\n",
              " '/content/drive/MyDrive/SceneTrialTrain/lfsosa_12.08.2002/IMG_2600.JPG',\n",
              " '/content/drive/MyDrive/SceneTrialTrain/lfsosa_12.08.2002/IMG_2600.JPG',\n",
              " '/content/drive/MyDrive/SceneTrialTrain/lfsosa_12.08.2002/IMG_2600.JPG',\n",
              " '/content/drive/MyDrive/SceneTrialTrain/lfsosa_12.08.2002/IMG_2600.JPG',\n",
              " '/content/drive/MyDrive/SceneTrialTrain/lfsosa_12.08.2002/IMG_2600.JPG',\n",
              " '/content/drive/MyDrive/SceneTrialTrain/lfsosa_12.08.2002/IMG_2604.JPG',\n",
              " '/content/drive/MyDrive/SceneTrialTrain/lfsosa_12.08.2002/IMG_2604.JPG',\n",
              " '/content/drive/MyDrive/SceneTrialTrain/lfsosa_12.08.2002/IMG_2605.JPG',\n",
              " '/content/drive/MyDrive/SceneTrialTrain/lfsosa_12.08.2002/IMG_2605.JPG',\n",
              " '/content/drive/MyDrive/SceneTrialTrain/lfsosa_12.08.2002/IMG_2605.JPG',\n",
              " '/content/drive/MyDrive/SceneTrialTrain/lfsosa_12.08.2002/IMG_2606.JPG',\n",
              " '/content/drive/MyDrive/SceneTrialTrain/lfsosa_12.08.2002/IMG_2606.JPG',\n",
              " '/content/drive/MyDrive/SceneTrialTrain/lfsosa_12.08.2002/IMG_2607.JPG',\n",
              " '/content/drive/MyDrive/SceneTrialTrain/lfsosa_12.08.2002/IMG_2612.JPG',\n",
              " '/content/drive/MyDrive/SceneTrialTrain/lfsosa_12.08.2002/IMG_2612.JPG',\n",
              " '/content/drive/MyDrive/SceneTrialTrain/lfsosa_12.08.2002/IMG_2612.JPG',\n",
              " '/content/drive/MyDrive/SceneTrialTrain/lfsosa_12.08.2002/IMG_2612.JPG',\n",
              " '/content/drive/MyDrive/SceneTrialTrain/lfsosa_12.08.2002/IMG_2613.JPG',\n",
              " '/content/drive/MyDrive/SceneTrialTrain/lfsosa_12.08.2002/IMG_2613.JPG',\n",
              " '/content/drive/MyDrive/SceneTrialTrain/lfsosa_12.08.2002/IMG_2613.JPG',\n",
              " '/content/drive/MyDrive/SceneTrialTrain/lfsosa_12.08.2002/IMG_2613.JPG',\n",
              " '/content/drive/MyDrive/SceneTrialTrain/lfsosa_12.08.2002/IMG_2613.JPG',\n",
              " '/content/drive/MyDrive/SceneTrialTrain/lfsosa_12.08.2002/IMG_2614.JPG',\n",
              " '/content/drive/MyDrive/SceneTrialTrain/lfsosa_12.08.2002/IMG_2615.JPG',\n",
              " '/content/drive/MyDrive/SceneTrialTrain/lfsosa_12.08.2002/IMG_2616.JPG',\n",
              " '/content/drive/MyDrive/SceneTrialTrain/lfsosa_12.08.2002/IMG_2617.JPG',\n",
              " '/content/drive/MyDrive/SceneTrialTrain/lfsosa_12.08.2002/IMG_2618.JPG',\n",
              " '/content/drive/MyDrive/SceneTrialTrain/lfsosa_12.08.2002/IMG_2618.JPG',\n",
              " '/content/drive/MyDrive/SceneTrialTrain/lfsosa_12.08.2002/IMG_2618.JPG',\n",
              " '/content/drive/MyDrive/SceneTrialTrain/lfsosa_12.08.2002/IMG_2619.JPG',\n",
              " '/content/drive/MyDrive/SceneTrialTrain/lfsosa_12.08.2002/IMG_2619.JPG',\n",
              " '/content/drive/MyDrive/SceneTrialTrain/lfsosa_12.08.2002/IMG_2619.JPG',\n",
              " '/content/drive/MyDrive/SceneTrialTrain/lfsosa_12.08.2002/IMG_2619.JPG',\n",
              " '/content/drive/MyDrive/SceneTrialTrain/lfsosa_12.08.2002/IMG_2619.JPG',\n",
              " '/content/drive/MyDrive/SceneTrialTrain/lfsosa_12.08.2002/IMG_2620.JPG',\n",
              " '/content/drive/MyDrive/SceneTrialTrain/lfsosa_12.08.2002/IMG_2622.JPG',\n",
              " '/content/drive/MyDrive/SceneTrialTrain/lfsosa_12.08.2002/IMG_2622.JPG',\n",
              " '/content/drive/MyDrive/SceneTrialTrain/lfsosa_12.08.2002/IMG_2622.JPG',\n",
              " '/content/drive/MyDrive/SceneTrialTrain/lfsosa_12.08.2002/IMG_2622.JPG',\n",
              " '/content/drive/MyDrive/SceneTrialTrain/lfsosa_12.08.2002/IMG_2622.JPG',\n",
              " '/content/drive/MyDrive/SceneTrialTrain/lfsosa_12.08.2002/IMG_2622.JPG',\n",
              " '/content/drive/MyDrive/SceneTrialTrain/lfsosa_12.08.2002/IMG_2622.JPG',\n",
              " '/content/drive/MyDrive/SceneTrialTrain/lfsosa_12.08.2002/IMG_2624.JPG',\n",
              " '/content/drive/MyDrive/SceneTrialTrain/lfsosa_12.08.2002/IMG_2624.JPG',\n",
              " '/content/drive/MyDrive/SceneTrialTrain/lfsosa_12.08.2002/IMG_2624.JPG',\n",
              " '/content/drive/MyDrive/SceneTrialTrain/lfsosa_12.08.2002/IMG_2624.JPG',\n",
              " '/content/drive/MyDrive/SceneTrialTrain/lfsosa_12.08.2002/IMG_2624.JPG',\n",
              " '/content/drive/MyDrive/SceneTrialTrain/lfsosa_12.08.2002/IMG_2624.JPG',\n",
              " '/content/drive/MyDrive/SceneTrialTrain/lfsosa_12.08.2002/IMG_2624.JPG',\n",
              " '/content/drive/MyDrive/SceneTrialTrain/lfsosa_12.08.2002/IMG_2624.JPG',\n",
              " '/content/drive/MyDrive/SceneTrialTrain/lfsosa_12.08.2002/IMG_2624.JPG',\n",
              " '/content/drive/MyDrive/SceneTrialTrain/lfsosa_12.08.2002/IMG_2624.JPG',\n",
              " '/content/drive/MyDrive/SceneTrialTrain/lfsosa_12.08.2002/IMG_2624.JPG',\n",
              " '/content/drive/MyDrive/SceneTrialTrain/lfsosa_12.08.2002/IMG_2624.JPG',\n",
              " '/content/drive/MyDrive/SceneTrialTrain/lfsosa_12.08.2002/IMG_2624.JPG',\n",
              " '/content/drive/MyDrive/SceneTrialTrain/lfsosa_12.08.2002/IMG_2624.JPG',\n",
              " '/content/drive/MyDrive/SceneTrialTrain/lfsosa_12.08.2002/IMG_2626.JPG',\n",
              " '/content/drive/MyDrive/SceneTrialTrain/lfsosa_12.08.2002/IMG_2627.JPG',\n",
              " '/content/drive/MyDrive/SceneTrialTrain/lfsosa_12.08.2002/IMG_2627.JPG',\n",
              " '/content/drive/MyDrive/SceneTrialTrain/lfsosa_12.08.2002/IMG_2627.JPG',\n",
              " '/content/drive/MyDrive/SceneTrialTrain/lfsosa_12.08.2002/IMG_2628.JPG',\n",
              " '/content/drive/MyDrive/SceneTrialTrain/lfsosa_12.08.2002/IMG_2628.JPG',\n",
              " '/content/drive/MyDrive/SceneTrialTrain/lfsosa_12.08.2002/IMG_2628.JPG',\n",
              " '/content/drive/MyDrive/SceneTrialTrain/lfsosa_12.08.2002/IMG_2628.JPG',\n",
              " '/content/drive/MyDrive/SceneTrialTrain/lfsosa_12.08.2002/IMG_2628.JPG',\n",
              " '/content/drive/MyDrive/SceneTrialTrain/lfsosa_12.08.2002/IMG_2629.JPG',\n",
              " '/content/drive/MyDrive/SceneTrialTrain/lfsosa_12.08.2002/IMG_2630.JPG',\n",
              " '/content/drive/MyDrive/SceneTrialTrain/lfsosa_12.08.2002/IMG_2630.JPG',\n",
              " '/content/drive/MyDrive/SceneTrialTrain/lfsosa_12.08.2002/IMG_2630.JPG',\n",
              " '/content/drive/MyDrive/SceneTrialTrain/lfsosa_12.08.2002/IMG_2630.JPG',\n",
              " '/content/drive/MyDrive/SceneTrialTrain/lfsosa_12.08.2002/IMG_2630.JPG',\n",
              " '/content/drive/MyDrive/SceneTrialTrain/lfsosa_12.08.2002/IMG_2630.JPG',\n",
              " '/content/drive/MyDrive/SceneTrialTrain/lfsosa_12.08.2002/IMG_2630.JPG',\n",
              " '/content/drive/MyDrive/SceneTrialTrain/lfsosa_12.08.2002/IMG_2630.JPG',\n",
              " '/content/drive/MyDrive/SceneTrialTrain/lfsosa_12.08.2002/IMG_2630.JPG',\n",
              " '/content/drive/MyDrive/SceneTrialTrain/lfsosa_12.08.2002/IMG_2630.JPG',\n",
              " '/content/drive/MyDrive/SceneTrialTrain/lfsosa_12.08.2002/IMG_2630.JPG',\n",
              " '/content/drive/MyDrive/SceneTrialTrain/lfsosa_12.08.2002/IMG_2631.JPG',\n",
              " '/content/drive/MyDrive/SceneTrialTrain/lfsosa_12.08.2002/IMG_2633.JPG',\n",
              " '/content/drive/MyDrive/SceneTrialTrain/lfsosa_12.08.2002/IMG_2634.JPG',\n",
              " '/content/drive/MyDrive/SceneTrialTrain/lfsosa_12.08.2002/IMG_2634.JPG',\n",
              " '/content/drive/MyDrive/SceneTrialTrain/lfsosa_12.08.2002/IMG_2634.JPG',\n",
              " '/content/drive/MyDrive/SceneTrialTrain/lfsosa_12.08.2002/IMG_2634.JPG',\n",
              " '/content/drive/MyDrive/SceneTrialTrain/lfsosa_12.08.2002/IMG_2634.JPG',\n",
              " '/content/drive/MyDrive/SceneTrialTrain/lfsosa_12.08.2002/IMG_2634.JPG',\n",
              " '/content/drive/MyDrive/SceneTrialTrain/lfsosa_12.08.2002/IMG_2634.JPG',\n",
              " '/content/drive/MyDrive/SceneTrialTrain/lfsosa_12.08.2002/IMG_2635.JPG',\n",
              " '/content/drive/MyDrive/SceneTrialTrain/lfsosa_12.08.2002/IMG_2637.JPG',\n",
              " '/content/drive/MyDrive/SceneTrialTrain/lfsosa_12.08.2002/IMG_2638.JPG',\n",
              " '/content/drive/MyDrive/SceneTrialTrain/lfsosa_12.08.2002/IMG_2639.JPG',\n",
              " '/content/drive/MyDrive/SceneTrialTrain/lfsosa_12.08.2002/IMG_2639.JPG',\n",
              " '/content/drive/MyDrive/SceneTrialTrain/lfsosa_12.08.2002/IMG_2640.JPG',\n",
              " '/content/drive/MyDrive/SceneTrialTrain/lfsosa_12.08.2002/IMG_2640.JPG',\n",
              " '/content/drive/MyDrive/SceneTrialTrain/lfsosa_12.08.2002/IMG_2641.JPG',\n",
              " '/content/drive/MyDrive/SceneTrialTrain/lfsosa_12.08.2002/IMG_2642.JPG',\n",
              " '/content/drive/MyDrive/SceneTrialTrain/lfsosa_12.08.2002/IMG_2643.JPG',\n",
              " '/content/drive/MyDrive/SceneTrialTrain/lfsosa_12.08.2002/IMG_2644.JPG',\n",
              " '/content/drive/MyDrive/SceneTrialTrain/lfsosa_12.08.2002/IMG_2644.JPG',\n",
              " '/content/drive/MyDrive/SceneTrialTrain/lfsosa_12.08.2002/IMG_2644.JPG',\n",
              " '/content/drive/MyDrive/SceneTrialTrain/lfsosa_12.08.2002/IMG_2645.JPG',\n",
              " '/content/drive/MyDrive/SceneTrialTrain/lfsosa_12.08.2002/IMG_2646.JPG',\n",
              " '/content/drive/MyDrive/SceneTrialTrain/lfsosa_12.08.2002/IMG_2647.JPG',\n",
              " '/content/drive/MyDrive/SceneTrialTrain/lfsosa_12.08.2002/IMG_2647.JPG',\n",
              " '/content/drive/MyDrive/SceneTrialTrain/lfsosa_12.08.2002/IMG_2647.JPG',\n",
              " '/content/drive/MyDrive/SceneTrialTrain/lfsosa_12.08.2002/IMG_2647.JPG',\n",
              " '/content/drive/MyDrive/SceneTrialTrain/lfsosa_12.08.2002/IMG_2647.JPG',\n",
              " '/content/drive/MyDrive/SceneTrialTrain/lfsosa_12.08.2002/IMG_2647.JPG',\n",
              " '/content/drive/MyDrive/SceneTrialTrain/lfsosa_12.08.2002/IMG_2648.JPG',\n",
              " '/content/drive/MyDrive/SceneTrialTrain/lfsosa_12.08.2002/IMG_2653.JPG',\n",
              " '/content/drive/MyDrive/SceneTrialTrain/lfsosa_12.08.2002/IMG_2654.JPG',\n",
              " '/content/drive/MyDrive/SceneTrialTrain/lfsosa_12.08.2002/IMG_2654.JPG',\n",
              " '/content/drive/MyDrive/SceneTrialTrain/lfsosa_12.08.2002/IMG_2654.JPG',\n",
              " '/content/drive/MyDrive/SceneTrialTrain/lfsosa_12.08.2002/IMG_2654.JPG',\n",
              " '/content/drive/MyDrive/SceneTrialTrain/lfsosa_12.08.2002/IMG_2654.JPG',\n",
              " '/content/drive/MyDrive/SceneTrialTrain/lfsosa_12.08.2002/IMG_2654.JPG',\n",
              " '/content/drive/MyDrive/SceneTrialTrain/lfsosa_12.08.2002/IMG_2655.JPG',\n",
              " '/content/drive/MyDrive/SceneTrialTrain/lfsosa_12.08.2002/IMG_2658.JPG',\n",
              " '/content/drive/MyDrive/SceneTrialTrain/lfsosa_12.08.2002/IMG_2659.JPG',\n",
              " '/content/drive/MyDrive/SceneTrialTrain/lfsosa_12.08.2002/IMG_2659.JPG',\n",
              " '/content/drive/MyDrive/SceneTrialTrain/lfsosa_12.08.2002/IMG_2659.JPG',\n",
              " '/content/drive/MyDrive/SceneTrialTrain/lfsosa_12.08.2002/IMG_2659.JPG',\n",
              " '/content/drive/MyDrive/SceneTrialTrain/lfsosa_12.08.2002/IMG_2659.JPG',\n",
              " '/content/drive/MyDrive/SceneTrialTrain/lfsosa_12.08.2002/IMG_2660.JPG',\n",
              " '/content/drive/MyDrive/SceneTrialTrain/lfsosa_12.08.2002/IMG_2661.JPG',\n",
              " '/content/drive/MyDrive/SceneTrialTrain/lfsosa_12.08.2002/IMG_2661.JPG',\n",
              " '/content/drive/MyDrive/SceneTrialTrain/lfsosa_12.08.2002/IMG_2661.JPG',\n",
              " '/content/drive/MyDrive/SceneTrialTrain/lfsosa_12.08.2002/IMG_2661.JPG',\n",
              " '/content/drive/MyDrive/SceneTrialTrain/lfsosa_12.08.2002/IMG_2661.JPG',\n",
              " '/content/drive/MyDrive/SceneTrialTrain/lfsosa_12.08.2002/IMG_2662.JPG',\n",
              " '/content/drive/MyDrive/SceneTrialTrain/lfsosa_12.08.2002/IMG_2662.JPG',\n",
              " '/content/drive/MyDrive/SceneTrialTrain/lfsosa_12.08.2002/IMG_2663.JPG',\n",
              " '/content/drive/MyDrive/SceneTrialTrain/lfsosa_12.08.2002/IMG_2664.JPG',\n",
              " '/content/drive/MyDrive/SceneTrialTrain/lfsosa_12.08.2002/IMG_2666.JPG',\n",
              " '/content/drive/MyDrive/SceneTrialTrain/lfsosa_12.08.2002/IMG_2667.JPG',\n",
              " '/content/drive/MyDrive/SceneTrialTrain/lfsosa_12.08.2002/IMG_2669.JPG',\n",
              " '/content/drive/MyDrive/SceneTrialTrain/lfsosa_12.08.2002/IMG_2670.JPG',\n",
              " '/content/drive/MyDrive/SceneTrialTrain/lfsosa_12.08.2002/IMG_2671.JPG',\n",
              " '/content/drive/MyDrive/SceneTrialTrain/lfsosa_12.08.2002/IMG_2671.JPG',\n",
              " '/content/drive/MyDrive/SceneTrialTrain/lfsosa_12.08.2002/IMG_2671.JPG',\n",
              " '/content/drive/MyDrive/SceneTrialTrain/lfsosa_12.08.2002/IMG_2671.JPG',\n",
              " '/content/drive/MyDrive/SceneTrialTrain/lfsosa_12.08.2002/IMG_2672.JPG',\n",
              " '/content/drive/MyDrive/SceneTrialTrain/lfsosa_12.08.2002/IMG_2673.JPG',\n",
              " '/content/drive/MyDrive/SceneTrialTrain/lfsosa_12.08.2002/IMG_2673.JPG',\n",
              " '/content/drive/MyDrive/SceneTrialTrain/lfsosa_12.08.2002/IMG_2674.JPG',\n",
              " '/content/drive/MyDrive/SceneTrialTrain/lfsosa_12.08.2002/IMG_2674.JPG',\n",
              " '/content/drive/MyDrive/SceneTrialTrain/lfsosa_12.08.2002/IMG_2674.JPG',\n",
              " '/content/drive/MyDrive/SceneTrialTrain/lfsosa_12.08.2002/IMG_2675.JPG',\n",
              " '/content/drive/MyDrive/SceneTrialTrain/lfsosa_12.08.2002/IMG_2675.JPG',\n",
              " '/content/drive/MyDrive/SceneTrialTrain/lfsosa_12.08.2002/IMG_2676.JPG',\n",
              " '/content/drive/MyDrive/SceneTrialTrain/lfsosa_12.08.2002/IMG_2678.JPG',\n",
              " '/content/drive/MyDrive/SceneTrialTrain/lfsosa_12.08.2002/IMG_2678.JPG',\n",
              " '/content/drive/MyDrive/SceneTrialTrain/lfsosa_12.08.2002/IMG_2679.JPG',\n",
              " '/content/drive/MyDrive/SceneTrialTrain/lfsosa_12.08.2002/IMG_2679.JPG',\n",
              " '/content/drive/MyDrive/SceneTrialTrain/lfsosa_12.08.2002/IMG_2679.JPG',\n",
              " '/content/drive/MyDrive/SceneTrialTrain/lfsosa_12.08.2002/IMG_2679.JPG',\n",
              " '/content/drive/MyDrive/SceneTrialTrain/lfsosa_12.08.2002/IMG_2682.JPG',\n",
              " '/content/drive/MyDrive/SceneTrialTrain/lfsosa_12.08.2002/IMG_2682.JPG',\n",
              " '/content/drive/MyDrive/SceneTrialTrain/lfsosa_12.08.2002/IMG_2682.JPG',\n",
              " '/content/drive/MyDrive/SceneTrialTrain/lfsosa_12.08.2002/IMG_2682.JPG',\n",
              " '/content/drive/MyDrive/SceneTrialTrain/lfsosa_12.08.2002/IMG_2683.JPG',\n",
              " '/content/drive/MyDrive/SceneTrialTrain/lfsosa_12.08.2002/IMG_2683.JPG',\n",
              " '/content/drive/MyDrive/SceneTrialTrain/lfsosa_12.08.2002/IMG_2683.JPG',\n",
              " '/content/drive/MyDrive/SceneTrialTrain/lfsosa_12.08.2002/IMG_2683.JPG',\n",
              " '/content/drive/MyDrive/SceneTrialTrain/ryoungt_03.09.2002/036._.jpg',\n",
              " '/content/drive/MyDrive/SceneTrialTrain/ryoungt_03.09.2002/from_joanne.jpg',\n",
              " '/content/drive/MyDrive/SceneTrialTrain/ryoungt_03.09.2002/from_joanne.jpg',\n",
              " '/content/drive/MyDrive/SceneTrialTrain/ryoungt_03.09.2002/from_joanne.jpg',\n",
              " '/content/drive/MyDrive/SceneTrialTrain/ryoungt_03.09.2002/from_joanne.jpg',\n",
              " '/content/drive/MyDrive/SceneTrialTrain/ryoungt_03.09.2002/from_joanne.jpg',\n",
              " '/content/drive/MyDrive/SceneTrialTrain/ryoungt_03.09.2002/from_joanne.jpg',\n",
              " '/content/drive/MyDrive/SceneTrialTrain/ryoungt_03.09.2002/from_joanne.jpg',\n",
              " '/content/drive/MyDrive/SceneTrialTrain/ryoungt_03.09.2002/from_joanne.jpg',\n",
              " '/content/drive/MyDrive/SceneTrialTrain/ryoungt_03.09.2002/from_joanne.jpg',\n",
              " '/content/drive/MyDrive/SceneTrialTrain/ryoungt_03.09.2002/from_joanne.jpg',\n",
              " '/content/drive/MyDrive/SceneTrialTrain/ryoungt_03.09.2002/from_joanne.jpg',\n",
              " '/content/drive/MyDrive/SceneTrialTrain/ryoungt_03.09.2002/from_joanne.jpg',\n",
              " '/content/drive/MyDrive/SceneTrialTrain/ryoungt_03.09.2002/from_joanne.jpg',\n",
              " '/content/drive/MyDrive/SceneTrialTrain/ryoungt_03.09.2002/from_joanne.jpg',\n",
              " '/content/drive/MyDrive/SceneTrialTrain/ryoungt_03.09.2002/from_joanne.jpg',\n",
              " '/content/drive/MyDrive/SceneTrialTrain/ryoungt_03.09.2002/from_joanne.jpg',\n",
              " '/content/drive/MyDrive/SceneTrialTrain/ryoungt_03.09.2002/from_joanne.jpg',\n",
              " '/content/drive/MyDrive/SceneTrialTrain/ryoungt_03.09.2002/from_joanne.jpg',\n",
              " '/content/drive/MyDrive/SceneTrialTrain/ryoungt_03.09.2002/from_joanne.jpg',\n",
              " '/content/drive/MyDrive/SceneTrialTrain/ryoungt_03.09.2002/from_joanne.jpg',\n",
              " '/content/drive/MyDrive/SceneTrialTrain/ryoungt_03.09.2002/from_joanne.jpg',\n",
              " '/content/drive/MyDrive/SceneTrialTrain/ryoungt_03.09.2002/from_joanne.jpg',\n",
              " '/content/drive/MyDrive/SceneTrialTrain/ryoungt_03.09.2002/from_joanne.jpg',\n",
              " '/content/drive/MyDrive/SceneTrialTrain/ryoungt_03.09.2002/from_joanne.jpg',\n",
              " '/content/drive/MyDrive/SceneTrialTrain/ryoungt_03.09.2002/from_joanne.jpg',\n",
              " '/content/drive/MyDrive/SceneTrialTrain/ryoungt_03.09.2002/from_joanne.jpg',\n",
              " '/content/drive/MyDrive/SceneTrialTrain/ryoungt_03.09.2002/from_joanne.jpg',\n",
              " '/content/drive/MyDrive/SceneTrialTrain/ryoungt_03.09.2002/PICT0004.JPG',\n",
              " '/content/drive/MyDrive/SceneTrialTrain/ryoungt_03.09.2002/PICT0004.JPG',\n",
              " '/content/drive/MyDrive/SceneTrialTrain/ryoungt_03.09.2002/PICT0005.JPG',\n",
              " '/content/drive/MyDrive/SceneTrialTrain/ryoungt_03.09.2002/PICT0005.JPG',\n",
              " '/content/drive/MyDrive/SceneTrialTrain/ryoungt_03.09.2002/PICT0005.JPG',\n",
              " '/content/drive/MyDrive/SceneTrialTrain/ryoungt_03.09.2002/PICT0010.JPG',\n",
              " '/content/drive/MyDrive/SceneTrialTrain/ryoungt_03.09.2002/PICT0010.JPG',\n",
              " '/content/drive/MyDrive/SceneTrialTrain/ryoungt_03.09.2002/PICT0010.JPG',\n",
              " '/content/drive/MyDrive/SceneTrialTrain/ryoungt_03.09.2002/PICT0010.JPG',\n",
              " '/content/drive/MyDrive/SceneTrialTrain/ryoungt_03.09.2002/PICT0010.JPG',\n",
              " '/content/drive/MyDrive/SceneTrialTrain/ryoungt_03.09.2002/PICT0011.JPG',\n",
              " '/content/drive/MyDrive/SceneTrialTrain/ryoungt_03.09.2002/PICT0015.JPG',\n",
              " '/content/drive/MyDrive/SceneTrialTrain/ryoungt_03.09.2002/PICT0015.JPG',\n",
              " '/content/drive/MyDrive/SceneTrialTrain/ryoungt_03.09.2002/PICT0015.JPG',\n",
              " '/content/drive/MyDrive/SceneTrialTrain/ryoungt_03.09.2002/PICT0015.JPG',\n",
              " '/content/drive/MyDrive/SceneTrialTrain/ryoungt_03.09.2002/PICT0019.JPG',\n",
              " '/content/drive/MyDrive/SceneTrialTrain/ryoungt_03.09.2002/PICT0019.JPG',\n",
              " '/content/drive/MyDrive/SceneTrialTrain/ryoungt_03.09.2002/PICT0019.JPG',\n",
              " '/content/drive/MyDrive/SceneTrialTrain/ryoungt_03.09.2002/Pict0020.jpg',\n",
              " '/content/drive/MyDrive/SceneTrialTrain/ryoungt_03.09.2002/Pict0020.jpg',\n",
              " '/content/drive/MyDrive/SceneTrialTrain/ryoungt_03.09.2002/Pict0020.jpg',\n",
              " '/content/drive/MyDrive/SceneTrialTrain/ryoungt_03.09.2002/Pict0020.jpg',\n",
              " '/content/drive/MyDrive/SceneTrialTrain/ryoungt_03.09.2002/PICT0022.JPG',\n",
              " '/content/drive/MyDrive/SceneTrialTrain/ryoungt_03.09.2002/PICT0022.JPG',\n",
              " '/content/drive/MyDrive/SceneTrialTrain/ryoungt_03.09.2002/PICT0022.JPG',\n",
              " '/content/drive/MyDrive/SceneTrialTrain/ryoungt_03.09.2002/PICT0023.JPG',\n",
              " '/content/drive/MyDrive/SceneTrialTrain/ryoungt_03.09.2002/PICT0023.JPG',\n",
              " '/content/drive/MyDrive/SceneTrialTrain/ryoungt_03.09.2002/PICT0023.JPG',\n",
              " '/content/drive/MyDrive/SceneTrialTrain/ryoungt_03.09.2002/PICT0025.JPG',\n",
              " '/content/drive/MyDrive/SceneTrialTrain/ryoungt_03.09.2002/PICT0025.JPG',\n",
              " '/content/drive/MyDrive/SceneTrialTrain/ryoungt_03.09.2002/PICT0025.JPG',\n",
              " '/content/drive/MyDrive/SceneTrialTrain/ryoungt_03.09.2002/PICT0025.JPG',\n",
              " '/content/drive/MyDrive/SceneTrialTrain/ryoungt_03.09.2002/PICT0025.JPG',\n",
              " '/content/drive/MyDrive/SceneTrialTrain/ryoungt_03.09.2002/PICT0026.JPG',\n",
              " '/content/drive/MyDrive/SceneTrialTrain/ryoungt_03.09.2002/PICT0026.JPG',\n",
              " '/content/drive/MyDrive/SceneTrialTrain/ryoungt_03.09.2002/PICT0026.JPG',\n",
              " '/content/drive/MyDrive/SceneTrialTrain/ryoungt_03.09.2002/PICT0026.JPG',\n",
              " '/content/drive/MyDrive/SceneTrialTrain/ryoungt_03.09.2002/PICT0026.JPG',\n",
              " '/content/drive/MyDrive/SceneTrialTrain/ryoungt_03.09.2002/PICT0026.JPG',\n",
              " '/content/drive/MyDrive/SceneTrialTrain/ryoungt_03.09.2002/PICT0026.JPG',\n",
              " '/content/drive/MyDrive/SceneTrialTrain/ryoungt_03.09.2002/PICT0029.JPG',\n",
              " '/content/drive/MyDrive/SceneTrialTrain/ryoungt_03.09.2002/PICT0029.JPG',\n",
              " '/content/drive/MyDrive/SceneTrialTrain/ryoungt_03.09.2002/PICT0029.JPG',\n",
              " '/content/drive/MyDrive/SceneTrialTrain/ryoungt_03.09.2002/PICT0029.JPG',\n",
              " '/content/drive/MyDrive/SceneTrialTrain/ryoungt_03.09.2002/PICT0030.JPG',\n",
              " '/content/drive/MyDrive/SceneTrialTrain/ryoungt_03.09.2002/PICT0030.JPG',\n",
              " '/content/drive/MyDrive/SceneTrialTrain/ryoungt_03.09.2002/PICT0030.JPG',\n",
              " '/content/drive/MyDrive/SceneTrialTrain/ryoungt_03.09.2002/PICT0030.JPG',\n",
              " '/content/drive/MyDrive/SceneTrialTrain/ryoungt_03.09.2002/PICT0031.JPG',\n",
              " '/content/drive/MyDrive/SceneTrialTrain/ryoungt_03.09.2002/PICT0031.JPG',\n",
              " '/content/drive/MyDrive/SceneTrialTrain/ryoungt_03.09.2002/PICT0042.JPG',\n",
              " '/content/drive/MyDrive/SceneTrialTrain/ryoungt_03.09.2002/PICT0042.JPG',\n",
              " '/content/drive/MyDrive/SceneTrialTrain/ryoungt_03.09.2002/PICT0042.JPG',\n",
              " '/content/drive/MyDrive/SceneTrialTrain/ryoungt_03.09.2002/PICT0043.JPG',\n",
              " '/content/drive/MyDrive/SceneTrialTrain/ryoungt_03.09.2002/PICT0043.JPG',\n",
              " '/content/drive/MyDrive/SceneTrialTrain/ryoungt_03.09.2002/PICT0048.JPG',\n",
              " '/content/drive/MyDrive/SceneTrialTrain/ryoungt_03.09.2002/PICT0048.JPG',\n",
              " '/content/drive/MyDrive/SceneTrialTrain/ryoungt_03.09.2002/PICT0048.JPG',\n",
              " '/content/drive/MyDrive/SceneTrialTrain/ryoungt_03.09.2002/PICT0048.JPG',\n",
              " '/content/drive/MyDrive/SceneTrialTrain/ryoungt_03.09.2002/PICT0048.JPG',\n",
              " '/content/drive/MyDrive/SceneTrialTrain/ryoungt_03.09.2002/PICT0049.JPG',\n",
              " '/content/drive/MyDrive/SceneTrialTrain/ryoungt_03.09.2002/PICT0052.JPG',\n",
              " '/content/drive/MyDrive/SceneTrialTrain/ryoungt_03.09.2002/PICT0052.JPG',\n",
              " '/content/drive/MyDrive/SceneTrialTrain/ryoungt_03.09.2002/PICT0052.JPG',\n",
              " '/content/drive/MyDrive/SceneTrialTrain/ryoungt_05.08.2002/052.Kungstradgarden.jpg',\n",
              " '/content/drive/MyDrive/SceneTrialTrain/ryoungt_05.08.2002/052.Kungstradgarden.jpg',\n",
              " '/content/drive/MyDrive/SceneTrialTrain/ryoungt_05.08.2002/052.Kungstradgarden.jpg',\n",
              " '/content/drive/MyDrive/SceneTrialTrain/ryoungt_05.08.2002/052.Kungstradgarden.jpg',\n",
              " '/content/drive/MyDrive/SceneTrialTrain/ryoungt_05.08.2002/052.Kungstradgarden.jpg',\n",
              " '/content/drive/MyDrive/SceneTrialTrain/ryoungt_05.08.2002/abPICT0005.JPG',\n",
              " '/content/drive/MyDrive/SceneTrialTrain/ryoungt_05.08.2002/abPICT0005.JPG',\n",
              " '/content/drive/MyDrive/SceneTrialTrain/ryoungt_05.08.2002/abPICT0005.JPG',\n",
              " '/content/drive/MyDrive/SceneTrialTrain/ryoungt_05.08.2002/aPICT0001.JPG',\n",
              " ...]"
            ]
          },
          "metadata": {},
          "execution_count": 5
        }
      ]
    },
    {
      "cell_type": "code",
      "source": [
        "# convert to yolov8 format\n",
        "# example yolov8_labels format : 0 0.1 0.2 0.3 0.4\n",
        "\n",
        "def convert_to_yolov8_format(img_paths,img_sizes,bboxes):\n",
        "  yolov8_data = []\n",
        "  for img_path,img_size,bbox in zip(img_paths,img_sizes,bboxes):\n",
        "    yolov8_labels = []\n",
        "    img_width,img_height = img_size\n",
        "    for bb in bbox:\n",
        "      x,y,w,h = bb\n",
        "      x = (x + w/2)/img_width\n",
        "      y = (y + h/2)/img_height\n",
        "      w = w/img_width\n",
        "      h = h/img_height\n",
        "      class_id = 0\n",
        "\n",
        "      label = f\"{class_id} {x} {y} {w} {h}\"\n",
        "      yolov8_labels.append(label)\n",
        "    yolov8_data.append((img_path,yolov8_labels))\n",
        "  return yolov8_data\n"
      ],
      "metadata": {
        "id": "J9Qf5sy453gq"
      },
      "execution_count": null,
      "outputs": []
    },
    {
      "cell_type": "code",
      "source": [
        "class_labels = ['text']\n",
        "yolov8_data = convert_to_yolov8_format(\n",
        "    img_paths,\n",
        "    img_sizes,\n",
        "    bboxes\n",
        ")"
      ],
      "metadata": {
        "id": "T0ZztE7g_VNS"
      },
      "execution_count": null,
      "outputs": []
    },
    {
      "cell_type": "code",
      "source": [
        "#save data\n",
        "import shutil\n",
        "def save_data(data, src_img_dir, save_dir):\n",
        "    # Create folder if not exists\n",
        "    os.makedirs(save_dir, exist_ok=True)\n",
        "\n",
        "    # Make images and labels folder\n",
        "    os.makedirs(os.path.join(save_dir, 'images'), exist_ok=True)\n",
        "    os.makedirs(os.path.join(save_dir, 'labels'), exist_ok=True)\n",
        "\n",
        "    for image_path, yolov8_labels in data:\n",
        "        # Copy image to images folder\n",
        "        shutil.copy(\n",
        "            os.path.join(src_img_dir, image_path),\n",
        "            os.path.join(save_dir, 'images')\n",
        "        )\n",
        "\n",
        "        # Save labels to labels folder\n",
        "        image_name = os.path.basename(image_path)\n",
        "        image_name = os.path.splitext(image_name)[0]\n",
        "\n",
        "        with open(os.path.join(save_dir, 'labels', f\"{image_name}.txt\"), 'w') as f:\n",
        "            for label in yolov8_labels:\n",
        "                f.write(f\"{label}\\n\")"
      ],
      "metadata": {
        "id": "MpEnA25MAtgl"
      },
      "execution_count": null,
      "outputs": []
    },
    {
      "cell_type": "code",
      "source": [
        "from sklearn.model_selection import train_test_split\n",
        "seed = 0\n",
        "val_size = 0.2\n",
        "test_size = 0.125\n",
        "is_shuffle = True\n",
        "\n",
        "train_data, test_data = train_test_split(\n",
        "    yolov8_data,\n",
        "    test_size=val_size,\n",
        "    random_state=seed,\n",
        "    shuffle=is_shuffle\n",
        ")\n",
        "\n",
        "test_data, val_data = train_test_split(\n",
        "    test_data,\n",
        "    test_size=test_size,\n",
        "    random_state=seed,\n",
        "    shuffle=is_shuffle\n",
        ")\n",
        "\n",
        "save_yolo_data_dir = 'yolo_data'\n",
        "os.makedirs(save_yolo_data_dir, exist_ok=True)\n",
        "\n",
        "save_train_dir = os.path.join(save_yolo_data_dir, 'train')\n",
        "save_val_dir = os.path.join(save_yolo_data_dir, 'val')\n",
        "save_val_dir = os.path.join(save_yolo_data_dir, 'val')\n",
        "save_test_dir = os.path.join(save_yolo_data_dir, 'test')\n",
        "\n",
        "save_data(train_data, dataset_dir, save_train_dir)\n",
        "save_data(test_data, dataset_dir, save_val_dir)\n",
        "save_data(val_data, dataset_dir, save_test_dir)"
      ],
      "metadata": {
        "id": "cMogclE_Aw0I"
      },
      "execution_count": null,
      "outputs": []
    },
    {
      "cell_type": "code",
      "source": [
        "import yaml\n",
        "\n",
        "data_yaml = {\n",
        "    'path': '/content/yolo_data',\n",
        "    'train': 'train/images',\n",
        "    'test': 'test/images',\n",
        "    'val': 'val/images',\n",
        "    'nc': 1,\n",
        "    'names': class_labels\n",
        "}\n",
        "\n",
        "yolo_yaml_path = os.path.join(save_yolo_data_dir, 'data.yml')\n",
        "\n",
        "with open(yolo_yaml_path, 'w') as f:\n",
        "    yaml.dump(data_yaml, f, default_flow_style=False)"
      ],
      "metadata": {
        "id": "ubWDMKxiBsmQ"
      },
      "execution_count": null,
      "outputs": []
    },
    {
      "cell_type": "code",
      "source": [
        "#Training\n",
        "from ultralytics import YOLO\n",
        "yolo_yaml_path = '/content/yolo_data/data.yml'\n",
        "model = YOLO('yolov8s.yaml').load('yolov8s.pt')\n",
        "\n"
      ],
      "metadata": {
        "colab": {
          "base_uri": "https://localhost:8080/"
        },
        "id": "9Kb0juvrCR6G",
        "outputId": "eec41298-f58c-4f03-d5a0-2e1c008db1a6"
      },
      "execution_count": null,
      "outputs": [
        {
          "output_type": "stream",
          "name": "stdout",
          "text": [
            "\n",
            "                   from  n    params  module                                       arguments                     \n",
            "  0                  -1  1       928  ultralytics.nn.modules.conv.Conv             [3, 32, 3, 2]                 \n",
            "  1                  -1  1     18560  ultralytics.nn.modules.conv.Conv             [32, 64, 3, 2]                \n",
            "  2                  -1  1     29056  ultralytics.nn.modules.block.C2f             [64, 64, 1, True]             \n",
            "  3                  -1  1     73984  ultralytics.nn.modules.conv.Conv             [64, 128, 3, 2]               \n",
            "  4                  -1  2    197632  ultralytics.nn.modules.block.C2f             [128, 128, 2, True]           \n",
            "  5                  -1  1    295424  ultralytics.nn.modules.conv.Conv             [128, 256, 3, 2]              \n",
            "  6                  -1  2    788480  ultralytics.nn.modules.block.C2f             [256, 256, 2, True]           \n",
            "  7                  -1  1   1180672  ultralytics.nn.modules.conv.Conv             [256, 512, 3, 2]              \n",
            "  8                  -1  1   1838080  ultralytics.nn.modules.block.C2f             [512, 512, 1, True]           \n",
            "  9                  -1  1    656896  ultralytics.nn.modules.block.SPPF            [512, 512, 5]                 \n",
            " 10                  -1  1         0  torch.nn.modules.upsampling.Upsample         [None, 2, 'nearest']          \n",
            " 11             [-1, 6]  1         0  ultralytics.nn.modules.conv.Concat           [1]                           \n",
            " 12                  -1  1    591360  ultralytics.nn.modules.block.C2f             [768, 256, 1]                 \n",
            " 13                  -1  1         0  torch.nn.modules.upsampling.Upsample         [None, 2, 'nearest']          \n",
            " 14             [-1, 4]  1         0  ultralytics.nn.modules.conv.Concat           [1]                           \n",
            " 15                  -1  1    148224  ultralytics.nn.modules.block.C2f             [384, 128, 1]                 \n",
            " 16                  -1  1    147712  ultralytics.nn.modules.conv.Conv             [128, 128, 3, 2]              \n",
            " 17            [-1, 12]  1         0  ultralytics.nn.modules.conv.Concat           [1]                           \n",
            " 18                  -1  1    493056  ultralytics.nn.modules.block.C2f             [384, 256, 1]                 \n",
            " 19                  -1  1    590336  ultralytics.nn.modules.conv.Conv             [256, 256, 3, 2]              \n",
            " 20             [-1, 9]  1         0  ultralytics.nn.modules.conv.Concat           [1]                           \n",
            " 21                  -1  1   1969152  ultralytics.nn.modules.block.C2f             [768, 512, 1]                 \n",
            " 22        [15, 18, 21]  1   2147008  ultralytics.nn.modules.head.Detect           [80, [128, 256, 512]]         \n",
            "YOLOv8s summary: 225 layers, 11166560 parameters, 11166544 gradients, 28.8 GFLOPs\n",
            "\n",
            "Downloading https://github.com/ultralytics/assets/releases/download/v0.0.0/yolov8s.pt to 'yolov8s.pt'...\n"
          ]
        },
        {
          "output_type": "stream",
          "name": "stderr",
          "text": [
            "100%|██████████| 21.5M/21.5M [00:00<00:00, 339MB/s]"
          ]
        },
        {
          "output_type": "stream",
          "name": "stdout",
          "text": [
            "Transferred 355/355 items from pretrained weights\n"
          ]
        },
        {
          "output_type": "stream",
          "name": "stderr",
          "text": [
            "\n"
          ]
        }
      ]
    },
    {
      "cell_type": "code",
      "source": [
        "epochs = 200\n",
        "imgsz = 1024\n",
        "results = model.train(\n",
        "    data=yolo_yaml_path,\n",
        "    epochs=epochs,\n",
        "    imgsz=imgsz,\n",
        "    project='models',\n",
        "    name='yolov8/detect/train'\n",
        ")"
      ],
      "metadata": {
        "colab": {
          "base_uri": "https://localhost:8080/"
        },
        "id": "47kVxTjBEG1o",
        "outputId": "13e07182-8ace-44a3-92c4-c0555f260dea"
      },
      "execution_count": null,
      "outputs": [
        {
          "output_type": "stream",
          "name": "stdout",
          "text": [
            "Ultralytics YOLOv8.0.227 🚀 Python-3.10.12 torch-2.1.0+cu121 CUDA:0 (Tesla T4, 15102MiB)\n",
            "\u001b[34m\u001b[1mengine/trainer: \u001b[0mtask=detect, mode=train, model=yolov8s.yaml, data=/content/yolo_data/data.yml, epochs=200, patience=50, batch=16, imgsz=1024, save=True, save_period=-1, cache=False, device=None, workers=8, project=models, name=train, exist_ok=False, pretrained=True, optimizer=auto, verbose=True, seed=0, deterministic=True, single_cls=False, rect=False, cos_lr=False, close_mosaic=10, resume=False, amp=True, fraction=1.0, profile=False, freeze=None, overlap_mask=True, mask_ratio=4, dropout=0.0, val=True, split=val, save_json=False, save_hybrid=False, conf=None, iou=0.7, max_det=300, half=False, dnn=False, plots=True, source=None, vid_stride=1, stream_buffer=False, visualize=False, augment=False, agnostic_nms=False, classes=None, retina_masks=False, show=False, save_frames=False, save_txt=False, save_conf=False, save_crop=False, show_labels=True, show_conf=True, show_boxes=True, line_width=None, format=torchscript, keras=False, optimize=False, int8=False, dynamic=False, simplify=False, opset=None, workspace=4, nms=False, lr0=0.01, lrf=0.01, momentum=0.937, weight_decay=0.0005, warmup_epochs=3.0, warmup_momentum=0.8, warmup_bias_lr=0.1, box=7.5, cls=0.5, dfl=1.5, pose=12.0, kobj=1.0, label_smoothing=0.0, nbs=64, hsv_h=0.015, hsv_s=0.7, hsv_v=0.4, degrees=0.0, translate=0.1, scale=0.5, shear=0.0, perspective=0.0, flipud=0.0, fliplr=0.5, mosaic=1.0, mixup=0.0, copy_paste=0.0, cfg=None, tracker=botsort.yaml, save_dir=models/yolov8/detect/train\n",
            "Downloading https://ultralytics.com/assets/Arial.ttf to '/root/.config/Ultralytics/Arial.ttf'...\n"
          ]
        },
        {
          "output_type": "stream",
          "name": "stderr",
          "text": [
            "100%|██████████| 755k/755k [00:00<00:00, 66.6MB/s]\n"
          ]
        },
        {
          "output_type": "stream",
          "name": "stdout",
          "text": [
            "Overriding model.yaml nc=80 with nc=1\n",
            "\n",
            "                   from  n    params  module                                       arguments                     \n",
            "  0                  -1  1       928  ultralytics.nn.modules.conv.Conv             [3, 32, 3, 2]                 \n",
            "  1                  -1  1     18560  ultralytics.nn.modules.conv.Conv             [32, 64, 3, 2]                \n",
            "  2                  -1  1     29056  ultralytics.nn.modules.block.C2f             [64, 64, 1, True]             \n",
            "  3                  -1  1     73984  ultralytics.nn.modules.conv.Conv             [64, 128, 3, 2]               \n",
            "  4                  -1  2    197632  ultralytics.nn.modules.block.C2f             [128, 128, 2, True]           \n",
            "  5                  -1  1    295424  ultralytics.nn.modules.conv.Conv             [128, 256, 3, 2]              \n",
            "  6                  -1  2    788480  ultralytics.nn.modules.block.C2f             [256, 256, 2, True]           \n",
            "  7                  -1  1   1180672  ultralytics.nn.modules.conv.Conv             [256, 512, 3, 2]              \n",
            "  8                  -1  1   1838080  ultralytics.nn.modules.block.C2f             [512, 512, 1, True]           \n",
            "  9                  -1  1    656896  ultralytics.nn.modules.block.SPPF            [512, 512, 5]                 \n",
            " 10                  -1  1         0  torch.nn.modules.upsampling.Upsample         [None, 2, 'nearest']          \n",
            " 11             [-1, 6]  1         0  ultralytics.nn.modules.conv.Concat           [1]                           \n",
            " 12                  -1  1    591360  ultralytics.nn.modules.block.C2f             [768, 256, 1]                 \n",
            " 13                  -1  1         0  torch.nn.modules.upsampling.Upsample         [None, 2, 'nearest']          \n",
            " 14             [-1, 4]  1         0  ultralytics.nn.modules.conv.Concat           [1]                           \n",
            " 15                  -1  1    148224  ultralytics.nn.modules.block.C2f             [384, 128, 1]                 \n",
            " 16                  -1  1    147712  ultralytics.nn.modules.conv.Conv             [128, 128, 3, 2]              \n",
            " 17            [-1, 12]  1         0  ultralytics.nn.modules.conv.Concat           [1]                           \n",
            " 18                  -1  1    493056  ultralytics.nn.modules.block.C2f             [384, 256, 1]                 \n",
            " 19                  -1  1    590336  ultralytics.nn.modules.conv.Conv             [256, 256, 3, 2]              \n",
            " 20             [-1, 9]  1         0  ultralytics.nn.modules.conv.Concat           [1]                           \n",
            " 21                  -1  1   1969152  ultralytics.nn.modules.block.C2f             [768, 512, 1]                 \n",
            " 22        [15, 18, 21]  1   2116435  ultralytics.nn.modules.head.Detect           [1, [128, 256, 512]]          \n",
            "YOLOv8s summary: 225 layers, 11135987 parameters, 11135971 gradients, 28.6 GFLOPs\n",
            "\n",
            "Transferred 349/355 items from pretrained weights\n",
            "\u001b[34m\u001b[1mTensorBoard: \u001b[0mStart with 'tensorboard --logdir models/yolov8/detect/train', view at http://localhost:6006/\n",
            "Freezing layer 'model.22.dfl.conv.weight'\n",
            "\u001b[34m\u001b[1mAMP: \u001b[0mrunning Automatic Mixed Precision (AMP) checks with YOLOv8n...\n",
            "Downloading https://github.com/ultralytics/assets/releases/download/v0.0.0/yolov8n.pt to 'yolov8n.pt'...\n"
          ]
        },
        {
          "output_type": "stream",
          "name": "stderr",
          "text": [
            "100%|██████████| 6.23M/6.23M [00:00<00:00, 168MB/s]\n"
          ]
        },
        {
          "output_type": "stream",
          "name": "stdout",
          "text": [
            "WARNING ⚠️ NMS time limit 0.550s exceeded\n",
            "\u001b[34m\u001b[1mAMP: \u001b[0mchecks passed ✅\n"
          ]
        },
        {
          "output_type": "stream",
          "name": "stderr",
          "text": [
            "\u001b[34m\u001b[1mtrain: \u001b[0mScanning /content/yolo_data/train/labels... 221 images, 0 backgrounds, 0 corrupt: 100%|██████████| 221/221 [00:00<00:00, 1568.23it/s]"
          ]
        },
        {
          "output_type": "stream",
          "name": "stdout",
          "text": [
            "\u001b[34m\u001b[1mtrain: \u001b[0mNew cache created: /content/yolo_data/train/labels.cache\n"
          ]
        },
        {
          "output_type": "stream",
          "name": "stderr",
          "text": [
            "\n"
          ]
        },
        {
          "output_type": "stream",
          "name": "stdout",
          "text": [
            "\u001b[34m\u001b[1malbumentations: \u001b[0mBlur(p=0.01, blur_limit=(3, 7)), MedianBlur(p=0.01, blur_limit=(3, 7)), ToGray(p=0.01), CLAHE(p=0.01, clip_limit=(1, 4.0), tile_grid_size=(8, 8))\n"
          ]
        },
        {
          "output_type": "stream",
          "name": "stderr",
          "text": [
            "\u001b[34m\u001b[1mval: \u001b[0mScanning /content/yolo_data/val/labels... 118 images, 0 backgrounds, 0 corrupt: 100%|██████████| 118/118 [00:00<00:00, 688.05it/s]"
          ]
        },
        {
          "output_type": "stream",
          "name": "stdout",
          "text": [
            "\u001b[34m\u001b[1mval: \u001b[0mNew cache created: /content/yolo_data/val/labels.cache\n"
          ]
        },
        {
          "output_type": "stream",
          "name": "stderr",
          "text": [
            "\n"
          ]
        },
        {
          "output_type": "stream",
          "name": "stdout",
          "text": [
            "Plotting labels to models/yolov8/detect/train/labels.jpg... \n",
            "\u001b[34m\u001b[1moptimizer:\u001b[0m 'optimizer=auto' found, ignoring 'lr0=0.01' and 'momentum=0.937' and determining best 'optimizer', 'lr0' and 'momentum' automatically... \n",
            "\u001b[34m\u001b[1moptimizer:\u001b[0m AdamW(lr=0.002, momentum=0.9) with parameter groups 57 weight(decay=0.0), 64 weight(decay=0.0005), 63 bias(decay=0.0)\n",
            "Image sizes 1024 train, 1024 val\n",
            "Using 2 dataloader workers\n",
            "Logging results to \u001b[1mmodels/yolov8/detect/train\u001b[0m\n",
            "Starting training for 200 epochs...\n",
            "\n",
            "      Epoch    GPU_mem   box_loss   cls_loss   dfl_loss  Instances       Size\n"
          ]
        },
        {
          "output_type": "stream",
          "name": "stderr",
          "text": [
            "      1/200      9.37G      2.004      5.461      1.772        118       1024: 100%|██████████| 14/14 [00:15<00:00,  1.12s/it]\n",
            "                 Class     Images  Instances      Box(P          R      mAP50  mAP50-95): 100%|██████████| 4/4 [00:04<00:00,  1.17s/it]"
          ]
        },
        {
          "output_type": "stream",
          "name": "stdout",
          "text": [
            "                   all        118        761      0.447      0.472      0.448       0.26\n"
          ]
        },
        {
          "output_type": "stream",
          "name": "stderr",
          "text": [
            "\n"
          ]
        },
        {
          "output_type": "stream",
          "name": "stdout",
          "text": [
            "\n",
            "      Epoch    GPU_mem   box_loss   cls_loss   dfl_loss  Instances       Size\n"
          ]
        },
        {
          "output_type": "stream",
          "name": "stderr",
          "text": [
            "      2/200      9.47G      1.107      1.618      1.158        165       1024: 100%|██████████| 14/14 [00:10<00:00,  1.40it/s]\n",
            "                 Class     Images  Instances      Box(P          R      mAP50  mAP50-95): 100%|██████████| 4/4 [00:04<00:00,  1.09s/it]"
          ]
        },
        {
          "output_type": "stream",
          "name": "stdout",
          "text": [
            "                   all        118        761      0.775      0.685      0.725      0.456\n"
          ]
        },
        {
          "output_type": "stream",
          "name": "stderr",
          "text": [
            "\n"
          ]
        },
        {
          "output_type": "stream",
          "name": "stdout",
          "text": [
            "\n",
            "      Epoch    GPU_mem   box_loss   cls_loss   dfl_loss  Instances       Size\n"
          ]
        },
        {
          "output_type": "stream",
          "name": "stderr",
          "text": [
            "      3/200      9.61G      1.099      1.334       1.14        155       1024: 100%|██████████| 14/14 [00:09<00:00,  1.42it/s]\n",
            "                 Class     Images  Instances      Box(P          R      mAP50  mAP50-95): 100%|██████████| 4/4 [00:03<00:00,  1.30it/s]"
          ]
        },
        {
          "output_type": "stream",
          "name": "stdout",
          "text": [
            "                   all        118        761      0.624      0.695      0.658      0.384\n"
          ]
        },
        {
          "output_type": "stream",
          "name": "stderr",
          "text": [
            "\n"
          ]
        },
        {
          "output_type": "stream",
          "name": "stdout",
          "text": [
            "\n",
            "      Epoch    GPU_mem   box_loss   cls_loss   dfl_loss  Instances       Size\n"
          ]
        },
        {
          "output_type": "stream",
          "name": "stderr",
          "text": [
            "      4/200      9.79G      1.149      1.255       1.19         83       1024: 100%|██████████| 14/14 [00:10<00:00,  1.33it/s]\n",
            "                 Class     Images  Instances      Box(P          R      mAP50  mAP50-95): 100%|██████████| 4/4 [00:03<00:00,  1.22it/s]"
          ]
        },
        {
          "output_type": "stream",
          "name": "stdout",
          "text": [
            "                   all        118        761       0.54      0.668       0.59      0.364\n"
          ]
        },
        {
          "output_type": "stream",
          "name": "stderr",
          "text": [
            "\n"
          ]
        },
        {
          "output_type": "stream",
          "name": "stdout",
          "text": [
            "\n",
            "      Epoch    GPU_mem   box_loss   cls_loss   dfl_loss  Instances       Size\n"
          ]
        },
        {
          "output_type": "stream",
          "name": "stderr",
          "text": [
            "      5/200      9.45G      1.161      1.236      1.187        106       1024: 100%|██████████| 14/14 [00:10<00:00,  1.28it/s]\n",
            "                 Class     Images  Instances      Box(P          R      mAP50  mAP50-95): 100%|██████████| 4/4 [00:03<00:00,  1.29it/s]"
          ]
        },
        {
          "output_type": "stream",
          "name": "stdout",
          "text": [
            "                   all        118        761      0.233      0.464      0.226      0.128\n"
          ]
        },
        {
          "output_type": "stream",
          "name": "stderr",
          "text": [
            "\n"
          ]
        },
        {
          "output_type": "stream",
          "name": "stdout",
          "text": [
            "\n",
            "      Epoch    GPU_mem   box_loss   cls_loss   dfl_loss  Instances       Size\n"
          ]
        },
        {
          "output_type": "stream",
          "name": "stderr",
          "text": [
            "      6/200      9.71G      1.161      1.131      1.189        111       1024: 100%|██████████| 14/14 [00:10<00:00,  1.27it/s]\n",
            "                 Class     Images  Instances      Box(P          R      mAP50  mAP50-95): 100%|██████████| 4/4 [00:03<00:00,  1.33it/s]"
          ]
        },
        {
          "output_type": "stream",
          "name": "stdout",
          "text": [
            "                   all        118        761      0.541      0.537      0.496      0.219\n"
          ]
        },
        {
          "output_type": "stream",
          "name": "stderr",
          "text": [
            "\n"
          ]
        },
        {
          "output_type": "stream",
          "name": "stdout",
          "text": [
            "\n",
            "      Epoch    GPU_mem   box_loss   cls_loss   dfl_loss  Instances       Size\n"
          ]
        },
        {
          "output_type": "stream",
          "name": "stderr",
          "text": [
            "      7/200      10.1G      1.224      1.114      1.193        136       1024: 100%|██████████| 14/14 [00:10<00:00,  1.30it/s]\n",
            "                 Class     Images  Instances      Box(P          R      mAP50  mAP50-95): 100%|██████████| 4/4 [00:02<00:00,  1.35it/s]"
          ]
        },
        {
          "output_type": "stream",
          "name": "stdout",
          "text": [
            "                   all        118        761      0.327      0.415      0.263      0.117\n"
          ]
        },
        {
          "output_type": "stream",
          "name": "stderr",
          "text": [
            "\n"
          ]
        },
        {
          "output_type": "stream",
          "name": "stdout",
          "text": [
            "\n",
            "      Epoch    GPU_mem   box_loss   cls_loss   dfl_loss  Instances       Size\n"
          ]
        },
        {
          "output_type": "stream",
          "name": "stderr",
          "text": [
            "      8/200      9.61G      1.164       1.07      1.183         61       1024: 100%|██████████| 14/14 [00:10<00:00,  1.40it/s]\n",
            "                 Class     Images  Instances      Box(P          R      mAP50  mAP50-95): 100%|██████████| 4/4 [00:03<00:00,  1.27it/s]"
          ]
        },
        {
          "output_type": "stream",
          "name": "stdout",
          "text": [
            "                   all        118        761      0.607      0.556      0.548      0.313\n"
          ]
        },
        {
          "output_type": "stream",
          "name": "stderr",
          "text": [
            "\n"
          ]
        },
        {
          "output_type": "stream",
          "name": "stdout",
          "text": [
            "\n",
            "      Epoch    GPU_mem   box_loss   cls_loss   dfl_loss  Instances       Size\n"
          ]
        },
        {
          "output_type": "stream",
          "name": "stderr",
          "text": [
            "      9/200      9.77G      1.148     0.9948      1.194        145       1024: 100%|██████████| 14/14 [00:09<00:00,  1.45it/s]\n",
            "                 Class     Images  Instances      Box(P          R      mAP50  mAP50-95): 100%|██████████| 4/4 [00:03<00:00,  1.10it/s]"
          ]
        },
        {
          "output_type": "stream",
          "name": "stdout",
          "text": [
            "                   all        118        761      0.469      0.511      0.427      0.246\n"
          ]
        },
        {
          "output_type": "stream",
          "name": "stderr",
          "text": [
            "\n"
          ]
        },
        {
          "output_type": "stream",
          "name": "stdout",
          "text": [
            "\n",
            "      Epoch    GPU_mem   box_loss   cls_loss   dfl_loss  Instances       Size\n"
          ]
        },
        {
          "output_type": "stream",
          "name": "stderr",
          "text": [
            "     10/200      9.77G      1.168      1.073      1.203        133       1024: 100%|██████████| 14/14 [00:08<00:00,  1.57it/s]\n",
            "                 Class     Images  Instances      Box(P          R      mAP50  mAP50-95): 100%|██████████| 4/4 [00:04<00:00,  1.07s/it]"
          ]
        },
        {
          "output_type": "stream",
          "name": "stdout",
          "text": [
            "                   all        118        761       0.72       0.66      0.663      0.399\n"
          ]
        },
        {
          "output_type": "stream",
          "name": "stderr",
          "text": [
            "\n"
          ]
        },
        {
          "output_type": "stream",
          "name": "stdout",
          "text": [
            "\n",
            "      Epoch    GPU_mem   box_loss   cls_loss   dfl_loss  Instances       Size\n"
          ]
        },
        {
          "output_type": "stream",
          "name": "stderr",
          "text": [
            "     11/200      9.91G      1.114     0.9623       1.14        135       1024: 100%|██████████| 14/14 [00:08<00:00,  1.57it/s]\n",
            "                 Class     Images  Instances      Box(P          R      mAP50  mAP50-95): 100%|██████████| 4/4 [00:04<00:00,  1.12s/it]"
          ]
        },
        {
          "output_type": "stream",
          "name": "stdout",
          "text": [
            "                   all        118        761      0.669      0.595      0.562      0.336\n"
          ]
        },
        {
          "output_type": "stream",
          "name": "stderr",
          "text": [
            "\n"
          ]
        },
        {
          "output_type": "stream",
          "name": "stdout",
          "text": [
            "\n",
            "      Epoch    GPU_mem   box_loss   cls_loss   dfl_loss  Instances       Size\n"
          ]
        },
        {
          "output_type": "stream",
          "name": "stderr",
          "text": [
            "     12/200      9.77G      1.211      1.039      1.212        118       1024: 100%|██████████| 14/14 [00:08<00:00,  1.64it/s]\n",
            "                 Class     Images  Instances      Box(P          R      mAP50  mAP50-95): 100%|██████████| 4/4 [00:04<00:00,  1.05s/it]"
          ]
        },
        {
          "output_type": "stream",
          "name": "stdout",
          "text": [
            "                   all        118        761      0.724      0.733      0.707      0.443\n"
          ]
        },
        {
          "output_type": "stream",
          "name": "stderr",
          "text": [
            "\n"
          ]
        },
        {
          "output_type": "stream",
          "name": "stdout",
          "text": [
            "\n",
            "      Epoch    GPU_mem   box_loss   cls_loss   dfl_loss  Instances       Size\n"
          ]
        },
        {
          "output_type": "stream",
          "name": "stderr",
          "text": [
            "     13/200      10.6G      1.106     0.9424      1.145         59       1024: 100%|██████████| 14/14 [00:08<00:00,  1.63it/s]\n",
            "                 Class     Images  Instances      Box(P          R      mAP50  mAP50-95): 100%|██████████| 4/4 [00:04<00:00,  1.04s/it]"
          ]
        },
        {
          "output_type": "stream",
          "name": "stdout",
          "text": [
            "                   all        118        761      0.683      0.745      0.698      0.436\n"
          ]
        },
        {
          "output_type": "stream",
          "name": "stderr",
          "text": [
            "\n"
          ]
        },
        {
          "output_type": "stream",
          "name": "stdout",
          "text": [
            "\n",
            "      Epoch    GPU_mem   box_loss   cls_loss   dfl_loss  Instances       Size\n"
          ]
        },
        {
          "output_type": "stream",
          "name": "stderr",
          "text": [
            "     14/200      10.2G      1.061     0.8806      1.128         96       1024: 100%|██████████| 14/14 [00:10<00:00,  1.31it/s]\n",
            "                 Class     Images  Instances      Box(P          R      mAP50  mAP50-95): 100%|██████████| 4/4 [00:04<00:00,  1.13s/it]"
          ]
        },
        {
          "output_type": "stream",
          "name": "stdout",
          "text": [
            "                   all        118        761      0.741      0.721      0.737      0.474\n"
          ]
        },
        {
          "output_type": "stream",
          "name": "stderr",
          "text": [
            "\n"
          ]
        },
        {
          "output_type": "stream",
          "name": "stdout",
          "text": [
            "\n",
            "      Epoch    GPU_mem   box_loss   cls_loss   dfl_loss  Instances       Size\n"
          ]
        },
        {
          "output_type": "stream",
          "name": "stderr",
          "text": [
            "     15/200      9.53G      1.081     0.9117      1.137        168       1024: 100%|██████████| 14/14 [00:08<00:00,  1.60it/s]\n",
            "                 Class     Images  Instances      Box(P          R      mAP50  mAP50-95): 100%|██████████| 4/4 [00:04<00:00,  1.09s/it]"
          ]
        },
        {
          "output_type": "stream",
          "name": "stdout",
          "text": [
            "                   all        118        761      0.747      0.635      0.693      0.427\n"
          ]
        },
        {
          "output_type": "stream",
          "name": "stderr",
          "text": [
            "\n"
          ]
        },
        {
          "output_type": "stream",
          "name": "stdout",
          "text": [
            "\n",
            "      Epoch    GPU_mem   box_loss   cls_loss   dfl_loss  Instances       Size\n"
          ]
        },
        {
          "output_type": "stream",
          "name": "stderr",
          "text": [
            "     16/200      9.63G      1.103     0.8944      1.119         89       1024: 100%|██████████| 14/14 [00:08<00:00,  1.60it/s]\n",
            "                 Class     Images  Instances      Box(P          R      mAP50  mAP50-95): 100%|██████████| 4/4 [00:04<00:00,  1.04s/it]"
          ]
        },
        {
          "output_type": "stream",
          "name": "stdout",
          "text": [
            "                   all        118        761      0.711       0.67      0.705       0.44\n"
          ]
        },
        {
          "output_type": "stream",
          "name": "stderr",
          "text": [
            "\n"
          ]
        },
        {
          "output_type": "stream",
          "name": "stdout",
          "text": [
            "\n",
            "      Epoch    GPU_mem   box_loss   cls_loss   dfl_loss  Instances       Size\n"
          ]
        },
        {
          "output_type": "stream",
          "name": "stderr",
          "text": [
            "     17/200      9.85G        1.1     0.8586      1.134         81       1024: 100%|██████████| 14/14 [00:08<00:00,  1.62it/s]\n",
            "                 Class     Images  Instances      Box(P          R      mAP50  mAP50-95): 100%|██████████| 4/4 [00:03<00:00,  1.05it/s]"
          ]
        },
        {
          "output_type": "stream",
          "name": "stdout",
          "text": [
            "                   all        118        761      0.722      0.625      0.675      0.428\n"
          ]
        },
        {
          "output_type": "stream",
          "name": "stderr",
          "text": [
            "\n"
          ]
        },
        {
          "output_type": "stream",
          "name": "stdout",
          "text": [
            "\n",
            "      Epoch    GPU_mem   box_loss   cls_loss   dfl_loss  Instances       Size\n"
          ]
        },
        {
          "output_type": "stream",
          "name": "stderr",
          "text": [
            "     18/200      10.2G      1.026     0.8643      1.112        118       1024: 100%|██████████| 14/14 [00:08<00:00,  1.60it/s]\n",
            "                 Class     Images  Instances      Box(P          R      mAP50  mAP50-95): 100%|██████████| 4/4 [00:03<00:00,  1.23it/s]"
          ]
        },
        {
          "output_type": "stream",
          "name": "stdout",
          "text": [
            "                   all        118        761      0.728      0.736      0.748      0.501\n"
          ]
        },
        {
          "output_type": "stream",
          "name": "stderr",
          "text": [
            "\n"
          ]
        },
        {
          "output_type": "stream",
          "name": "stdout",
          "text": [
            "\n",
            "      Epoch    GPU_mem   box_loss   cls_loss   dfl_loss  Instances       Size\n"
          ]
        },
        {
          "output_type": "stream",
          "name": "stderr",
          "text": [
            "     19/200      10.2G      1.053     0.8805      1.118        130       1024: 100%|██████████| 14/14 [00:09<00:00,  1.49it/s]\n",
            "                 Class     Images  Instances      Box(P          R      mAP50  mAP50-95): 100%|██████████| 4/4 [00:03<00:00,  1.29it/s]"
          ]
        },
        {
          "output_type": "stream",
          "name": "stdout",
          "text": [
            "                   all        118        761      0.778      0.712      0.793       0.52\n"
          ]
        },
        {
          "output_type": "stream",
          "name": "stderr",
          "text": [
            "\n"
          ]
        },
        {
          "output_type": "stream",
          "name": "stdout",
          "text": [
            "\n",
            "      Epoch    GPU_mem   box_loss   cls_loss   dfl_loss  Instances       Size\n"
          ]
        },
        {
          "output_type": "stream",
          "name": "stderr",
          "text": [
            "     20/200        10G      1.017     0.8516      1.112         97       1024: 100%|██████████| 14/14 [00:10<00:00,  1.40it/s]\n",
            "                 Class     Images  Instances      Box(P          R      mAP50  mAP50-95): 100%|██████████| 4/4 [00:03<00:00,  1.31it/s]"
          ]
        },
        {
          "output_type": "stream",
          "name": "stdout",
          "text": [
            "                   all        118        761       0.79      0.796      0.837      0.561\n"
          ]
        },
        {
          "output_type": "stream",
          "name": "stderr",
          "text": [
            "\n"
          ]
        },
        {
          "output_type": "stream",
          "name": "stdout",
          "text": [
            "\n",
            "      Epoch    GPU_mem   box_loss   cls_loss   dfl_loss  Instances       Size\n"
          ]
        },
        {
          "output_type": "stream",
          "name": "stderr",
          "text": [
            "     21/200      10.1G      1.018     0.8417      1.086        155       1024: 100%|██████████| 14/14 [00:10<00:00,  1.36it/s]\n",
            "                 Class     Images  Instances      Box(P          R      mAP50  mAP50-95): 100%|██████████| 4/4 [00:02<00:00,  1.35it/s]"
          ]
        },
        {
          "output_type": "stream",
          "name": "stdout",
          "text": [
            "                   all        118        761       0.83      0.812      0.859      0.599\n"
          ]
        },
        {
          "output_type": "stream",
          "name": "stderr",
          "text": [
            "\n"
          ]
        },
        {
          "output_type": "stream",
          "name": "stdout",
          "text": [
            "\n",
            "      Epoch    GPU_mem   box_loss   cls_loss   dfl_loss  Instances       Size\n"
          ]
        },
        {
          "output_type": "stream",
          "name": "stderr",
          "text": [
            "     22/200      9.92G       1.06     0.8394      1.086        121       1024: 100%|██████████| 14/14 [00:10<00:00,  1.32it/s]\n",
            "                 Class     Images  Instances      Box(P          R      mAP50  mAP50-95): 100%|██████████| 4/4 [00:03<00:00,  1.31it/s]"
          ]
        },
        {
          "output_type": "stream",
          "name": "stdout",
          "text": [
            "                   all        118        761      0.855      0.802      0.862      0.593\n"
          ]
        },
        {
          "output_type": "stream",
          "name": "stderr",
          "text": [
            "\n"
          ]
        },
        {
          "output_type": "stream",
          "name": "stdout",
          "text": [
            "\n",
            "      Epoch    GPU_mem   box_loss   cls_loss   dfl_loss  Instances       Size\n"
          ]
        },
        {
          "output_type": "stream",
          "name": "stderr",
          "text": [
            "     23/200       9.6G      1.015     0.8072      1.083        155       1024: 100%|██████████| 14/14 [00:10<00:00,  1.32it/s]\n",
            "                 Class     Images  Instances      Box(P          R      mAP50  mAP50-95): 100%|██████████| 4/4 [00:02<00:00,  1.35it/s]"
          ]
        },
        {
          "output_type": "stream",
          "name": "stdout",
          "text": [
            "                   all        118        761      0.844      0.842      0.881      0.636\n"
          ]
        },
        {
          "output_type": "stream",
          "name": "stderr",
          "text": [
            "\n"
          ]
        },
        {
          "output_type": "stream",
          "name": "stdout",
          "text": [
            "\n",
            "      Epoch    GPU_mem   box_loss   cls_loss   dfl_loss  Instances       Size\n"
          ]
        },
        {
          "output_type": "stream",
          "name": "stderr",
          "text": [
            "     24/200      10.1G      0.983     0.8189      1.091        112       1024: 100%|██████████| 14/14 [00:10<00:00,  1.30it/s]\n",
            "                 Class     Images  Instances      Box(P          R      mAP50  mAP50-95): 100%|██████████| 4/4 [00:03<00:00,  1.30it/s]"
          ]
        },
        {
          "output_type": "stream",
          "name": "stdout",
          "text": [
            "                   all        118        761      0.852      0.874      0.902      0.628\n"
          ]
        },
        {
          "output_type": "stream",
          "name": "stderr",
          "text": [
            "\n"
          ]
        },
        {
          "output_type": "stream",
          "name": "stdout",
          "text": [
            "\n",
            "      Epoch    GPU_mem   box_loss   cls_loss   dfl_loss  Instances       Size\n"
          ]
        },
        {
          "output_type": "stream",
          "name": "stderr",
          "text": [
            "     25/200      10.2G     0.9607     0.7693      1.064        107       1024: 100%|██████████| 14/14 [00:11<00:00,  1.26it/s]\n",
            "                 Class     Images  Instances      Box(P          R      mAP50  mAP50-95): 100%|██████████| 4/4 [00:02<00:00,  1.40it/s]"
          ]
        },
        {
          "output_type": "stream",
          "name": "stdout",
          "text": [
            "                   all        118        761      0.811      0.838       0.87      0.608\n"
          ]
        },
        {
          "output_type": "stream",
          "name": "stderr",
          "text": [
            "\n"
          ]
        },
        {
          "output_type": "stream",
          "name": "stdout",
          "text": [
            "\n",
            "      Epoch    GPU_mem   box_loss   cls_loss   dfl_loss  Instances       Size\n"
          ]
        },
        {
          "output_type": "stream",
          "name": "stderr",
          "text": [
            "     26/200      9.81G     0.9868     0.7809      1.085         92       1024: 100%|██████████| 14/14 [00:10<00:00,  1.34it/s]\n",
            "                 Class     Images  Instances      Box(P          R      mAP50  mAP50-95): 100%|██████████| 4/4 [00:03<00:00,  1.22it/s]"
          ]
        },
        {
          "output_type": "stream",
          "name": "stdout",
          "text": [
            "                   all        118        761       0.83      0.815      0.875       0.61\n"
          ]
        },
        {
          "output_type": "stream",
          "name": "stderr",
          "text": [
            "\n"
          ]
        },
        {
          "output_type": "stream",
          "name": "stdout",
          "text": [
            "\n",
            "      Epoch    GPU_mem   box_loss   cls_loss   dfl_loss  Instances       Size\n"
          ]
        },
        {
          "output_type": "stream",
          "name": "stderr",
          "text": [
            "     27/200      10.2G     0.9378     0.7687      1.085         89       1024: 100%|██████████| 14/14 [00:09<00:00,  1.46it/s]\n",
            "                 Class     Images  Instances      Box(P          R      mAP50  mAP50-95): 100%|██████████| 4/4 [00:03<00:00,  1.05it/s]"
          ]
        },
        {
          "output_type": "stream",
          "name": "stdout",
          "text": [
            "                   all        118        761      0.808      0.777      0.836      0.596\n"
          ]
        },
        {
          "output_type": "stream",
          "name": "stderr",
          "text": [
            "\n"
          ]
        },
        {
          "output_type": "stream",
          "name": "stdout",
          "text": [
            "\n",
            "      Epoch    GPU_mem   box_loss   cls_loss   dfl_loss  Instances       Size\n"
          ]
        },
        {
          "output_type": "stream",
          "name": "stderr",
          "text": [
            "     28/200      9.49G     0.9975     0.7649      1.088        175       1024: 100%|██████████| 14/14 [00:09<00:00,  1.48it/s]\n",
            "                 Class     Images  Instances      Box(P          R      mAP50  mAP50-95): 100%|██████████| 4/4 [00:04<00:00,  1.03s/it]"
          ]
        },
        {
          "output_type": "stream",
          "name": "stdout",
          "text": [
            "                   all        118        761      0.871      0.862      0.917      0.664\n"
          ]
        },
        {
          "output_type": "stream",
          "name": "stderr",
          "text": [
            "\n"
          ]
        },
        {
          "output_type": "stream",
          "name": "stdout",
          "text": [
            "\n",
            "      Epoch    GPU_mem   box_loss   cls_loss   dfl_loss  Instances       Size\n"
          ]
        },
        {
          "output_type": "stream",
          "name": "stderr",
          "text": [
            "     29/200      10.2G     0.9744     0.7665      1.074        117       1024: 100%|██████████| 14/14 [00:09<00:00,  1.52it/s]\n",
            "                 Class     Images  Instances      Box(P          R      mAP50  mAP50-95): 100%|██████████| 4/4 [00:04<00:00,  1.06s/it]"
          ]
        },
        {
          "output_type": "stream",
          "name": "stdout",
          "text": [
            "                   all        118        761      0.848      0.782      0.832      0.558\n"
          ]
        },
        {
          "output_type": "stream",
          "name": "stderr",
          "text": [
            "\n"
          ]
        },
        {
          "output_type": "stream",
          "name": "stdout",
          "text": [
            "\n",
            "      Epoch    GPU_mem   box_loss   cls_loss   dfl_loss  Instances       Size\n"
          ]
        },
        {
          "output_type": "stream",
          "name": "stderr",
          "text": [
            "     30/200       9.8G      0.965     0.7502      1.078        132       1024: 100%|██████████| 14/14 [00:08<00:00,  1.66it/s]\n",
            "                 Class     Images  Instances      Box(P          R      mAP50  mAP50-95): 100%|██████████| 4/4 [00:04<00:00,  1.09s/it]"
          ]
        },
        {
          "output_type": "stream",
          "name": "stdout",
          "text": [
            "                   all        118        761      0.839      0.849      0.863      0.626\n"
          ]
        },
        {
          "output_type": "stream",
          "name": "stderr",
          "text": [
            "\n"
          ]
        },
        {
          "output_type": "stream",
          "name": "stdout",
          "text": [
            "\n",
            "      Epoch    GPU_mem   box_loss   cls_loss   dfl_loss  Instances       Size\n"
          ]
        },
        {
          "output_type": "stream",
          "name": "stderr",
          "text": [
            "     31/200      10.2G     0.9589     0.7788       1.06        139       1024: 100%|██████████| 14/14 [00:08<00:00,  1.64it/s]\n",
            "                 Class     Images  Instances      Box(P          R      mAP50  mAP50-95): 100%|██████████| 4/4 [00:03<00:00,  1.02it/s]"
          ]
        },
        {
          "output_type": "stream",
          "name": "stdout",
          "text": [
            "                   all        118        761      0.899      0.853      0.921      0.663\n"
          ]
        },
        {
          "output_type": "stream",
          "name": "stderr",
          "text": [
            "\n"
          ]
        },
        {
          "output_type": "stream",
          "name": "stdout",
          "text": [
            "\n",
            "      Epoch    GPU_mem   box_loss   cls_loss   dfl_loss  Instances       Size\n"
          ]
        },
        {
          "output_type": "stream",
          "name": "stderr",
          "text": [
            "     32/200      10.2G     0.9864     0.7738      1.068        130       1024: 100%|██████████| 14/14 [00:08<00:00,  1.59it/s]\n",
            "                 Class     Images  Instances      Box(P          R      mAP50  mAP50-95): 100%|██████████| 4/4 [00:03<00:00,  1.28it/s]"
          ]
        },
        {
          "output_type": "stream",
          "name": "stdout",
          "text": [
            "                   all        118        761      0.856      0.875      0.903      0.673\n"
          ]
        },
        {
          "output_type": "stream",
          "name": "stderr",
          "text": [
            "\n"
          ]
        },
        {
          "output_type": "stream",
          "name": "stdout",
          "text": [
            "\n",
            "      Epoch    GPU_mem   box_loss   cls_loss   dfl_loss  Instances       Size\n"
          ]
        },
        {
          "output_type": "stream",
          "name": "stderr",
          "text": [
            "     33/200      10.2G     0.9351     0.7573      1.051        108       1024: 100%|██████████| 14/14 [00:09<00:00,  1.46it/s]\n",
            "                 Class     Images  Instances      Box(P          R      mAP50  mAP50-95): 100%|██████████| 4/4 [00:02<00:00,  1.40it/s]"
          ]
        },
        {
          "output_type": "stream",
          "name": "stdout",
          "text": [
            "                   all        118        761      0.892      0.858      0.912      0.663\n"
          ]
        },
        {
          "output_type": "stream",
          "name": "stderr",
          "text": [
            "\n"
          ]
        },
        {
          "output_type": "stream",
          "name": "stdout",
          "text": [
            "\n",
            "      Epoch    GPU_mem   box_loss   cls_loss   dfl_loss  Instances       Size\n"
          ]
        },
        {
          "output_type": "stream",
          "name": "stderr",
          "text": [
            "     34/200      9.84G      1.008     0.7991      1.076         92       1024: 100%|██████████| 14/14 [00:10<00:00,  1.36it/s]\n",
            "                 Class     Images  Instances      Box(P          R      mAP50  mAP50-95): 100%|██████████| 4/4 [00:02<00:00,  1.47it/s]"
          ]
        },
        {
          "output_type": "stream",
          "name": "stdout",
          "text": [
            "                   all        118        761       0.88      0.877      0.907      0.667\n"
          ]
        },
        {
          "output_type": "stream",
          "name": "stderr",
          "text": [
            "\n"
          ]
        },
        {
          "output_type": "stream",
          "name": "stdout",
          "text": [
            "\n",
            "      Epoch    GPU_mem   box_loss   cls_loss   dfl_loss  Instances       Size\n"
          ]
        },
        {
          "output_type": "stream",
          "name": "stderr",
          "text": [
            "     35/200      9.94G     0.9535     0.7169      1.035        131       1024: 100%|██████████| 14/14 [00:10<00:00,  1.34it/s]\n",
            "                 Class     Images  Instances      Box(P          R      mAP50  mAP50-95): 100%|██████████| 4/4 [00:02<00:00,  1.36it/s]"
          ]
        },
        {
          "output_type": "stream",
          "name": "stdout",
          "text": [
            "                   all        118        761      0.887      0.894      0.926      0.676\n"
          ]
        },
        {
          "output_type": "stream",
          "name": "stderr",
          "text": [
            "\n"
          ]
        },
        {
          "output_type": "stream",
          "name": "stdout",
          "text": [
            "\n",
            "      Epoch    GPU_mem   box_loss   cls_loss   dfl_loss  Instances       Size\n"
          ]
        },
        {
          "output_type": "stream",
          "name": "stderr",
          "text": [
            "     36/200      10.2G     0.9198     0.7388      1.039         90       1024: 100%|██████████| 14/14 [00:10<00:00,  1.35it/s]\n",
            "                 Class     Images  Instances      Box(P          R      mAP50  mAP50-95): 100%|██████████| 4/4 [00:02<00:00,  1.35it/s]"
          ]
        },
        {
          "output_type": "stream",
          "name": "stdout",
          "text": [
            "                   all        118        761      0.853      0.846      0.885       0.66\n"
          ]
        },
        {
          "output_type": "stream",
          "name": "stderr",
          "text": [
            "\n"
          ]
        },
        {
          "output_type": "stream",
          "name": "stdout",
          "text": [
            "\n",
            "      Epoch    GPU_mem   box_loss   cls_loss   dfl_loss  Instances       Size\n"
          ]
        },
        {
          "output_type": "stream",
          "name": "stderr",
          "text": [
            "     37/200      10.2G     0.8903     0.7205      1.046        113       1024: 100%|██████████| 14/14 [00:10<00:00,  1.32it/s]\n",
            "                 Class     Images  Instances      Box(P          R      mAP50  mAP50-95): 100%|██████████| 4/4 [00:02<00:00,  1.34it/s]"
          ]
        },
        {
          "output_type": "stream",
          "name": "stdout",
          "text": [
            "                   all        118        761      0.885      0.903       0.92      0.696\n"
          ]
        },
        {
          "output_type": "stream",
          "name": "stderr",
          "text": [
            "\n"
          ]
        },
        {
          "output_type": "stream",
          "name": "stdout",
          "text": [
            "\n",
            "      Epoch    GPU_mem   box_loss   cls_loss   dfl_loss  Instances       Size\n"
          ]
        },
        {
          "output_type": "stream",
          "name": "stderr",
          "text": [
            "     38/200        10G     0.9013     0.6782      1.034        108       1024: 100%|██████████| 14/14 [00:10<00:00,  1.31it/s]\n",
            "                 Class     Images  Instances      Box(P          R      mAP50  mAP50-95): 100%|██████████| 4/4 [00:03<00:00,  1.30it/s]"
          ]
        },
        {
          "output_type": "stream",
          "name": "stdout",
          "text": [
            "                   all        118        761      0.882      0.895      0.932      0.682\n"
          ]
        },
        {
          "output_type": "stream",
          "name": "stderr",
          "text": [
            "\n"
          ]
        },
        {
          "output_type": "stream",
          "name": "stdout",
          "text": [
            "\n",
            "      Epoch    GPU_mem   box_loss   cls_loss   dfl_loss  Instances       Size\n"
          ]
        },
        {
          "output_type": "stream",
          "name": "stderr",
          "text": [
            "     39/200      9.87G     0.9202     0.6894      1.034         97       1024: 100%|██████████| 14/14 [00:09<00:00,  1.41it/s]\n",
            "                 Class     Images  Instances      Box(P          R      mAP50  mAP50-95): 100%|██████████| 4/4 [00:03<00:00,  1.17it/s]"
          ]
        },
        {
          "output_type": "stream",
          "name": "stdout",
          "text": [
            "                   all        118        761      0.849      0.906      0.922      0.704\n"
          ]
        },
        {
          "output_type": "stream",
          "name": "stderr",
          "text": [
            "\n"
          ]
        },
        {
          "output_type": "stream",
          "name": "stdout",
          "text": [
            "\n",
            "      Epoch    GPU_mem   box_loss   cls_loss   dfl_loss  Instances       Size\n"
          ]
        },
        {
          "output_type": "stream",
          "name": "stderr",
          "text": [
            "     40/200      9.61G       0.94     0.7057      1.055         67       1024: 100%|██████████| 14/14 [00:09<00:00,  1.44it/s]\n",
            "                 Class     Images  Instances      Box(P          R      mAP50  mAP50-95): 100%|██████████| 4/4 [00:03<00:00,  1.11it/s]"
          ]
        },
        {
          "output_type": "stream",
          "name": "stdout",
          "text": [
            "                   all        118        761      0.891      0.913      0.946      0.716\n"
          ]
        },
        {
          "output_type": "stream",
          "name": "stderr",
          "text": [
            "\n"
          ]
        },
        {
          "output_type": "stream",
          "name": "stdout",
          "text": [
            "\n",
            "      Epoch    GPU_mem   box_loss   cls_loss   dfl_loss  Instances       Size\n"
          ]
        },
        {
          "output_type": "stream",
          "name": "stderr",
          "text": [
            "     41/200      9.61G     0.9384     0.7121       1.03        136       1024: 100%|██████████| 14/14 [00:09<00:00,  1.53it/s]\n",
            "                 Class     Images  Instances      Box(P          R      mAP50  mAP50-95): 100%|██████████| 4/4 [00:03<00:00,  1.00it/s]"
          ]
        },
        {
          "output_type": "stream",
          "name": "stdout",
          "text": [
            "                   all        118        761      0.819      0.901      0.909      0.676\n"
          ]
        },
        {
          "output_type": "stream",
          "name": "stderr",
          "text": [
            "\n"
          ]
        },
        {
          "output_type": "stream",
          "name": "stdout",
          "text": [
            "\n",
            "      Epoch    GPU_mem   box_loss   cls_loss   dfl_loss  Instances       Size\n"
          ]
        },
        {
          "output_type": "stream",
          "name": "stderr",
          "text": [
            "     42/200        10G      0.904     0.6835       1.05        102       1024: 100%|██████████| 14/14 [00:08<00:00,  1.57it/s]\n",
            "                 Class     Images  Instances      Box(P          R      mAP50  mAP50-95): 100%|██████████| 4/4 [00:04<00:00,  1.09s/it]"
          ]
        },
        {
          "output_type": "stream",
          "name": "stdout",
          "text": [
            "                   all        118        761      0.878       0.94      0.955      0.721\n"
          ]
        },
        {
          "output_type": "stream",
          "name": "stderr",
          "text": [
            "\n"
          ]
        },
        {
          "output_type": "stream",
          "name": "stdout",
          "text": [
            "\n",
            "      Epoch    GPU_mem   box_loss   cls_loss   dfl_loss  Instances       Size\n"
          ]
        },
        {
          "output_type": "stream",
          "name": "stderr",
          "text": [
            "     43/200      10.2G     0.8852     0.6776      1.035        131       1024: 100%|██████████| 14/14 [00:08<00:00,  1.58it/s]\n",
            "                 Class     Images  Instances      Box(P          R      mAP50  mAP50-95): 100%|██████████| 4/4 [00:04<00:00,  1.08s/it]"
          ]
        },
        {
          "output_type": "stream",
          "name": "stdout",
          "text": [
            "                   all        118        761      0.902      0.895      0.942      0.714\n"
          ]
        },
        {
          "output_type": "stream",
          "name": "stderr",
          "text": [
            "\n"
          ]
        },
        {
          "output_type": "stream",
          "name": "stdout",
          "text": [
            "\n",
            "      Epoch    GPU_mem   box_loss   cls_loss   dfl_loss  Instances       Size\n"
          ]
        },
        {
          "output_type": "stream",
          "name": "stderr",
          "text": [
            "     44/200      9.73G     0.8699     0.6308      1.032        116       1024: 100%|██████████| 14/14 [00:08<00:00,  1.65it/s]\n",
            "                 Class     Images  Instances      Box(P          R      mAP50  mAP50-95): 100%|██████████| 4/4 [00:04<00:00,  1.02s/it]"
          ]
        },
        {
          "output_type": "stream",
          "name": "stdout",
          "text": [
            "                   all        118        761      0.924       0.89      0.942      0.718\n"
          ]
        },
        {
          "output_type": "stream",
          "name": "stderr",
          "text": [
            "\n"
          ]
        },
        {
          "output_type": "stream",
          "name": "stdout",
          "text": [
            "\n",
            "      Epoch    GPU_mem   box_loss   cls_loss   dfl_loss  Instances       Size\n"
          ]
        },
        {
          "output_type": "stream",
          "name": "stderr",
          "text": [
            "     45/200      10.1G     0.8789     0.6539      1.021        119       1024: 100%|██████████| 14/14 [00:08<00:00,  1.61it/s]\n",
            "                 Class     Images  Instances      Box(P          R      mAP50  mAP50-95): 100%|██████████| 4/4 [00:03<00:00,  1.09it/s]"
          ]
        },
        {
          "output_type": "stream",
          "name": "stdout",
          "text": [
            "                   all        118        761      0.924      0.904      0.951      0.726\n"
          ]
        },
        {
          "output_type": "stream",
          "name": "stderr",
          "text": [
            "\n"
          ]
        },
        {
          "output_type": "stream",
          "name": "stdout",
          "text": [
            "\n",
            "      Epoch    GPU_mem   box_loss   cls_loss   dfl_loss  Instances       Size\n"
          ]
        },
        {
          "output_type": "stream",
          "name": "stderr",
          "text": [
            "     46/200      9.47G     0.8855     0.6489      1.039        121       1024: 100%|██████████| 14/14 [00:08<00:00,  1.64it/s]\n",
            "                 Class     Images  Instances      Box(P          R      mAP50  mAP50-95): 100%|██████████| 4/4 [00:03<00:00,  1.20it/s]"
          ]
        },
        {
          "output_type": "stream",
          "name": "stdout",
          "text": [
            "                   all        118        761      0.897       0.89      0.948       0.73\n"
          ]
        },
        {
          "output_type": "stream",
          "name": "stderr",
          "text": [
            "\n"
          ]
        },
        {
          "output_type": "stream",
          "name": "stdout",
          "text": [
            "\n",
            "      Epoch    GPU_mem   box_loss   cls_loss   dfl_loss  Instances       Size\n"
          ]
        },
        {
          "output_type": "stream",
          "name": "stderr",
          "text": [
            "     47/200      9.59G     0.8628     0.6312      1.028        111       1024: 100%|██████████| 14/14 [00:08<00:00,  1.57it/s]\n",
            "                 Class     Images  Instances      Box(P          R      mAP50  mAP50-95): 100%|██████████| 4/4 [00:03<00:00,  1.29it/s]"
          ]
        },
        {
          "output_type": "stream",
          "name": "stdout",
          "text": [
            "                   all        118        761        0.9      0.912      0.938      0.716\n"
          ]
        },
        {
          "output_type": "stream",
          "name": "stderr",
          "text": [
            "\n"
          ]
        },
        {
          "output_type": "stream",
          "name": "stdout",
          "text": [
            "\n",
            "      Epoch    GPU_mem   box_loss   cls_loss   dfl_loss  Instances       Size\n"
          ]
        },
        {
          "output_type": "stream",
          "name": "stderr",
          "text": [
            "     48/200      9.81G     0.8627     0.6145          1        115       1024: 100%|██████████| 14/14 [00:10<00:00,  1.36it/s]\n",
            "                 Class     Images  Instances      Box(P          R      mAP50  mAP50-95): 100%|██████████| 4/4 [00:02<00:00,  1.38it/s]"
          ]
        },
        {
          "output_type": "stream",
          "name": "stdout",
          "text": [
            "                   all        118        761      0.901      0.934      0.953      0.732\n"
          ]
        },
        {
          "output_type": "stream",
          "name": "stderr",
          "text": [
            "\n"
          ]
        },
        {
          "output_type": "stream",
          "name": "stdout",
          "text": [
            "\n",
            "      Epoch    GPU_mem   box_loss   cls_loss   dfl_loss  Instances       Size\n"
          ]
        },
        {
          "output_type": "stream",
          "name": "stderr",
          "text": [
            "     49/200      9.96G     0.8651     0.6239      1.003         88       1024: 100%|██████████| 14/14 [00:12<00:00,  1.09it/s]\n",
            "                 Class     Images  Instances      Box(P          R      mAP50  mAP50-95): 100%|██████████| 4/4 [00:02<00:00,  1.38it/s]"
          ]
        },
        {
          "output_type": "stream",
          "name": "stdout",
          "text": [
            "                   all        118        761      0.942      0.913      0.963      0.739\n"
          ]
        },
        {
          "output_type": "stream",
          "name": "stderr",
          "text": [
            "\n"
          ]
        },
        {
          "output_type": "stream",
          "name": "stdout",
          "text": [
            "\n",
            "      Epoch    GPU_mem   box_loss   cls_loss   dfl_loss  Instances       Size\n"
          ]
        },
        {
          "output_type": "stream",
          "name": "stderr",
          "text": [
            "     50/200      10.2G     0.8294     0.6069      1.015         92       1024: 100%|██████████| 14/14 [00:09<00:00,  1.45it/s]\n",
            "                 Class     Images  Instances      Box(P          R      mAP50  mAP50-95): 100%|██████████| 4/4 [00:03<00:00,  1.33it/s]"
          ]
        },
        {
          "output_type": "stream",
          "name": "stdout",
          "text": [
            "                   all        118        761      0.926      0.948      0.965      0.745\n"
          ]
        },
        {
          "output_type": "stream",
          "name": "stderr",
          "text": [
            "\n"
          ]
        },
        {
          "output_type": "stream",
          "name": "stdout",
          "text": [
            "\n",
            "      Epoch    GPU_mem   box_loss   cls_loss   dfl_loss  Instances       Size\n"
          ]
        },
        {
          "output_type": "stream",
          "name": "stderr",
          "text": [
            "     51/200      10.2G     0.8502     0.6147      1.012        142       1024: 100%|██████████| 14/14 [00:09<00:00,  1.40it/s]\n",
            "                 Class     Images  Instances      Box(P          R      mAP50  mAP50-95): 100%|██████████| 4/4 [00:02<00:00,  1.35it/s]"
          ]
        },
        {
          "output_type": "stream",
          "name": "stdout",
          "text": [
            "                   all        118        761      0.939      0.943      0.967      0.747\n"
          ]
        },
        {
          "output_type": "stream",
          "name": "stderr",
          "text": [
            "\n"
          ]
        },
        {
          "output_type": "stream",
          "name": "stdout",
          "text": [
            "\n",
            "      Epoch    GPU_mem   box_loss   cls_loss   dfl_loss  Instances       Size\n"
          ]
        },
        {
          "output_type": "stream",
          "name": "stderr",
          "text": [
            "     52/200      9.97G     0.8553     0.6077     0.9998         99       1024: 100%|██████████| 14/14 [00:10<00:00,  1.33it/s]\n",
            "                 Class     Images  Instances      Box(P          R      mAP50  mAP50-95): 100%|██████████| 4/4 [00:02<00:00,  1.39it/s]"
          ]
        },
        {
          "output_type": "stream",
          "name": "stdout",
          "text": [
            "                   all        118        761      0.931      0.945      0.965      0.755\n"
          ]
        },
        {
          "output_type": "stream",
          "name": "stderr",
          "text": [
            "\n"
          ]
        },
        {
          "output_type": "stream",
          "name": "stdout",
          "text": [
            "\n",
            "      Epoch    GPU_mem   box_loss   cls_loss   dfl_loss  Instances       Size\n"
          ]
        },
        {
          "output_type": "stream",
          "name": "stderr",
          "text": [
            "     53/200      9.59G     0.8312     0.6319      1.002         84       1024: 100%|██████████| 14/14 [00:10<00:00,  1.29it/s]\n",
            "                 Class     Images  Instances      Box(P          R      mAP50  mAP50-95): 100%|██████████| 4/4 [00:03<00:00,  1.27it/s]"
          ]
        },
        {
          "output_type": "stream",
          "name": "stdout",
          "text": [
            "                   all        118        761      0.921      0.947      0.968      0.755\n"
          ]
        },
        {
          "output_type": "stream",
          "name": "stderr",
          "text": [
            "\n"
          ]
        },
        {
          "output_type": "stream",
          "name": "stdout",
          "text": [
            "\n",
            "      Epoch    GPU_mem   box_loss   cls_loss   dfl_loss  Instances       Size\n"
          ]
        },
        {
          "output_type": "stream",
          "name": "stderr",
          "text": [
            "     54/200      10.5G     0.8375     0.6177      1.006         91       1024: 100%|██████████| 14/14 [00:10<00:00,  1.32it/s]\n",
            "                 Class     Images  Instances      Box(P          R      mAP50  mAP50-95): 100%|██████████| 4/4 [00:03<00:00,  1.27it/s]"
          ]
        },
        {
          "output_type": "stream",
          "name": "stdout",
          "text": [
            "                   all        118        761      0.917      0.919      0.961      0.745\n"
          ]
        },
        {
          "output_type": "stream",
          "name": "stderr",
          "text": [
            "\n"
          ]
        },
        {
          "output_type": "stream",
          "name": "stdout",
          "text": [
            "\n",
            "      Epoch    GPU_mem   box_loss   cls_loss   dfl_loss  Instances       Size\n"
          ]
        },
        {
          "output_type": "stream",
          "name": "stderr",
          "text": [
            "     55/200      10.2G     0.8246     0.6047     0.9959         89       1024: 100%|██████████| 14/14 [00:10<00:00,  1.33it/s]\n",
            "                 Class     Images  Instances      Box(P          R      mAP50  mAP50-95): 100%|██████████| 4/4 [00:03<00:00,  1.28it/s]"
          ]
        },
        {
          "output_type": "stream",
          "name": "stdout",
          "text": [
            "                   all        118        761      0.915       0.93      0.966      0.753\n"
          ]
        },
        {
          "output_type": "stream",
          "name": "stderr",
          "text": [
            "\n"
          ]
        },
        {
          "output_type": "stream",
          "name": "stdout",
          "text": [
            "\n",
            "      Epoch    GPU_mem   box_loss   cls_loss   dfl_loss  Instances       Size\n"
          ]
        },
        {
          "output_type": "stream",
          "name": "stderr",
          "text": [
            "     56/200      9.78G      0.832     0.5769     0.9971         93       1024: 100%|██████████| 14/14 [00:10<00:00,  1.40it/s]\n",
            "                 Class     Images  Instances      Box(P          R      mAP50  mAP50-95): 100%|██████████| 4/4 [00:03<00:00,  1.24it/s]"
          ]
        },
        {
          "output_type": "stream",
          "name": "stdout",
          "text": [
            "                   all        118        761      0.931      0.924      0.961      0.756\n"
          ]
        },
        {
          "output_type": "stream",
          "name": "stderr",
          "text": [
            "\n"
          ]
        },
        {
          "output_type": "stream",
          "name": "stdout",
          "text": [
            "\n",
            "      Epoch    GPU_mem   box_loss   cls_loss   dfl_loss  Instances       Size\n"
          ]
        },
        {
          "output_type": "stream",
          "name": "stderr",
          "text": [
            "     57/200      9.92G     0.8226      0.588     0.9872        145       1024: 100%|██████████| 14/14 [00:10<00:00,  1.38it/s]\n",
            "                 Class     Images  Instances      Box(P          R      mAP50  mAP50-95): 100%|██████████| 4/4 [00:03<00:00,  1.26it/s]"
          ]
        },
        {
          "output_type": "stream",
          "name": "stdout",
          "text": [
            "                   all        118        761      0.931      0.937      0.962      0.753\n"
          ]
        },
        {
          "output_type": "stream",
          "name": "stderr",
          "text": [
            "\n"
          ]
        },
        {
          "output_type": "stream",
          "name": "stdout",
          "text": [
            "\n",
            "      Epoch    GPU_mem   box_loss   cls_loss   dfl_loss  Instances       Size\n"
          ]
        },
        {
          "output_type": "stream",
          "name": "stderr",
          "text": [
            "     58/200      9.82G     0.7567     0.5526     0.9657        132       1024: 100%|██████████| 14/14 [00:09<00:00,  1.52it/s]\n",
            "                 Class     Images  Instances      Box(P          R      mAP50  mAP50-95): 100%|██████████| 4/4 [00:04<00:00,  1.01s/it]"
          ]
        },
        {
          "output_type": "stream",
          "name": "stdout",
          "text": [
            "                   all        118        761      0.926       0.94       0.96      0.749\n"
          ]
        },
        {
          "output_type": "stream",
          "name": "stderr",
          "text": [
            "\n"
          ]
        },
        {
          "output_type": "stream",
          "name": "stdout",
          "text": [
            "\n",
            "      Epoch    GPU_mem   box_loss   cls_loss   dfl_loss  Instances       Size\n"
          ]
        },
        {
          "output_type": "stream",
          "name": "stderr",
          "text": [
            "     59/200      9.59G     0.7805     0.5657     0.9823        115       1024: 100%|██████████| 14/14 [00:09<00:00,  1.50it/s]\n",
            "                 Class     Images  Instances      Box(P          R      mAP50  mAP50-95): 100%|██████████| 4/4 [00:03<00:00,  1.00it/s]"
          ]
        },
        {
          "output_type": "stream",
          "name": "stdout",
          "text": [
            "                   all        118        761      0.938       0.94      0.973      0.761\n"
          ]
        },
        {
          "output_type": "stream",
          "name": "stderr",
          "text": [
            "\n"
          ]
        },
        {
          "output_type": "stream",
          "name": "stdout",
          "text": [
            "\n",
            "      Epoch    GPU_mem   box_loss   cls_loss   dfl_loss  Instances       Size\n"
          ]
        },
        {
          "output_type": "stream",
          "name": "stderr",
          "text": [
            "     60/200      9.83G     0.8257     0.5815     0.9893        150       1024: 100%|██████████| 14/14 [00:08<00:00,  1.58it/s]\n",
            "                 Class     Images  Instances      Box(P          R      mAP50  mAP50-95): 100%|██████████| 4/4 [00:04<00:00,  1.11s/it]"
          ]
        },
        {
          "output_type": "stream",
          "name": "stdout",
          "text": [
            "                   all        118        761      0.913      0.908      0.958      0.756\n"
          ]
        },
        {
          "output_type": "stream",
          "name": "stderr",
          "text": [
            "\n"
          ]
        },
        {
          "output_type": "stream",
          "name": "stdout",
          "text": [
            "\n",
            "      Epoch    GPU_mem   box_loss   cls_loss   dfl_loss  Instances       Size\n"
          ]
        },
        {
          "output_type": "stream",
          "name": "stderr",
          "text": [
            "     61/200      9.96G     0.7978      0.543     0.9699        115       1024: 100%|██████████| 14/14 [00:08<00:00,  1.65it/s]\n",
            "                 Class     Images  Instances      Box(P          R      mAP50  mAP50-95): 100%|██████████| 4/4 [00:04<00:00,  1.08s/it]"
          ]
        },
        {
          "output_type": "stream",
          "name": "stdout",
          "text": [
            "                   all        118        761      0.908      0.925      0.964      0.752\n"
          ]
        },
        {
          "output_type": "stream",
          "name": "stderr",
          "text": [
            "\n"
          ]
        },
        {
          "output_type": "stream",
          "name": "stdout",
          "text": [
            "\n",
            "      Epoch    GPU_mem   box_loss   cls_loss   dfl_loss  Instances       Size\n"
          ]
        },
        {
          "output_type": "stream",
          "name": "stderr",
          "text": [
            "     62/200      9.79G     0.7742     0.5551     0.9765        113       1024: 100%|██████████| 14/14 [00:08<00:00,  1.62it/s]\n",
            "                 Class     Images  Instances      Box(P          R      mAP50  mAP50-95): 100%|██████████| 4/4 [00:03<00:00,  1.06it/s]"
          ]
        },
        {
          "output_type": "stream",
          "name": "stdout",
          "text": [
            "                   all        118        761      0.939       0.93      0.968      0.773\n"
          ]
        },
        {
          "output_type": "stream",
          "name": "stderr",
          "text": [
            "\n"
          ]
        },
        {
          "output_type": "stream",
          "name": "stdout",
          "text": [
            "\n",
            "      Epoch    GPU_mem   box_loss   cls_loss   dfl_loss  Instances       Size\n"
          ]
        },
        {
          "output_type": "stream",
          "name": "stderr",
          "text": [
            "     63/200      9.82G      0.787     0.5443      0.976        140       1024: 100%|██████████| 14/14 [00:08<00:00,  1.60it/s]\n",
            "                 Class     Images  Instances      Box(P          R      mAP50  mAP50-95): 100%|██████████| 4/4 [00:03<00:00,  1.03it/s]"
          ]
        },
        {
          "output_type": "stream",
          "name": "stdout",
          "text": [
            "                   all        118        761      0.942      0.949      0.976      0.773\n"
          ]
        },
        {
          "output_type": "stream",
          "name": "stderr",
          "text": [
            "\n"
          ]
        },
        {
          "output_type": "stream",
          "name": "stdout",
          "text": [
            "\n",
            "      Epoch    GPU_mem   box_loss   cls_loss   dfl_loss  Instances       Size\n"
          ]
        },
        {
          "output_type": "stream",
          "name": "stderr",
          "text": [
            "     64/200      10.2G     0.8086     0.5607     0.9786        101       1024: 100%|██████████| 14/14 [00:08<00:00,  1.58it/s]\n",
            "                 Class     Images  Instances      Box(P          R      mAP50  mAP50-95): 100%|██████████| 4/4 [00:03<00:00,  1.10it/s]"
          ]
        },
        {
          "output_type": "stream",
          "name": "stdout",
          "text": [
            "                   all        118        761      0.934      0.955      0.969      0.781\n"
          ]
        },
        {
          "output_type": "stream",
          "name": "stderr",
          "text": [
            "\n"
          ]
        },
        {
          "output_type": "stream",
          "name": "stdout",
          "text": [
            "\n",
            "      Epoch    GPU_mem   box_loss   cls_loss   dfl_loss  Instances       Size\n"
          ]
        },
        {
          "output_type": "stream",
          "name": "stderr",
          "text": [
            "     65/200       9.7G     0.7829     0.5728      1.004         79       1024: 100%|██████████| 14/14 [00:09<00:00,  1.50it/s]\n",
            "                 Class     Images  Instances      Box(P          R      mAP50  mAP50-95): 100%|██████████| 4/4 [00:03<00:00,  1.24it/s]"
          ]
        },
        {
          "output_type": "stream",
          "name": "stdout",
          "text": [
            "                   all        118        761      0.927      0.961       0.97      0.774\n"
          ]
        },
        {
          "output_type": "stream",
          "name": "stderr",
          "text": [
            "\n"
          ]
        },
        {
          "output_type": "stream",
          "name": "stdout",
          "text": [
            "\n",
            "      Epoch    GPU_mem   box_loss   cls_loss   dfl_loss  Instances       Size\n"
          ]
        },
        {
          "output_type": "stream",
          "name": "stderr",
          "text": [
            "     66/200      9.63G     0.7759     0.5261     0.9757        123       1024: 100%|██████████| 14/14 [00:09<00:00,  1.40it/s]\n",
            "                 Class     Images  Instances      Box(P          R      mAP50  mAP50-95): 100%|██████████| 4/4 [00:02<00:00,  1.38it/s]"
          ]
        },
        {
          "output_type": "stream",
          "name": "stdout",
          "text": [
            "                   all        118        761      0.935      0.965      0.976      0.784\n"
          ]
        },
        {
          "output_type": "stream",
          "name": "stderr",
          "text": [
            "\n"
          ]
        },
        {
          "output_type": "stream",
          "name": "stdout",
          "text": [
            "\n",
            "      Epoch    GPU_mem   box_loss   cls_loss   dfl_loss  Instances       Size\n"
          ]
        },
        {
          "output_type": "stream",
          "name": "stderr",
          "text": [
            "     67/200       9.7G     0.7862     0.5605     0.9981         69       1024: 100%|██████████| 14/14 [00:09<00:00,  1.42it/s]\n",
            "                 Class     Images  Instances      Box(P          R      mAP50  mAP50-95): 100%|██████████| 4/4 [00:03<00:00,  1.32it/s]"
          ]
        },
        {
          "output_type": "stream",
          "name": "stdout",
          "text": [
            "                   all        118        761       0.94      0.954      0.974      0.782\n"
          ]
        },
        {
          "output_type": "stream",
          "name": "stderr",
          "text": [
            "\n"
          ]
        },
        {
          "output_type": "stream",
          "name": "stdout",
          "text": [
            "\n",
            "      Epoch    GPU_mem   box_loss   cls_loss   dfl_loss  Instances       Size\n"
          ]
        },
        {
          "output_type": "stream",
          "name": "stderr",
          "text": [
            "     68/200        10G     0.7998     0.5464     0.9849         87       1024: 100%|██████████| 14/14 [00:10<00:00,  1.31it/s]\n",
            "                 Class     Images  Instances      Box(P          R      mAP50  mAP50-95): 100%|██████████| 4/4 [00:02<00:00,  1.42it/s]"
          ]
        },
        {
          "output_type": "stream",
          "name": "stdout",
          "text": [
            "                   all        118        761      0.937      0.958      0.977      0.782\n"
          ]
        },
        {
          "output_type": "stream",
          "name": "stderr",
          "text": [
            "\n"
          ]
        },
        {
          "output_type": "stream",
          "name": "stdout",
          "text": [
            "\n",
            "      Epoch    GPU_mem   box_loss   cls_loss   dfl_loss  Instances       Size\n"
          ]
        },
        {
          "output_type": "stream",
          "name": "stderr",
          "text": [
            "     69/200      9.42G     0.7661     0.5409      0.974         85       1024: 100%|██████████| 14/14 [00:11<00:00,  1.26it/s]\n",
            "                 Class     Images  Instances      Box(P          R      mAP50  mAP50-95): 100%|██████████| 4/4 [00:03<00:00,  1.25it/s]"
          ]
        },
        {
          "output_type": "stream",
          "name": "stdout",
          "text": [
            "                   all        118        761      0.953       0.95      0.978      0.784\n"
          ]
        },
        {
          "output_type": "stream",
          "name": "stderr",
          "text": [
            "\n"
          ]
        },
        {
          "output_type": "stream",
          "name": "stdout",
          "text": [
            "\n",
            "      Epoch    GPU_mem   box_loss   cls_loss   dfl_loss  Instances       Size\n"
          ]
        },
        {
          "output_type": "stream",
          "name": "stderr",
          "text": [
            "     70/200      10.2G     0.7766      0.553     0.9884        196       1024: 100%|██████████| 14/14 [00:10<00:00,  1.33it/s]\n",
            "                 Class     Images  Instances      Box(P          R      mAP50  mAP50-95): 100%|██████████| 4/4 [00:02<00:00,  1.43it/s]"
          ]
        },
        {
          "output_type": "stream",
          "name": "stdout",
          "text": [
            "                   all        118        761      0.936      0.963      0.972      0.781\n"
          ]
        },
        {
          "output_type": "stream",
          "name": "stderr",
          "text": [
            "\n"
          ]
        },
        {
          "output_type": "stream",
          "name": "stdout",
          "text": [
            "\n",
            "      Epoch    GPU_mem   box_loss   cls_loss   dfl_loss  Instances       Size\n"
          ]
        },
        {
          "output_type": "stream",
          "name": "stderr",
          "text": [
            "     71/200       9.7G     0.7773     0.5722     0.9929         98       1024: 100%|██████████| 14/14 [00:10<00:00,  1.28it/s]\n",
            "                 Class     Images  Instances      Box(P          R      mAP50  mAP50-95): 100%|██████████| 4/4 [00:02<00:00,  1.46it/s]"
          ]
        },
        {
          "output_type": "stream",
          "name": "stdout",
          "text": [
            "                   all        118        761      0.933      0.961      0.971      0.793\n"
          ]
        },
        {
          "output_type": "stream",
          "name": "stderr",
          "text": [
            "\n"
          ]
        },
        {
          "output_type": "stream",
          "name": "stdout",
          "text": [
            "\n",
            "      Epoch    GPU_mem   box_loss   cls_loss   dfl_loss  Instances       Size\n"
          ]
        },
        {
          "output_type": "stream",
          "name": "stderr",
          "text": [
            "     72/200      10.2G     0.8039     0.5474     0.9823        106       1024: 100%|██████████| 14/14 [00:10<00:00,  1.32it/s]\n",
            "                 Class     Images  Instances      Box(P          R      mAP50  mAP50-95): 100%|██████████| 4/4 [00:02<00:00,  1.38it/s]"
          ]
        },
        {
          "output_type": "stream",
          "name": "stdout",
          "text": [
            "                   all        118        761      0.938      0.957      0.977      0.783\n"
          ]
        },
        {
          "output_type": "stream",
          "name": "stderr",
          "text": [
            "\n"
          ]
        },
        {
          "output_type": "stream",
          "name": "stdout",
          "text": [
            "\n",
            "      Epoch    GPU_mem   box_loss   cls_loss   dfl_loss  Instances       Size\n"
          ]
        },
        {
          "output_type": "stream",
          "name": "stderr",
          "text": [
            "     73/200      10.2G     0.7444     0.5349     0.9742        109       1024: 100%|██████████| 14/14 [00:09<00:00,  1.50it/s]\n",
            "                 Class     Images  Instances      Box(P          R      mAP50  mAP50-95): 100%|██████████| 4/4 [00:03<00:00,  1.07it/s]"
          ]
        },
        {
          "output_type": "stream",
          "name": "stdout",
          "text": [
            "                   all        118        761      0.947      0.959      0.979       0.78\n"
          ]
        },
        {
          "output_type": "stream",
          "name": "stderr",
          "text": [
            "\n"
          ]
        },
        {
          "output_type": "stream",
          "name": "stdout",
          "text": [
            "\n",
            "      Epoch    GPU_mem   box_loss   cls_loss   dfl_loss  Instances       Size\n"
          ]
        },
        {
          "output_type": "stream",
          "name": "stderr",
          "text": [
            "     74/200      9.61G     0.7768     0.5468     0.9756        104       1024: 100%|██████████| 14/14 [00:09<00:00,  1.52it/s]\n",
            "                 Class     Images  Instances      Box(P          R      mAP50  mAP50-95): 100%|██████████| 4/4 [00:04<00:00,  1.05s/it]"
          ]
        },
        {
          "output_type": "stream",
          "name": "stdout",
          "text": [
            "                   all        118        761      0.944      0.966      0.976      0.788\n"
          ]
        },
        {
          "output_type": "stream",
          "name": "stderr",
          "text": [
            "\n"
          ]
        },
        {
          "output_type": "stream",
          "name": "stdout",
          "text": [
            "\n",
            "      Epoch    GPU_mem   box_loss   cls_loss   dfl_loss  Instances       Size\n"
          ]
        },
        {
          "output_type": "stream",
          "name": "stderr",
          "text": [
            "     75/200      9.59G     0.7821     0.5382     0.9639        143       1024: 100%|██████████| 14/14 [00:08<00:00,  1.62it/s]\n",
            "                 Class     Images  Instances      Box(P          R      mAP50  mAP50-95): 100%|██████████| 4/4 [00:04<00:00,  1.06s/it]"
          ]
        },
        {
          "output_type": "stream",
          "name": "stdout",
          "text": [
            "                   all        118        761      0.942      0.961      0.973      0.794\n"
          ]
        },
        {
          "output_type": "stream",
          "name": "stderr",
          "text": [
            "\n"
          ]
        },
        {
          "output_type": "stream",
          "name": "stdout",
          "text": [
            "\n",
            "      Epoch    GPU_mem   box_loss   cls_loss   dfl_loss  Instances       Size\n"
          ]
        },
        {
          "output_type": "stream",
          "name": "stderr",
          "text": [
            "     76/200      9.62G     0.7406     0.5324     0.9663        116       1024: 100%|██████████| 14/14 [00:08<00:00,  1.61it/s]\n",
            "                 Class     Images  Instances      Box(P          R      mAP50  mAP50-95): 100%|██████████| 4/4 [00:04<00:00,  1.05s/it]"
          ]
        },
        {
          "output_type": "stream",
          "name": "stdout",
          "text": [
            "                   all        118        761      0.938      0.968      0.974      0.795\n"
          ]
        },
        {
          "output_type": "stream",
          "name": "stderr",
          "text": [
            "\n"
          ]
        },
        {
          "output_type": "stream",
          "name": "stdout",
          "text": [
            "\n",
            "      Epoch    GPU_mem   box_loss   cls_loss   dfl_loss  Instances       Size\n"
          ]
        },
        {
          "output_type": "stream",
          "name": "stderr",
          "text": [
            "     77/200       9.7G      0.752     0.5204     0.9749         41       1024: 100%|██████████| 14/14 [00:08<00:00,  1.59it/s]\n",
            "                 Class     Images  Instances      Box(P          R      mAP50  mAP50-95): 100%|██████████| 4/4 [00:04<00:00,  1.03s/it]"
          ]
        },
        {
          "output_type": "stream",
          "name": "stdout",
          "text": [
            "                   all        118        761      0.942      0.974      0.978       0.79\n"
          ]
        },
        {
          "output_type": "stream",
          "name": "stderr",
          "text": [
            "\n"
          ]
        },
        {
          "output_type": "stream",
          "name": "stdout",
          "text": [
            "\n",
            "      Epoch    GPU_mem   box_loss   cls_loss   dfl_loss  Instances       Size\n"
          ]
        },
        {
          "output_type": "stream",
          "name": "stderr",
          "text": [
            "     78/200      9.63G     0.7568     0.5136     0.9695        144       1024: 100%|██████████| 14/14 [00:08<00:00,  1.61it/s]\n",
            "                 Class     Images  Instances      Box(P          R      mAP50  mAP50-95): 100%|██████████| 4/4 [00:03<00:00,  1.04it/s]"
          ]
        },
        {
          "output_type": "stream",
          "name": "stdout",
          "text": [
            "                   all        118        761      0.938      0.952      0.966      0.787\n"
          ]
        },
        {
          "output_type": "stream",
          "name": "stderr",
          "text": [
            "\n"
          ]
        },
        {
          "output_type": "stream",
          "name": "stdout",
          "text": [
            "\n",
            "      Epoch    GPU_mem   box_loss   cls_loss   dfl_loss  Instances       Size\n"
          ]
        },
        {
          "output_type": "stream",
          "name": "stderr",
          "text": [
            "     79/200      10.2G     0.7513     0.5225     0.9739        102       1024: 100%|██████████| 14/14 [00:08<00:00,  1.56it/s]\n",
            "                 Class     Images  Instances      Box(P          R      mAP50  mAP50-95): 100%|██████████| 4/4 [00:03<00:00,  1.07it/s]"
          ]
        },
        {
          "output_type": "stream",
          "name": "stdout",
          "text": [
            "                   all        118        761       0.94      0.966      0.978      0.803\n"
          ]
        },
        {
          "output_type": "stream",
          "name": "stderr",
          "text": [
            "\n"
          ]
        },
        {
          "output_type": "stream",
          "name": "stdout",
          "text": [
            "\n",
            "      Epoch    GPU_mem   box_loss   cls_loss   dfl_loss  Instances       Size\n"
          ]
        },
        {
          "output_type": "stream",
          "name": "stderr",
          "text": [
            "     80/200        10G     0.7593     0.5207     0.9635        113       1024: 100%|██████████| 14/14 [00:09<00:00,  1.52it/s]\n",
            "                 Class     Images  Instances      Box(P          R      mAP50  mAP50-95): 100%|██████████| 4/4 [00:03<00:00,  1.30it/s]"
          ]
        },
        {
          "output_type": "stream",
          "name": "stdout",
          "text": [
            "                   all        118        761      0.944      0.966      0.974      0.793\n"
          ]
        },
        {
          "output_type": "stream",
          "name": "stderr",
          "text": [
            "\n"
          ]
        },
        {
          "output_type": "stream",
          "name": "stdout",
          "text": [
            "\n",
            "      Epoch    GPU_mem   box_loss   cls_loss   dfl_loss  Instances       Size\n"
          ]
        },
        {
          "output_type": "stream",
          "name": "stderr",
          "text": [
            "     81/200      9.58G     0.7279     0.4868     0.9611         70       1024: 100%|██████████| 14/14 [00:09<00:00,  1.48it/s]\n",
            "                 Class     Images  Instances      Box(P          R      mAP50  mAP50-95): 100%|██████████| 4/4 [00:02<00:00,  1.37it/s]"
          ]
        },
        {
          "output_type": "stream",
          "name": "stdout",
          "text": [
            "                   all        118        761      0.938      0.961      0.971      0.791\n"
          ]
        },
        {
          "output_type": "stream",
          "name": "stderr",
          "text": [
            "\n"
          ]
        },
        {
          "output_type": "stream",
          "name": "stdout",
          "text": [
            "\n",
            "      Epoch    GPU_mem   box_loss   cls_loss   dfl_loss  Instances       Size\n"
          ]
        },
        {
          "output_type": "stream",
          "name": "stderr",
          "text": [
            "     82/200      10.2G     0.7504     0.5164     0.9626        108       1024: 100%|██████████| 14/14 [00:10<00:00,  1.32it/s]\n",
            "                 Class     Images  Instances      Box(P          R      mAP50  mAP50-95): 100%|██████████| 4/4 [00:02<00:00,  1.47it/s]"
          ]
        },
        {
          "output_type": "stream",
          "name": "stdout",
          "text": [
            "                   all        118        761      0.945      0.961      0.979      0.786\n"
          ]
        },
        {
          "output_type": "stream",
          "name": "stderr",
          "text": [
            "\n"
          ]
        },
        {
          "output_type": "stream",
          "name": "stdout",
          "text": [
            "\n",
            "      Epoch    GPU_mem   box_loss   cls_loss   dfl_loss  Instances       Size\n"
          ]
        },
        {
          "output_type": "stream",
          "name": "stderr",
          "text": [
            "     83/200        10G     0.7669     0.5227      0.962        108       1024: 100%|██████████| 14/14 [00:10<00:00,  1.31it/s]\n",
            "                 Class     Images  Instances      Box(P          R      mAP50  mAP50-95): 100%|██████████| 4/4 [00:03<00:00,  1.09it/s]"
          ]
        },
        {
          "output_type": "stream",
          "name": "stdout",
          "text": [
            "                   all        118        761      0.949      0.962      0.981      0.799\n"
          ]
        },
        {
          "output_type": "stream",
          "name": "stderr",
          "text": [
            "\n"
          ]
        },
        {
          "output_type": "stream",
          "name": "stdout",
          "text": [
            "\n",
            "      Epoch    GPU_mem   box_loss   cls_loss   dfl_loss  Instances       Size\n"
          ]
        },
        {
          "output_type": "stream",
          "name": "stderr",
          "text": [
            "     84/200      9.94G     0.7388     0.5068     0.9654        101       1024: 100%|██████████| 14/14 [00:11<00:00,  1.20it/s]\n",
            "                 Class     Images  Instances      Box(P          R      mAP50  mAP50-95): 100%|██████████| 4/4 [00:02<00:00,  1.38it/s]"
          ]
        },
        {
          "output_type": "stream",
          "name": "stdout",
          "text": [
            "                   all        118        761      0.935      0.967      0.976      0.799\n"
          ]
        },
        {
          "output_type": "stream",
          "name": "stderr",
          "text": [
            "\n"
          ]
        },
        {
          "output_type": "stream",
          "name": "stdout",
          "text": [
            "\n",
            "      Epoch    GPU_mem   box_loss   cls_loss   dfl_loss  Instances       Size\n"
          ]
        },
        {
          "output_type": "stream",
          "name": "stderr",
          "text": [
            "     85/200      10.2G     0.7382     0.5205     0.9552        146       1024: 100%|██████████| 14/14 [00:10<00:00,  1.34it/s]\n",
            "                 Class     Images  Instances      Box(P          R      mAP50  mAP50-95): 100%|██████████| 4/4 [00:03<00:00,  1.26it/s]"
          ]
        },
        {
          "output_type": "stream",
          "name": "stdout",
          "text": [
            "                   all        118        761      0.962      0.958      0.981        0.8\n"
          ]
        },
        {
          "output_type": "stream",
          "name": "stderr",
          "text": [
            "\n"
          ]
        },
        {
          "output_type": "stream",
          "name": "stdout",
          "text": [
            "\n",
            "      Epoch    GPU_mem   box_loss   cls_loss   dfl_loss  Instances       Size\n"
          ]
        },
        {
          "output_type": "stream",
          "name": "stderr",
          "text": [
            "     86/200      10.3G     0.7235     0.5038     0.9459        147       1024: 100%|██████████| 14/14 [00:10<00:00,  1.32it/s]\n",
            "                 Class     Images  Instances      Box(P          R      mAP50  mAP50-95): 100%|██████████| 4/4 [00:02<00:00,  1.35it/s]"
          ]
        },
        {
          "output_type": "stream",
          "name": "stdout",
          "text": [
            "                   all        118        761      0.955      0.972      0.979      0.811\n"
          ]
        },
        {
          "output_type": "stream",
          "name": "stderr",
          "text": [
            "\n"
          ]
        },
        {
          "output_type": "stream",
          "name": "stdout",
          "text": [
            "\n",
            "      Epoch    GPU_mem   box_loss   cls_loss   dfl_loss  Instances       Size\n"
          ]
        },
        {
          "output_type": "stream",
          "name": "stderr",
          "text": [
            "     87/200      10.2G      0.745     0.5071     0.9693         79       1024: 100%|██████████| 14/14 [00:09<00:00,  1.41it/s]\n",
            "                 Class     Images  Instances      Box(P          R      mAP50  mAP50-95): 100%|██████████| 4/4 [00:03<00:00,  1.13it/s]"
          ]
        },
        {
          "output_type": "stream",
          "name": "stdout",
          "text": [
            "                   all        118        761      0.945      0.973      0.976      0.805\n"
          ]
        },
        {
          "output_type": "stream",
          "name": "stderr",
          "text": [
            "\n"
          ]
        },
        {
          "output_type": "stream",
          "name": "stdout",
          "text": [
            "\n",
            "      Epoch    GPU_mem   box_loss   cls_loss   dfl_loss  Instances       Size\n"
          ]
        },
        {
          "output_type": "stream",
          "name": "stderr",
          "text": [
            "     88/200      9.54G     0.7178     0.5073     0.9648         61       1024: 100%|██████████| 14/14 [00:09<00:00,  1.51it/s]\n",
            "                 Class     Images  Instances      Box(P          R      mAP50  mAP50-95): 100%|██████████| 4/4 [00:03<00:00,  1.05it/s]"
          ]
        },
        {
          "output_type": "stream",
          "name": "stdout",
          "text": [
            "                   all        118        761      0.952      0.976      0.979      0.797\n"
          ]
        },
        {
          "output_type": "stream",
          "name": "stderr",
          "text": [
            "\n"
          ]
        },
        {
          "output_type": "stream",
          "name": "stdout",
          "text": [
            "\n",
            "      Epoch    GPU_mem   box_loss   cls_loss   dfl_loss  Instances       Size\n"
          ]
        },
        {
          "output_type": "stream",
          "name": "stderr",
          "text": [
            "     89/200      9.98G     0.7262      0.489     0.9571        153       1024: 100%|██████████| 14/14 [00:09<00:00,  1.53it/s]\n",
            "                 Class     Images  Instances      Box(P          R      mAP50  mAP50-95): 100%|██████████| 4/4 [00:04<00:00,  1.02s/it]"
          ]
        },
        {
          "output_type": "stream",
          "name": "stdout",
          "text": [
            "                   all        118        761      0.941      0.974      0.979      0.803\n"
          ]
        },
        {
          "output_type": "stream",
          "name": "stderr",
          "text": [
            "\n"
          ]
        },
        {
          "output_type": "stream",
          "name": "stdout",
          "text": [
            "\n",
            "      Epoch    GPU_mem   box_loss   cls_loss   dfl_loss  Instances       Size\n"
          ]
        },
        {
          "output_type": "stream",
          "name": "stderr",
          "text": [
            "     90/200        10G     0.7284     0.5027     0.9513         98       1024: 100%|██████████| 14/14 [00:08<00:00,  1.59it/s]\n",
            "                 Class     Images  Instances      Box(P          R      mAP50  mAP50-95): 100%|██████████| 4/4 [00:04<00:00,  1.11s/it]"
          ]
        },
        {
          "output_type": "stream",
          "name": "stdout",
          "text": [
            "                   all        118        761      0.949      0.961      0.978      0.805\n"
          ]
        },
        {
          "output_type": "stream",
          "name": "stderr",
          "text": [
            "\n"
          ]
        },
        {
          "output_type": "stream",
          "name": "stdout",
          "text": [
            "\n",
            "      Epoch    GPU_mem   box_loss   cls_loss   dfl_loss  Instances       Size\n"
          ]
        },
        {
          "output_type": "stream",
          "name": "stderr",
          "text": [
            "     91/200        10G     0.6978     0.4849     0.9461         80       1024: 100%|██████████| 14/14 [00:08<00:00,  1.63it/s]\n",
            "                 Class     Images  Instances      Box(P          R      mAP50  mAP50-95): 100%|██████████| 4/4 [00:04<00:00,  1.06s/it]"
          ]
        },
        {
          "output_type": "stream",
          "name": "stdout",
          "text": [
            "                   all        118        761      0.949       0.96      0.979      0.805\n"
          ]
        },
        {
          "output_type": "stream",
          "name": "stderr",
          "text": [
            "\n"
          ]
        },
        {
          "output_type": "stream",
          "name": "stdout",
          "text": [
            "\n",
            "      Epoch    GPU_mem   box_loss   cls_loss   dfl_loss  Instances       Size\n"
          ]
        },
        {
          "output_type": "stream",
          "name": "stderr",
          "text": [
            "     92/200      9.88G     0.7254     0.4834     0.9385         96       1024: 100%|██████████| 14/14 [00:08<00:00,  1.60it/s]\n",
            "                 Class     Images  Instances      Box(P          R      mAP50  mAP50-95): 100%|██████████| 4/4 [00:03<00:00,  1.03it/s]"
          ]
        },
        {
          "output_type": "stream",
          "name": "stdout",
          "text": [
            "                   all        118        761      0.948      0.978      0.981      0.813\n"
          ]
        },
        {
          "output_type": "stream",
          "name": "stderr",
          "text": [
            "\n"
          ]
        },
        {
          "output_type": "stream",
          "name": "stdout",
          "text": [
            "\n",
            "      Epoch    GPU_mem   box_loss   cls_loss   dfl_loss  Instances       Size\n"
          ]
        },
        {
          "output_type": "stream",
          "name": "stderr",
          "text": [
            "     93/200       9.6G     0.7062     0.4888      0.948         84       1024: 100%|██████████| 14/14 [00:08<00:00,  1.64it/s]\n",
            "                 Class     Images  Instances      Box(P          R      mAP50  mAP50-95): 100%|██████████| 4/4 [00:03<00:00,  1.14it/s]"
          ]
        },
        {
          "output_type": "stream",
          "name": "stdout",
          "text": [
            "                   all        118        761      0.969      0.978      0.986      0.821\n"
          ]
        },
        {
          "output_type": "stream",
          "name": "stderr",
          "text": [
            "\n"
          ]
        },
        {
          "output_type": "stream",
          "name": "stdout",
          "text": [
            "\n",
            "      Epoch    GPU_mem   box_loss   cls_loss   dfl_loss  Instances       Size\n"
          ]
        },
        {
          "output_type": "stream",
          "name": "stderr",
          "text": [
            "     94/200      10.2G     0.6985     0.4739     0.9412        147       1024: 100%|██████████| 14/14 [00:08<00:00,  1.56it/s]\n",
            "                 Class     Images  Instances      Box(P          R      mAP50  mAP50-95): 100%|██████████| 4/4 [00:03<00:00,  1.00it/s]"
          ]
        },
        {
          "output_type": "stream",
          "name": "stdout",
          "text": [
            "                   all        118        761      0.968      0.978      0.988      0.825\n"
          ]
        },
        {
          "output_type": "stream",
          "name": "stderr",
          "text": [
            "\n"
          ]
        },
        {
          "output_type": "stream",
          "name": "stdout",
          "text": [
            "\n",
            "      Epoch    GPU_mem   box_loss   cls_loss   dfl_loss  Instances       Size\n"
          ]
        },
        {
          "output_type": "stream",
          "name": "stderr",
          "text": [
            "     95/200        10G     0.7047     0.4788     0.9498        131       1024: 100%|██████████| 14/14 [00:08<00:00,  1.62it/s]\n",
            "                 Class     Images  Instances      Box(P          R      mAP50  mAP50-95): 100%|██████████| 4/4 [00:02<00:00,  1.39it/s]"
          ]
        },
        {
          "output_type": "stream",
          "name": "stdout",
          "text": [
            "                   all        118        761      0.967      0.979      0.988       0.83\n"
          ]
        },
        {
          "output_type": "stream",
          "name": "stderr",
          "text": [
            "\n"
          ]
        },
        {
          "output_type": "stream",
          "name": "stdout",
          "text": [
            "\n",
            "      Epoch    GPU_mem   box_loss   cls_loss   dfl_loss  Instances       Size\n"
          ]
        },
        {
          "output_type": "stream",
          "name": "stderr",
          "text": [
            "     96/200      9.62G     0.6855     0.4745     0.9419        128       1024: 100%|██████████| 14/14 [00:09<00:00,  1.45it/s]\n",
            "                 Class     Images  Instances      Box(P          R      mAP50  mAP50-95): 100%|██████████| 4/4 [00:03<00:00,  1.32it/s]"
          ]
        },
        {
          "output_type": "stream",
          "name": "stdout",
          "text": [
            "                   all        118        761      0.957      0.962      0.984       0.82\n"
          ]
        },
        {
          "output_type": "stream",
          "name": "stderr",
          "text": [
            "\n"
          ]
        },
        {
          "output_type": "stream",
          "name": "stdout",
          "text": [
            "\n",
            "      Epoch    GPU_mem   box_loss   cls_loss   dfl_loss  Instances       Size\n"
          ]
        },
        {
          "output_type": "stream",
          "name": "stderr",
          "text": [
            "     97/200      9.62G     0.6746     0.4873     0.9539         87       1024: 100%|██████████| 14/14 [00:09<00:00,  1.40it/s]\n",
            "                 Class     Images  Instances      Box(P          R      mAP50  mAP50-95): 100%|██████████| 4/4 [00:02<00:00,  1.37it/s]"
          ]
        },
        {
          "output_type": "stream",
          "name": "stdout",
          "text": [
            "                   all        118        761      0.956      0.974      0.984      0.831\n"
          ]
        },
        {
          "output_type": "stream",
          "name": "stderr",
          "text": [
            "\n"
          ]
        },
        {
          "output_type": "stream",
          "name": "stdout",
          "text": [
            "\n",
            "      Epoch    GPU_mem   box_loss   cls_loss   dfl_loss  Instances       Size\n"
          ]
        },
        {
          "output_type": "stream",
          "name": "stderr",
          "text": [
            "     98/200      9.62G     0.7229     0.4873     0.9737        109       1024: 100%|██████████| 14/14 [00:10<00:00,  1.33it/s]\n",
            "                 Class     Images  Instances      Box(P          R      mAP50  mAP50-95): 100%|██████████| 4/4 [00:02<00:00,  1.39it/s]"
          ]
        },
        {
          "output_type": "stream",
          "name": "stdout",
          "text": [
            "                   all        118        761      0.959      0.979      0.988      0.827\n"
          ]
        },
        {
          "output_type": "stream",
          "name": "stderr",
          "text": [
            "\n"
          ]
        },
        {
          "output_type": "stream",
          "name": "stdout",
          "text": [
            "\n",
            "      Epoch    GPU_mem   box_loss   cls_loss   dfl_loss  Instances       Size\n"
          ]
        },
        {
          "output_type": "stream",
          "name": "stderr",
          "text": [
            "     99/200      9.89G     0.7042     0.4854     0.9427        146       1024: 100%|██████████| 14/14 [00:10<00:00,  1.27it/s]\n",
            "                 Class     Images  Instances      Box(P          R      mAP50  mAP50-95): 100%|██████████| 4/4 [00:02<00:00,  1.35it/s]"
          ]
        },
        {
          "output_type": "stream",
          "name": "stdout",
          "text": [
            "                   all        118        761      0.963      0.978      0.988      0.832\n"
          ]
        },
        {
          "output_type": "stream",
          "name": "stderr",
          "text": [
            "\n"
          ]
        },
        {
          "output_type": "stream",
          "name": "stdout",
          "text": [
            "\n",
            "      Epoch    GPU_mem   box_loss   cls_loss   dfl_loss  Instances       Size\n"
          ]
        },
        {
          "output_type": "stream",
          "name": "stderr",
          "text": [
            "    100/200       9.8G     0.6899     0.4722     0.9321        113       1024: 100%|██████████| 14/14 [00:10<00:00,  1.32it/s]\n",
            "                 Class     Images  Instances      Box(P          R      mAP50  mAP50-95): 100%|██████████| 4/4 [00:03<00:00,  1.31it/s]"
          ]
        },
        {
          "output_type": "stream",
          "name": "stdout",
          "text": [
            "                   all        118        761      0.957      0.972      0.985       0.83\n"
          ]
        },
        {
          "output_type": "stream",
          "name": "stderr",
          "text": [
            "\n"
          ]
        },
        {
          "output_type": "stream",
          "name": "stdout",
          "text": [
            "\n",
            "      Epoch    GPU_mem   box_loss   cls_loss   dfl_loss  Instances       Size\n"
          ]
        },
        {
          "output_type": "stream",
          "name": "stderr",
          "text": [
            "    101/200      9.98G     0.6964     0.4928     0.9614        109       1024: 100%|██████████| 14/14 [00:10<00:00,  1.31it/s]\n",
            "                 Class     Images  Instances      Box(P          R      mAP50  mAP50-95): 100%|██████████| 4/4 [00:03<00:00,  1.25it/s]"
          ]
        },
        {
          "output_type": "stream",
          "name": "stdout",
          "text": [
            "                   all        118        761      0.951      0.975      0.984      0.829\n"
          ]
        },
        {
          "output_type": "stream",
          "name": "stderr",
          "text": [
            "\n"
          ]
        },
        {
          "output_type": "stream",
          "name": "stdout",
          "text": [
            "\n",
            "      Epoch    GPU_mem   box_loss   cls_loss   dfl_loss  Instances       Size\n"
          ]
        },
        {
          "output_type": "stream",
          "name": "stderr",
          "text": [
            "    102/200      9.87G     0.6861     0.4645     0.9462         90       1024: 100%|██████████| 14/14 [00:10<00:00,  1.37it/s]\n",
            "                 Class     Images  Instances      Box(P          R      mAP50  mAP50-95): 100%|██████████| 4/4 [00:03<00:00,  1.21it/s]"
          ]
        },
        {
          "output_type": "stream",
          "name": "stdout",
          "text": [
            "                   all        118        761      0.966      0.985      0.989       0.83\n"
          ]
        },
        {
          "output_type": "stream",
          "name": "stderr",
          "text": [
            "\n"
          ]
        },
        {
          "output_type": "stream",
          "name": "stdout",
          "text": [
            "\n",
            "      Epoch    GPU_mem   box_loss   cls_loss   dfl_loss  Instances       Size\n"
          ]
        },
        {
          "output_type": "stream",
          "name": "stderr",
          "text": [
            "    103/200       9.7G     0.6991     0.4622     0.9385        106       1024: 100%|██████████| 14/14 [00:09<00:00,  1.47it/s]\n",
            "                 Class     Images  Instances      Box(P          R      mAP50  mAP50-95): 100%|██████████| 4/4 [00:03<00:00,  1.13it/s]"
          ]
        },
        {
          "output_type": "stream",
          "name": "stdout",
          "text": [
            "                   all        118        761      0.963      0.987      0.989      0.836\n"
          ]
        },
        {
          "output_type": "stream",
          "name": "stderr",
          "text": [
            "\n"
          ]
        },
        {
          "output_type": "stream",
          "name": "stdout",
          "text": [
            "\n",
            "      Epoch    GPU_mem   box_loss   cls_loss   dfl_loss  Instances       Size\n"
          ]
        },
        {
          "output_type": "stream",
          "name": "stderr",
          "text": [
            "    104/200       9.8G     0.6683     0.4585     0.9335        151       1024: 100%|██████████| 14/14 [00:09<00:00,  1.47it/s]\n",
            "                 Class     Images  Instances      Box(P          R      mAP50  mAP50-95): 100%|██████████| 4/4 [00:03<00:00,  1.05it/s]"
          ]
        },
        {
          "output_type": "stream",
          "name": "stdout",
          "text": [
            "                   all        118        761      0.977      0.983      0.988      0.826\n"
          ]
        },
        {
          "output_type": "stream",
          "name": "stderr",
          "text": [
            "\n"
          ]
        },
        {
          "output_type": "stream",
          "name": "stdout",
          "text": [
            "\n",
            "      Epoch    GPU_mem   box_loss   cls_loss   dfl_loss  Instances       Size\n"
          ]
        },
        {
          "output_type": "stream",
          "name": "stderr",
          "text": [
            "    105/200      9.84G     0.7128     0.4763     0.9631         96       1024: 100%|██████████| 14/14 [00:08<00:00,  1.61it/s]\n",
            "                 Class     Images  Instances      Box(P          R      mAP50  mAP50-95): 100%|██████████| 4/4 [00:04<00:00,  1.11s/it]"
          ]
        },
        {
          "output_type": "stream",
          "name": "stdout",
          "text": [
            "                   all        118        761      0.975      0.986      0.989      0.838\n"
          ]
        },
        {
          "output_type": "stream",
          "name": "stderr",
          "text": [
            "\n"
          ]
        },
        {
          "output_type": "stream",
          "name": "stdout",
          "text": [
            "\n",
            "      Epoch    GPU_mem   box_loss   cls_loss   dfl_loss  Instances       Size\n"
          ]
        },
        {
          "output_type": "stream",
          "name": "stderr",
          "text": [
            "    106/200      10.1G     0.6709     0.4453     0.9224        152       1024: 100%|██████████| 14/14 [00:08<00:00,  1.60it/s]\n",
            "                 Class     Images  Instances      Box(P          R      mAP50  mAP50-95): 100%|██████████| 4/4 [00:04<00:00,  1.09s/it]"
          ]
        },
        {
          "output_type": "stream",
          "name": "stdout",
          "text": [
            "                   all        118        761       0.97      0.987      0.989      0.835\n"
          ]
        },
        {
          "output_type": "stream",
          "name": "stderr",
          "text": [
            "\n"
          ]
        },
        {
          "output_type": "stream",
          "name": "stdout",
          "text": [
            "\n",
            "      Epoch    GPU_mem   box_loss   cls_loss   dfl_loss  Instances       Size\n"
          ]
        },
        {
          "output_type": "stream",
          "name": "stderr",
          "text": [
            "    107/200      9.59G     0.6733     0.4453     0.9308        105       1024: 100%|██████████| 14/14 [00:08<00:00,  1.62it/s]\n",
            "                 Class     Images  Instances      Box(P          R      mAP50  mAP50-95): 100%|██████████| 4/4 [00:03<00:00,  1.07it/s]"
          ]
        },
        {
          "output_type": "stream",
          "name": "stdout",
          "text": [
            "                   all        118        761       0.95      0.983      0.986      0.825\n"
          ]
        },
        {
          "output_type": "stream",
          "name": "stderr",
          "text": [
            "\n"
          ]
        },
        {
          "output_type": "stream",
          "name": "stdout",
          "text": [
            "\n",
            "      Epoch    GPU_mem   box_loss   cls_loss   dfl_loss  Instances       Size\n"
          ]
        },
        {
          "output_type": "stream",
          "name": "stderr",
          "text": [
            "    108/200      9.54G     0.6719     0.4452     0.9383         70       1024: 100%|██████████| 14/14 [00:09<00:00,  1.53it/s]\n",
            "                 Class     Images  Instances      Box(P          R      mAP50  mAP50-95): 100%|██████████| 4/4 [00:03<00:00,  1.26it/s]"
          ]
        },
        {
          "output_type": "stream",
          "name": "stdout",
          "text": [
            "                   all        118        761      0.967      0.986      0.988      0.833\n"
          ]
        },
        {
          "output_type": "stream",
          "name": "stderr",
          "text": [
            "\n"
          ]
        },
        {
          "output_type": "stream",
          "name": "stdout",
          "text": [
            "\n",
            "      Epoch    GPU_mem   box_loss   cls_loss   dfl_loss  Instances       Size\n"
          ]
        },
        {
          "output_type": "stream",
          "name": "stderr",
          "text": [
            "    109/200      10.2G     0.7041     0.4634     0.9487        117       1024: 100%|██████████| 14/14 [00:08<00:00,  1.57it/s]\n",
            "                 Class     Images  Instances      Box(P          R      mAP50  mAP50-95): 100%|██████████| 4/4 [00:03<00:00,  1.29it/s]"
          ]
        },
        {
          "output_type": "stream",
          "name": "stdout",
          "text": [
            "                   all        118        761      0.973      0.981      0.989      0.826\n"
          ]
        },
        {
          "output_type": "stream",
          "name": "stderr",
          "text": [
            "\n"
          ]
        },
        {
          "output_type": "stream",
          "name": "stdout",
          "text": [
            "\n",
            "      Epoch    GPU_mem   box_loss   cls_loss   dfl_loss  Instances       Size\n"
          ]
        },
        {
          "output_type": "stream",
          "name": "stderr",
          "text": [
            "    110/200      9.84G     0.6757     0.4513     0.9413        122       1024: 100%|██████████| 14/14 [00:10<00:00,  1.34it/s]\n",
            "                 Class     Images  Instances      Box(P          R      mAP50  mAP50-95): 100%|██████████| 4/4 [00:02<00:00,  1.35it/s]"
          ]
        },
        {
          "output_type": "stream",
          "name": "stdout",
          "text": [
            "                   all        118        761      0.969      0.988      0.986      0.839\n"
          ]
        },
        {
          "output_type": "stream",
          "name": "stderr",
          "text": [
            "\n"
          ]
        },
        {
          "output_type": "stream",
          "name": "stdout",
          "text": [
            "\n",
            "      Epoch    GPU_mem   box_loss   cls_loss   dfl_loss  Instances       Size\n"
          ]
        },
        {
          "output_type": "stream",
          "name": "stderr",
          "text": [
            "    111/200      9.99G     0.6847     0.4353     0.9304        146       1024: 100%|██████████| 14/14 [00:10<00:00,  1.30it/s]\n",
            "                 Class     Images  Instances      Box(P          R      mAP50  mAP50-95): 100%|██████████| 4/4 [00:02<00:00,  1.39it/s]"
          ]
        },
        {
          "output_type": "stream",
          "name": "stdout",
          "text": [
            "                   all        118        761      0.957      0.984      0.982      0.847\n"
          ]
        },
        {
          "output_type": "stream",
          "name": "stderr",
          "text": [
            "\n"
          ]
        },
        {
          "output_type": "stream",
          "name": "stdout",
          "text": [
            "\n",
            "      Epoch    GPU_mem   box_loss   cls_loss   dfl_loss  Instances       Size\n"
          ]
        },
        {
          "output_type": "stream",
          "name": "stderr",
          "text": [
            "    112/200      9.79G     0.6736     0.4443     0.9369        120       1024: 100%|██████████| 14/14 [00:11<00:00,  1.26it/s]\n",
            "                 Class     Images  Instances      Box(P          R      mAP50  mAP50-95): 100%|██████████| 4/4 [00:02<00:00,  1.43it/s]"
          ]
        },
        {
          "output_type": "stream",
          "name": "stdout",
          "text": [
            "                   all        118        761      0.963      0.989      0.987      0.843\n"
          ]
        },
        {
          "output_type": "stream",
          "name": "stderr",
          "text": [
            "\n"
          ]
        },
        {
          "output_type": "stream",
          "name": "stdout",
          "text": [
            "\n",
            "      Epoch    GPU_mem   box_loss   cls_loss   dfl_loss  Instances       Size\n"
          ]
        },
        {
          "output_type": "stream",
          "name": "stderr",
          "text": [
            "    113/200      9.64G     0.6505     0.4323     0.9288        110       1024: 100%|██████████| 14/14 [00:11<00:00,  1.27it/s]\n",
            "                 Class     Images  Instances      Box(P          R      mAP50  mAP50-95): 100%|██████████| 4/4 [00:02<00:00,  1.38it/s]"
          ]
        },
        {
          "output_type": "stream",
          "name": "stdout",
          "text": [
            "                   all        118        761       0.98       0.97       0.99      0.854\n"
          ]
        },
        {
          "output_type": "stream",
          "name": "stderr",
          "text": [
            "\n"
          ]
        },
        {
          "output_type": "stream",
          "name": "stdout",
          "text": [
            "\n",
            "      Epoch    GPU_mem   box_loss   cls_loss   dfl_loss  Instances       Size\n"
          ]
        },
        {
          "output_type": "stream",
          "name": "stderr",
          "text": [
            "    114/200      10.2G     0.6514     0.4312     0.9265         93       1024: 100%|██████████| 14/14 [00:11<00:00,  1.26it/s]\n",
            "                 Class     Images  Instances      Box(P          R      mAP50  mAP50-95): 100%|██████████| 4/4 [00:02<00:00,  1.38it/s]"
          ]
        },
        {
          "output_type": "stream",
          "name": "stdout",
          "text": [
            "                   all        118        761      0.969      0.976      0.988      0.844\n"
          ]
        },
        {
          "output_type": "stream",
          "name": "stderr",
          "text": [
            "\n"
          ]
        },
        {
          "output_type": "stream",
          "name": "stdout",
          "text": [
            "\n",
            "      Epoch    GPU_mem   box_loss   cls_loss   dfl_loss  Instances       Size\n"
          ]
        },
        {
          "output_type": "stream",
          "name": "stderr",
          "text": [
            "    115/200      9.77G     0.6504       0.44     0.9271         76       1024: 100%|██████████| 14/14 [00:10<00:00,  1.34it/s]\n",
            "                 Class     Images  Instances      Box(P          R      mAP50  mAP50-95): 100%|██████████| 4/4 [00:03<00:00,  1.32it/s]"
          ]
        },
        {
          "output_type": "stream",
          "name": "stdout",
          "text": [
            "                   all        118        761      0.969      0.988      0.988      0.849\n"
          ]
        },
        {
          "output_type": "stream",
          "name": "stderr",
          "text": [
            "\n"
          ]
        },
        {
          "output_type": "stream",
          "name": "stdout",
          "text": [
            "\n",
            "      Epoch    GPU_mem   box_loss   cls_loss   dfl_loss  Instances       Size\n"
          ]
        },
        {
          "output_type": "stream",
          "name": "stderr",
          "text": [
            "    116/200      9.63G     0.6675     0.4403     0.9298         92       1024: 100%|██████████| 14/14 [00:10<00:00,  1.35it/s]\n",
            "                 Class     Images  Instances      Box(P          R      mAP50  mAP50-95): 100%|██████████| 4/4 [00:03<00:00,  1.27it/s]"
          ]
        },
        {
          "output_type": "stream",
          "name": "stdout",
          "text": [
            "                   all        118        761       0.97      0.984      0.989       0.85\n"
          ]
        },
        {
          "output_type": "stream",
          "name": "stderr",
          "text": [
            "\n"
          ]
        },
        {
          "output_type": "stream",
          "name": "stdout",
          "text": [
            "\n",
            "      Epoch    GPU_mem   box_loss   cls_loss   dfl_loss  Instances       Size\n"
          ]
        },
        {
          "output_type": "stream",
          "name": "stderr",
          "text": [
            "    117/200      10.2G     0.6344     0.4182     0.9189        160       1024: 100%|██████████| 14/14 [00:09<00:00,  1.52it/s]\n",
            "                 Class     Images  Instances      Box(P          R      mAP50  mAP50-95): 100%|██████████| 4/4 [00:04<00:00,  1.02s/it]"
          ]
        },
        {
          "output_type": "stream",
          "name": "stdout",
          "text": [
            "                   all        118        761      0.972      0.972      0.989       0.85\n"
          ]
        },
        {
          "output_type": "stream",
          "name": "stderr",
          "text": [
            "\n"
          ]
        },
        {
          "output_type": "stream",
          "name": "stdout",
          "text": [
            "\n",
            "      Epoch    GPU_mem   box_loss   cls_loss   dfl_loss  Instances       Size\n"
          ]
        },
        {
          "output_type": "stream",
          "name": "stderr",
          "text": [
            "    118/200      9.83G     0.6421     0.4123     0.9299        134       1024: 100%|██████████| 14/14 [00:12<00:00,  1.12it/s]\n",
            "                 Class     Images  Instances      Box(P          R      mAP50  mAP50-95): 100%|██████████| 4/4 [00:03<00:00,  1.14it/s]"
          ]
        },
        {
          "output_type": "stream",
          "name": "stdout",
          "text": [
            "                   all        118        761      0.975      0.977      0.987       0.85\n"
          ]
        },
        {
          "output_type": "stream",
          "name": "stderr",
          "text": [
            "\n"
          ]
        },
        {
          "output_type": "stream",
          "name": "stdout",
          "text": [
            "\n",
            "      Epoch    GPU_mem   box_loss   cls_loss   dfl_loss  Instances       Size\n"
          ]
        },
        {
          "output_type": "stream",
          "name": "stderr",
          "text": [
            "    119/200      9.87G     0.6502      0.425     0.9109        132       1024: 100%|██████████| 14/14 [00:09<00:00,  1.51it/s]\n",
            "                 Class     Images  Instances      Box(P          R      mAP50  mAP50-95): 100%|██████████| 4/4 [00:03<00:00,  1.00it/s]"
          ]
        },
        {
          "output_type": "stream",
          "name": "stdout",
          "text": [
            "                   all        118        761      0.973      0.986      0.989      0.852\n"
          ]
        },
        {
          "output_type": "stream",
          "name": "stderr",
          "text": [
            "\n"
          ]
        },
        {
          "output_type": "stream",
          "name": "stdout",
          "text": [
            "\n",
            "      Epoch    GPU_mem   box_loss   cls_loss   dfl_loss  Instances       Size\n"
          ]
        },
        {
          "output_type": "stream",
          "name": "stderr",
          "text": [
            "    120/200      9.79G     0.6641     0.4402     0.9272        226       1024: 100%|██████████| 14/14 [00:09<00:00,  1.55it/s]\n",
            "                 Class     Images  Instances      Box(P          R      mAP50  mAP50-95): 100%|██████████| 4/4 [00:03<00:00,  1.02it/s]"
          ]
        },
        {
          "output_type": "stream",
          "name": "stdout",
          "text": [
            "                   all        118        761      0.971      0.982       0.99      0.849\n"
          ]
        },
        {
          "output_type": "stream",
          "name": "stderr",
          "text": [
            "\n"
          ]
        },
        {
          "output_type": "stream",
          "name": "stdout",
          "text": [
            "\n",
            "      Epoch    GPU_mem   box_loss   cls_loss   dfl_loss  Instances       Size\n"
          ]
        },
        {
          "output_type": "stream",
          "name": "stderr",
          "text": [
            "    121/200       9.6G     0.6438     0.4232     0.9391        108       1024: 100%|██████████| 14/14 [00:08<00:00,  1.61it/s]\n",
            "                 Class     Images  Instances      Box(P          R      mAP50  mAP50-95): 100%|██████████| 4/4 [00:04<00:00,  1.06s/it]"
          ]
        },
        {
          "output_type": "stream",
          "name": "stdout",
          "text": [
            "                   all        118        761      0.975      0.985       0.99      0.856\n"
          ]
        },
        {
          "output_type": "stream",
          "name": "stderr",
          "text": [
            "\n"
          ]
        },
        {
          "output_type": "stream",
          "name": "stdout",
          "text": [
            "\n",
            "      Epoch    GPU_mem   box_loss   cls_loss   dfl_loss  Instances       Size\n"
          ]
        },
        {
          "output_type": "stream",
          "name": "stderr",
          "text": [
            "    122/200        10G      0.618     0.4152     0.9134        101       1024: 100%|██████████| 14/14 [00:08<00:00,  1.61it/s]\n",
            "                 Class     Images  Instances      Box(P          R      mAP50  mAP50-95): 100%|██████████| 4/4 [00:03<00:00,  1.11it/s]"
          ]
        },
        {
          "output_type": "stream",
          "name": "stdout",
          "text": [
            "                   all        118        761       0.98      0.984       0.99      0.858\n"
          ]
        },
        {
          "output_type": "stream",
          "name": "stderr",
          "text": [
            "\n"
          ]
        },
        {
          "output_type": "stream",
          "name": "stdout",
          "text": [
            "\n",
            "      Epoch    GPU_mem   box_loss   cls_loss   dfl_loss  Instances       Size\n"
          ]
        },
        {
          "output_type": "stream",
          "name": "stderr",
          "text": [
            "    123/200       9.7G     0.6213     0.4034     0.8974        105       1024: 100%|██████████| 14/14 [00:08<00:00,  1.58it/s]\n",
            "                 Class     Images  Instances      Box(P          R      mAP50  mAP50-95): 100%|██████████| 4/4 [00:04<00:00,  1.00s/it]"
          ]
        },
        {
          "output_type": "stream",
          "name": "stdout",
          "text": [
            "                   all        118        761      0.982      0.985      0.989      0.865\n"
          ]
        },
        {
          "output_type": "stream",
          "name": "stderr",
          "text": [
            "\n"
          ]
        },
        {
          "output_type": "stream",
          "name": "stdout",
          "text": [
            "\n",
            "      Epoch    GPU_mem   box_loss   cls_loss   dfl_loss  Instances       Size\n"
          ]
        },
        {
          "output_type": "stream",
          "name": "stderr",
          "text": [
            "    124/200      10.3G     0.6232     0.4291     0.9255        124       1024: 100%|██████████| 14/14 [00:08<00:00,  1.60it/s]\n",
            "                 Class     Images  Instances      Box(P          R      mAP50  mAP50-95): 100%|██████████| 4/4 [00:03<00:00,  1.18it/s]"
          ]
        },
        {
          "output_type": "stream",
          "name": "stdout",
          "text": [
            "                   all        118        761      0.978      0.985       0.99      0.862\n"
          ]
        },
        {
          "output_type": "stream",
          "name": "stderr",
          "text": [
            "\n"
          ]
        },
        {
          "output_type": "stream",
          "name": "stdout",
          "text": [
            "\n",
            "      Epoch    GPU_mem   box_loss   cls_loss   dfl_loss  Instances       Size\n"
          ]
        },
        {
          "output_type": "stream",
          "name": "stderr",
          "text": [
            "    125/200      10.2G     0.6412     0.4529     0.9318         86       1024: 100%|██████████| 14/14 [00:09<00:00,  1.47it/s]\n",
            "                 Class     Images  Instances      Box(P          R      mAP50  mAP50-95): 100%|██████████| 4/4 [00:03<00:00,  1.25it/s]"
          ]
        },
        {
          "output_type": "stream",
          "name": "stdout",
          "text": [
            "                   all        118        761      0.977       0.98      0.989      0.856\n"
          ]
        },
        {
          "output_type": "stream",
          "name": "stderr",
          "text": [
            "\n"
          ]
        },
        {
          "output_type": "stream",
          "name": "stdout",
          "text": [
            "\n",
            "      Epoch    GPU_mem   box_loss   cls_loss   dfl_loss  Instances       Size\n"
          ]
        },
        {
          "output_type": "stream",
          "name": "stderr",
          "text": [
            "    126/200      9.61G     0.6122     0.4065     0.9158        114       1024: 100%|██████████| 14/14 [00:09<00:00,  1.44it/s]\n",
            "                 Class     Images  Instances      Box(P          R      mAP50  mAP50-95): 100%|██████████| 4/4 [00:02<00:00,  1.36it/s]"
          ]
        },
        {
          "output_type": "stream",
          "name": "stdout",
          "text": [
            "                   all        118        761      0.969      0.983      0.989      0.862\n"
          ]
        },
        {
          "output_type": "stream",
          "name": "stderr",
          "text": [
            "\n"
          ]
        },
        {
          "output_type": "stream",
          "name": "stdout",
          "text": [
            "\n",
            "      Epoch    GPU_mem   box_loss   cls_loss   dfl_loss  Instances       Size\n"
          ]
        },
        {
          "output_type": "stream",
          "name": "stderr",
          "text": [
            "    127/200      9.98G     0.6124     0.4204     0.9133        114       1024: 100%|██████████| 14/14 [00:10<00:00,  1.31it/s]\n",
            "                 Class     Images  Instances      Box(P          R      mAP50  mAP50-95): 100%|██████████| 4/4 [00:02<00:00,  1.41it/s]"
          ]
        },
        {
          "output_type": "stream",
          "name": "stdout",
          "text": [
            "                   all        118        761      0.969      0.989      0.989      0.859\n"
          ]
        },
        {
          "output_type": "stream",
          "name": "stderr",
          "text": [
            "\n"
          ]
        },
        {
          "output_type": "stream",
          "name": "stdout",
          "text": [
            "\n",
            "      Epoch    GPU_mem   box_loss   cls_loss   dfl_loss  Instances       Size\n"
          ]
        },
        {
          "output_type": "stream",
          "name": "stderr",
          "text": [
            "    128/200      9.84G     0.6065     0.4041     0.9108        165       1024: 100%|██████████| 14/14 [00:10<00:00,  1.30it/s]\n",
            "                 Class     Images  Instances      Box(P          R      mAP50  mAP50-95): 100%|██████████| 4/4 [00:03<00:00,  1.30it/s]"
          ]
        },
        {
          "output_type": "stream",
          "name": "stdout",
          "text": [
            "                   all        118        761      0.971      0.989      0.989      0.868\n"
          ]
        },
        {
          "output_type": "stream",
          "name": "stderr",
          "text": [
            "\n"
          ]
        },
        {
          "output_type": "stream",
          "name": "stdout",
          "text": [
            "\n",
            "      Epoch    GPU_mem   box_loss   cls_loss   dfl_loss  Instances       Size\n"
          ]
        },
        {
          "output_type": "stream",
          "name": "stderr",
          "text": [
            "    129/200      9.58G     0.6231     0.4041     0.9179         94       1024: 100%|██████████| 14/14 [00:10<00:00,  1.34it/s]\n",
            "                 Class     Images  Instances      Box(P          R      mAP50  mAP50-95): 100%|██████████| 4/4 [00:03<00:00,  1.31it/s]"
          ]
        },
        {
          "output_type": "stream",
          "name": "stdout",
          "text": [
            "                   all        118        761      0.967      0.979      0.989      0.862\n"
          ]
        },
        {
          "output_type": "stream",
          "name": "stderr",
          "text": [
            "\n"
          ]
        },
        {
          "output_type": "stream",
          "name": "stdout",
          "text": [
            "\n",
            "      Epoch    GPU_mem   box_loss   cls_loss   dfl_loss  Instances       Size\n"
          ]
        },
        {
          "output_type": "stream",
          "name": "stderr",
          "text": [
            "    130/200      9.85G     0.6142     0.4172     0.9197        103       1024: 100%|██████████| 14/14 [00:10<00:00,  1.32it/s]\n",
            "                 Class     Images  Instances      Box(P          R      mAP50  mAP50-95): 100%|██████████| 4/4 [00:02<00:00,  1.34it/s]"
          ]
        },
        {
          "output_type": "stream",
          "name": "stdout",
          "text": [
            "                   all        118        761      0.975      0.981       0.99      0.871\n"
          ]
        },
        {
          "output_type": "stream",
          "name": "stderr",
          "text": [
            "\n"
          ]
        },
        {
          "output_type": "stream",
          "name": "stdout",
          "text": [
            "\n",
            "      Epoch    GPU_mem   box_loss   cls_loss   dfl_loss  Instances       Size\n"
          ]
        },
        {
          "output_type": "stream",
          "name": "stderr",
          "text": [
            "    131/200      9.76G     0.6232     0.4075     0.9162        153       1024: 100%|██████████| 14/14 [00:10<00:00,  1.35it/s]\n",
            "                 Class     Images  Instances      Box(P          R      mAP50  mAP50-95): 100%|██████████| 4/4 [00:03<00:00,  1.32it/s]"
          ]
        },
        {
          "output_type": "stream",
          "name": "stdout",
          "text": [
            "                   all        118        761      0.978      0.979       0.99      0.854\n"
          ]
        },
        {
          "output_type": "stream",
          "name": "stderr",
          "text": [
            "\n"
          ]
        },
        {
          "output_type": "stream",
          "name": "stdout",
          "text": [
            "\n",
            "      Epoch    GPU_mem   box_loss   cls_loss   dfl_loss  Instances       Size\n"
          ]
        },
        {
          "output_type": "stream",
          "name": "stderr",
          "text": [
            "    132/200      9.98G     0.6258     0.4069     0.9044        215       1024: 100%|██████████| 14/14 [00:10<00:00,  1.40it/s]\n",
            "                 Class     Images  Instances      Box(P          R      mAP50  mAP50-95): 100%|██████████| 4/4 [00:03<00:00,  1.18it/s]"
          ]
        },
        {
          "output_type": "stream",
          "name": "stdout",
          "text": [
            "                   all        118        761      0.973      0.982       0.99      0.866\n"
          ]
        },
        {
          "output_type": "stream",
          "name": "stderr",
          "text": [
            "\n"
          ]
        },
        {
          "output_type": "stream",
          "name": "stdout",
          "text": [
            "\n",
            "      Epoch    GPU_mem   box_loss   cls_loss   dfl_loss  Instances       Size\n"
          ]
        },
        {
          "output_type": "stream",
          "name": "stderr",
          "text": [
            "    133/200       9.7G     0.6047     0.3974     0.9097        110       1024: 100%|██████████| 14/14 [00:09<00:00,  1.45it/s]\n",
            "                 Class     Images  Instances      Box(P          R      mAP50  mAP50-95): 100%|██████████| 4/4 [00:03<00:00,  1.08it/s]"
          ]
        },
        {
          "output_type": "stream",
          "name": "stdout",
          "text": [
            "                   all        118        761      0.979      0.988       0.99       0.87\n"
          ]
        },
        {
          "output_type": "stream",
          "name": "stderr",
          "text": [
            "\n"
          ]
        },
        {
          "output_type": "stream",
          "name": "stdout",
          "text": [
            "\n",
            "      Epoch    GPU_mem   box_loss   cls_loss   dfl_loss  Instances       Size\n"
          ]
        },
        {
          "output_type": "stream",
          "name": "stderr",
          "text": [
            "    134/200      9.77G       0.64     0.4235     0.9402         92       1024: 100%|██████████| 14/14 [00:09<00:00,  1.49it/s]\n",
            "                 Class     Images  Instances      Box(P          R      mAP50  mAP50-95): 100%|██████████| 4/4 [00:04<00:00,  1.01s/it]"
          ]
        },
        {
          "output_type": "stream",
          "name": "stdout",
          "text": [
            "                   all        118        761      0.978      0.986       0.99      0.868\n"
          ]
        },
        {
          "output_type": "stream",
          "name": "stderr",
          "text": [
            "\n"
          ]
        },
        {
          "output_type": "stream",
          "name": "stdout",
          "text": [
            "\n",
            "      Epoch    GPU_mem   box_loss   cls_loss   dfl_loss  Instances       Size\n"
          ]
        },
        {
          "output_type": "stream",
          "name": "stderr",
          "text": [
            "    135/200      9.98G     0.6079      0.397     0.9136        135       1024: 100%|██████████| 14/14 [00:08<00:00,  1.62it/s]\n",
            "                 Class     Images  Instances      Box(P          R      mAP50  mAP50-95): 100%|██████████| 4/4 [00:04<00:00,  1.06s/it]"
          ]
        },
        {
          "output_type": "stream",
          "name": "stdout",
          "text": [
            "                   all        118        761      0.971      0.983      0.991      0.866\n"
          ]
        },
        {
          "output_type": "stream",
          "name": "stderr",
          "text": [
            "\n"
          ]
        },
        {
          "output_type": "stream",
          "name": "stdout",
          "text": [
            "\n",
            "      Epoch    GPU_mem   box_loss   cls_loss   dfl_loss  Instances       Size\n"
          ]
        },
        {
          "output_type": "stream",
          "name": "stderr",
          "text": [
            "    136/200      10.2G     0.6237     0.4147     0.9034        163       1024: 100%|██████████| 14/14 [00:08<00:00,  1.59it/s]\n",
            "                 Class     Images  Instances      Box(P          R      mAP50  mAP50-95): 100%|██████████| 4/4 [00:04<00:00,  1.04s/it]"
          ]
        },
        {
          "output_type": "stream",
          "name": "stdout",
          "text": [
            "                   all        118        761      0.978      0.982       0.99      0.867\n"
          ]
        },
        {
          "output_type": "stream",
          "name": "stderr",
          "text": [
            "\n"
          ]
        },
        {
          "output_type": "stream",
          "name": "stdout",
          "text": [
            "\n",
            "      Epoch    GPU_mem   box_loss   cls_loss   dfl_loss  Instances       Size\n"
          ]
        },
        {
          "output_type": "stream",
          "name": "stderr",
          "text": [
            "    137/200      9.97G     0.5984     0.3997     0.9113         73       1024: 100%|██████████| 14/14 [00:08<00:00,  1.64it/s]\n",
            "                 Class     Images  Instances      Box(P          R      mAP50  mAP50-95): 100%|██████████| 4/4 [00:03<00:00,  1.05it/s]"
          ]
        },
        {
          "output_type": "stream",
          "name": "stdout",
          "text": [
            "                   all        118        761      0.972      0.988       0.99       0.87\n"
          ]
        },
        {
          "output_type": "stream",
          "name": "stderr",
          "text": [
            "\n"
          ]
        },
        {
          "output_type": "stream",
          "name": "stdout",
          "text": [
            "\n",
            "      Epoch    GPU_mem   box_loss   cls_loss   dfl_loss  Instances       Size\n"
          ]
        },
        {
          "output_type": "stream",
          "name": "stderr",
          "text": [
            "    138/200      9.78G     0.6024     0.3962     0.9088        133       1024: 100%|██████████| 14/14 [00:08<00:00,  1.57it/s]\n",
            "                 Class     Images  Instances      Box(P          R      mAP50  mAP50-95): 100%|██████████| 4/4 [00:03<00:00,  1.19it/s]"
          ]
        },
        {
          "output_type": "stream",
          "name": "stdout",
          "text": [
            "                   all        118        761      0.965       0.99      0.989      0.869\n"
          ]
        },
        {
          "output_type": "stream",
          "name": "stderr",
          "text": [
            "\n"
          ]
        },
        {
          "output_type": "stream",
          "name": "stdout",
          "text": [
            "\n",
            "      Epoch    GPU_mem   box_loss   cls_loss   dfl_loss  Instances       Size\n"
          ]
        },
        {
          "output_type": "stream",
          "name": "stderr",
          "text": [
            "    139/200      10.2G     0.6051     0.3949     0.9091        126       1024: 100%|██████████| 14/14 [00:09<00:00,  1.49it/s]\n",
            "                 Class     Images  Instances      Box(P          R      mAP50  mAP50-95): 100%|██████████| 4/4 [00:02<00:00,  1.39it/s]"
          ]
        },
        {
          "output_type": "stream",
          "name": "stdout",
          "text": [
            "                   all        118        761      0.969      0.991      0.989      0.876\n"
          ]
        },
        {
          "output_type": "stream",
          "name": "stderr",
          "text": [
            "\n"
          ]
        },
        {
          "output_type": "stream",
          "name": "stdout",
          "text": [
            "\n",
            "      Epoch    GPU_mem   box_loss   cls_loss   dfl_loss  Instances       Size\n"
          ]
        },
        {
          "output_type": "stream",
          "name": "stderr",
          "text": [
            "    140/200      9.85G     0.5951      0.391     0.9139         78       1024: 100%|██████████| 14/14 [00:10<00:00,  1.36it/s]\n",
            "                 Class     Images  Instances      Box(P          R      mAP50  mAP50-95): 100%|██████████| 4/4 [00:02<00:00,  1.34it/s]"
          ]
        },
        {
          "output_type": "stream",
          "name": "stdout",
          "text": [
            "                   all        118        761      0.973      0.988      0.991      0.874\n"
          ]
        },
        {
          "output_type": "stream",
          "name": "stderr",
          "text": [
            "\n"
          ]
        },
        {
          "output_type": "stream",
          "name": "stdout",
          "text": [
            "\n",
            "      Epoch    GPU_mem   box_loss   cls_loss   dfl_loss  Instances       Size\n"
          ]
        },
        {
          "output_type": "stream",
          "name": "stderr",
          "text": [
            "    141/200      10.2G     0.6068     0.3874     0.9107        135       1024: 100%|██████████| 14/14 [00:10<00:00,  1.33it/s]\n",
            "                 Class     Images  Instances      Box(P          R      mAP50  mAP50-95): 100%|██████████| 4/4 [00:02<00:00,  1.37it/s]"
          ]
        },
        {
          "output_type": "stream",
          "name": "stdout",
          "text": [
            "                   all        118        761      0.978      0.984      0.992      0.879\n"
          ]
        },
        {
          "output_type": "stream",
          "name": "stderr",
          "text": [
            "\n"
          ]
        },
        {
          "output_type": "stream",
          "name": "stdout",
          "text": [
            "\n",
            "      Epoch    GPU_mem   box_loss   cls_loss   dfl_loss  Instances       Size\n"
          ]
        },
        {
          "output_type": "stream",
          "name": "stderr",
          "text": [
            "    142/200      9.74G     0.5939      0.397     0.9146         71       1024: 100%|██████████| 14/14 [00:10<00:00,  1.31it/s]\n",
            "                 Class     Images  Instances      Box(P          R      mAP50  mAP50-95): 100%|██████████| 4/4 [00:03<00:00,  1.33it/s]"
          ]
        },
        {
          "output_type": "stream",
          "name": "stdout",
          "text": [
            "                   all        118        761      0.983       0.98      0.992      0.863\n"
          ]
        },
        {
          "output_type": "stream",
          "name": "stderr",
          "text": [
            "\n"
          ]
        },
        {
          "output_type": "stream",
          "name": "stdout",
          "text": [
            "\n",
            "      Epoch    GPU_mem   box_loss   cls_loss   dfl_loss  Instances       Size\n"
          ]
        },
        {
          "output_type": "stream",
          "name": "stderr",
          "text": [
            "    143/200        10G     0.5984     0.3823     0.9093         92       1024: 100%|██████████| 14/14 [00:10<00:00,  1.31it/s]\n",
            "                 Class     Images  Instances      Box(P          R      mAP50  mAP50-95): 100%|██████████| 4/4 [00:02<00:00,  1.38it/s]"
          ]
        },
        {
          "output_type": "stream",
          "name": "stdout",
          "text": [
            "                   all        118        761      0.978      0.986      0.991      0.876\n"
          ]
        },
        {
          "output_type": "stream",
          "name": "stderr",
          "text": [
            "\n"
          ]
        },
        {
          "output_type": "stream",
          "name": "stdout",
          "text": [
            "\n",
            "      Epoch    GPU_mem   box_loss   cls_loss   dfl_loss  Instances       Size\n"
          ]
        },
        {
          "output_type": "stream",
          "name": "stderr",
          "text": [
            "    144/200      9.61G     0.6024     0.3941     0.9117        121       1024: 100%|██████████| 14/14 [00:10<00:00,  1.27it/s]\n",
            "                 Class     Images  Instances      Box(P          R      mAP50  mAP50-95): 100%|██████████| 4/4 [00:03<00:00,  1.32it/s]"
          ]
        },
        {
          "output_type": "stream",
          "name": "stdout",
          "text": [
            "                   all        118        761       0.98      0.987      0.991      0.874\n"
          ]
        },
        {
          "output_type": "stream",
          "name": "stderr",
          "text": [
            "\n"
          ]
        },
        {
          "output_type": "stream",
          "name": "stdout",
          "text": [
            "\n",
            "      Epoch    GPU_mem   box_loss   cls_loss   dfl_loss  Instances       Size\n"
          ]
        },
        {
          "output_type": "stream",
          "name": "stderr",
          "text": [
            "    145/200      9.96G     0.5825     0.3856     0.9038         73       1024: 100%|██████████| 14/14 [00:09<00:00,  1.42it/s]\n",
            "                 Class     Images  Instances      Box(P          R      mAP50  mAP50-95): 100%|██████████| 4/4 [00:03<00:00,  1.22it/s]"
          ]
        },
        {
          "output_type": "stream",
          "name": "stdout",
          "text": [
            "                   all        118        761       0.98      0.989      0.992      0.885\n"
          ]
        },
        {
          "output_type": "stream",
          "name": "stderr",
          "text": [
            "\n"
          ]
        },
        {
          "output_type": "stream",
          "name": "stdout",
          "text": [
            "\n",
            "      Epoch    GPU_mem   box_loss   cls_loss   dfl_loss  Instances       Size\n"
          ]
        },
        {
          "output_type": "stream",
          "name": "stderr",
          "text": [
            "    146/200      10.3G     0.5679      0.387     0.9046         83       1024: 100%|██████████| 14/14 [00:09<00:00,  1.47it/s]\n",
            "                 Class     Images  Instances      Box(P          R      mAP50  mAP50-95): 100%|██████████| 4/4 [00:03<00:00,  1.06it/s]"
          ]
        },
        {
          "output_type": "stream",
          "name": "stdout",
          "text": [
            "                   all        118        761      0.982      0.982      0.993      0.882\n"
          ]
        },
        {
          "output_type": "stream",
          "name": "stderr",
          "text": [
            "\n"
          ]
        },
        {
          "output_type": "stream",
          "name": "stdout",
          "text": [
            "\n",
            "      Epoch    GPU_mem   box_loss   cls_loss   dfl_loss  Instances       Size\n"
          ]
        },
        {
          "output_type": "stream",
          "name": "stderr",
          "text": [
            "    147/200      10.2G     0.5894     0.3836     0.9037        102       1024: 100%|██████████| 14/14 [00:09<00:00,  1.47it/s]\n",
            "                 Class     Images  Instances      Box(P          R      mAP50  mAP50-95): 100%|██████████| 4/4 [00:03<00:00,  1.05it/s]"
          ]
        },
        {
          "output_type": "stream",
          "name": "stdout",
          "text": [
            "                   all        118        761      0.983      0.986      0.992      0.884\n"
          ]
        },
        {
          "output_type": "stream",
          "name": "stderr",
          "text": [
            "\n"
          ]
        },
        {
          "output_type": "stream",
          "name": "stdout",
          "text": [
            "\n",
            "      Epoch    GPU_mem   box_loss   cls_loss   dfl_loss  Instances       Size\n"
          ]
        },
        {
          "output_type": "stream",
          "name": "stderr",
          "text": [
            "    148/200      9.62G     0.5621     0.3698     0.9079        133       1024: 100%|██████████| 14/14 [00:08<00:00,  1.63it/s]\n",
            "                 Class     Images  Instances      Box(P          R      mAP50  mAP50-95): 100%|██████████| 4/4 [00:04<00:00,  1.11s/it]"
          ]
        },
        {
          "output_type": "stream",
          "name": "stdout",
          "text": [
            "                   all        118        761      0.978      0.992      0.992      0.878\n"
          ]
        },
        {
          "output_type": "stream",
          "name": "stderr",
          "text": [
            "\n"
          ]
        },
        {
          "output_type": "stream",
          "name": "stdout",
          "text": [
            "\n",
            "      Epoch    GPU_mem   box_loss   cls_loss   dfl_loss  Instances       Size\n"
          ]
        },
        {
          "output_type": "stream",
          "name": "stderr",
          "text": [
            "    149/200       9.8G     0.5754     0.3847       0.92        157       1024: 100%|██████████| 14/14 [00:08<00:00,  1.64it/s]\n",
            "                 Class     Images  Instances      Box(P          R      mAP50  mAP50-95): 100%|██████████| 4/4 [00:03<00:00,  1.01it/s]"
          ]
        },
        {
          "output_type": "stream",
          "name": "stdout",
          "text": [
            "                   all        118        761      0.981      0.986      0.993      0.884\n"
          ]
        },
        {
          "output_type": "stream",
          "name": "stderr",
          "text": [
            "\n"
          ]
        },
        {
          "output_type": "stream",
          "name": "stdout",
          "text": [
            "\n",
            "      Epoch    GPU_mem   box_loss   cls_loss   dfl_loss  Instances       Size\n"
          ]
        },
        {
          "output_type": "stream",
          "name": "stderr",
          "text": [
            "    150/200      10.2G     0.5677     0.3777     0.9083        126       1024: 100%|██████████| 14/14 [00:08<00:00,  1.64it/s]\n",
            "                 Class     Images  Instances      Box(P          R      mAP50  mAP50-95): 100%|██████████| 4/4 [00:03<00:00,  1.16it/s]"
          ]
        },
        {
          "output_type": "stream",
          "name": "stdout",
          "text": [
            "                   all        118        761      0.982      0.988      0.993      0.887\n"
          ]
        },
        {
          "output_type": "stream",
          "name": "stderr",
          "text": [
            "\n"
          ]
        },
        {
          "output_type": "stream",
          "name": "stdout",
          "text": [
            "\n",
            "      Epoch    GPU_mem   box_loss   cls_loss   dfl_loss  Instances       Size\n"
          ]
        },
        {
          "output_type": "stream",
          "name": "stderr",
          "text": [
            "    151/200      9.99G     0.5739     0.3637     0.9014         97       1024: 100%|██████████| 14/14 [00:11<00:00,  1.19it/s]\n",
            "                 Class     Images  Instances      Box(P          R      mAP50  mAP50-95): 100%|██████████| 4/4 [00:03<00:00,  1.28it/s]"
          ]
        },
        {
          "output_type": "stream",
          "name": "stdout",
          "text": [
            "                   all        118        761      0.986      0.987      0.993      0.893\n"
          ]
        },
        {
          "output_type": "stream",
          "name": "stderr",
          "text": [
            "\n"
          ]
        },
        {
          "output_type": "stream",
          "name": "stdout",
          "text": [
            "\n",
            "      Epoch    GPU_mem   box_loss   cls_loss   dfl_loss  Instances       Size\n"
          ]
        },
        {
          "output_type": "stream",
          "name": "stderr",
          "text": [
            "    152/200      9.61G     0.5442     0.3651     0.8968         81       1024: 100%|██████████| 14/14 [00:09<00:00,  1.43it/s]\n",
            "                 Class     Images  Instances      Box(P          R      mAP50  mAP50-95): 100%|██████████| 4/4 [00:02<00:00,  1.34it/s]"
          ]
        },
        {
          "output_type": "stream",
          "name": "stdout",
          "text": [
            "                   all        118        761      0.989      0.984      0.993      0.889\n"
          ]
        },
        {
          "output_type": "stream",
          "name": "stderr",
          "text": [
            "\n"
          ]
        },
        {
          "output_type": "stream",
          "name": "stdout",
          "text": [
            "\n",
            "      Epoch    GPU_mem   box_loss   cls_loss   dfl_loss  Instances       Size\n"
          ]
        },
        {
          "output_type": "stream",
          "name": "stderr",
          "text": [
            "    153/200      10.2G     0.5691     0.3646     0.8889        110       1024: 100%|██████████| 14/14 [00:10<00:00,  1.36it/s]\n",
            "                 Class     Images  Instances      Box(P          R      mAP50  mAP50-95): 100%|██████████| 4/4 [00:02<00:00,  1.44it/s]"
          ]
        },
        {
          "output_type": "stream",
          "name": "stdout",
          "text": [
            "                   all        118        761      0.988      0.984      0.992      0.896\n"
          ]
        },
        {
          "output_type": "stream",
          "name": "stderr",
          "text": [
            "\n"
          ]
        },
        {
          "output_type": "stream",
          "name": "stdout",
          "text": [
            "\n",
            "      Epoch    GPU_mem   box_loss   cls_loss   dfl_loss  Instances       Size\n"
          ]
        },
        {
          "output_type": "stream",
          "name": "stderr",
          "text": [
            "    154/200      9.61G     0.5692     0.3716     0.8956         88       1024: 100%|██████████| 14/14 [00:10<00:00,  1.29it/s]\n",
            "                 Class     Images  Instances      Box(P          R      mAP50  mAP50-95): 100%|██████████| 4/4 [00:03<00:00,  1.33it/s]"
          ]
        },
        {
          "output_type": "stream",
          "name": "stdout",
          "text": [
            "                   all        118        761      0.983      0.992      0.992      0.889\n"
          ]
        },
        {
          "output_type": "stream",
          "name": "stderr",
          "text": [
            "\n"
          ]
        },
        {
          "output_type": "stream",
          "name": "stdout",
          "text": [
            "\n",
            "      Epoch    GPU_mem   box_loss   cls_loss   dfl_loss  Instances       Size\n"
          ]
        },
        {
          "output_type": "stream",
          "name": "stderr",
          "text": [
            "    155/200      10.2G     0.5521     0.3721     0.8996         92       1024: 100%|██████████| 14/14 [00:10<00:00,  1.28it/s]\n",
            "                 Class     Images  Instances      Box(P          R      mAP50  mAP50-95): 100%|██████████| 4/4 [00:02<00:00,  1.38it/s]"
          ]
        },
        {
          "output_type": "stream",
          "name": "stdout",
          "text": [
            "                   all        118        761      0.983      0.991      0.992      0.891\n"
          ]
        },
        {
          "output_type": "stream",
          "name": "stderr",
          "text": [
            "\n"
          ]
        },
        {
          "output_type": "stream",
          "name": "stdout",
          "text": [
            "\n",
            "      Epoch    GPU_mem   box_loss   cls_loss   dfl_loss  Instances       Size\n"
          ]
        },
        {
          "output_type": "stream",
          "name": "stderr",
          "text": [
            "    156/200        10G     0.5501     0.3497     0.8866         96       1024: 100%|██████████| 14/14 [00:10<00:00,  1.29it/s]\n",
            "                 Class     Images  Instances      Box(P          R      mAP50  mAP50-95): 100%|██████████| 4/4 [00:02<00:00,  1.34it/s]"
          ]
        },
        {
          "output_type": "stream",
          "name": "stdout",
          "text": [
            "                   all        118        761      0.981      0.989      0.992      0.892\n"
          ]
        },
        {
          "output_type": "stream",
          "name": "stderr",
          "text": [
            "\n"
          ]
        },
        {
          "output_type": "stream",
          "name": "stdout",
          "text": [
            "\n",
            "      Epoch    GPU_mem   box_loss   cls_loss   dfl_loss  Instances       Size\n"
          ]
        },
        {
          "output_type": "stream",
          "name": "stderr",
          "text": [
            "    157/200       9.8G     0.5387     0.3469      0.882        116       1024: 100%|██████████| 14/14 [00:09<00:00,  1.42it/s]\n",
            "                 Class     Images  Instances      Box(P          R      mAP50  mAP50-95): 100%|██████████| 4/4 [00:03<00:00,  1.25it/s]"
          ]
        },
        {
          "output_type": "stream",
          "name": "stdout",
          "text": [
            "                   all        118        761      0.983      0.989      0.993      0.895\n"
          ]
        },
        {
          "output_type": "stream",
          "name": "stderr",
          "text": [
            "\n"
          ]
        },
        {
          "output_type": "stream",
          "name": "stdout",
          "text": [
            "\n",
            "      Epoch    GPU_mem   box_loss   cls_loss   dfl_loss  Instances       Size\n"
          ]
        },
        {
          "output_type": "stream",
          "name": "stderr",
          "text": [
            "    158/200       9.5G     0.5365     0.3508     0.8952         91       1024: 100%|██████████| 14/14 [00:09<00:00,  1.47it/s]\n",
            "                 Class     Images  Instances      Box(P          R      mAP50  mAP50-95): 100%|██████████| 4/4 [00:03<00:00,  1.04it/s]"
          ]
        },
        {
          "output_type": "stream",
          "name": "stdout",
          "text": [
            "                   all        118        761      0.981      0.989      0.992      0.893\n"
          ]
        },
        {
          "output_type": "stream",
          "name": "stderr",
          "text": [
            "\n"
          ]
        },
        {
          "output_type": "stream",
          "name": "stdout",
          "text": [
            "\n",
            "      Epoch    GPU_mem   box_loss   cls_loss   dfl_loss  Instances       Size\n"
          ]
        },
        {
          "output_type": "stream",
          "name": "stderr",
          "text": [
            "    159/200        10G     0.5538     0.3605     0.8972         96       1024: 100%|██████████| 14/14 [00:09<00:00,  1.51it/s]\n",
            "                 Class     Images  Instances      Box(P          R      mAP50  mAP50-95): 100%|██████████| 4/4 [00:04<00:00,  1.01s/it]"
          ]
        },
        {
          "output_type": "stream",
          "name": "stdout",
          "text": [
            "                   all        118        761      0.984      0.988      0.992      0.893\n"
          ]
        },
        {
          "output_type": "stream",
          "name": "stderr",
          "text": [
            "\n"
          ]
        },
        {
          "output_type": "stream",
          "name": "stdout",
          "text": [
            "\n",
            "      Epoch    GPU_mem   box_loss   cls_loss   dfl_loss  Instances       Size\n"
          ]
        },
        {
          "output_type": "stream",
          "name": "stderr",
          "text": [
            "    160/200      10.2G     0.5381     0.3711     0.9025        103       1024: 100%|██████████| 14/14 [00:08<00:00,  1.64it/s]\n",
            "                 Class     Images  Instances      Box(P          R      mAP50  mAP50-95): 100%|██████████| 4/4 [00:04<00:00,  1.02s/it]"
          ]
        },
        {
          "output_type": "stream",
          "name": "stdout",
          "text": [
            "                   all        118        761      0.988      0.982      0.993      0.895\n"
          ]
        },
        {
          "output_type": "stream",
          "name": "stderr",
          "text": [
            "\n"
          ]
        },
        {
          "output_type": "stream",
          "name": "stdout",
          "text": [
            "\n",
            "      Epoch    GPU_mem   box_loss   cls_loss   dfl_loss  Instances       Size\n"
          ]
        },
        {
          "output_type": "stream",
          "name": "stderr",
          "text": [
            "    161/200      9.77G     0.5462     0.3606     0.8899        106       1024: 100%|██████████| 14/14 [00:09<00:00,  1.55it/s]\n",
            "                 Class     Images  Instances      Box(P          R      mAP50  mAP50-95): 100%|██████████| 4/4 [00:03<00:00,  1.04it/s]"
          ]
        },
        {
          "output_type": "stream",
          "name": "stdout",
          "text": [
            "                   all        118        761      0.987      0.986      0.993      0.899\n"
          ]
        },
        {
          "output_type": "stream",
          "name": "stderr",
          "text": [
            "\n"
          ]
        },
        {
          "output_type": "stream",
          "name": "stdout",
          "text": [
            "\n",
            "      Epoch    GPU_mem   box_loss   cls_loss   dfl_loss  Instances       Size\n"
          ]
        },
        {
          "output_type": "stream",
          "name": "stderr",
          "text": [
            "    162/200      9.78G     0.5439     0.3569     0.9008        123       1024: 100%|██████████| 14/14 [00:08<00:00,  1.64it/s]\n",
            "                 Class     Images  Instances      Box(P          R      mAP50  mAP50-95): 100%|██████████| 4/4 [00:03<00:00,  1.02it/s]"
          ]
        },
        {
          "output_type": "stream",
          "name": "stdout",
          "text": [
            "                   all        118        761      0.986      0.986      0.993      0.894\n"
          ]
        },
        {
          "output_type": "stream",
          "name": "stderr",
          "text": [
            "\n"
          ]
        },
        {
          "output_type": "stream",
          "name": "stdout",
          "text": [
            "\n",
            "      Epoch    GPU_mem   box_loss   cls_loss   dfl_loss  Instances       Size\n"
          ]
        },
        {
          "output_type": "stream",
          "name": "stderr",
          "text": [
            "    163/200      9.84G     0.5483     0.3594      0.884         82       1024: 100%|██████████| 14/14 [00:08<00:00,  1.62it/s]\n",
            "                 Class     Images  Instances      Box(P          R      mAP50  mAP50-95): 100%|██████████| 4/4 [00:03<00:00,  1.14it/s]"
          ]
        },
        {
          "output_type": "stream",
          "name": "stdout",
          "text": [
            "                   all        118        761      0.984      0.985      0.993      0.894\n"
          ]
        },
        {
          "output_type": "stream",
          "name": "stderr",
          "text": [
            "\n"
          ]
        },
        {
          "output_type": "stream",
          "name": "stdout",
          "text": [
            "\n",
            "      Epoch    GPU_mem   box_loss   cls_loss   dfl_loss  Instances       Size\n"
          ]
        },
        {
          "output_type": "stream",
          "name": "stderr",
          "text": [
            "    164/200      10.2G     0.5522     0.3598     0.8936         55       1024: 100%|██████████| 14/14 [00:09<00:00,  1.51it/s]\n",
            "                 Class     Images  Instances      Box(P          R      mAP50  mAP50-95): 100%|██████████| 4/4 [00:02<00:00,  1.39it/s]"
          ]
        },
        {
          "output_type": "stream",
          "name": "stdout",
          "text": [
            "                   all        118        761      0.983      0.987      0.993      0.898\n"
          ]
        },
        {
          "output_type": "stream",
          "name": "stderr",
          "text": [
            "\n"
          ]
        },
        {
          "output_type": "stream",
          "name": "stdout",
          "text": [
            "\n",
            "      Epoch    GPU_mem   box_loss   cls_loss   dfl_loss  Instances       Size\n"
          ]
        },
        {
          "output_type": "stream",
          "name": "stderr",
          "text": [
            "    165/200      10.2G     0.5311      0.356      0.894        106       1024: 100%|██████████| 14/14 [00:09<00:00,  1.42it/s]\n",
            "                 Class     Images  Instances      Box(P          R      mAP50  mAP50-95): 100%|██████████| 4/4 [00:03<00:00,  1.32it/s]"
          ]
        },
        {
          "output_type": "stream",
          "name": "stdout",
          "text": [
            "                   all        118        761      0.986      0.987      0.993      0.896\n"
          ]
        },
        {
          "output_type": "stream",
          "name": "stderr",
          "text": [
            "\n"
          ]
        },
        {
          "output_type": "stream",
          "name": "stdout",
          "text": [
            "\n",
            "      Epoch    GPU_mem   box_loss   cls_loss   dfl_loss  Instances       Size\n"
          ]
        },
        {
          "output_type": "stream",
          "name": "stderr",
          "text": [
            "    166/200      10.2G     0.5338     0.3481     0.8965         95       1024: 100%|██████████| 14/14 [00:10<00:00,  1.31it/s]\n",
            "                 Class     Images  Instances      Box(P          R      mAP50  mAP50-95): 100%|██████████| 4/4 [00:02<00:00,  1.45it/s]"
          ]
        },
        {
          "output_type": "stream",
          "name": "stdout",
          "text": [
            "                   all        118        761      0.989      0.986      0.993      0.902\n"
          ]
        },
        {
          "output_type": "stream",
          "name": "stderr",
          "text": [
            "\n"
          ]
        },
        {
          "output_type": "stream",
          "name": "stdout",
          "text": [
            "\n",
            "      Epoch    GPU_mem   box_loss   cls_loss   dfl_loss  Instances       Size\n"
          ]
        },
        {
          "output_type": "stream",
          "name": "stderr",
          "text": [
            "    167/200      9.42G     0.5358     0.3541     0.8999        129       1024: 100%|██████████| 14/14 [00:10<00:00,  1.30it/s]\n",
            "                 Class     Images  Instances      Box(P          R      mAP50  mAP50-95): 100%|██████████| 4/4 [00:02<00:00,  1.37it/s]"
          ]
        },
        {
          "output_type": "stream",
          "name": "stdout",
          "text": [
            "                   all        118        761      0.986      0.988      0.993      0.902\n"
          ]
        },
        {
          "output_type": "stream",
          "name": "stderr",
          "text": [
            "\n"
          ]
        },
        {
          "output_type": "stream",
          "name": "stdout",
          "text": [
            "\n",
            "      Epoch    GPU_mem   box_loss   cls_loss   dfl_loss  Instances       Size\n"
          ]
        },
        {
          "output_type": "stream",
          "name": "stderr",
          "text": [
            "    168/200      9.62G     0.5251     0.3476      0.897        102       1024: 100%|██████████| 14/14 [00:10<00:00,  1.31it/s]\n",
            "                 Class     Images  Instances      Box(P          R      mAP50  mAP50-95): 100%|██████████| 4/4 [00:03<00:00,  1.28it/s]"
          ]
        },
        {
          "output_type": "stream",
          "name": "stdout",
          "text": [
            "                   all        118        761      0.985      0.988      0.993      0.904\n"
          ]
        },
        {
          "output_type": "stream",
          "name": "stderr",
          "text": [
            "\n"
          ]
        },
        {
          "output_type": "stream",
          "name": "stdout",
          "text": [
            "\n",
            "      Epoch    GPU_mem   box_loss   cls_loss   dfl_loss  Instances       Size\n"
          ]
        },
        {
          "output_type": "stream",
          "name": "stderr",
          "text": [
            "    169/200       9.7G     0.5385     0.3431     0.8999         81       1024: 100%|██████████| 14/14 [00:10<00:00,  1.34it/s]\n",
            "                 Class     Images  Instances      Box(P          R      mAP50  mAP50-95): 100%|██████████| 4/4 [00:02<00:00,  1.35it/s]"
          ]
        },
        {
          "output_type": "stream",
          "name": "stdout",
          "text": [
            "                   all        118        761      0.987      0.989      0.993        0.9\n"
          ]
        },
        {
          "output_type": "stream",
          "name": "stderr",
          "text": [
            "\n"
          ]
        },
        {
          "output_type": "stream",
          "name": "stdout",
          "text": [
            "\n",
            "      Epoch    GPU_mem   box_loss   cls_loss   dfl_loss  Instances       Size\n"
          ]
        },
        {
          "output_type": "stream",
          "name": "stderr",
          "text": [
            "    170/200      9.86G     0.5353     0.3515     0.8955         89       1024: 100%|██████████| 14/14 [00:10<00:00,  1.29it/s]\n",
            "                 Class     Images  Instances      Box(P          R      mAP50  mAP50-95): 100%|██████████| 4/4 [00:03<00:00,  1.28it/s]"
          ]
        },
        {
          "output_type": "stream",
          "name": "stdout",
          "text": [
            "                   all        118        761      0.989      0.989      0.993      0.907\n"
          ]
        },
        {
          "output_type": "stream",
          "name": "stderr",
          "text": [
            "\n"
          ]
        },
        {
          "output_type": "stream",
          "name": "stdout",
          "text": [
            "\n",
            "      Epoch    GPU_mem   box_loss   cls_loss   dfl_loss  Instances       Size\n"
          ]
        },
        {
          "output_type": "stream",
          "name": "stderr",
          "text": [
            "    171/200        10G     0.5231     0.3439      0.887        152       1024: 100%|██████████| 14/14 [00:09<00:00,  1.40it/s]\n",
            "                 Class     Images  Instances      Box(P          R      mAP50  mAP50-95): 100%|██████████| 4/4 [00:03<00:00,  1.14it/s]"
          ]
        },
        {
          "output_type": "stream",
          "name": "stdout",
          "text": [
            "                   all        118        761      0.989      0.989      0.993      0.902\n"
          ]
        },
        {
          "output_type": "stream",
          "name": "stderr",
          "text": [
            "\n"
          ]
        },
        {
          "output_type": "stream",
          "name": "stdout",
          "text": [
            "\n",
            "      Epoch    GPU_mem   box_loss   cls_loss   dfl_loss  Instances       Size\n"
          ]
        },
        {
          "output_type": "stream",
          "name": "stderr",
          "text": [
            "    172/200        10G     0.5149     0.3391     0.8865         69       1024: 100%|██████████| 14/14 [00:09<00:00,  1.50it/s]\n",
            "                 Class     Images  Instances      Box(P          R      mAP50  mAP50-95): 100%|██████████| 4/4 [00:04<00:00,  1.01s/it]"
          ]
        },
        {
          "output_type": "stream",
          "name": "stdout",
          "text": [
            "                   all        118        761      0.988      0.986      0.992        0.9\n"
          ]
        },
        {
          "output_type": "stream",
          "name": "stderr",
          "text": [
            "\n"
          ]
        },
        {
          "output_type": "stream",
          "name": "stdout",
          "text": [
            "\n",
            "      Epoch    GPU_mem   box_loss   cls_loss   dfl_loss  Instances       Size\n"
          ]
        },
        {
          "output_type": "stream",
          "name": "stderr",
          "text": [
            "    173/200      9.99G     0.5138     0.3375     0.8854        115       1024: 100%|██████████| 14/14 [00:08<00:00,  1.62it/s]\n",
            "                 Class     Images  Instances      Box(P          R      mAP50  mAP50-95): 100%|██████████| 4/4 [00:04<00:00,  1.10s/it]"
          ]
        },
        {
          "output_type": "stream",
          "name": "stdout",
          "text": [
            "                   all        118        761      0.986      0.985      0.993      0.904\n"
          ]
        },
        {
          "output_type": "stream",
          "name": "stderr",
          "text": [
            "\n"
          ]
        },
        {
          "output_type": "stream",
          "name": "stdout",
          "text": [
            "\n",
            "      Epoch    GPU_mem   box_loss   cls_loss   dfl_loss  Instances       Size\n"
          ]
        },
        {
          "output_type": "stream",
          "name": "stderr",
          "text": [
            "    174/200      9.53G     0.5106     0.3385     0.8916         64       1024: 100%|██████████| 14/14 [00:08<00:00,  1.60it/s]\n",
            "                 Class     Images  Instances      Box(P          R      mAP50  mAP50-95): 100%|██████████| 4/4 [00:03<00:00,  1.03it/s]"
          ]
        },
        {
          "output_type": "stream",
          "name": "stdout",
          "text": [
            "                   all        118        761      0.987      0.986      0.993      0.911\n"
          ]
        },
        {
          "output_type": "stream",
          "name": "stderr",
          "text": [
            "\n"
          ]
        },
        {
          "output_type": "stream",
          "name": "stdout",
          "text": [
            "\n",
            "      Epoch    GPU_mem   box_loss   cls_loss   dfl_loss  Instances       Size\n"
          ]
        },
        {
          "output_type": "stream",
          "name": "stderr",
          "text": [
            "    175/200      9.83G     0.5326     0.3456     0.8802        141       1024: 100%|██████████| 14/14 [00:08<00:00,  1.60it/s]\n",
            "                 Class     Images  Instances      Box(P          R      mAP50  mAP50-95): 100%|██████████| 4/4 [00:03<00:00,  1.07it/s]"
          ]
        },
        {
          "output_type": "stream",
          "name": "stdout",
          "text": [
            "                   all        118        761      0.985      0.989      0.993      0.907\n"
          ]
        },
        {
          "output_type": "stream",
          "name": "stderr",
          "text": [
            "\n"
          ]
        },
        {
          "output_type": "stream",
          "name": "stdout",
          "text": [
            "\n",
            "      Epoch    GPU_mem   box_loss   cls_loss   dfl_loss  Instances       Size\n"
          ]
        },
        {
          "output_type": "stream",
          "name": "stderr",
          "text": [
            "    176/200      9.79G     0.5121     0.3359     0.8843         98       1024: 100%|██████████| 14/14 [00:09<00:00,  1.50it/s]\n",
            "                 Class     Images  Instances      Box(P          R      mAP50  mAP50-95): 100%|██████████| 4/4 [00:03<00:00,  1.17it/s]"
          ]
        },
        {
          "output_type": "stream",
          "name": "stdout",
          "text": [
            "                   all        118        761      0.984      0.992      0.993       0.91\n"
          ]
        },
        {
          "output_type": "stream",
          "name": "stderr",
          "text": [
            "\n"
          ]
        },
        {
          "output_type": "stream",
          "name": "stdout",
          "text": [
            "\n",
            "      Epoch    GPU_mem   box_loss   cls_loss   dfl_loss  Instances       Size\n"
          ]
        },
        {
          "output_type": "stream",
          "name": "stderr",
          "text": [
            "    177/200      9.77G     0.5018     0.3324      0.886         95       1024: 100%|██████████| 14/14 [00:09<00:00,  1.53it/s]\n",
            "                 Class     Images  Instances      Box(P          R      mAP50  mAP50-95): 100%|██████████| 4/4 [00:03<00:00,  1.31it/s]"
          ]
        },
        {
          "output_type": "stream",
          "name": "stdout",
          "text": [
            "                   all        118        761      0.984      0.992      0.993       0.91\n"
          ]
        },
        {
          "output_type": "stream",
          "name": "stderr",
          "text": [
            "\n"
          ]
        },
        {
          "output_type": "stream",
          "name": "stdout",
          "text": [
            "\n",
            "      Epoch    GPU_mem   box_loss   cls_loss   dfl_loss  Instances       Size\n"
          ]
        },
        {
          "output_type": "stream",
          "name": "stderr",
          "text": [
            "    178/200      10.2G     0.4938     0.3291     0.8826        125       1024: 100%|██████████| 14/14 [00:10<00:00,  1.37it/s]\n",
            "                 Class     Images  Instances      Box(P          R      mAP50  mAP50-95): 100%|██████████| 4/4 [00:02<00:00,  1.43it/s]"
          ]
        },
        {
          "output_type": "stream",
          "name": "stdout",
          "text": [
            "                   all        118        761      0.986      0.991      0.993      0.908\n"
          ]
        },
        {
          "output_type": "stream",
          "name": "stderr",
          "text": [
            "\n"
          ]
        },
        {
          "output_type": "stream",
          "name": "stdout",
          "text": [
            "\n",
            "      Epoch    GPU_mem   box_loss   cls_loss   dfl_loss  Instances       Size\n"
          ]
        },
        {
          "output_type": "stream",
          "name": "stderr",
          "text": [
            "    179/200      9.83G     0.5103     0.3379      0.878        129       1024: 100%|██████████| 14/14 [00:10<00:00,  1.33it/s]\n",
            "                 Class     Images  Instances      Box(P          R      mAP50  mAP50-95): 100%|██████████| 4/4 [00:02<00:00,  1.37it/s]"
          ]
        },
        {
          "output_type": "stream",
          "name": "stdout",
          "text": [
            "                   all        118        761      0.986      0.991      0.993      0.912\n"
          ]
        },
        {
          "output_type": "stream",
          "name": "stderr",
          "text": [
            "\n"
          ]
        },
        {
          "output_type": "stream",
          "name": "stdout",
          "text": [
            "\n",
            "      Epoch    GPU_mem   box_loss   cls_loss   dfl_loss  Instances       Size\n"
          ]
        },
        {
          "output_type": "stream",
          "name": "stderr",
          "text": [
            "    180/200      10.2G     0.4806     0.3281     0.8761        113       1024: 100%|██████████| 14/14 [00:10<00:00,  1.29it/s]\n",
            "                 Class     Images  Instances      Box(P          R      mAP50  mAP50-95): 100%|██████████| 4/4 [00:02<00:00,  1.34it/s]"
          ]
        },
        {
          "output_type": "stream",
          "name": "stdout",
          "text": [
            "                   all        118        761      0.984      0.989      0.993      0.911\n"
          ]
        },
        {
          "output_type": "stream",
          "name": "stderr",
          "text": [
            "\n"
          ]
        },
        {
          "output_type": "stream",
          "name": "stdout",
          "text": [
            "\n",
            "      Epoch    GPU_mem   box_loss   cls_loss   dfl_loss  Instances       Size\n"
          ]
        },
        {
          "output_type": "stream",
          "name": "stderr",
          "text": [
            "    181/200      9.77G     0.5011     0.3276     0.8911        148       1024: 100%|██████████| 14/14 [00:10<00:00,  1.29it/s]\n",
            "                 Class     Images  Instances      Box(P          R      mAP50  mAP50-95): 100%|██████████| 4/4 [00:02<00:00,  1.36it/s]"
          ]
        },
        {
          "output_type": "stream",
          "name": "stdout",
          "text": [
            "                   all        118        761      0.984      0.989      0.993      0.914\n"
          ]
        },
        {
          "output_type": "stream",
          "name": "stderr",
          "text": [
            "\n"
          ]
        },
        {
          "output_type": "stream",
          "name": "stdout",
          "text": [
            "\n",
            "      Epoch    GPU_mem   box_loss   cls_loss   dfl_loss  Instances       Size\n"
          ]
        },
        {
          "output_type": "stream",
          "name": "stderr",
          "text": [
            "    182/200      9.96G     0.5026     0.3269     0.8932        113       1024: 100%|██████████| 14/14 [00:10<00:00,  1.33it/s]\n",
            "                 Class     Images  Instances      Box(P          R      mAP50  mAP50-95): 100%|██████████| 4/4 [00:02<00:00,  1.35it/s]"
          ]
        },
        {
          "output_type": "stream",
          "name": "stdout",
          "text": [
            "                   all        118        761      0.991      0.987      0.993      0.915\n"
          ]
        },
        {
          "output_type": "stream",
          "name": "stderr",
          "text": [
            "\n"
          ]
        },
        {
          "output_type": "stream",
          "name": "stdout",
          "text": [
            "\n",
            "      Epoch    GPU_mem   box_loss   cls_loss   dfl_loss  Instances       Size\n"
          ]
        },
        {
          "output_type": "stream",
          "name": "stderr",
          "text": [
            "    183/200      10.2G     0.5135     0.3371     0.8871         93       1024: 100%|██████████| 14/14 [00:10<00:00,  1.32it/s]\n",
            "                 Class     Images  Instances      Box(P          R      mAP50  mAP50-95): 100%|██████████| 4/4 [00:04<00:00,  1.14s/it]"
          ]
        },
        {
          "output_type": "stream",
          "name": "stdout",
          "text": [
            "                   all        118        761      0.987      0.984      0.993      0.917\n"
          ]
        },
        {
          "output_type": "stream",
          "name": "stderr",
          "text": [
            "\n"
          ]
        },
        {
          "output_type": "stream",
          "name": "stdout",
          "text": [
            "\n",
            "      Epoch    GPU_mem   box_loss   cls_loss   dfl_loss  Instances       Size\n"
          ]
        },
        {
          "output_type": "stream",
          "name": "stderr",
          "text": [
            "    184/200      10.2G     0.4988     0.3257     0.8766        113       1024: 100%|██████████| 14/14 [00:10<00:00,  1.33it/s]\n",
            "                 Class     Images  Instances      Box(P          R      mAP50  mAP50-95): 100%|██████████| 4/4 [00:03<00:00,  1.28it/s]"
          ]
        },
        {
          "output_type": "stream",
          "name": "stdout",
          "text": [
            "                   all        118        761      0.991      0.984      0.993      0.914\n"
          ]
        },
        {
          "output_type": "stream",
          "name": "stderr",
          "text": [
            "\n"
          ]
        },
        {
          "output_type": "stream",
          "name": "stdout",
          "text": [
            "\n",
            "      Epoch    GPU_mem   box_loss   cls_loss   dfl_loss  Instances       Size\n"
          ]
        },
        {
          "output_type": "stream",
          "name": "stderr",
          "text": [
            "    185/200      9.81G     0.5104     0.3321     0.8848         66       1024: 100%|██████████| 14/14 [00:10<00:00,  1.39it/s]\n",
            "                 Class     Images  Instances      Box(P          R      mAP50  mAP50-95): 100%|██████████| 4/4 [00:03<00:00,  1.15it/s]"
          ]
        },
        {
          "output_type": "stream",
          "name": "stdout",
          "text": [
            "                   all        118        761      0.989      0.984      0.993      0.914\n"
          ]
        },
        {
          "output_type": "stream",
          "name": "stderr",
          "text": [
            "\n"
          ]
        },
        {
          "output_type": "stream",
          "name": "stdout",
          "text": [
            "\n",
            "      Epoch    GPU_mem   box_loss   cls_loss   dfl_loss  Instances       Size\n"
          ]
        },
        {
          "output_type": "stream",
          "name": "stderr",
          "text": [
            "    186/200      9.95G     0.5091     0.3345     0.8758        140       1024: 100%|██████████| 14/14 [00:09<00:00,  1.43it/s]\n",
            "                 Class     Images  Instances      Box(P          R      mAP50  mAP50-95): 100%|██████████| 4/4 [00:03<00:00,  1.08it/s]"
          ]
        },
        {
          "output_type": "stream",
          "name": "stdout",
          "text": [
            "                   all        118        761      0.988      0.986      0.993      0.916\n"
          ]
        },
        {
          "output_type": "stream",
          "name": "stderr",
          "text": [
            "\n"
          ]
        },
        {
          "output_type": "stream",
          "name": "stdout",
          "text": [
            "\n",
            "      Epoch    GPU_mem   box_loss   cls_loss   dfl_loss  Instances       Size\n"
          ]
        },
        {
          "output_type": "stream",
          "name": "stderr",
          "text": [
            "    187/200      9.98G     0.4889     0.3269      0.876         94       1024: 100%|██████████| 14/14 [00:09<00:00,  1.51it/s]\n",
            "                 Class     Images  Instances      Box(P          R      mAP50  mAP50-95): 100%|██████████| 4/4 [00:03<00:00,  1.01it/s]"
          ]
        },
        {
          "output_type": "stream",
          "name": "stdout",
          "text": [
            "                   all        118        761      0.989      0.986      0.993       0.92\n"
          ]
        },
        {
          "output_type": "stream",
          "name": "stderr",
          "text": [
            "\n"
          ]
        },
        {
          "output_type": "stream",
          "name": "stdout",
          "text": [
            "\n",
            "      Epoch    GPU_mem   box_loss   cls_loss   dfl_loss  Instances       Size\n"
          ]
        },
        {
          "output_type": "stream",
          "name": "stderr",
          "text": [
            "    188/200      9.79G     0.4859     0.3168      0.867         95       1024: 100%|██████████| 14/14 [00:08<00:00,  1.57it/s]\n",
            "                 Class     Images  Instances      Box(P          R      mAP50  mAP50-95): 100%|██████████| 4/4 [00:04<00:00,  1.02s/it]"
          ]
        },
        {
          "output_type": "stream",
          "name": "stdout",
          "text": [
            "                   all        118        761      0.989      0.986      0.993      0.922\n"
          ]
        },
        {
          "output_type": "stream",
          "name": "stderr",
          "text": [
            "\n"
          ]
        },
        {
          "output_type": "stream",
          "name": "stdout",
          "text": [
            "\n",
            "      Epoch    GPU_mem   box_loss   cls_loss   dfl_loss  Instances       Size\n"
          ]
        },
        {
          "output_type": "stream",
          "name": "stderr",
          "text": [
            "    189/200      10.2G     0.4735      0.321     0.8793        114       1024: 100%|██████████| 14/14 [00:08<00:00,  1.63it/s]\n",
            "                 Class     Images  Instances      Box(P          R      mAP50  mAP50-95): 100%|██████████| 4/4 [00:04<00:00,  1.09s/it]"
          ]
        },
        {
          "output_type": "stream",
          "name": "stdout",
          "text": [
            "                   all        118        761       0.99      0.987      0.993      0.918\n"
          ]
        },
        {
          "output_type": "stream",
          "name": "stderr",
          "text": [
            "\n"
          ]
        },
        {
          "output_type": "stream",
          "name": "stdout",
          "text": [
            "\n",
            "      Epoch    GPU_mem   box_loss   cls_loss   dfl_loss  Instances       Size\n"
          ]
        },
        {
          "output_type": "stream",
          "name": "stderr",
          "text": [
            "    190/200        10G     0.4853     0.3232      0.881        134       1024: 100%|██████████| 14/14 [00:08<00:00,  1.58it/s]\n",
            "                 Class     Images  Instances      Box(P          R      mAP50  mAP50-95): 100%|██████████| 4/4 [00:04<00:00,  1.03s/it]"
          ]
        },
        {
          "output_type": "stream",
          "name": "stdout",
          "text": [
            "                   all        118        761      0.989      0.988      0.994       0.92\n"
          ]
        },
        {
          "output_type": "stream",
          "name": "stderr",
          "text": [
            "\n"
          ]
        },
        {
          "output_type": "stream",
          "name": "stdout",
          "text": [
            "Closing dataloader mosaic\n",
            "\u001b[34m\u001b[1malbumentations: \u001b[0mBlur(p=0.01, blur_limit=(3, 7)), MedianBlur(p=0.01, blur_limit=(3, 7)), ToGray(p=0.01), CLAHE(p=0.01, clip_limit=(1, 4.0), tile_grid_size=(8, 8))\n",
            "\n",
            "      Epoch    GPU_mem   box_loss   cls_loss   dfl_loss  Instances       Size\n"
          ]
        },
        {
          "output_type": "stream",
          "name": "stderr",
          "text": [
            "    191/200      10.2G     0.4789     0.3317     0.8421         41       1024: 100%|██████████| 14/14 [00:13<00:00,  1.03it/s]\n",
            "                 Class     Images  Instances      Box(P          R      mAP50  mAP50-95): 100%|██████████| 4/4 [00:03<00:00,  1.07it/s]"
          ]
        },
        {
          "output_type": "stream",
          "name": "stdout",
          "text": [
            "                   all        118        761      0.987      0.989      0.993      0.916\n"
          ]
        },
        {
          "output_type": "stream",
          "name": "stderr",
          "text": [
            "\n"
          ]
        },
        {
          "output_type": "stream",
          "name": "stdout",
          "text": [
            "\n",
            "      Epoch    GPU_mem   box_loss   cls_loss   dfl_loss  Instances       Size\n"
          ]
        },
        {
          "output_type": "stream",
          "name": "stderr",
          "text": [
            "    192/200      10.2G     0.4707     0.3242      0.853         50       1024: 100%|██████████| 14/14 [00:08<00:00,  1.60it/s]\n",
            "                 Class     Images  Instances      Box(P          R      mAP50  mAP50-95): 100%|██████████| 4/4 [00:04<00:00,  1.03s/it]"
          ]
        },
        {
          "output_type": "stream",
          "name": "stdout",
          "text": [
            "                   all        118        761      0.988      0.989      0.993      0.914\n"
          ]
        },
        {
          "output_type": "stream",
          "name": "stderr",
          "text": [
            "\n"
          ]
        },
        {
          "output_type": "stream",
          "name": "stdout",
          "text": [
            "\n",
            "      Epoch    GPU_mem   box_loss   cls_loss   dfl_loss  Instances       Size\n"
          ]
        },
        {
          "output_type": "stream",
          "name": "stderr",
          "text": [
            "    193/200      10.1G     0.4581     0.3108     0.8441         38       1024: 100%|██████████| 14/14 [00:08<00:00,  1.66it/s]\n",
            "                 Class     Images  Instances      Box(P          R      mAP50  mAP50-95): 100%|██████████| 4/4 [00:03<00:00,  1.04it/s]"
          ]
        },
        {
          "output_type": "stream",
          "name": "stdout",
          "text": [
            "                   all        118        761      0.987      0.989      0.993      0.916\n"
          ]
        },
        {
          "output_type": "stream",
          "name": "stderr",
          "text": [
            "\n"
          ]
        },
        {
          "output_type": "stream",
          "name": "stdout",
          "text": [
            "\n",
            "      Epoch    GPU_mem   box_loss   cls_loss   dfl_loss  Instances       Size\n"
          ]
        },
        {
          "output_type": "stream",
          "name": "stderr",
          "text": [
            "    194/200      9.78G      0.442     0.3092     0.8412         54       1024: 100%|██████████| 14/14 [00:08<00:00,  1.64it/s]\n",
            "                 Class     Images  Instances      Box(P          R      mAP50  mAP50-95): 100%|██████████| 4/4 [00:03<00:00,  1.23it/s]"
          ]
        },
        {
          "output_type": "stream",
          "name": "stdout",
          "text": [
            "                   all        118        761      0.988      0.989      0.993      0.919\n"
          ]
        },
        {
          "output_type": "stream",
          "name": "stderr",
          "text": [
            "\n"
          ]
        },
        {
          "output_type": "stream",
          "name": "stdout",
          "text": [
            "\n",
            "      Epoch    GPU_mem   box_loss   cls_loss   dfl_loss  Instances       Size\n"
          ]
        },
        {
          "output_type": "stream",
          "name": "stderr",
          "text": [
            "    195/200      10.1G     0.4462     0.3041     0.8486         71       1024: 100%|██████████| 14/14 [00:09<00:00,  1.54it/s]\n",
            "                 Class     Images  Instances      Box(P          R      mAP50  mAP50-95): 100%|██████████| 4/4 [00:02<00:00,  1.49it/s]"
          ]
        },
        {
          "output_type": "stream",
          "name": "stdout",
          "text": [
            "                   all        118        761      0.986      0.989      0.993       0.92\n"
          ]
        },
        {
          "output_type": "stream",
          "name": "stderr",
          "text": [
            "\n"
          ]
        },
        {
          "output_type": "stream",
          "name": "stdout",
          "text": [
            "\n",
            "      Epoch    GPU_mem   box_loss   cls_loss   dfl_loss  Instances       Size\n"
          ]
        },
        {
          "output_type": "stream",
          "name": "stderr",
          "text": [
            "    196/200      10.2G     0.4442     0.2952     0.8425         84       1024: 100%|██████████| 14/14 [00:09<00:00,  1.46it/s]\n",
            "                 Class     Images  Instances      Box(P          R      mAP50  mAP50-95): 100%|██████████| 4/4 [00:02<00:00,  1.44it/s]"
          ]
        },
        {
          "output_type": "stream",
          "name": "stdout",
          "text": [
            "                   all        118        761      0.988      0.988      0.994      0.922\n"
          ]
        },
        {
          "output_type": "stream",
          "name": "stderr",
          "text": [
            "\n"
          ]
        },
        {
          "output_type": "stream",
          "name": "stdout",
          "text": [
            "\n",
            "      Epoch    GPU_mem   box_loss   cls_loss   dfl_loss  Instances       Size\n"
          ]
        },
        {
          "output_type": "stream",
          "name": "stderr",
          "text": [
            "    197/200      10.1G     0.4365     0.2956     0.8475         52       1024: 100%|██████████| 14/14 [00:10<00:00,  1.38it/s]\n",
            "                 Class     Images  Instances      Box(P          R      mAP50  mAP50-95): 100%|██████████| 4/4 [00:03<00:00,  1.31it/s]"
          ]
        },
        {
          "output_type": "stream",
          "name": "stdout",
          "text": [
            "                   all        118        761      0.988      0.988      0.994      0.921\n"
          ]
        },
        {
          "output_type": "stream",
          "name": "stderr",
          "text": [
            "\n"
          ]
        },
        {
          "output_type": "stream",
          "name": "stdout",
          "text": [
            "\n",
            "      Epoch    GPU_mem   box_loss   cls_loss   dfl_loss  Instances       Size\n"
          ]
        },
        {
          "output_type": "stream",
          "name": "stderr",
          "text": [
            "    198/200      10.2G     0.4346     0.3029       0.84         82       1024: 100%|██████████| 14/14 [00:10<00:00,  1.32it/s]\n",
            "                 Class     Images  Instances      Box(P          R      mAP50  mAP50-95): 100%|██████████| 4/4 [00:02<00:00,  1.40it/s]"
          ]
        },
        {
          "output_type": "stream",
          "name": "stdout",
          "text": [
            "                   all        118        761      0.992      0.987      0.994      0.924\n"
          ]
        },
        {
          "output_type": "stream",
          "name": "stderr",
          "text": [
            "\n"
          ]
        },
        {
          "output_type": "stream",
          "name": "stdout",
          "text": [
            "\n",
            "      Epoch    GPU_mem   box_loss   cls_loss   dfl_loss  Instances       Size\n"
          ]
        },
        {
          "output_type": "stream",
          "name": "stderr",
          "text": [
            "    199/200      9.55G     0.4426        0.3     0.8358         63       1024: 100%|██████████| 14/14 [00:09<00:00,  1.47it/s]\n",
            "                 Class     Images  Instances      Box(P          R      mAP50  mAP50-95): 100%|██████████| 4/4 [00:03<00:00,  1.30it/s]"
          ]
        },
        {
          "output_type": "stream",
          "name": "stdout",
          "text": [
            "                   all        118        761      0.992      0.988      0.994      0.926\n"
          ]
        },
        {
          "output_type": "stream",
          "name": "stderr",
          "text": [
            "\n"
          ]
        },
        {
          "output_type": "stream",
          "name": "stdout",
          "text": [
            "\n",
            "      Epoch    GPU_mem   box_loss   cls_loss   dfl_loss  Instances       Size\n"
          ]
        },
        {
          "output_type": "stream",
          "name": "stderr",
          "text": [
            "    200/200      10.2G     0.4291     0.2843     0.8295         67       1024: 100%|██████████| 14/14 [00:09<00:00,  1.48it/s]\n",
            "                 Class     Images  Instances      Box(P          R      mAP50  mAP50-95): 100%|██████████| 4/4 [00:03<00:00,  1.10it/s]"
          ]
        },
        {
          "output_type": "stream",
          "name": "stdout",
          "text": [
            "                   all        118        761      0.992      0.988      0.994      0.928\n"
          ]
        },
        {
          "output_type": "stream",
          "name": "stderr",
          "text": [
            "\n"
          ]
        },
        {
          "output_type": "stream",
          "name": "stdout",
          "text": [
            "\n",
            "200 epochs completed in 0.846 hours.\n",
            "Optimizer stripped from models/yolov8/detect/train/weights/last.pt, 22.6MB\n",
            "Optimizer stripped from models/yolov8/detect/train/weights/best.pt, 22.6MB\n",
            "\n",
            "Validating models/yolov8/detect/train/weights/best.pt...\n",
            "Ultralytics YOLOv8.0.227 🚀 Python-3.10.12 torch-2.1.0+cu121 CUDA:0 (Tesla T4, 15102MiB)\n",
            "YOLOv8s summary (fused): 168 layers, 11125971 parameters, 0 gradients, 28.4 GFLOPs\n"
          ]
        },
        {
          "output_type": "stream",
          "name": "stderr",
          "text": [
            "                 Class     Images  Instances      Box(P          R      mAP50  mAP50-95): 100%|██████████| 4/4 [00:05<00:00,  1.42s/it]\n"
          ]
        },
        {
          "output_type": "stream",
          "name": "stdout",
          "text": [
            "                   all        118        761      0.992      0.988      0.994      0.928\n",
            "Speed: 0.4ms preprocess, 9.8ms inference, 0.0ms loss, 6.1ms postprocess per image\n",
            "Results saved to \u001b[1mmodels/yolov8/detect/train\u001b[0m\n"
          ]
        }
      ]
    },
    {
      "cell_type": "code",
      "source": [
        "from ultralytics import YOLO\n",
        "\n",
        "model_path = '/content/models/yolov8/detect/train/weights/best.pt'\n",
        "model = YOLO(model_path)\n",
        "\n",
        "metrics = model.val()\n"
      ],
      "metadata": {
        "colab": {
          "base_uri": "https://localhost:8080/"
        },
        "id": "7WzOiRLuUCQh",
        "outputId": "9f67fd9d-2934-486e-bad1-8c69d9bd99f5"
      },
      "execution_count": null,
      "outputs": [
        {
          "output_type": "stream",
          "name": "stdout",
          "text": [
            "Ultralytics YOLOv8.0.227 🚀 Python-3.10.12 torch-2.1.0+cu121 CUDA:0 (Tesla T4, 15102MiB)\n",
            "YOLOv8s summary (fused): 168 layers, 11125971 parameters, 0 gradients, 28.4 GFLOPs\n"
          ]
        },
        {
          "output_type": "stream",
          "name": "stderr",
          "text": [
            "\u001b[34m\u001b[1mval: \u001b[0mScanning /content/yolo_data/val/labels.cache... 118 images, 0 backgrounds, 0 corrupt: 100%|██████████| 118/118 [00:00<?, ?it/s]\n",
            "                 Class     Images  Instances      Box(P          R      mAP50  mAP50-95): 100%|██████████| 8/8 [00:09<00:00,  1.21s/it]\n"
          ]
        },
        {
          "output_type": "stream",
          "name": "stdout",
          "text": [
            "                   all        118        761      0.991      0.988      0.994      0.928\n",
            "Speed: 1.0ms preprocess, 25.9ms inference, 0.0ms loss, 10.0ms postprocess per image\n",
            "Results saved to \u001b[1mruns/detect/val\u001b[0m\n"
          ]
        }
      ]
    },
    {
      "cell_type": "code",
      "source": [
        "import locale\n",
        "def getpreferredencoding(do_setlocale = True):\n",
        "    return \"UTF-8\"\n",
        "locale.getpreferredencoding = getpreferredencoding"
      ],
      "metadata": {
        "id": "pTItUfToXZsi"
      },
      "execution_count": null,
      "outputs": []
    },
    {
      "cell_type": "code",
      "source": [
        "!pip install timm"
      ],
      "metadata": {
        "colab": {
          "base_uri": "https://localhost:8080/"
        },
        "id": "PufUQ1cOWu16",
        "outputId": "961710d6-013a-4faa-8b5f-aa6b1247c017"
      },
      "execution_count": null,
      "outputs": [
        {
          "output_type": "stream",
          "name": "stdout",
          "text": [
            "Collecting timm\n",
            "  Downloading timm-0.9.12-py3-none-any.whl (2.2 MB)\n",
            "\u001b[?25l     \u001b[90m━━━━━━━━━━━━━━━━━━━━━━━━━━━━━━━━━━━━━━━━\u001b[0m \u001b[32m0.0/2.2 MB\u001b[0m \u001b[31m?\u001b[0m eta \u001b[36m-:--:--\u001b[0m\r\u001b[2K     \u001b[91m╸\u001b[0m\u001b[90m━━━━━━━━━━━━━━━━━━━━━━━━━━━━━━━━━━━━━━━\u001b[0m \u001b[32m0.0/2.2 MB\u001b[0m \u001b[31m1.1 MB/s\u001b[0m eta \u001b[36m0:00:02\u001b[0m\r\u001b[2K     \u001b[91m━━━━━━━━━━━━━━━━━━━━━━\u001b[0m\u001b[90m╺\u001b[0m\u001b[90m━━━━━━━━━━━━━━━━━\u001b[0m \u001b[32m1.2/2.2 MB\u001b[0m \u001b[31m18.0 MB/s\u001b[0m eta \u001b[36m0:00:01\u001b[0m\r\u001b[2K     \u001b[90m━━━━━━━━━━━━━━━━━━━━━━━━━━━━━━━━━━━━━━━━\u001b[0m \u001b[32m2.2/2.2 MB\u001b[0m \u001b[31m22.4 MB/s\u001b[0m eta \u001b[36m0:00:00\u001b[0m\n",
            "\u001b[?25hRequirement already satisfied: torch>=1.7 in /usr/local/lib/python3.10/dist-packages (from timm) (2.1.0+cu121)\n",
            "Requirement already satisfied: torchvision in /usr/local/lib/python3.10/dist-packages (from timm) (0.16.0+cu121)\n",
            "Requirement already satisfied: pyyaml in /usr/local/lib/python3.10/dist-packages (from timm) (6.0.1)\n",
            "Requirement already satisfied: huggingface-hub in /usr/local/lib/python3.10/dist-packages (from timm) (0.19.4)\n",
            "Requirement already satisfied: safetensors in /usr/local/lib/python3.10/dist-packages (from timm) (0.4.1)\n",
            "Requirement already satisfied: filelock in /usr/local/lib/python3.10/dist-packages (from torch>=1.7->timm) (3.13.1)\n",
            "Requirement already satisfied: typing-extensions in /usr/local/lib/python3.10/dist-packages (from torch>=1.7->timm) (4.5.0)\n",
            "Requirement already satisfied: sympy in /usr/local/lib/python3.10/dist-packages (from torch>=1.7->timm) (1.12)\n",
            "Requirement already satisfied: networkx in /usr/local/lib/python3.10/dist-packages (from torch>=1.7->timm) (3.2.1)\n",
            "Requirement already satisfied: jinja2 in /usr/local/lib/python3.10/dist-packages (from torch>=1.7->timm) (3.1.2)\n",
            "Requirement already satisfied: fsspec in /usr/local/lib/python3.10/dist-packages (from torch>=1.7->timm) (2023.6.0)\n",
            "Requirement already satisfied: triton==2.1.0 in /usr/local/lib/python3.10/dist-packages (from torch>=1.7->timm) (2.1.0)\n",
            "Requirement already satisfied: requests in /usr/local/lib/python3.10/dist-packages (from huggingface-hub->timm) (2.31.0)\n",
            "Requirement already satisfied: tqdm>=4.42.1 in /usr/local/lib/python3.10/dist-packages (from huggingface-hub->timm) (4.66.1)\n",
            "Requirement already satisfied: packaging>=20.9 in /usr/local/lib/python3.10/dist-packages (from huggingface-hub->timm) (23.2)\n",
            "Requirement already satisfied: numpy in /usr/local/lib/python3.10/dist-packages (from torchvision->timm) (1.23.5)\n",
            "Requirement already satisfied: pillow!=8.3.*,>=5.3.0 in /usr/local/lib/python3.10/dist-packages (from torchvision->timm) (9.4.0)\n",
            "Requirement already satisfied: MarkupSafe>=2.0 in /usr/local/lib/python3.10/dist-packages (from jinja2->torch>=1.7->timm) (2.1.3)\n",
            "Requirement already satisfied: charset-normalizer<4,>=2 in /usr/local/lib/python3.10/dist-packages (from requests->huggingface-hub->timm) (3.3.2)\n",
            "Requirement already satisfied: idna<4,>=2.5 in /usr/local/lib/python3.10/dist-packages (from requests->huggingface-hub->timm) (3.6)\n",
            "Requirement already satisfied: urllib3<3,>=1.21.1 in /usr/local/lib/python3.10/dist-packages (from requests->huggingface-hub->timm) (2.0.7)\n",
            "Requirement already satisfied: certifi>=2017.4.17 in /usr/local/lib/python3.10/dist-packages (from requests->huggingface-hub->timm) (2023.11.17)\n",
            "Requirement already satisfied: mpmath>=0.19 in /usr/local/lib/python3.10/dist-packages (from sympy->torch>=1.7->timm) (1.3.0)\n",
            "Installing collected packages: timm\n",
            "Successfully installed timm-0.9.12\n"
          ]
        }
      ]
    },
    {
      "cell_type": "code",
      "source": [
        "import os\n",
        "import shutil\n",
        "import xml.etree.ElementTree as ET\n",
        "import numpy as np\n",
        "import pandas as pd\n",
        "import random\n",
        "import cv2\n",
        "import timm\n",
        "import matplotlib.pyplot as plt\n",
        "from PIL import Image\n",
        "\n",
        "import torch\n",
        "import torch.nn as nn\n",
        "import torchvision\n",
        "from torch.nn import functional as F\n",
        "from torchvision import models, transforms\n",
        "from torch.utils.data import Dataset, DataLoader\n",
        "\n",
        "from sklearn.model_selection import train_test_split"
      ],
      "metadata": {
        "id": "zQn0tsaWVzMR"
      },
      "execution_count": null,
      "outputs": []
    },
    {
      "cell_type": "code",
      "source": [
        "def split_bounding_boxes(img_paths, img_labels, bboxes, save_dir):\n",
        "    os.makedirs(save_dir, exist_ok=True)\n",
        "\n",
        "    count = 0\n",
        "    labels = []  # List to store labels\n",
        "\n",
        "    for img_path, img_label, bbs in zip(img_paths, img_labels, bboxes):\n",
        "        img = Image.open(img_path)\n",
        "\n",
        "        for label, bb in zip(img_label, bbs):\n",
        "            # Crop image\n",
        "            cropped_img = img.crop((bb[0], bb[1], bb[0] + bb[2], bb[1] + bb[3]))\n",
        "\n",
        "            # Filter out if 90% of the cropped image is black or white\n",
        "            if np.mean(cropped_img) < 35 or np.mean(cropped_img) > 220:\n",
        "                continue\n",
        "\n",
        "            if cropped_img.size[0] < 10 or cropped_img.size[1] < 10:\n",
        "                continue\n",
        "\n",
        "            # Save image\n",
        "            filename = f\"{count:06d}.jpg\"\n",
        "            cropped_img.save(os.path.join(save_dir, filename))\n",
        "\n",
        "            new_img_path = os.path.join(save_dir, filename)\n",
        "\n",
        "            label = new_img_path + '\\t' + label\n",
        "\n",
        "            labels.append(label)  # Append label to the list\n",
        "\n",
        "            count += 1\n",
        "\n",
        "    print(f\"Created {count} images\")\n",
        "\n",
        "    # Write labels to a text file\n",
        "    with open(os.path.join(save_dir, 'labels.txt'), 'w',encoding='utf-8') as f:\n",
        "        for label in labels:\n",
        "            f.write(f\"{label}\\n\")\n",
        "\n",
        "save_dir = 'ocr_dataset'\n",
        "split_bounding_boxes(img_paths, img_labels, bboxes, save_dir)"
      ],
      "metadata": {
        "id": "NzoaAV-hWtpe",
        "colab": {
          "base_uri": "https://localhost:8080/"
        },
        "outputId": "af653bb1-d2c2-4ade-aa86-0311b1fbef0f"
      },
      "execution_count": null,
      "outputs": [
        {
          "output_type": "stream",
          "name": "stdout",
          "text": [
            "Created 11314 images\n"
          ]
        }
      ]
    },
    {
      "cell_type": "code",
      "source": [
        "#read data\n",
        "root_dir = save_dir\n",
        "\n",
        "img_paths = []\n",
        "labels = []\n",
        "with open(os.path.join(root_dir,'labels.txt'),'r',encoding='utf-8') as f:\n",
        "  for label in f :\n",
        "    labels.append(label.strip().split('\\t')[1])\n",
        "    img_paths.append(label.strip().split('\\t')[0])\n",
        "\n",
        "print(f\"total image {len(img_paths)}\")"
      ],
      "metadata": {
        "colab": {
          "base_uri": "https://localhost:8080/"
        },
        "id": "Kl1L0--fg8IW",
        "outputId": "1a80b02c-866d-4b8c-f11d-7f4233ecd01e"
      },
      "execution_count": null,
      "outputs": [
        {
          "output_type": "stream",
          "name": "stdout",
          "text": [
            "total image 11314\n"
          ]
        }
      ]
    },
    {
      "cell_type": "code",
      "source": [
        "#letters = [char.split(\".\")[0].lower() for char in labels]\n",
        "i = 0\n",
        "for char in labels:\n",
        "  print(char)\n",
        "  i += 1\n",
        "  if i == 5:\n",
        "    break"
      ],
      "metadata": {
        "colab": {
          "base_uri": "https://localhost:8080/"
        },
        "id": "RiT3dv4HkcxU",
        "outputId": "d399a204-e939-4869-a891-e99d22d5a495"
      },
      "execution_count": null,
      "outputs": [
        {
          "output_type": "stream",
          "name": "stdout",
          "text": [
            "self\n",
            "adhesive\n",
            "address\n",
            "labels\n",
            "36\n"
          ]
        }
      ]
    },
    {
      "cell_type": "code",
      "source": [
        "letters = [char.lower() for char in labels]"
      ],
      "metadata": {
        "id": "s-j8Pb24rGIo"
      },
      "execution_count": null,
      "outputs": []
    },
    {
      "cell_type": "code",
      "source": [
        "letters = \"\".join(letters)\n",
        "print(letters)\n"
      ],
      "metadata": {
        "colab": {
          "base_uri": "https://localhost:8080/"
        },
        "id": "5pSKaFuYrSKY",
        "outputId": "056ea324-a1d9-4065-86a7-e6d8b62431f5"
      },
      "execution_count": null,
      "outputs": [
        {
          "output_type": "stream",
          "name": "stdout",
          "text": [
            "selfadhesiveaddresslabels36250onarollselfadhesiveaddresslabels36250onarollselfadhesiveaddresslabels36250onarollselfadhesiveaddresslabels36250onarollselfadhesiveaddresslabels36250onarollselfadhesiveaddresslabels36250onarollselfadhesiveaddresslabels36250onarollselfadhesiveaddresslabels36250onarollselfadhesiveaddresslabels36250onarollselfadhesiveaddresslabels36250onarollselfadhesiveaddresslabels36250onarollnatwestgreekgastronomycookerywineslocaltoubrsspecialtiesfestiverecipesillustratedgreekgastronomycookerywineslocaltoubrsspecialtiesfestiverecipesillustratedgreekgastronomycookerywineslocaltoubrsspecialtiesfestiverecipesillustratedgreekgastronomycookerywineslocaltoubrsspecialtiesfestiverecipesillustratedgreekgastronomycookerywineslocaltoubrsspecialtiesfestiverecipesillustratedgreekgastronomycookerywineslocaltoubrsspecialtiesfestiverecipesillustratedgreekgastronomycookerywineslocaltoubrsspecialtiesfestiverecipesillustratedgreekgastronomycookerywineslocaltoubrsspecialtiesfestiverecipesillustratedgreekgastronomycookerywineslocaltoubrsspecialtiesfestiverecipesillustratedgreekgastronomycookerywineslocaltoubrsspecialtiesfestiverecipesillustrated8373thehouseofthespiritsisabelallendeintenselymovingbothentertaininganddeeplyseriouseveningstandard8373thehouseofthespiritsisabelallendeintenselymovingbothentertaininganddeeplyseriouseveningstandard8373thehouseofthespiritsisabelallendeintenselymovingbothentertaininganddeeplyseriouseveningstandard8373thehouseofthespiritsisabelallendeintenselymovingbothentertaininganddeeplyseriouseveningstandard8373thehouseofthespiritsisabelallendeintenselymovingbothentertaininganddeeplyseriouseveningstandard8373thehouseofthespiritsisabelallendeintenselymovingbothentertaininganddeeplyseriouseveningstandard8373thehouseofthespiritsisabelallendeintenselymovingbothentertaininganddeeplyseriouseveningstandard8373thehouseofthespiritsisabelallendeintenselymovingbothentertaininganddeeplyseriouseveningstandard8373thehouseofthespiritsisabelallendeintenselymovingbothentertaininganddeeplyseriouseveningstandard8373thehouseofthespiritsisabelallendeintenselymovingbothentertaininganddeeplyseriouseveningstandard8373thehouseofthespiritsisabelallendeintenselymovingbothentertaininganddeeplyseriouseveningstandard8373thehouseofthespiritsisabelallendeintenselymovingbothentertaininganddeeplyseriouseveningstandard8373thehouseofthespiritsisabelallendeintenselymovingbothentertaininganddeeplyseriouseveningstandard8373thehouseofthespiritsisabelallendeintenselymovingbothentertaininganddeeplyseriouseveningstandard8373thehouseofthespiritsisabelallendeintenselymovingbothentertaininganddeeplyseriouseveningstandard8373thehouseofthespiritsisabelallendeintenselymovingbothentertaininganddeeplyseriouseveningstandard8373thehouseofthespiritsisabelallendeintenselymovingbothentertaininganddeeplyseriouseveningstandard8373thehouseofthespiritsisabelallendeintenselymovingbothentertaininganddeeplyseriouseveningstandarddigitalmultimediawileynigelchapmanandjennychapmandigitalmultimediawileynigelchapmanandjennychapmandigitalmultimediawileynigelchapmanandjennychapmandigitalmultimediawileynigelchapmanandjennychapmandigitalmultimediawileynigelchapmanandjennychapmandigitalmultimediawileynigelchapmanandjennychapmandigitalmultimediawileynigelchapmanandjennychapmandigitalmultimediawileynigelchapmanandjennychapmansoftwaredesignforsystemsjecoolingsoftwaredesignforsystemsjecoolingsoftwaredesignforsystemsjecoolingsoftwaredesignforsystemsjecoolingsoftwaredesignforsystemsjecoolingsoftwaredesignforsystemsjecoolingsoftwaredesignforsystemsjecoolingnokiaadaptercabledlr3pa4382nokia6210dlr3pdatacablenokiaadaptercabledlr3pa4382nokia6210dlr3pdatacablenokiaadaptercabledlr3pa4382nokia6210dlr3pdatacablenokiaadaptercabledlr3pa4382nokia6210dlr3pdatacablenokiaadaptercabledlr3pa4382nokia6210dlr3pdatacablenokiaadaptercabledlr3pa4382nokia6210dlr3pdatacablenokiaadaptercabledlr3pa4382nokia6210dlr3pdatacablenokiaadaptercabledlr3pa4382nokia6210dlr3pdatacablenokiaadaptercabledlr3pa4382nokia6210dlr3pdatacablenokiaadaptercabledlr3pa4382nokia6210dlr3pdatacablenokiaadaptercabledlr3pa4382nokia6210dlr3pdatacablenokiaadaptercabledlr3pa4382nokia6210dlr3pdatacableprofessionalissuesinsoftwareengineeringfrankbottallisoncolemanjackeatondianerowlandthirdeditionprofessionalissuesinsoftwareengineeringfrankbottallisoncolemanjackeatondianerowlandthirdeditionprofessionalissuesinsoftwareengineeringfrankbottallisoncolemanjackeatondianerowlandthirdeditionprofessionalissuesinsoftwareengineeringfrankbottallisoncolemanjackeatondianerowlandthirdeditionprofessionalissuesinsoftwareengineeringfrankbottallisoncolemanjackeatondianerowlandthirdeditionprofessionalissuesinsoftwareengineeringfrankbottallisoncolemanjackeatondianerowlandthirdeditionprofessionalissuesinsoftwareengineeringfrankbottallisoncolemanjackeatondianerowlandthirdeditionprofessionalissuesinsoftwareengineeringfrankbottallisoncolemanjackeatondianerowlandthirdeditionprofessionalissuesinsoftwareengineeringfrankbottallisoncolemanjackeatondianerowlandthirdeditionprofessionalissuesinsoftwareengineeringfrankbottallisoncolemanjackeatondianerowlandthirdeditionprofessionalissuesinsoftwareengineeringfrankbottallisoncolemanjackeatondianerowlandthirdeditionprofessionalissuesinsoftwareengineeringfrankbottallisoncolemanjackeatondianerowlandthirdeditionprofessionalissuesinsoftwareengineeringfrankbottallisoncolemanjackeatondianerowlandthirdeditionprofessionalissuesinsoftwareengineeringfrankbottallisoncolemanjackeatondianerowlandthirdeditionprofessionalissuesinsoftwareengineeringfrankbottallisoncolemanjackeatondianerowlandthirdeditionsilberschatzgalvinoperatingsystemconceptsfiftheditionsilberschatzgalvinoperatingsystemconceptsfiftheditionsilberschatzgalvinoperatingsystemconceptsfiftheditionsilberschatzgalvinoperatingsystemconceptsfiftheditionsilberschatzgalvinoperatingsystemconceptsfiftheditionsilberschatzgalvinoperatingsystemconceptsfiftheditionsilberschatzgalvinoperatingsystemconceptsfiftheditionsystemsseriessystemsanalysisdesignstemsidmasonlesliewillcocksbusinessstrategyitstrategyinformationsystemsseriessystemsanalysisdesignstemsidmasonlesliewillcocksbusinessstrategyitstrategyinformationsystemsseriessystemsanalysisdesignstemsidmasonlesliewillcocksbusinessstrategyitstrategyinformationsystemsseriessystemsanalysisdesignstemsidmasonlesliewillcocksbusinessstrategyitstrategyinformationsystemsseriessystemsanalysisdesignstemsidmasonlesliewillcocksbusinessstrategyitstrategyinformationsystemsseriessystemsanalysisdesignstemsidmasonlesliewillcocksbusinessstrategyitstrategyinformationsystemsseriessystemsanalysisdesignstemsidmasonlesliewillcocksbusinessstrategyitstrategyinformationsystemsseriessystemsanalysisdesignstemsidmasonlesliewillcocksbusinessstrategyitstrategyinformationsystemsseriessystemsanalysisdesignstemsidmasonlesliewillcocksbusinessstrategyitstrategyinformationsystemsseriessystemsanalysisdesignstemsidmasonlesliewillcocksbusinessstrategyitstrategyinformationsystemsseriessystemsanalysisdesignstemsidmasonlesliewillcocksbusinessstrategyitstrategyinformationsystemsseriessystemsanalysisdesignstemsidmasonlesliewillcocksbusinessstrategyitstrategyinformationsystemsseriessystemsanalysisdesignstemsidmasonlesliewillcocksbusinessstrategyitstrategyinformationsystemsseriessystemsanalysisdesignstemsidmasonlesliewillcocksbusinessstrategyitstrategyinformationsystemsseriessystemsanalysisdesignstemsidmasonlesliewillcocksbusinessstrategyitstrategyinformationwearswearswearsalanclementstrinciplesofomputerhardwaresecondeditionalanclementstrinciplesofomputerhardwaresecondeditionalanclementstrinciplesofomputerhardwaresecondeditionalanclementstrinciplesofomputerhardwaresecondeditionalanclementstrinciplesofomputerhardwaresecondeditionalanclementstrinciplesofomputerhardwaresecondeditionalanclementstrinciplesofomputerhardwaresecondeditionalanclementstrinciplesofomputerhardwaresecondeditionalanclementstrinciplesofomputerhardwaresecondeditionsoftwareengineeringiansommervillesoftwareengineeringiansommervillesoftwareengineeringiansommervillesoftwareengineeringiansommervillesonysonysonysonyconditionshandlewithcarepleaesreturntofuturepublishingltdsomertonta116tbunitedkingdomhandlewithcarepleaesreturntofuturepublishingltdsomertonta116tbunitedkingdomhandlewithcarepleaesreturntofuturepublishingltdsomertonta116tbunitedkingdomhandlewithcarepleaesreturntofuturepublishingltdsomertonta116tbunitedkingdomhandlewithcarepleaesreturntofuturepublishingltdsomertonta116tbunitedkingdomhandlewithcarepleaesreturntofuturepublishingltdsomertonta116tbunitedkingdomhandlewithcarepleaesreturntofuturepublishingltdsomertonta116tbunitedkingdomhandlewithcarepleaesreturntofuturepublishingltdsomertonta116tbunitedkingdomhandlewithcarepleaesreturntofuturepublishingltdsomertonta116tbunitedkingdomhandlewithcarepleaesreturntofuturepublishingltdsomertonta116tbunitedkingdomhandlewithcarepleaesreturntofuturepublishingltdsomertonta116tbunitedkingdomhandlewithcarepleaesreturntofuturepublishingltdsomertonta116tbunitedkingdomhandlewithcarepleaesreturntofuturepublishingltdsomertonta116tbunitedkingdomhandlewithcarepleaesreturntofuturepublishingltdsomertonta116tbunitedkingdomeditionsystemsdatabaseanintroductiontodatesixtheditionsystemsdatabaseanintroductiontodatesixtheditionsystemsdatabaseanintroductiontodatesixtheditionsystemsdatabaseanintroductiontodatesixtheditionsystemsdatabaseanintroductiontodatesixtheditionsystemsdatabaseanintroductiontodatesixtheditionsystemsdatabaseanintroductiontodatesixtheditionsystemsdatabaseanintroductiontodatesixthstuartrussellpeternorvigintelligencertificialamodernapproachstuartrussellpeternorvigintelligencertificialamodernapproachstuartrussellpeternorvigintelligencertificialamodernapproachstuartrussellpeternorvigintelligencertificialamodernapproachstuartrussellpeternorvigintelligencertificialamodernapproachstuartrussellpeternorvigintelligencertificialamodernapproachstuartrussellpeternorvigintelligencertificialamodernapproachstuartrussellpeternorvigintelligencertificialamodernapproachstuartrussellpeternorvigintelligencertificialamodernapproachessenceofcomputingtheessenceofartificialintelligenceessenceofcomputingtheessenceofartificialintelligenceessenceofcomputingtheessenceofartificialintelligenceessenceofcomputingtheessenceofartificialintelligenceessenceofcomputingtheessenceofartificialintelligenceessenceofcomputingtheessenceofartificialintelligenceessenceofcomputingtheessenceofartificialintelligenceessenceofcomputingtheessenceofartificialintelligencestudentsengineeringforcommunicationstudentsengineeringforcommunicationstudentsengineeringforcommunicationstudentsengineeringforcommunicationociinternationalcomputerscienceseriesdiscretemathematicscomputerforscientistsociinternationalcomputerscienceseriesdiscretemathematicscomputerforscientistsociinternationalcomputerscienceseriesdiscretemathematicscomputerforscientistsociinternationalcomputerscienceseriesdiscretemathematicscomputerforscientistsociinternationalcomputerscienceseriesdiscretemathematicscomputerforscientistsociinternationalcomputerscienceseriesdiscretemathematicscomputerforscientistsociinternationalcomputerscienceseriesdiscretemathematicscomputerforscientistsociinternationalcomputerscienceseriesdiscretemathematicscomputerforscientistsociinternationalcomputerscienceseriesdiscretemathematicscomputerforscientistsociinternationalcomputerscienceseriesdiscretemathematicscomputerforscientistsociinternationalcomputerscienceseriesdiscretemathematicscomputerforscientistsociinternationalcomputerscienceseriesdiscretemathematicscomputerforscientistsreleaseofnetv10marcobellinasoandkevinhoffmanwroxwroxtechnicalsupportatsupportwroxcomupdatesandsourcecodeatwwwwroxcomwroxcompeerdiscussionatp2pprogrammertoprogrammeraspnetwebsiteprogrammingproblemdesignsolutionwrittenandtestedforfinalreleaseofnetv10marcobellinasoandkevinhoffmanwroxwroxtechnicalsupportatsupportwroxcomupdatesandsourcecodeatwwwwroxcomwroxcompeerdiscussionatp2pprogrammertoprogrammeraspnetwebsiteprogrammingproblemdesignsolutionwrittenandtestedforfinalreleaseofnetv10marcobellinasoandkevinhoffmanwroxwroxtechnicalsupportatsupportwroxcomupdatesandsourcecodeatwwwwroxcomwroxcompeerdiscussionatp2pprogrammertoprogrammeraspnetwebsiteprogrammingproblemdesignsolutionwrittenandtestedforfinalreleaseofnetv10marcobellinasoandkevinhoffmanwroxwroxtechnicalsupportatsupportwroxcomupdatesandsourcecodeatwwwwroxcomwroxcompeerdiscussionatp2pprogrammertoprogrammeraspnetwebsiteprogrammingproblemdesignsolutionwrittenandtestedforfinalreleaseofnetv10marcobellinasoandkevinhoffmanwroxwroxtechnicalsupportatsupportwroxcomupdatesandsourcecodeatwwwwroxcomwroxcompeerdiscussionatp2pprogrammertoprogrammeraspnetwebsiteprogrammingproblemdesignsolutionwrittenandtestedforfinalreleaseofnetv10marcobellinasoandkevinhoffmanwroxwroxtechnicalsupportatsupportwroxcomupdatesandsourcecodeatwwwwroxcomwroxcompeerdiscussionatp2pprogrammertoprogrammeraspnetwebsiteprogrammingproblemdesignsolutionwrittenandtestedforfinalreleaseofnetv10marcobellinasoandkevinhoffmanwroxwroxtechnicalsupportatsupportwroxcomupdatesandsourcecodeatwwwwroxcomwroxcompeerdiscussionatp2pprogrammertoprogrammeraspnetwebsiteprogrammingproblemdesignsolutionwrittenandtestedforfinalreleaseofnetv10marcobellinasoandkevinhoffmanwroxwroxtechnicalsupportatsupportwroxcomupdatesandsourcecodeatwwwwroxcomwroxcompeerdiscussionatp2pprogrammertoprogrammeraspnetwebsiteprogrammingproblemdesignsolutionwrittenandtestedforfinalreleaseofnetv10marcobellinasoandkevinhoffmanwroxwroxtechnicalsupportatsupportwroxcomupdatesandsourcecodeatwwwwroxcomwroxcompeerdiscussionatp2pprogrammertoprogrammeraspnetwebsiteprogrammingproblemdesignsolutionwrittenandtestedforfinalreleaseofnetv10marcobellinasoandkevinhoffmanwroxwroxtechnicalsupportatsupportwroxcomupdatesandsourcecodeatwwwwroxcomwroxcompeerdiscussionatp2pprogrammertoprogrammeraspnetwebsiteprogrammingproblemdesignsolutionwrittenandtestedforfinalreleaseofnetv10marcobellinasoandkevinhoffmanwroxwroxtechnicalsupportatsupportwroxcomupdatesandsourcecodeatwwwwroxcomwroxcompeerdiscussionatp2pprogrammertoprogrammeraspnetwebsiteprogrammingproblemdesignsolutionwrittenandtestedforfinalreleaseofnetv10marcobellinasoandkevinhoffmanwroxwroxtechnicalsupportatsupportwroxcomupdatesandsourcecodeatwwwwroxcomwroxcompeerdiscussionatp2pprogrammertoprogrammeraspnetwebsiteprogrammingproblemdesignsolutionwrittenandtestedforfinalreleaseofnetv10marcobellinasoandkevinhoffmanwroxwroxtechnicalsupportatsupportwroxcomupdatesandsourcecodeatwwwwroxcomwroxcompeerdiscussionatp2pprogrammertoprogrammeraspnetwebsiteprogrammingproblemdesignsolutionwrittenandtestedforfinalreleaseofnetv10marcobellinasoandkevinhoffmanwroxwroxtechnicalsupportatsupportwroxcomupdatesandsourcecodeatwwwwroxcomwroxcompeerdiscussionatp2pprogrammertoprogrammeraspnetwebsiteprogrammingproblemdesignsolutionwrittenandtestedforfinalreleaseofnetv10marcobellinasoandkevinhoffmanwroxwroxtechnicalsupportatsupportwroxcomupdatesandsourcecodeatwwwwroxcomwroxcompeerdiscussionatp2pprogrammertoprogrammeraspnetwebsiteprogrammingproblemdesignsolutionwrittenandtestedforfinalreleaseofnetv10marcobellinasoandkevinhoffmanwroxwroxtechnicalsupportatsupportwroxcomupdatesandsourcecodeatwwwwroxcomwroxcompeerdiscussionatp2pprogrammertoprogrammeraspnetwebsiteprogrammingproblemdesignsolutionwrittenandtestedforfinalreleaseofnetv10marcobellinasoandkevinhoffmanwroxwroxtechnicalsupportatsupportwroxcomupdatesandsourcecodeatwwwwroxcomwroxcompeerdiscussionatp2pprogrammertoprogrammeraspnetwebsiteprogrammingproblemdesignsolutionwrittenandtestedforfinalreleaseofnetv10marcobellinasoandkevinhoffmanwroxwroxtechnicalsupportatsupportwroxcomupdatesandsourcecodeatwwwwroxcomwroxcompeerdiscussionatp2pprogrammertoprogrammeraspnetwebsiteprogrammingproblemdesignsolutionwrittenandtestedforfinalreleaseofnetv10marcobellinasoandkevinhoffmanwroxwroxtechnicalsupportatsupportwroxcomupdatesandsourcecodeatwwwwroxcomwroxcompeerdiscussionatp2pprogrammertoprogrammeraspnetwebsiteprogrammingproblemdesignsolutionwrittenandtestedforfinalreleaseofnetv10marcobellinasoandkevinhoffmanwroxwroxtechnicalsupportatsupportwroxcomupdatesandsourcecodeatwwwwroxcomwroxcompeerdiscussionatp2pprogrammertoprogrammeraspnetwebsiteprogrammingproblemdesignsolutionwrittenandtestedforfinalreleaseofnetv10marcobellinasoandkevinhoffmanwroxwroxtechnicalsupportatsupportwroxcomupdatesandsourcecodeatwwwwroxcomwroxcompeerdiscussionatp2pprogrammertoprogrammeraspnetwebsiteprogrammingproblemdesignsolutionwrittenandtestedforfinalreleaseofnetv10marcobellinasoandkevinhoffmanwroxwroxtechnicalsupportatsupportwroxcomupdatesandsourcecodeatwwwwroxcomwroxcompeerdiscussionatp2pprogrammertoprogrammeraspnetwebsiteprogrammingproblemdesignsolutionwrittenandtestedforfinalreleaseofnetv10marcobellinasoandkevinhoffmanwroxwroxtechnicalsupportatsupportwroxcomupdatesandsourcecodeatwwwwroxcomwroxcompeerdiscussionatp2pprogrammertoprogrammeraspnetwebsiteprogrammingproblemdesignsolutionwrittenandtestedforfinalreleaseofnetv10marcobellinasoandkevinhoffmanwroxwroxtechnicalsupportatsupportwroxcomupdatesandsourcecodeatwwwwroxcomwroxcompeerdiscussionatp2pprogrammertoprogrammeraspnetwebsiteprogrammingproblemdesignsolutionwrittenandtestedforfinalreleaseofnetv10marcobellinasoandkevinhoffmanwroxwroxtechnicalsupportatsupportwroxcomupdatesandsourcecodeatwwwwroxcomwroxcompeerdiscussionatp2pprogrammertoprogrammeraspnetwebsiteprogrammingproblemdesignsolutionwrittenandtestedforfinalreleaseofnetv10marcobellinasoandkevinhoffmanwroxwroxtechnicalsupportatsupportwroxcomupdatesandsourcecodeatwwwwroxcomwroxcompeerdiscussionatp2pprogrammertoprogrammeraspnetwebsiteprogrammingproblemdesignsolutionwrittenandtestedforfinalreleaseofnetv10marcobellinasoandkevinhoffmanwroxwroxtechnicalsupportatsupportwroxcomupdatesandsourcecodeatwwwwroxcomwroxcompeerdiscussionatp2pprogrammertoprogrammeraspnetwebsiteprogrammingproblemdesignsolutionwrittenandtestedforfinalreleaseofnetv10marcobellinasoandkevinhoffmanwroxwroxtechnicalsupportatsupportwroxcomupdatesandsourcecodeatwwwwroxcomwroxcompeerdiscussionatp2pprogrammertoprogrammeraspnetwebsiteprogrammingproblemdesignsolutionwrittenandtestedforfinalreleaseofnetv10marcobellinasoandkevinhoffmanwroxwroxtechnicalsupportatsupportwroxcomupdatesandsourcecodeatwwwwroxcomwroxcompeerdiscussionatp2pprogrammertoprogrammeraspnetwebsiteprogrammingproblemdesignsolutionwrittenandtestedforfinalreleaseofnetv10marcobellinasoandkevinhoffmanwroxwroxtechnicalsupportatsupportwroxcomupdatesandsourcecodeatwwwwroxcomwroxcompeerdiscussionatp2pprogrammertoprogrammeraspnetwebsiteprogrammingproblemdesignsolutionwrittenandtestedforfinalreleaseofnetv10marcobellinasoandkevinhoffmanwroxwroxtechnicalsupportatsupportwroxcomupdatesandsourcecodeatwwwwroxcomwroxcompeerdiscussionatp2pprogrammertoprogrammeraspnetwebsiteprogrammingproblemdesignsolutionwrittenandtestedforfinalreleaseofnetv10marcobellinasoandkevinhoffmanwroxwroxtechnicalsupportatsupportwroxcomupdatesandsourcecodeatwwwwroxcomwroxcompeerdiscussionatp2pprogrammertoprogrammeraspnetwebsiteprogrammingproblemdesignsolutionwrittenandtestedforfinalreleaseofnetv10marcobellinasoandkevinhoffmanwroxwroxtechnicalsupportatsupportwroxcomupdatesandsourcecodeatwwwwroxcomwroxcompeerdiscussionatp2pprogrammertoprogrammeraspnetwebsiteprogrammingproblemdesignsolutionwrittenandtestedforfinalreleaseofnetv10marcobellinasoandkevinhoffmanwroxwroxtechnicalsupportatsupportwroxcomupdatesandsourcecodeatwwwwroxcomwroxcompeerdiscussionatp2pprogrammertoprogrammeraspnetwebsiteprogrammingproblemdesignsolutionwrittenandtestedforfinalreleaseofnetv10marcobellinasoandkevinhoffmanwroxwroxtechnicalsupportatsupportwroxcomupdatesandsourcecodeatwwwwroxcomwroxcompeerdiscussionatp2pprogrammertoprogrammeraspnetwebsiteprogrammingproblemdesignsolutionwrittenandtestedforfinalreleaseofnetv10marcobellinasoandkevinhoffmanwroxwroxtechnicalsupportatsupportwroxcomupdatesandsourcecodeatwwwwroxcomwroxcompeerdiscussionatp2pprogrammertoprogrammeraspnetwebsiteprogrammingproblemdesignsolutionwrittenandtestedforfinalreleaseofnetv10marcobellinasoandkevinhoffmanwroxwroxtechnicalsupportatsupportwroxcomupdatesandsourcecodeatwwwwroxcomwroxcompeerdiscussionatp2pprogrammertoprogrammeraspnetwebsiteprogrammingproblemdesignsolutionwrittenandtestedforfinalreleaseofnetv10marcobellinasoandkevinhoffmanwroxwroxtechnicalsupportatsupportwroxcomupdatesandsourcecodeatwwwwroxcomwroxcompeerdiscussionatp2pprogrammertoprogrammeraspnetwebsiteprogrammingproblemdesignsolutionwrittenandtestedforfinalreleaseofnetv10marcobellinasoandkevinhoffmanwroxwroxtechnicalsupportatsupportwroxcomupdatesandsourcecodeatwwwwroxcomwroxcompeerdiscussionatp2pprogrammertoprogrammeraspnetwebsiteprogrammingproblemdesignsolutionwrittenandtestedforfinalreleaseofnetv10marcobellinasoandkevinhoffmanwroxwroxtechnicalsupportatsupportwroxcomupdatesandsourcecodeatwwwwroxcomwroxcompeerdiscussionatp2pprogrammertoprogrammeraspnetwebsiteprogrammingproblemdesignsolutionwrittenandtestedforfinalreleaseofnetv10marcobellinasoandkevinhoffmanwroxwroxtechnicalsupportatsupportwroxcomupdatesandsourcecodeatwwwwroxcomwroxcompeerdiscussionatp2pprogrammertoprogrammeraspnetwebsiteprogrammingproblemdesignsolutionwrittenandtestedforfinalreleaseofnetv10marcobellinasoandkevinhoffmanwroxwroxtechnicalsupportatsupportwroxcomupdatesandsourcecodeatwwwwroxcomwroxcompeerdiscussionatp2pprogrammertoprogrammeraspnetwebsiteprogrammingproblemdesignsolutionwrittenandtestedforfinalwolfgangemmerichenginingdistributedobjectswolfgangemmerichenginingdistributedobjectswolfgangemmerichenginingdistributedobjectswolfgangemmerichenginingdistributedobjectswolfgangemmerichenginingdistributedobjectswolfgangemmerichenginingdistributedobjectslightsmarlborolightsmarlboroautumnwinter2001autumnwinter2001autumnwinter2001argosphilipsfisio820ephilipsfisio820ephilipsfisio820einspiringscenestheedinburgfestivalsmostinspiringscenestheedinburgfestivalsmostinspiringscenestheedinburgfestivalsmostinspiringscenestheedinburgfestivalsmostinspiringscenestheedinburgfestivalsmostinspiringscenestheedinburgfestivalsmostespmotoexperiencetherevolutionwithorangetoorderyourv70eonorangepleasecall150andpressorangeespmotoexperiencetherevolutionwithorangetoorderyourv70eonorangepleasecall150andpressorangeespmotoexperiencetherevolutionwithorangetoorderyourv70eonorangepleasecall150andpressorangeespmotoexperiencetherevolutionwithorangetoorderyourv70eonorangepleasecall150andpressorangeespmotoexperiencetherevolutionwithorangetoorderyourv70eonorangepleasecall150andpressorangeespmotoexperiencetherevolutionwithorangetoorderyourv70eonorangepleasecall150andpressorangeespmotoexperiencetherevolutionwithorangetoorderyourv70eonorangepleasecall150andpressorangeespmotoexperiencetherevolutionwithorangetoorderyourv70eonorangepleasecall150andpressorangeespmotoexperiencetherevolutionwithorangetoorderyourv70eonorangepleasecall150andpressorangeespmotoexperiencetherevolutionwithorangetoorderyourv70eonorangepleasecall150andpressorangeespmotoexperiencetherevolutionwithorangetoorderyourv70eonorangepleasecall150andpressorangeespmotoexperiencetherevolutionwithorangetoorderyourv70eonorangepleasecall150andpressorangeespmotoexperiencetherevolutionwithorangetoorderyourv70eonorangepleasecall150andpressorangeespmotoexperiencetherevolutionwithorangetoorderyourv70eonorangepleasecall150andpressorangeespmotoexperiencetherevolutionwithorangetoorderyourv70eonorangepleasecall150andpressorangeespmotoexperiencetherevolutionwithorangetoorderyourv70eonorangepleasecall150andpressorangeespmotoexperiencetherevolutionwithorangetoorderyourv70eonorangepleasecall150andpressorangeespmotoexperiencetherevolutionwithorangetoorderyourv70eonorangepleasecall150andpressorangesummer2002summer2002orangesoundsofsummereventsmusiclivebesttheoorangesoundsofsummereventsmusiclivebesttheoorangesoundsofsummereventsmusiclivebesttheoorangesoundsofsummereventsmusiclivebesttheoorangesoundsofsummereventsmusiclivebesttheoorangesoundsofsummereventsmusiclivebesttheoorangesoundsofsummereventsmusiclivebesttheoorangesoundsofsummereventsmusiclivebesttheoorangesoundsofsummereventsmusiclivebesttheoorangesoundsofsummereventsmusiclivebesttheobuildingwebserviceswithjavatmmakingsenceofxmlsoapwsdlanduddibuildingwebserviceswithjavatmmakingsenceofxmlsoapwsdlanduddibuildingwebserviceswithjavatmmakingsenceofxmlsoapwsdlanduddibuildingwebserviceswithjavatmmakingsenceofxmlsoapwsdlanduddibuildingwebserviceswithjavatmmakingsenceofxmlsoapwsdlanduddibuildingwebserviceswithjavatmmakingsenceofxmlsoapwsdlanduddibuildingwebserviceswithjavatmmakingsenceofxmlsoapwsdlanduddibuildingwebserviceswithjavatmmakingsenceofxmlsoapwsdlanduddibuildingwebserviceswithjavatmmakingsenceofxmlsoapwsdlanduddibuildingwebserviceswithjavatmmakingsenceofxmlsoapwsdlanduddibuildingwebserviceswithjavatmmakingsenceofxmlsoapwsdlanduddibuildingwebserviceswithjavatmmakingsenceofxmlsoapwsdlanduddibuildingwebserviceswithjavatmmakingsenceofxmlsoapwsdlanduddibuildingwebserviceswithjavatmmakingsenceofxmlsoapwsdlanduddiaircraftandblastcancausedepartingflyinginjurylowphysicalaircraftandblastcancausedepartingflyinginjurylowphysicalaircraftandblastcancausedepartingflyinginjurylowphysicalaircraftandblastcancausedepartingflyinginjurylowphysicalaircraftandblastcancausedepartingflyinginjurylowphysicalaircraftandblastcancausedepartingflyinginjurylowphysicalaircraftandblastcancausedepartingflyinginjurylowphysicalaircraftandblastcancausedepartingflyinginjurylowphysicalaircraftandblastcancausedepartingflyinginjurylowphysicalaircraftandblastcancausedepartingflyinginjurylowphysicalalligatorbewareteethalligatorbewareteethalligatorbewareteeth115mmcautionheightproceedraisedwhenwith115mmcautionheightproceedraisedwhenwith115mmcautionheightproceedraisedwhenwith115mmcautionheightproceedraisedwhenwith115mmcautionheightproceedraisedwhenwith115mmcautionheightproceedraisedwhenwith115mmcautionheightproceedraisedwhenwithbeardwellconstructionconstructionlimitedmaintenancerefurbishmentbeardwellconstructionconstructionlimitedmaintenancerefurbishmentbeardwellconstructionconstructionlimitedmaintenancerefurbishmentbeardwellconstructionconstructionlimitedmaintenancerefurbishmentbeardwellconstructionconstructionlimitedmaintenancerefurbishmentbeardwellconstructionconstructionlimitedmaintenancerefurbishmentboundaryroadboundaryroadstopclockmuseumtymperleysclockmuseumtymperleysclockmuseumtymperleyscouncilcountyessexlibrariescouncilcountyessexlibrariescouncilcountyessexlibrariescouncilcountyessexlibrariesbycarcollectmarksspencertowelcomebycarcollectmarksspencertowelcomebycarcollectmarksspencertowelcomebycarcollectmarksspencertowelcomebycarcollectmarksspencertowelcomebycarcollectmarksspencertowelcomebycarcollectmarksspencertowelcomehsmithwsummerhsmithwsummerhsmithwsummerhsmithwsummerhighlionredshopsstreetyardhighlionredshopsstreetyardhighlionredshopsstreetyardhighlionredshopsstreetyardhighlionredshopsstreetyardhighlionredshopsstreetyardsummertheweatherwhateversummertheweatherwhateversummertheweatherwhateversummertheweatherwhateverheremtmheremtmheremtmangusdirectoryeguidejkennedypeterroughwebsiteangusdirectoryeguidejkennedypeterroughwebsiteangusdirectoryeguidejkennedypeterroughwebsiteangusdirectoryeguidejkennedypeterroughwebsiteangusdirectoryeguidejkennedypeterroughwebsiteangusdirectoryeguidejkennedypeterroughwebsiteangusdirectoryeguidejkennedypeterroughwebsiteangusdirectoryeguidejkennedypeterroughwebsiteangusdirectoryeguidejkennedypeterroughwebsitebequethenryjavaprofessionalsoapwroxbequethenryjavaprofessionalsoapwroxbequethenryjavaprofessionalsoapwroxbequethenryjavaprofessionalsoapwroxbequethenryjavaprofessionalsoapwroxbequethenryjavaprofessionalsoapwroxformj2sedaformj2sedaformj2sedacolchesterofficepostcolchesterofficepostcolchesterofficepostbeergardenbeergardengatelockpleasethegatelockpleasethegatelockpleasethegatelockpleasethehoteldentalsurgerydentalsurgeryhholstenlagerpurehholstenlagerpurehholstenlagerpurehholstenlagerpureassociatescarefcafosterassociatescarefcafosterassociatescarefcafosterassociatescarefcafostermiddleboroughlondonroyallondonroyalnhsconnellsbankhsbclocalthebankhsbclocalthebankhsbclocalthebankhsbclocalthecommunicationshouseltdofficeregisteredseatradeseatradecommunicationshouseltdofficeregisteredseatradeseatradecommunicationshouseltdofficeregisteredseatradeseatradecommunicationshouseltdofficeregisteredseatradeseatradecommunicationshouseltdofficeregisteredseatradeseatradecommunicationshouseltdofficeregisteredseatradeseatradecommunicationshouseltdofficeregisteredseatradeseatrade1996547aaactcancausingconvictioncouncilcountycriminaleducationessexleadlearningnuisanceofonorschoolsectionservicessitethetotrespassingunderwarning1996547aaactcancausingconvictioncouncilcountycriminaleducationessexleadlearningnuisanceofonorschoolsectionservicessitethetotrespassingunderwarning1996547aaactcancausingconvictioncouncilcountycriminaleducationessexleadlearningnuisanceofonorschoolsectionservicessitethetotrespassingunderwarning1996547aaactcancausingconvictioncouncilcountycriminaleducationessexleadlearningnuisanceofonorschoolsectionservicessitethetotrespassingunderwarning1996547aaactcancausingconvictioncouncilcountycriminaleducationessexleadlearningnuisanceofonorschoolsectionservicessitethetotrespassingunderwarning1996547aaactcancausingconvictioncouncilcountycriminaleducationessexleadlearningnuisanceofonorschoolsectionservicessitethetotrespassingunderwarning1996547aaactcancausingconvictioncouncilcountycriminaleducationessexleadlearningnuisanceofonorschoolsectionservicessitethetotrespassingunderwarning1996547aaactcancausingconvictioncouncilcountycriminaleducationessexleadlearningnuisanceofonorschoolsectionservicessitethetotrespassingunderwarning1996547aaactcancausingconvictioncouncilcountycriminaleducationessexleadlearningnuisanceofonorschoolsectionservicessitethetotrespassingunderwarning1996547aaactcancausingconvictioncouncilcountycriminaleducationessexleadlearningnuisanceofonorschoolsectionservicessitethetotrespassingunderwarning1996547aaactcancausingconvictioncouncilcountycriminaleducationessexleadlearningnuisanceofonorschoolsectionservicessitethetotrespassingunderwarning1996547aaactcancausingconvictioncouncilcountycriminaleducationessexleadlearningnuisanceofonorschoolsectionservicessitethetotrespassingunderwarning1996547aaactcancausingconvictioncouncilcountycriminaleducationessexleadlearningnuisanceofonorschoolsectionservicessitethetotrespassingunderwarning1996547aaactcancausingconvictioncouncilcountycriminaleducationessexleadlearningnuisanceofonorschoolsectionservicessitethetotrespassingunderwarning1996547aaactcancausingconvictioncouncilcountycriminaleducationessexleadlearningnuisanceofonorschoolsectionservicessitethetotrespassingunderwarning1996547aaactcancausingconvictioncouncilcountycriminaleducationessexleadlearningnuisanceofonorschoolsectionservicessitethetotrespassingunderwarning1996547aaactcancausingconvictioncouncilcountycriminaleducationessexleadlearningnuisanceofonorschoolsectionservicessitethetotrespassingunderwarning1996547aaactcancausingconvictioncouncilcountycriminaleducationessexleadlearningnuisanceofonorschoolsectionservicessitethetotrespassingunderwarning1996547aaactcancausingconvictioncouncilcountycriminaleducationessexleadlearningnuisanceofonorschoolsectionservicessitethetotrespassingunderwarning1996547aaactcancausingconvictioncouncilcountycriminaleducationessexleadlearningnuisanceofonorschoolsectionservicessitethetotrespassingunderwarning1996547aaactcancausingconvictioncouncilcountycriminaleducationessexleadlearningnuisanceofonorschoolsectionservicessitethetotrespassingunderwarning1996547aaactcancausingconvictioncouncilcountycriminaleducationessexleadlearningnuisanceofonorschoolsectionservicessitethetotrespassingunderwarning1996547aaactcancausingconvictioncouncilcountycriminaleducationessexleadlearningnuisanceofonorschoolsectionservicessitethetotrespassingunderwarning1996547aaactcancausingconvictioncouncilcountycriminaleducationessexleadlearningnuisanceofonorschoolsectionservicessitethetotrespassingunderwarning1996547aaactcancausingconvictioncouncilcountycriminaleducationessexleadlearningnuisanceofonorschoolsectionservicessitethetotrespassingunderwarning1996547aaactcancausingconvictioncouncilcountycriminaleducationessexleadlearningnuisanceofonorschoolsectionservicessitethetotrespassingunderwarning1996547aaactcancausingconvictioncouncilcountycriminaleducationessexleadlearningnuisanceofonorschoolsectionservicessitethetotrespassingunderwarning1996547aaactcancausingconvictioncouncilcountycriminaleducationessexleadlearningnuisanceofonorschoolsectionservicessitethetotrespassingunderwarningyarmoutha133clactongtharwichipswichyarmoutha133clactongtharwichipswichyarmoutha133clactongtharwichipswichyarmoutha133clactongtharwichipswichyarmoutha133clactongtharwichipswichyarmoutha133clactongtharwichipswichford22chelmsfordlondons22chelmsfordlondons22chelmsfordlondons22chelmsfordlondons22chelmsfordlondonsrenaultalescaskconditionedfoodgardengoodhomemadealescaskconditionedfoodgardengoodhomemadealescaskconditionedfoodgardengoodhomemadealescaskconditionedfoodgardengoodhomemadealescaskconditionedfoodgardengoodhomemadealescaskconditionedfoodgardengoodhomemadealescaskconditionedfoodgardengoodhomemadealescaskconditionedfoodgardengoodhomemadeaheadnewsignalstrafficaheadnewsignalstrafficaheadnewsignalstrafficaheadnewsignalstraffica134centretowna134centretowna134centretownessexasdafoodprontoproperfoodprontoproperfoodprontoproperonlypparkridesatsonlypparkridesatsonlypparkridesatsonlypparkridesatsonlypparkridesatscarparkstationcarparkstationcarparkstationinformationticketstrainsinformationticketstrainsinformationticketstrainsaheadclosedcyclewayaheadclosedcyclewayaheadclosedcyclewayaheadclosedcyclewaycolchesterinvestmentsmortgagespensionsinvestmentsmortgagespensionsinvestmentsmortgagespensionsandchildrenconstructiondangerinjurykeepkeepofoutriskserioussiteyourandchildrenconstructiondangerinjurykeepkeepofoutriskserioussiteyourandchildrenconstructiondangerinjurykeepkeepofoutriskserioussiteyourandchildrenconstructiondangerinjurykeepkeepofoutriskserioussiteyourandchildrenconstructiondangerinjurykeepkeepofoutriskserioussiteyourandchildrenconstructiondangerinjurykeepkeepofoutriskserioussiteyourandchildrenconstructiondangerinjurykeepkeepofoutriskserioussiteyourandchildrenconstructiondangerinjurykeepkeepofoutriskserioussiteyourandchildrenconstructiondangerinjurykeepkeepofoutriskserioussiteyourandchildrenconstructiondangerinjurykeepkeepofoutriskserioussiteyourandchildrenconstructiondangerinjurykeepkeepofoutriskserioussiteyourandchildrenconstructiondangerinjurykeepkeepofoutriskserioussiteyourandchildrenconstructiondangerinjurykeepkeepofoutriskserioussiteyourasdaanddrivershereofficereportstoptowarehouseanddrivershereofficereportstoptowarehouseanddrivershereofficereportstoptowarehouseanddrivershereofficereportstoptowarehouseanddrivershereofficereportstoptowarehouseanddrivershereofficereportstoptowarehouseanddrivershereofficereportstoptowarehouseanddrivershereofficereportstoptowarehouseajustneedajustneedajustneedasdapromiseasdaforeverlowpermanentlypricepricespromiseasdaforeverlowpermanentlypricepricespromiseasdaforeverlowpermanentlypricepricespromiseasdaforeverlowpermanentlypricepricespromiseasdaforeverlowpermanentlypricepricespromiseasdaforeverlowpermanentlypricepricespromiseasdaforeverlowpermanentlypricepriceseiirmailroyaleiirmailroyaleiirmailroyal2002commonwealthgamesmanchesterthexvii2002commonwealthgamesmanchesterthexvii2002commonwealthgamesmanchesterthexvii2002commonwealthgamesmanchesterthexvii2002commonwealthgamesmanchesterthexvii2002commonwealthgamesmanchesterthexviiforforfor1759draughtguinnesstm1759draughtguinnesstm1759draughtguinnesstm1759draughtguinnesstm1759draughtguinnesstmcoronaextrarcoronaextrarcoronaextrarbeerfromimportedmexicobeerfromimportedmexicobeerfromimportedmexicobeerfromimportedmexicocustomerfreephonehireprivateservicecustomerfreephonehireprivateservicecustomerfreephonehireprivateservicecustomerfreephonehireprivateservicecustomerfreephonehireprivateservicepedestrians153153tetleyutetleyu133acentrechelmsfordclactongtharwichipswichleisurelondonrollerworldtownworldyarmouth133acentrechelmsfordclactongtharwichipswichleisurelondonrollerworldtownworldyarmouth133acentrechelmsfordclactongtharwichipswichleisurelondonrollerworldtownworldyarmouth133acentrechelmsfordclactongtharwichipswichleisurelondonrollerworldtownworldyarmouth133acentrechelmsfordclactongtharwichipswichleisurelondonrollerworldtownworldyarmouth133acentrechelmsfordclactongtharwichipswichleisurelondonrollerworldtownworldyarmouth133acentrechelmsfordclactongtharwichipswichleisurelondonrollerworldtownworldyarmouth133acentrechelmsfordclactongtharwichipswichleisurelondonrollerworldtownworldyarmouth133acentrechelmsfordclactongtharwichipswichleisurelondonrollerworldtownworldyarmouth133acentrechelmsfordclactongtharwichipswichleisurelondonrollerworldtownworldyarmouth133acentrechelmsfordclactongtharwichipswichleisurelondonrollerworldtownworldyarmouth133acentrechelmsfordclactongtharwichipswichleisurelondonrollerworldtownworldyarmouth133acentrechelmsfordclactongtharwichipswichleisurelondonrollerworldtownworldyarmouth133acentrechelmsfordclactongtharwichipswichleisurelondonrollerworldtownworldyarmouthcentregreensteadipswichleisureroadcentregreensteadipswichleisureroadcentregreensteadipswichleisureroadcentregreensteadipswichleisureroadcentregreensteadipswichleisureroadalbertbeefeaterthealbertbeefeaterthealbertbeefeaterthegaragesosbornegaragesosborneisuzuorderyourisuzuorderyourisuzuorderyourcentralmottyrecentralmottyrecentralmottyrecentralmottyrecentralmottyreschoolgoodyeargoodyearbedbreakfasthtwbedbreakfasthtwbedbreakfasthtwbedbreakfasthtwbedbreakfasthtwsaloonhairfaxdeliveryfreedeliveryfreecoralrefillriversidewalkriversidewalkdarkdiscoversidethedarkdiscoversidethedarkdiscoversidethedarkdiscoversidetheairtoursholidaysairtoursholidaysbanklloydsbanklloydsphotospecialiststhephotospecialiststhephotospecialiststhebritishcrossredshopbritishcrossredshopbritishcrossredshopbritishcrossredshopcafésacksadthecafésacksadthecafésacksadthecafésacksadtheagentsagentsestateestatesaxonssaxonsagentsagentsestateestatesaxonssaxonsagentsagentsestateestatesaxonssaxonsagentsagentsestateestatesaxonssaxonsagentsagentsestateestatesaxonssaxonsagentsagentsestateestatesaxonssaxonssaversboxstationeryboxstationerydell8000dellinspiron8000dellinspiron8000dellinspironfallinghungrykneesmyonfallinghungrykneesmyonfallinghungrykneesmyonfallinghungrykneesmyonfallinghungrykneesmyonadaptercanoncompactpoweradaptercanoncompactpoweradaptercanoncompactpoweradaptercanoncompactpowercanonpowershotcanonpowershotdailyfarnboroughflyingjulyprogramme200228airshowdailyfarnboroughflyingjulyprogramme200228airshowdailyfarnboroughflyingjulyprogramme200228airshowdailyfarnboroughflyingjulyprogramme200228airshowdailyfarnboroughflyingjulyprogramme200228airshowdailyfarnboroughflyingjulyprogramme200228airshowdailyfarnboroughflyingjulyprogramme200228airshowdailyfarnboroughflyingjulyprogramme200228airshowbaesystemsbaesystemsacitiesembassyeuropeanfockingdommexciomexicanofpresidentpublicationthethetounitedupdatevisitsacitiesembassyeuropeanfockingdommexciomexicanofpresidentpublicationthethetounitedupdatevisitsacitiesembassyeuropeanfockingdommexciomexicanofpresidentpublicationthethetounitedupdatevisitsacitiesembassyeuropeanfockingdommexciomexicanofpresidentpublicationthethetounitedupdatevisitsacitiesembassyeuropeanfockingdommexciomexicanofpresidentpublicationthethetounitedupdatevisitsacitiesembassyeuropeanfockingdommexciomexicanofpresidentpublicationthethetounitedupdatevisitsacitiesembassyeuropeanfockingdommexciomexicanofpresidentpublicationthethetounitedupdatevisitsacitiesembassyeuropeanfockingdommexciomexicanofpresidentpublicationthethetounitedupdatevisitsacitiesembassyeuropeanfockingdommexciomexicanofpresidentpublicationthethetounitedupdatevisitsacitiesembassyeuropeanfockingdommexciomexicanofpresidentpublicationthethetounitedupdatevisitsacitiesembassyeuropeanfockingdommexciomexicanofpresidentpublicationthethetounitedupdatevisitsacitiesembassyeuropeanfockingdommexciomexicanofpresidentpublicationthethetounitedupdatevisitsacitiesembassyeuropeanfockingdommexciomexicanofpresidentpublicationthethetounitedupdatevisitsacitiesembassyeuropeanfockingdommexciomexicanofpresidentpublicationthethetounitedupdatevisitsacitiesembassyeuropeanfockingdommexciomexicanofpresidentpublicationthethetounitedupdatevisitsacitiesembassyeuropeanfockingdommexciomexicanofpresidentpublicationthethetounitedupdatevisitsacitiesembassyeuropeanfockingdommexciomexicanofpresidentpublicationthethetounitedupdatevisitsaabenjaminbutfoolfranklinhearthearthishisininisismanmouthmouthofofthethewiseaabenjaminbutfoolfranklinhearthearthishisininisismanmouthmouthofofthethewiseaabenjaminbutfoolfranklinhearthearthishisininisismanmouthmouthofofthethewiseaabenjaminbutfoolfranklinhearthearthishisininisismanmouthmouthofofthethewiseaabenjaminbutfoolfranklinhearthearthishisininisismanmouthmouthofofthethewiseaabenjaminbutfoolfranklinhearthearthishisininisismanmouthmouthofofthethewiseaabenjaminbutfoolfranklinhearthearthishisininisismanmouthmouthofofthethewiseaabenjaminbutfoolfranklinhearthearthishisininisismanmouthmouthofofthethewiseaabenjaminbutfoolfranklinhearthearthishisininisismanmouthmouthofofthethewiseaabenjaminbutfoolfranklinhearthearthishisininisismanmouthmouthofofthethewiseaabenjaminbutfoolfranklinhearthearthishisininisismanmouthmouthofofthethewiseaabenjaminbutfoolfranklinhearthearthishisininisismanmouthmouthofofthethewiseaabenjaminbutfoolfranklinhearthearthishisininisismanmouthmouthofofthethewiseaabenjaminbutfoolfranklinhearthearthishisininisismanmouthmouthofofthethewiseaabenjaminbutfoolfranklinhearthearthishisininisismanmouthmouthofofthethewiseaabenjaminbutfoolfranklinhearthearthishisininisismanmouthmouthofofthethewiseaabenjaminbutfoolfranklinhearthearthishisininisismanmouthmouthofofthethewiseaabenjaminbutfoolfranklinhearthearthishisininisismanmouthmouthofofthethewiseaabenjaminbutfoolfranklinhearthearthishisininisismanmouthmouthofofthethewiseaabenjaminbutfoolfranklinhearthearthishisininisismanmouthmouthofofthethewiseaabenjaminbutfoolfranklinhearthearthishisininisismanmouthmouthofofthethewiseaabenjaminbutfoolfranklinhearthearthishisininisismanmouthmouthofofthethewise2nbostockdixongraduatejennymarisaoffice2nbostockdixongraduatejennymarisaoffice2nbostockdixongraduatejennymarisaoffice2nbostockdixongraduatejennymarisaoffice2nbostockdixongraduatejennymarisaoffice2nbostockdixongraduatejennymarisaoffice2nbostockdixongraduatejennymarisaofficeiiyamaaveryfoldersguidexfoldersguidexmultimediaproprojectorsanyoxxtramultimediaproprojectorsanyoxxtramultimediaproprojectorsanyoxxtramultimediaproprojectorsanyoxxtramultimediaproprojectorsanyoxxtramultimediaproprojectorsanyoxxtraeenvironmentsessexggroupiiinhabitedintelligentofuniversityeenvironmentsessexggroupiiinhabitedintelligentofuniversityeenvironmentsessexggroupiiinhabitedintelligentofuniversityeenvironmentsessexggroupiiinhabitedintelligentofuniversityeenvironmentsessexggroupiiinhabitedintelligentofuniversityeenvironmentsessexggroupiiinhabitedintelligentofuniversityeenvironmentsessexggroupiiinhabitedintelligentofuniversityeenvironmentsessexggroupiiinhabitedintelligentofuniversityeenvironmentsessexggroupiiinhabitedintelligentofuniversityeenvironmentsessexggroupiiinhabitedintelligentofuniversityeenvironmentsessexggroupiiinhabitedintelligentofuniversitydigitalgrouprolanddigitalgrouprolanddigitalgrouprolandhpinventrhpinventrhpinventrmobilenophonesmobilenophonesmobilenophonesmicrosoftrbondioxideeqptextinguisherinvennorbondioxideeqptextinguisherinvennorbondioxideeqptextinguisherinvennorbondioxideeqptextinguisherinvennorbondioxideeqptextinguisherinvennorbondioxideeqptextinguisherinvennocapslockloxkloxknumscrollviglencapslockloxkloxknumscrollviglencapslockloxkloxknumscrollviglencapslockloxkloxknumscrollviglencapslockloxkloxknumscrollviglencapslockloxkloxknumscrollviglencapslockloxkloxknumscrollviglencareersrafcareersraf77cdmatsui77cdmatsui77cdmatsuiflashpocketflashpocketgenie4pentium4pentium4pentium4pentiumbooksinlastthewordbooksinlastthewordbooksinlastthewordbooksinlastthewordbooksinlasttheworddelectroluxzanussipanasonicfreshsemiskimmedfreshsemiskimmedfreshsemiskimmeddisturbdoimnotpleasedisturbdoimnotpleasedisturbdoimnotpleasedisturbdoimnotpleasedisturbdoimnotpleasehenryeconomyjuicelifelongorangessainsburyeconomyjuicelifelongorangessainsburyeconomyjuicelifelongorangessainsburyeconomyjuicelifelongorangessainsburyeconomyjuicelifelongorangessainsburyeconomyjuicelifelongorangessainsburyeconomyjuicelifelongorangessainsburyentryestatesinintomanagementnooperationpermitsectionsystemthistounauthorisedworkentryestatesinintomanagementnooperationpermitsectionsystemthistounauthorisedworkentryestatesinintomanagementnooperationpermitsectionsystemthistounauthorisedworkentryestatesinintomanagementnooperationpermitsectionsystemthistounauthorisedworkentryestatesinintomanagementnooperationpermitsectionsystemthistounauthorisedworkentryestatesinintomanagementnooperationpermitsectionsystemthistounauthorisedworkentryestatesinintomanagementnooperationpermitsectionsystemthistounauthorisedworkentryestatesinintomanagementnooperationpermitsectionsystemthistounauthorisedworkentryestatesinintomanagementnooperationpermitsectionsystemthistounauthorisedworkentryestatesinintomanagementnooperationpermitsectionsystemthistounauthorisedworkentryestatesinintomanagementnooperationpermitsectionsystemthistounauthorisedworkentryestatesinintomanagementnooperationpermitsectionsystemthistounauthorisedworkentryestatesinintomanagementnooperationpermitsectionsystemthistounauthorisedworkentryestatesinintomanagementnooperationpermitsectionsystemthistounauthorisedworknightlineaccommodationnightlineofficeaccommodationnightlineofficeaccommodationnightlineofficeandcolchesterfootpathgreensteadtoandcolchesterfootpathgreensteadtoandcolchesterfootpathgreensteadtoandcolchesterfootpathgreensteadtoandcolchesterfootpathgreensteadtocampushirelicensedprivatestvehicle2a544444arthurcolchesterfivefourshirelicensedprivatestvehicle2a544444arthurcolchesterfivefourshirelicensedprivatestvehicle2a544444arthurcolchesterfivefourshirelicensedprivatestvehicle2a544444arthurcolchesterfivefourshirelicensedprivatestvehicle2a544444arthurcolchesterfivefourshirelicensedprivatestvehicle2a544444arthurcolchesterfivefourshirelicensedprivatestvehicle2a544444arthurcolchesterfivefourshirelicensedprivatestvehicle2a544444arthurcolchesterfivefourshirelicensedprivatestvehicle2a544444arthurcolchesterfivefourshirelicensedprivatestvehicle2a544444arthurcolchesterfivefourshirelicensedprivatestvehicle2a544444arthurcolchesterfivefourstaxigymarenaatcolchesterheartofthethearenaatcolchesterheartofthethearenaatcolchesterheartofthethearenaatcolchesterheartofthethearenaatcolchesterheartofthethearenaatcolchesterheartofthethearenaatcolchesterheartofthetheloungegentlemenladieshelenaroomhelenaroomconstantineroomconstantineroombarsignovincesbookwordanimalbookwordanimalbookwordanimalpushpullbreakcasefireglassinofbreakcasefireglassinofbreakcasefireglassinofbreakcasefireglassinofbreakcasefireglassinofbreakcasefireglassinofconstantinetoyotaarenaleisurelimitedofficeregisteredservicesarenaleisurelimitedofficeregisteredservicesarenaleisurelimitedofficeregisteredservicesarenaleisurelimitedofficeregisteredservicesarenaleisurelimitedofficeregisteredservicesarenaleisurelimitedofficeregisteredservicescarlingstudioadmittanceauthorisednoonlypersonneladmittanceauthorisednoonlypersonneladmittanceauthorisednoonlypersonneladmittanceauthorisednoonlypersonneladmittanceauthorisednoonlypersonnelcolchestercokedietmarkrefisteredtradecokedietmarkrefisteredtradecokedietmarkrefisteredtradecokedietmarkrefisteredtradecokedietmarkrefisteredtradeoutwayoutwayexittantelephonehealthportakabinrayleighcentregreenwoodhealthhousecentregreenwoodhealthhousecentregreenwoodhealthhousecentregreenwoodhealthhousebarclayscampusshopcampusshopcolgatefluoridetoothpastecolgatefluoridetoothpastecolgatefluoridetoothpastegarnierlaboratoiresgarnierlaboratoirespantenecoolmintlisterinecoolmintlisterine2ndeditionprofessionalxml2ndeditionprofessionalxml2ndeditionprofessionalxml2ndeditionprofessionalxmljavaprofessionalserviceswebjavaprofessionalserviceswebjavaprofessionalserviceswebjavaprofessionalserviceswebespañolespañolinglésinglésespañolespañolinglésinglésespañolespañolinglésinglésespañolespañolinglésinglésfreedomrobertjusttoletuknowbeingastudentdoesnotgiveulicencetolivelikeatrampumaynotappreciatehygienebutothersdorobertjusttoletuknowbeingastudentdoesnotgiveulicencetolivelikeatrampumaynotappreciatehygienebutothersdorobertjusttoletuknowbeingastudentdoesnotgiveulicencetolivelikeatrampumaynotappreciatehygienebutothersdorobertjusttoletuknowbeingastudentdoesnotgiveulicencetolivelikeatrampumaynotappreciatehygienebutothersdorobertjusttoletuknowbeingastudentdoesnotgiveulicencetolivelikeatrampumaynotappreciatehygienebutothersdorobertjusttoletuknowbeingastudentdoesnotgiveulicencetolivelikeatrampumaynotappreciatehygienebutothersdorobertjusttoletuknowbeingastudentdoesnotgiveulicencetolivelikeatrampumaynotappreciatehygienebutothersdorobertjusttoletuknowbeingastudentdoesnotgiveulicencetolivelikeatrampumaynotappreciatehygienebutothersdorobertjusttoletuknowbeingastudentdoesnotgiveulicencetolivelikeatrampumaynotappreciatehygienebutothersdorobertjusttoletuknowbeingastudentdoesnotgiveulicencetolivelikeatrampumaynotappreciatehygienebutothersdorobertjusttoletuknowbeingastudentdoesnotgiveulicencetolivelikeatrampumaynotappreciatehygienebutothersdorobertjusttoletuknowbeingastudentdoesnotgiveulicencetolivelikeatrampumaynotappreciatehygienebutothersdorobertjusttoletuknowbeingastudentdoesnotgiveulicencetolivelikeatrampumaynotappreciatehygienebutothersdorobertjusttoletuknowbeingastudentdoesnotgiveulicencetolivelikeatrampumaynotappreciatehygienebutothersdorobertjusttoletuknowbeingastudentdoesnotgiveulicencetolivelikeatrampumaynotappreciatehygienebutothersdorobertjusttoletuknowbeingastudentdoesnotgiveulicencetolivelikeatrampumaynotappreciatehygienebutothersdorobertjusttoletuknowbeingastudentdoesnotgiveulicencetolivelikeatrampumaynotappreciatehygienebutothersdorobertjusttoletuknowbeingastudentdoesnotgiveulicencetolivelikeatrampumaynotappreciatehygienebutothersdorobertjusttoletuknowbeingastudentdoesnotgiveulicencetolivelikeatrampumaynotappreciatehygienebutothersdorobertjusttoletuknowbeingastudentdoesnotgiveulicencetolivelikeatrampumaynotappreciatehygienebutothersdorobertjusttoletuknowbeingastudentdoesnotgiveulicencetolivelikeatrampumaynotappreciatehygienebutothersdorobertjusttoletuknowbeingastudentdoesnotgiveulicencetolivelikeatrampumaynotappreciatehygienebutothersdorobertjusttoletuknowbeingastudentdoesnotgiveulicencetolivelikeatrampumaynotappreciatehygienebutothersdorobertjusttoletuknowbeingastudentdoesnotgiveulicencetolivelikeatrampumaynotappreciatehygienebutothersdorobertjusttoletuknowbeingastudentdoesnotgiveulicencetolivelikeatrampumaynotappreciatehygienebutothersdorobertjusttoletuknowbeingastudentdoesnotgiveulicencetolivelikeatrampumaynotappreciatehygienebutothersdorobertjusttoletuknowbeingastudentdoesnotgiveulicencetolivelikeatrampumaynotappreciatehygienebutothersdowallacemonumentwallacemonumentyouarehereyouarehereyouareheregates3088emergencyexitgates3088emergencyexitgates3088emergencyexitgates3088emergencyexitgates3088emergencyexitryanairddieseldenimdivisionddieseldenimdivisionddieseldenimdivisionddieseldenimdivisionthewallaceswordthewallaceswordthewallaceswordscottishnationalgallerymodernscottishnationalgallerymodernscottishnationalgallerymodernscottishnationalgallerymoderngladstone18981809gladstone18981809gladstone18981809hallofheroeshallofheroeshallofheroesdollarglenandcastlecampbelldollarglenandcastlecampbelldollarglenandcastlecampbelldollarglenandcastlecampbelldollarglenandcastlecampbellancientmonumentcastlecampbellsc4knancientmonumentcastlecampbellsc4knancientmonumentcastlecampbellsc4knancientmonumentcastlecampbellsc4knancientmonumentcastlecampbellsc4knancientmonumentcastlecampbellsc4knancientmonumentcastlecampbellsc4knreservedforclubsecretaryreservedforclubsecretaryreservedforclubsecretaryreservedforclubsecretarydollargolfclubadtdollargolfclubadtdollargolfclubadtdollargolfclubadtwestburnsidewestburnsidethedollararmsthedollararmsthedollararmscastlecampbellcastlecampbellnofootwayfor450ydsnofootwayfor450ydsnofootwayfor450ydsnofootwayfor450ydsnofootwayfor450ydsmiralejostirlingcastlelodgingsstirlingcastlelodgingsstirlingcastlelodgingsersitolsexvolvovolvoersitolsexvolvovolvoersitolsexvolvovolvoersitolsexvolvovolvoersitolsexvolvovolvobbjorkhomogenicbbjorkhomogenicbbjorkhomogenic188smirnoff188smirnoff188smirnoffjeanswearmotojeanswearmoto1lbisonvodkazubrowka1lbisonvodkazubrowka1lbisonvodkazubrowka1lbisonvodkazubrowkacancerforliferaceresearchtescoukcancerforliferaceresearchtescoukcancerforliferaceresearchtescoukcancerforliferaceresearchtescoukcancerforliferaceresearchtescoukcancerforliferaceresearchtescoukcancerforliferaceresearchtescoukliquidtescoupvaluewashingliquidtescoupvaluewashingliquidtescoupvaluewashingliquidtescoupvaluewashingliquidtescoupvaluewashingalarmcallfirepointalarmcallfirepointalarmcallfirepointalarmcallfirepointarehereyouarehereyouarehereyouaccessbaggageknowtoaccessbaggageknowtoaccessbaggageknowtoaccessbaggageknowtoiiyamauseboardsmarkersononlytheseuseboardsmarkersononlytheseuseboardsmarkersononlytheseuseboardsmarkersononlytheseuseboardsmarkersononlytheseuseboardsmarkersononlythese2ncomputingdeskhelpservice2ncomputingdeskhelpservice2ncomputingdeskhelpservice2ncomputingdeskhelpservice2ncomputingdeskhelpserviceinoperationinoperationcigarettesnoonlypaperpleasecigarettesnoonlypaperpleasecigarettesnoonlypaperpleasecigarettesnoonlypaperpleasecigarettesnoonlypaperpleaseentryflashingislightnoredwhenentryflashingislightnoredwhenentryflashingislightnoredwhenentryflashingislightnoredwhenentryflashingislightnoredwhenentryflashingislightnoredwhenentryflashingislightnoredwhenofficeoverseasrelationsofficeoverseasrelationsofficeoverseasrelationsdohelpifininformationliftnotnoticepleasepleasepresssafetysecondsoundthethethethetrappedwillwillwithoutyoualarmalarmandarriveatatbecomebuttondeskdohelpifininformationliftnotnoticepleasepleasepresssafetysecondsoundthethethethetrappedwillwillwithoutyoualarmalarmandarriveatatbecomebuttondeskdohelpifininformationliftnotnoticepleasepleasepresssafetysecondsoundthethethethetrappedwillwillwithoutyoualarmalarmandarriveatatbecomebuttondeskdohelpifininformationliftnotnoticepleasepleasepresssafetysecondsoundthethethethetrappedwillwillwithoutyoualarmalarmandarriveatatbecomebuttondeskdohelpifininformationliftnotnoticepleasepleasepresssafetysecondsoundthethethethetrappedwillwillwithoutyoualarmalarmandarriveatatbecomebuttondeskdohelpifininformationliftnotnoticepleasepleasepresssafetysecondsoundthethethethetrappedwillwillwithoutyoualarmalarmandarriveatatbecomebuttondeskdohelpifininformationliftnotnoticepleasepleasepresssafetysecondsoundthethethethetrappedwillwillwithoutyoualarmalarmandarriveatatbecomebuttondeskdohelpifininformationliftnotnoticepleasepleasepresssafetysecondsoundthethethethetrappedwillwillwithoutyoualarmalarmandarriveatatbecomebuttondeskdohelpifininformationliftnotnoticepleasepleasepresssafetysecondsoundthethethethetrappedwillwillwithoutyoualarmalarmandarriveatatbecomebuttondeskdohelpifininformationliftnotnoticepleasepleasepresssafetysecondsoundthethethethetrappedwillwillwithoutyoualarmalarmandarriveatatbecomebuttondeskdohelpifininformationliftnotnoticepleasepleasepresssafetysecondsoundthethethethetrappedwillwillwithoutyoualarmalarmandarriveatatbecomebuttondeskdohelpifininformationliftnotnoticepleasepleasepresssafetysecondsoundthethethethetrappedwillwillwithoutyoualarmalarmandarriveatatbecomebuttondeskdohelpifininformationliftnotnoticepleasepleasepresssafetysecondsoundthethethethetrappedwillwillwithoutyoualarmalarmandarriveatatbecomebuttondeskdohelpifininformationliftnotnoticepleasepleasepresssafetysecondsoundthethethethetrappedwillwillwithoutyoualarmalarmandarriveatatbecomebuttondeskdohelpifininformationliftnotnoticepleasepleasepresssafetysecondsoundthethethethetrappedwillwillwithoutyoualarmalarmandarriveatatbecomebuttondeskdohelpifininformationliftnotnoticepleasepleasepresssafetysecondsoundthethethethetrappedwillwillwithoutyoualarmalarmandarriveatatbecomebuttondeskdohelpifininformationliftnotnoticepleasepleasepresssafetysecondsoundthethethethetrappedwillwillwithoutyoualarmalarmandarriveatatbecomebuttondeskdohelpifininformationliftnotnoticepleasepleasepresssafetysecondsoundthethethethetrappedwillwillwithoutyoualarmalarmandarriveatatbecomebuttondeskdohelpifininformationliftnotnoticepleasepleasepresssafetysecondsoundthethethethetrappedwillwillwithoutyoualarmalarmandarriveatatbecomebuttondeskdohelpifininformationliftnotnoticepleasepleasepresssafetysecondsoundthethethethetrappedwillwillwithoutyoualarmalarmandarriveatatbecomebuttondeskdohelpifininformationliftnotnoticepleasepleasepresssafetysecondsoundthethethethetrappedwillwillwithoutyoualarmalarmandarriveatatbecomebuttondeskdohelpifininformationliftnotnoticepleasepleasepresssafetysecondsoundthethethethetrappedwillwillwithoutyoualarmalarmandarriveatatbecomebuttondeskdohelpifininformationliftnotnoticepleasepleasepresssafetysecondsoundthethethethetrappedwillwillwithoutyoualarmalarmandarriveatatbecomebuttondeskdohelpifininformationliftnotnoticepleasepleasepresssafetysecondsoundthethethethetrappedwillwillwithoutyoualarmalarmandarriveatatbecomebuttondeskdohelpifininformationliftnotnoticepleasepleasepresssafetysecondsoundthethethethetrappedwillwillwithoutyoualarmalarmandarriveatatbecomebuttondeskdohelpifininformationliftnotnoticepleasepleasepresssafetysecondsoundthethethethetrappedwillwillwithoutyoualarmalarmandarriveatatbecomebuttondeskdohelpifininformationliftnotnoticepleasepleasepresssafetysecondsoundthethethethetrappedwillwillwithoutyoualarmalarmandarriveatatbecomebuttondeskdohelpifininformationliftnotnoticepleasepleasepresssafetysecondsoundthethethethetrappedwillwillwithoutyoualarmalarmandarriveatatbecomebuttondeskdohelpifininformationliftnotnoticepleasepleasepresssafetysecondsoundthethethethetrappedwillwillwithoutyoualarmalarmandarriveatatbecomebuttondeskdohelpifininformationliftnotnoticepleasepleasepresssafetysecondsoundthethethethetrappedwillwillwithoutyoualarmalarmandarriveatatbecomebuttondeskdohelpifininformationliftnotnoticepleasepleasepresssafetysecondsoundthethethethetrappedwillwillwithoutyoualarmalarmandarriveatatbecomebuttondeskdohelpifininformationliftnotnoticepleasepleasepresssafetysecondsoundthethethethetrappedwillwillwithoutyoualarmalarmandarriveatatbecomebuttondesk4exitfloornighton4exitfloornighton4exitfloornighton4exitfloornighton4exitfloornightontoiletoforderoutsorrytoiletoforderoutsorrytoiletoforderoutsorrytoiletoforderoutsorrytoiletoforderoutsorry\n"
          ]
        }
      ]
    },
    {
      "cell_type": "code",
      "source": [
        "letters = sorted(list(set(list(letters))))\n",
        "letters"
      ],
      "metadata": {
        "colab": {
          "base_uri": "https://localhost:8080/"
        },
        "id": "VZM4HiQqre8M",
        "outputId": "618dd194-6181-46e8-98f5-aacb7e237c56"
      },
      "execution_count": null,
      "outputs": [
        {
          "output_type": "execute_result",
          "data": {
            "text/plain": [
              "['0',\n",
              " '1',\n",
              " '2',\n",
              " '3',\n",
              " '4',\n",
              " '5',\n",
              " '6',\n",
              " '7',\n",
              " '8',\n",
              " '9',\n",
              " 'a',\n",
              " 'b',\n",
              " 'c',\n",
              " 'd',\n",
              " 'e',\n",
              " 'f',\n",
              " 'g',\n",
              " 'h',\n",
              " 'i',\n",
              " 'j',\n",
              " 'k',\n",
              " 'l',\n",
              " 'm',\n",
              " 'n',\n",
              " 'o',\n",
              " 'p',\n",
              " 'q',\n",
              " 'r',\n",
              " 's',\n",
              " 't',\n",
              " 'u',\n",
              " 'v',\n",
              " 'w',\n",
              " 'x',\n",
              " 'y',\n",
              " 'z',\n",
              " 'é',\n",
              " 'ñ']"
            ]
          },
          "metadata": {},
          "execution_count": 23
        }
      ]
    },
    {
      "cell_type": "code",
      "source": [
        "chars = \"\".join(letters)\n",
        "chars"
      ],
      "metadata": {
        "colab": {
          "base_uri": "https://localhost:8080/",
          "height": 36
        },
        "id": "K72Izbr-rndZ",
        "outputId": "0d4eea05-0996-4d3b-b279-767d01040ecf"
      },
      "execution_count": null,
      "outputs": [
        {
          "output_type": "execute_result",
          "data": {
            "text/plain": [
              "'0123456789abcdefghijklmnopqrstuvwxyzéñ'"
            ],
            "application/vnd.google.colaboratory.intrinsic+json": {
              "type": "string"
            }
          },
          "metadata": {},
          "execution_count": 24
        }
      ]
    },
    {
      "cell_type": "code",
      "source": [
        "blank_char = '-'\n",
        "chars += blank_char\n",
        "vocab_size = len(chars)"
      ],
      "metadata": {
        "id": "AVn9U9LVr3O5"
      },
      "execution_count": null,
      "outputs": []
    },
    {
      "cell_type": "code",
      "source": [
        "print(vocab_size)"
      ],
      "metadata": {
        "colab": {
          "base_uri": "https://localhost:8080/"
        },
        "id": "jp0SyRrRr_7g",
        "outputId": "41b9806d-cfec-4d84-82b0-0e992c08f682"
      },
      "execution_count": null,
      "outputs": [
        {
          "output_type": "stream",
          "name": "stdout",
          "text": [
            "39\n"
          ]
        }
      ]
    },
    {
      "cell_type": "code",
      "source": [
        "char_to_idx = {char: idx + 1 for idx, char in enumerate(sorted(chars))}\n",
        "idx_to_char = {index: char for char, index in char_to_idx.items()}"
      ],
      "metadata": {
        "id": "BdRFXlJAsCXZ"
      },
      "execution_count": null,
      "outputs": []
    },
    {
      "cell_type": "code",
      "source": [
        "max_label_len = max([len(label) for label in labels])\n",
        "print(max_label_len)"
      ],
      "metadata": {
        "colab": {
          "base_uri": "https://localhost:8080/"
        },
        "id": "-D-qB1LgxKot",
        "outputId": "449f25be-4efa-4439-f364-44f5063cfdcf"
      },
      "execution_count": null,
      "outputs": [
        {
          "output_type": "stream",
          "name": "stdout",
          "text": [
            "14\n"
          ]
        }
      ]
    },
    {
      "cell_type": "code",
      "source": [
        "max_label_len = max([len(label) for label in labels])\n",
        "\n",
        "def encode(label, char_to_idx, max_label_len):\n",
        "    encoded_labels = torch.tensor(\n",
        "        [char_to_idx[char] for char in label],\n",
        "        dtype=torch.int32\n",
        "    )\n",
        "    label_len = len(encoded_labels)\n",
        "    lengths = torch.tensor(\n",
        "        label_len,\n",
        "        dtype=torch.int32\n",
        "    )\n",
        "    padded_labels = F.pad(\n",
        "        encoded_labels,\n",
        "        (0, max_label_len - label_len),\n",
        "        value=0\n",
        "    )\n",
        "\n",
        "    return padded_labels, lengths"
      ],
      "metadata": {
        "id": "J-UP2SlDyEuf"
      },
      "execution_count": null,
      "outputs": []
    },
    {
      "cell_type": "code",
      "source": [
        "def decode(encoded_sequences, idx_to_char, blank_char='-'):\n",
        "    decoded_sequences = []\n",
        "\n",
        "    for seq in encoded_sequences:\n",
        "        decoded_label = []\n",
        "        for idx, token in enumerate(seq):\n",
        "            if token != 0:\n",
        "                char = idx_to_char[token.item()]\n",
        "                if char != blank_char:\n",
        "                    decoded_label.append(char)\n",
        "\n",
        "        decoded_sequences.append(''.join(decoded_label))\n",
        "\n",
        "    return decoded_sequences"
      ],
      "metadata": {
        "id": "QZdTwO0tzIZu"
      },
      "execution_count": null,
      "outputs": []
    },
    {
      "cell_type": "code",
      "source": [
        "data_transforms = {\n",
        "    'train': transforms.Compose([\n",
        "        transforms.Resize((100, 420)),\n",
        "        transforms.ColorJitter(brightness=0.5, contrast=0.5, saturation=0.5),\n",
        "        transforms.Grayscale(num_output_channels=1),\n",
        "        transforms.GaussianBlur(3),\n",
        "        transforms.RandomAffine(degrees=1, shear=1),\n",
        "        transforms.RandomPerspective(distortion_scale=0.3, p=0.5, interpolation=3),\n",
        "        transforms.RandomRotation(degrees=2),\n",
        "        transforms.ToTensor(),\n",
        "        transforms.Normalize((0.5,), (0.5,)),\n",
        "    ]),\n",
        "    'val': transforms.Compose([\n",
        "        transforms.Resize((100, 420)),\n",
        "        transforms.Grayscale(num_output_channels=1),\n",
        "        transforms.ToTensor(),\n",
        "        transforms.Normalize((0.5,), (0.5,)),\n",
        "    ]),\n",
        "}"
      ],
      "metadata": {
        "id": "AaYmckEjzVV9"
      },
      "execution_count": null,
      "outputs": []
    },
    {
      "cell_type": "code",
      "source": [
        "seed = 0\n",
        "val_size = 0.2\n",
        "test_size = 0.125\n",
        "is_shuffle = True\n",
        "\n",
        "X_train, X_val, y_train, y_val = train_test_split(\n",
        "    img_paths, labels,\n",
        "    test_size=val_size,\n",
        "    random_state=seed,\n",
        "    shuffle=is_shuffle\n",
        ")\n",
        "\n",
        "X_train, X_test, y_train, y_test = train_test_split(\n",
        "    X_train, y_train,\n",
        "    test_size=test_size,\n",
        "    random_state=seed,\n",
        "    shuffle=is_shuffle\n",
        ")"
      ],
      "metadata": {
        "id": "JursyjGmze6z"
      },
      "execution_count": null,
      "outputs": []
    },
    {
      "cell_type": "code",
      "source": [
        "class STRDataset(Dataset):\n",
        "    def __init__(\n",
        "        self,\n",
        "        X, y,\n",
        "        char_to_idx,\n",
        "        max_label_len,\n",
        "        label_encoder=None,\n",
        "        transform=None\n",
        "    ):\n",
        "        self.transform = transform\n",
        "        self.img_paths = X\n",
        "        self.labels = y\n",
        "        self.char_to_idx = char_to_idx\n",
        "        self.max_label_len = max_label_len\n",
        "        self.label_encoder = label_encoder\n",
        "\n",
        "    def __len__(self):\n",
        "        return len(self.img_paths)\n",
        "\n",
        "    def __getitem__(self, idx):\n",
        "        label = self.labels[idx]\n",
        "        img_path = self.img_paths[idx]\n",
        "        img = Image.open(img_path).convert(\"RGB\")\n",
        "\n",
        "        if self.transform:\n",
        "            img = self.transform(img)\n",
        "\n",
        "        if self.label_encoder:\n",
        "            encoded_label, label_len = self.label_encoder(\n",
        "                label,\n",
        "                self.char_to_idx,\n",
        "                self.max_label_len\n",
        "            )\n",
        "        return img, encoded_label, label_len"
      ],
      "metadata": {
        "id": "rYyYi9NZ1T-d"
      },
      "execution_count": null,
      "outputs": []
    },
    {
      "cell_type": "code",
      "source": [
        "train_dataset = STRDataset(\n",
        "    X_train, y_train,\n",
        "    char_to_idx=char_to_idx,\n",
        "    max_label_len=max_label_len,\n",
        "    label_encoder=encode,\n",
        "    transform=data_transforms['train']\n",
        ")\n",
        "\n",
        "val_dataset = STRDataset(\n",
        "    X_val, y_val,\n",
        "    char_to_idx=char_to_idx,\n",
        "    max_label_len=max_label_len,\n",
        "    label_encoder=encode,\n",
        "    transform=data_transforms['val']\n",
        ")\n",
        "\n",
        "test_dataset = STRDataset(\n",
        "    X_test, y_test,\n",
        "    char_to_idx=char_to_idx,\n",
        "    max_label_len=max_label_len,\n",
        "    label_encoder=encode,\n",
        "    transform=data_transforms['val']\n",
        ")\n",
        "\n",
        "train_batch_size = 32\n",
        "test_batch_size = 8\n",
        "\n",
        "train_loader = DataLoader(\n",
        "    train_dataset,\n",
        "    batch_size=train_batch_size,\n",
        "    shuffle=True\n",
        ")\n",
        "\n",
        "val_loader = DataLoader(\n",
        "    val_dataset,\n",
        "    batch_size=test_batch_size,\n",
        "    shuffle=False\n",
        ")\n",
        "\n",
        "test_loader = DataLoader(\n",
        "    test_dataset,\n",
        "    batch_size=test_batch_size,\n",
        "    shuffle=False\n",
        ")"
      ],
      "metadata": {
        "id": "Dj6yRPs32dWG"
      },
      "execution_count": null,
      "outputs": []
    },
    {
      "cell_type": "code",
      "source": [
        "class CRNN(nn.Module):\n",
        "    def __init__(self, vocab_size, hidden_size, n_layers, dropout=0.2, unfreeze_layers=3):\n",
        "        super(CRNN, self).__init__()\n",
        "\n",
        "        backbone = timm.create_model(\n",
        "            'resnet101',\n",
        "            in_chans=1,\n",
        "            pretrained=True\n",
        "        )\n",
        "        modules = list(backbone.children())[:-2]\n",
        "        modules.append(nn.AdaptiveAvgPool2d((1, None)))\n",
        "        self.backbone = nn.Sequential(*modules)\n",
        "\n",
        "        # Unfreeze the last few layers\n",
        "        for parameter in self.backbone[-unfreeze_layers:].parameters():\n",
        "            parameter.requires_grad = True\n",
        "\n",
        "        self.mapSeq = nn.Sequential(\n",
        "            nn.Linear(2048, 512),\n",
        "            nn.ReLU(),\n",
        "            nn.Dropout(dropout)\n",
        "        )\n",
        "\n",
        "        self.lstm = nn.LSTM(\n",
        "            512, hidden_size,\n",
        "            n_layers, bidirectional=True, batch_first=True,\n",
        "            dropout=dropout if n_layers > 1 else 0\n",
        "        )\n",
        "        self.layer_norm = nn.LayerNorm(hidden_size * 2)\n",
        "\n",
        "        self.out = nn.Sequential(\n",
        "            nn.Linear(hidden_size * 2, vocab_size),\n",
        "            nn.LogSoftmax(dim=2)\n",
        "        )\n",
        "\n",
        "    def forward(self, x):\n",
        "        x = self.backbone(x)\n",
        "        x = x.permute(0, 3, 1, 2)\n",
        "        x = x.view(x.size(0), x.size(1), -1)  # Flatten the feature map\n",
        "        x = self.mapSeq(x)\n",
        "        x, _ = self.lstm(x)\n",
        "        x = self.layer_norm(x)\n",
        "        x = self.out(x)\n",
        "        x = x.permute(1, 0, 2)  # Based on CTC\n",
        "\n",
        "        return x"
      ],
      "metadata": {
        "id": "Xg2gQm3y2em_"
      },
      "execution_count": null,
      "outputs": []
    },
    {
      "cell_type": "code",
      "source": [
        "hidden_size = 256\n",
        "n_layers = 3\n",
        "dropout_prob = 0.2\n",
        "unfreeze_layers = 3\n",
        "device = 'cuda' if torch.cuda.is_available() else 'cpu'\n",
        "\n",
        "model = CRNN(\n",
        "    vocab_size=vocab_size,\n",
        "    hidden_size=hidden_size,\n",
        "    n_layers=n_layers,\n",
        "    dropout=dropout_prob,\n",
        "    unfreeze_layers=unfreeze_layers\n",
        ").to(device)"
      ],
      "metadata": {
        "colab": {
          "base_uri": "https://localhost:8080/",
          "height": 49,
          "referenced_widgets": [
            "8b904ee3ad65444ea21d8adc8cbff308",
            "58ee66619ea3430cbce39eabb9daf214",
            "e8aced7e8ec540a890aacd927325e57d",
            "491f8894b7df4c0a9282a415c011332a",
            "8bbad2e8e23f4f6b9d2d423620361e8f",
            "439b0c310c7f4f29869befc5f6a6d8d2",
            "dc002f72736245a4b3b915ae2bc088d4",
            "c93c477e70f54201a459845c718ec345",
            "1864cfd8da35413786ddc98afa9fcc9f",
            "6b64ec9884fe4bd5a4aa5b4732e0f532",
            "32664e9d57bf425f95633bb4acd5854f"
          ]
        },
        "id": "_aFdO9Rq3HKJ",
        "outputId": "0c8f0d5e-ef7e-4feb-8e99-1fdccc07472f"
      },
      "execution_count": null,
      "outputs": [
        {
          "output_type": "display_data",
          "data": {
            "text/plain": [
              "model.safetensors:   0%|          | 0.00/179M [00:00<?, ?B/s]"
            ],
            "application/vnd.jupyter.widget-view+json": {
              "version_major": 2,
              "version_minor": 0,
              "model_id": "8b904ee3ad65444ea21d8adc8cbff308"
            }
          },
          "metadata": {}
        }
      ]
    },
    {
      "cell_type": "code",
      "source": [
        "def evaluate(model, dataloader, criterion, device):\n",
        "    model.eval()\n",
        "    losses = []\n",
        "    with torch.no_grad():\n",
        "        for inputs, labels, labels_len in dataloader:\n",
        "            inputs = inputs.to(device)\n",
        "            labels = labels.to(device)\n",
        "            labels_len = labels_len.to(device)\n",
        "\n",
        "            outputs = model(inputs)\n",
        "            logits_lens = torch.full(\n",
        "                size=(outputs.size(1),),\n",
        "                fill_value=outputs.size(0),\n",
        "                dtype=torch.long\n",
        "            ).to(device)\n",
        "\n",
        "            loss = criterion(outputs, labels, logits_lens, labels_len)\n",
        "            losses.append(loss.item())\n",
        "\n",
        "    loss = sum(losses) / len(losses)\n",
        "\n",
        "    return loss\n",
        "\n",
        "def fit(model, train_loader, val_loader, criterion, optimizer, scheduler, device, epochs):\n",
        "    train_losses = []\n",
        "    val_losses = []\n",
        "\n",
        "    for epoch in range(epochs):\n",
        "        batch_train_losses = []\n",
        "\n",
        "        model.train()\n",
        "        for idx, (inputs, labels, labels_len) in enumerate(train_loader):\n",
        "            inputs = inputs.to(device)\n",
        "            labels = labels.to(device)\n",
        "            labels_len = labels_len.to(device)\n",
        "\n",
        "            optimizer.zero_grad()\n",
        "            outputs = model(inputs)\n",
        "\n",
        "            logits_lens = torch.full(\n",
        "                size=(outputs.size(1),),\n",
        "                fill_value=outputs.size(0),\n",
        "                dtype=torch.int32\n",
        "            ).to(device)\n",
        "\n",
        "            loss = criterion(outputs, labels, logits_lens, labels_len)\n",
        "            loss.backward()\n",
        "            torch.nn.utils.clip_grad_norm_(\n",
        "                model.parameters(),\n",
        "                5\n",
        "            )\n",
        "            optimizer.step()\n",
        "\n",
        "            batch_train_losses.append(loss.item())\n",
        "\n",
        "        train_loss = sum(batch_train_losses) / len(batch_train_losses)\n",
        "        train_losses.append(train_loss)\n",
        "\n",
        "        val_loss = evaluate(\n",
        "            model, val_loader,\n",
        "            criterion, device\n",
        "        )\n",
        "        val_losses.append(val_loss)\n",
        "\n",
        "        print(f'EPOCH {epoch + 1}:\\tTrain loss: {train_loss:.4f}\\tVal loss: {val_loss:.4f}')\n",
        "\n",
        "        scheduler.step()\n",
        "\n",
        "    return train_losses, val_losses"
      ],
      "metadata": {
        "id": "r0ZmDxWP3Hoc"
      },
      "execution_count": null,
      "outputs": []
    },
    {
      "cell_type": "code",
      "source": [
        "epochs = 35\n",
        "lr = 0.001\n",
        "weight_decay = 1e-5\n",
        "scheduler_step_size = int(epochs * 0.6)\n",
        "\n",
        "criterion = nn.CTCLoss(blank=char_to_idx[blank_char], zero_infinity=True)\n",
        "optimizer = torch.optim.Adam(model.parameters(), lr=lr, weight_decay=weight_decay)\n",
        "scheduler = torch.optim.lr_scheduler.StepLR(\n",
        "    optimizer,\n",
        "    step_size=scheduler_step_size,\n",
        "    gamma=0.1\n",
        ")"
      ],
      "metadata": {
        "id": "Di0FdJOJ3Mha"
      },
      "execution_count": null,
      "outputs": []
    },
    {
      "cell_type": "code",
      "source": [
        "train_losses, val_losses = fit(\n",
        "    model,\n",
        "    train_loader,\n",
        "    val_loader,\n",
        "    criterion,\n",
        "    optimizer,\n",
        "    scheduler,\n",
        "    device,\n",
        "    epochs\n",
        ")"
      ],
      "metadata": {
        "colab": {
          "base_uri": "https://localhost:8080/"
        },
        "id": "TaqkHStN3P6B",
        "outputId": "43927b70-b5fc-4a5e-cc5b-4510066d85fb"
      },
      "execution_count": null,
      "outputs": [
        {
          "output_type": "stream",
          "name": "stdout",
          "text": [
            "EPOCH 1:\tTrain loss: 3.4030\tVal loss: 2.6575\n",
            "EPOCH 2:\tTrain loss: 1.7965\tVal loss: 0.6801\n",
            "EPOCH 3:\tTrain loss: 0.6141\tVal loss: 0.5803\n",
            "EPOCH 4:\tTrain loss: 0.3603\tVal loss: 0.1410\n",
            "EPOCH 5:\tTrain loss: 0.2489\tVal loss: 0.1291\n",
            "EPOCH 6:\tTrain loss: 0.1966\tVal loss: 0.1488\n",
            "EPOCH 7:\tTrain loss: 0.2252\tVal loss: 0.1024\n",
            "EPOCH 8:\tTrain loss: 0.1571\tVal loss: 0.0775\n",
            "EPOCH 9:\tTrain loss: 0.1315\tVal loss: 0.0648\n",
            "EPOCH 10:\tTrain loss: 0.0971\tVal loss: 0.0409\n",
            "EPOCH 11:\tTrain loss: 0.1378\tVal loss: 0.0718\n",
            "EPOCH 12:\tTrain loss: 0.1378\tVal loss: 0.0593\n",
            "EPOCH 13:\tTrain loss: 0.1506\tVal loss: 0.1218\n",
            "EPOCH 14:\tTrain loss: 0.1195\tVal loss: 0.0542\n",
            "EPOCH 15:\tTrain loss: 0.1019\tVal loss: 0.0433\n",
            "EPOCH 16:\tTrain loss: 0.1082\tVal loss: 0.0777\n",
            "EPOCH 17:\tTrain loss: 0.1132\tVal loss: 0.0352\n",
            "EPOCH 18:\tTrain loss: 0.0690\tVal loss: 0.0324\n",
            "EPOCH 19:\tTrain loss: 0.1721\tVal loss: 0.0566\n"
          ]
        }
      ]
    }
  ]
}